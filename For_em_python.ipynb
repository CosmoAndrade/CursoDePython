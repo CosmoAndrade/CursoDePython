{
  "nbformat": 4,
  "nbformat_minor": 0,
  "metadata": {
    "colab": {
      "name": "For em python.ipynb",
      "provenance": [],
      "authorship_tag": "ABX9TyOp7fhrBaF6b+rySS2eY4RG",
      "include_colab_link": true
    },
    "kernelspec": {
      "name": "python3",
      "display_name": "Python 3"
    }
  },
  "cells": [
    {
      "cell_type": "markdown",
      "metadata": {
        "id": "view-in-github",
        "colab_type": "text"
      },
      "source": [
        "<a href=\"https://colab.research.google.com/github/CosmoAndrade/CursoDePython/blob/master/For_em_python.ipynb\" target=\"_parent\"><img src=\"https://colab.research.google.com/assets/colab-badge.svg\" alt=\"Open In Colab\"/></a>"
      ]
    },
    {
      "cell_type": "markdown",
      "metadata": {
        "id": "eIWECmD48Y59"
      },
      "source": [
        "# FOR Python: Estrutura de repetição` for`"
      ]
    },
    {
      "cell_type": "markdown",
      "metadata": {
        "id": "KlyyqtHU8fIH"
      },
      "source": [
        "# For Python\n",
        "\n",
        "O laço `for` nos permite percorrer os itens de uma coleção e, para cada um deles, executar o bloco de código declarado no loop. Sua sintaxe é a seguinte:"
      ]
    },
    {
      "cell_type": "code",
      "metadata": {
        "id": "4PLB81Xc8rz4"
      },
      "source": [
        "for variavel in lista\n",
        "comandos"
      ],
      "execution_count": null,
      "outputs": []
    },
    {
      "cell_type": "markdown",
      "metadata": {
        "id": "78-aYNLL9NOC"
      },
      "source": [
        "Enquanto percorremos a lista de valores, a variável indicada no `for `receberá, a cada iteração, um item da coleção. Assim, podemos executar algum processamento com esse elemento. No código abaixo percorremos a lista nomes e imprimimos cada elemento."
      ]
    },
    {
      "cell_type": "code",
      "metadata": {
        "id": "UaMZLH3l9bFq",
        "outputId": "8dbf1fd3-97e1-43dc-b5f9-fed6ee4be22d",
        "colab": {
          "base_uri": "https://localhost:8080/"
        }
      },
      "source": [
        "nomes = ['Pedro', 'João', 'Leticia']\n",
        "for n in nomes:\n",
        "     print(n)"
      ],
      "execution_count": 1,
      "outputs": [
        {
          "output_type": "stream",
          "text": [
            "Pedro\n",
            "João\n",
            "Leticia\n"
          ],
          "name": "stdout"
        }
      ]
    },
    {
      "cell_type": "markdown",
      "metadata": {
        "id": "_mwebiqV91as"
      },
      "source": [
        "# For/else\n",
        "\n",
        "É possível adicionar a instrução else ao final do `for.` Isso faz com que um bloco de código seja executado ao final da iteração, como mostra o exemplo a seguir:"
      ]
    },
    {
      "cell_type": "code",
      "metadata": {
        "id": "s0Gjlyop948Y",
        "outputId": "7b9cd1ad-f25f-49ad-8f3c-155ef4841980",
        "colab": {
          "base_uri": "https://localhost:8080/"
        }
      },
      "source": [
        "nomes = ['Pedro', 'João', 'Leticia']\n",
        "for n in nomes:\n",
        "     print(n)\n",
        "else:\n",
        "     print(\"Todos os nomes foram listados com sucesso\")"
      ],
      "execution_count": 2,
      "outputs": [
        {
          "output_type": "stream",
          "text": [
            "Pedro\n",
            "João\n",
            "Leticia\n",
            "Todos os nomes foram listados com sucesso\n"
          ],
          "name": "stdout"
        }
      ]
    }
  ]
}