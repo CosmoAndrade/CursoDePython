{
  "nbformat": 4,
  "nbformat_minor": 0,
  "metadata": {
    "colab": {
      "name": "CursoDePython.ipynb",
      "provenance": [],
      "collapsed_sections": [
        "Xo7IytYgNoFE",
        "iYK1y3c7PLKs"
      ]
    },
    "kernelspec": {
      "name": "python3",
      "display_name": "Python 3"
    }
  },
  "cells": [
    {
      "cell_type": "markdown",
      "metadata": {
        "id": "Xo7IytYgNoFE",
        "colab_type": "text"
      },
      "source": [
        "# Comentários"
      ]
    },
    {
      "cell_type": "code",
      "metadata": {
        "id": "Mh2qahwuNuSk",
        "colab_type": "code",
        "colab": {}
      },
      "source": [
        "# Este é um comentário de uma linha"
      ],
      "execution_count": null,
      "outputs": []
    },
    {
      "cell_type": "code",
      "metadata": {
        "id": "3d1cLebgN0o5",
        "colab_type": "code",
        "colab": {}
      },
      "source": [
        "'''\n",
        "Este é um comentário\n",
        "de várias \n",
        "linhas\n",
        "'''\n"
      ],
      "execution_count": null,
      "outputs": []
    },
    {
      "cell_type": "code",
      "metadata": {
        "id": "Na4iMnuhOI15",
        "colab_type": "code",
        "colab": {}
      },
      "source": [
        "# print ('Curso de Python')"
      ],
      "execution_count": null,
      "outputs": []
    },
    {
      "cell_type": "code",
      "metadata": {
        "id": "ck7q5iD5OYac",
        "colab_type": "code",
        "colab": {
          "base_uri": "https://localhost:8080/",
          "height": 35
        },
        "outputId": "7d18bcba-0f68-4206-833d-49174a8f3dc9"
      },
      "source": [
        "print ('Curso de Python') # Comentário no final"
      ],
      "execution_count": null,
      "outputs": [
        {
          "output_type": "stream",
          "text": [
            "Curso de Python\n"
          ],
          "name": "stdout"
        }
      ]
    },
    {
      "cell_type": "code",
      "metadata": {
        "id": "VSpME4CCOwy-",
        "colab_type": "code",
        "colab": {}
      },
      "source": [
        "\"\"\"\n",
        "print ('Curso de Python')\n",
        "\n",
        "\"\"\""
      ],
      "execution_count": null,
      "outputs": []
    },
    {
      "cell_type": "markdown",
      "metadata": {
        "id": "iYK1y3c7PLKs",
        "colab_type": "text"
      },
      "source": [
        "# Print (  )  -> Saída de Dados"
      ]
    },
    {
      "cell_type": "code",
      "metadata": {
        "id": "m4Or11f1PUQ6",
        "colab_type": "code",
        "colab": {
          "base_uri": "https://localhost:8080/",
          "height": 35
        },
        "outputId": "071f9e94-ac26-43bc-e5d8-9f9f8993b771"
      },
      "source": [
        "print ('Curso de Python')"
      ],
      "execution_count": null,
      "outputs": [
        {
          "output_type": "stream",
          "text": [
            "Curso de Python\n"
          ],
          "name": "stdout"
        }
      ]
    },
    {
      "cell_type": "code",
      "metadata": {
        "id": "D3_h7hRgbRpB",
        "colab_type": "code",
        "colab": {
          "base_uri": "https://localhost:8080/",
          "height": 54
        },
        "outputId": "5abeb05c-7730-40b6-a05e-973a37953779"
      },
      "source": [
        "print ('Curso de \\n Python')# \\n  Quebra de linha"
      ],
      "execution_count": null,
      "outputs": [
        {
          "output_type": "stream",
          "text": [
            "Curso de \n",
            " Python\n"
          ],
          "name": "stdout"
        }
      ]
    },
    {
      "cell_type": "code",
      "metadata": {
        "id": "UciabePPblT6",
        "colab_type": "code",
        "colab": {
          "base_uri": "https://localhost:8080/",
          "height": 35
        },
        "outputId": "c3a7d870-5c63-45f2-97e9-5f8ba8091c32"
      },
      "source": [
        "print ('Curso de \\t Python')# Tabulação"
      ],
      "execution_count": null,
      "outputs": [
        {
          "output_type": "stream",
          "text": [
            "Curso de \t Python\n"
          ],
          "name": "stdout"
        }
      ]
    },
    {
      "cell_type": "code",
      "metadata": {
        "id": "TQfVjxAfb4vM",
        "colab_type": "code",
        "colab": {
          "base_uri": "https://localhost:8080/",
          "height": 54
        },
        "outputId": "b04c459c-aabf-4d74-cfa7-f0282d4c4e6f"
      },
      "source": [
        "print ('Curso ')\n",
        "print ('Python')"
      ],
      "execution_count": null,
      "outputs": [
        {
          "output_type": "stream",
          "text": [
            "Curso \n",
            "Python\n"
          ],
          "name": "stdout"
        }
      ]
    },
    {
      "cell_type": "code",
      "metadata": {
        "id": "hb4oCbascQrJ",
        "colab_type": "code",
        "colab": {
          "base_uri": "https://localhost:8080/",
          "height": 54
        },
        "outputId": "f09559a4-4d64-4064-fe6c-909c30bf3d23"
      },
      "source": [
        "print ('Curso ',end='\\n')\n",
        "print ('Python')"
      ],
      "execution_count": null,
      "outputs": [
        {
          "output_type": "stream",
          "text": [
            "Curso \n",
            "Python\n"
          ],
          "name": "stdout"
        }
      ]
    },
    {
      "cell_type": "code",
      "metadata": {
        "id": "YXRbSsZ3ceE9",
        "colab_type": "code",
        "colab": {
          "base_uri": "https://localhost:8080/",
          "height": 35
        },
        "outputId": "9985a502-c956-4cc0-f740-a85da32d3480"
      },
      "source": [
        "print ('Curso ',end='')\n",
        "print ('Python')"
      ],
      "execution_count": null,
      "outputs": [
        {
          "output_type": "stream",
          "text": [
            "Curso Python\n"
          ],
          "name": "stdout"
        }
      ]
    },
    {
      "cell_type": "code",
      "metadata": {
        "id": "hz2j7foxctgB",
        "colab_type": "code",
        "colab": {
          "base_uri": "https://localhost:8080/",
          "height": 35
        },
        "outputId": "7e0b6b06-bf01-4387-ad6b-52b25ca1e074"
      },
      "source": [
        "print ('008.334.786',end='-')\n",
        "print ('98')"
      ],
      "execution_count": null,
      "outputs": [
        {
          "output_type": "stream",
          "text": [
            "008.334.786-98\n"
          ],
          "name": "stdout"
        }
      ]
    },
    {
      "cell_type": "markdown",
      "metadata": {
        "id": "5iVQ4RMLdSVt",
        "colab_type": "text"
      },
      "source": [
        "# Variáveis"
      ]
    },
    {
      "cell_type": "code",
      "metadata": {
        "id": "ZaPXJrjAdWnq",
        "colab_type": "code",
        "colab": {
          "base_uri": "https://localhost:8080/",
          "height": 72
        },
        "outputId": "c5d78c28-ba7c-4825-fa3d-03003e5a3a6e"
      },
      "source": [
        "print ('Nome: Cosmo - Idade:35')\n",
        "print ('Nome: Cosmo - Idade:35')\n",
        "print ('Nome: Cosmo - Idade:35')"
      ],
      "execution_count": null,
      "outputs": [
        {
          "output_type": "stream",
          "text": [
            "Nome: Cosmo - Idade:35\n",
            "Nome: Cosmo - Idade:35\n",
            "Nome: Cosmo - Idade:35\n"
          ],
          "name": "stdout"
        }
      ]
    },
    {
      "cell_type": "code",
      "metadata": {
        "id": "VJoNKUcAe8a7",
        "colab_type": "code",
        "colab": {}
      },
      "source": [
        "nome = 'Cosmo'\n",
        "idade = 35"
      ],
      "execution_count": null,
      "outputs": []
    },
    {
      "cell_type": "code",
      "metadata": {
        "id": "zFXN7a3mfDq6",
        "colab_type": "code",
        "colab": {
          "base_uri": "https://localhost:8080/",
          "height": 35
        },
        "outputId": "8445e25c-f82a-4a51-f3de-ccaba41f937d"
      },
      "source": [
        "print (f'Nome: {nome} - Idade:{idade}')"
      ],
      "execution_count": null,
      "outputs": [
        {
          "output_type": "stream",
          "text": [
            "Nome: Cosmo - Idade:35\n"
          ],
          "name": "stdout"
        }
      ]
    },
    {
      "cell_type": "code",
      "metadata": {
        "id": "7I-j-eMNIHeZ",
        "colab_type": "code",
        "colab": {}
      },
      "source": [
        "# Não podemos usar \n",
        "1nome = 'Cosmo'\n",
        "Meu nome = 'Cosmo'\n",
        "\n",
        " \n",
        "# Podemos usar \n",
        "nome1 = 'Cosmo'\n",
        "meu_nome = 'Lucas'\n",
        "meuNome = 'Felipe'"
      ],
      "execution_count": null,
      "outputs": []
    },
    {
      "cell_type": "markdown",
      "metadata": {
        "id": "RcrmbfzifSCw",
        "colab_type": "text"
      },
      "source": [
        "# Tipos de dados\n",
        "- str -> strings - textos\n",
        "- int -> Números inteiros\n",
        "- float -> Números decimais\n",
        "- bool -> Expressão booleana - True ou False\n",
        "-  type() -> Retorna o tipo de dado "
      ]
    },
    {
      "cell_type": "code",
      "metadata": {
        "id": "eAhafpAjfxwg",
        "colab_type": "code",
        "colab": {}
      },
      "source": [
        "texto = 'Python'\n",
        "inteiro = 10 # 5 , 8, -5\n",
        "decimal = 10.5 # 5.5 , -8.5\n",
        "booleano = True # ou False\n"
      ],
      "execution_count": null,
      "outputs": []
    },
    {
      "cell_type": "code",
      "metadata": {
        "id": "qCFgDoDDf3UI",
        "colab_type": "code",
        "colab": {
          "base_uri": "https://localhost:8080/",
          "height": 35
        },
        "outputId": "a99ca5f9-b08a-47d5-dffb-dd07ceafc18d"
      },
      "source": [
        "print (texto ,end=' ')\n",
        "print (type(texto))\n"
      ],
      "execution_count": null,
      "outputs": [
        {
          "output_type": "stream",
          "text": [
            "Python <class 'str'>\n"
          ],
          "name": "stdout"
        }
      ]
    },
    {
      "cell_type": "code",
      "metadata": {
        "id": "3LiEm3k7f-Qj",
        "colab_type": "code",
        "colab": {
          "base_uri": "https://localhost:8080/",
          "height": 35
        },
        "outputId": "ed8a3a1c-ff6d-43eb-8385-ddaa253422d0"
      },
      "source": [
        "print (inteiro,end=' ')\n",
        "print (type(inteiro))\n"
      ],
      "execution_count": null,
      "outputs": [
        {
          "output_type": "stream",
          "text": [
            "10 <class 'int'>\n"
          ],
          "name": "stdout"
        }
      ]
    },
    {
      "cell_type": "code",
      "metadata": {
        "id": "qgv_zbWpiWqz",
        "colab_type": "code",
        "colab": {
          "base_uri": "https://localhost:8080/",
          "height": 35
        },
        "outputId": "4be5d008-cbe0-44a3-91d2-7214d37f02fa"
      },
      "source": [
        "print (decimal,end=' ')\n",
        "print (type(decimal))"
      ],
      "execution_count": null,
      "outputs": [
        {
          "output_type": "stream",
          "text": [
            "10.5 <class 'float'>\n"
          ],
          "name": "stdout"
        }
      ]
    },
    {
      "cell_type": "code",
      "metadata": {
        "id": "BWqaEgqTgK-4",
        "colab_type": "code",
        "colab": {
          "base_uri": "https://localhost:8080/",
          "height": 35
        },
        "outputId": "6bf0d84b-378b-4065-f3c2-045d9b8fe1ac"
      },
      "source": [
        "print (booleano,end=' ')\n",
        "print (type(booleano))"
      ],
      "execution_count": null,
      "outputs": [
        {
          "output_type": "stream",
          "text": [
            "True <class 'bool'>\n"
          ],
          "name": "stdout"
        }
      ]
    },
    {
      "cell_type": "markdown",
      "metadata": {
        "id": "qo8lDpR6ibVN",
        "colab_type": "text"
      },
      "source": [
        "# Operadores Aritiméticos\n",
        "\n",
        "- Adição -> +\n",
        "- Subtração -> -\n",
        "- Divisão -> /\n",
        "- Multiplicação -> *\n",
        "- Módulo -> % - ou resto da divisão\n",
        "- Divisão inteira -> //\n",
        "- Potenciação -> **\n"
      ]
    },
    {
      "cell_type": "code",
      "metadata": {
        "id": "NYYVlNHTissh",
        "colab_type": "code",
        "colab": {}
      },
      "source": [
        "num1 = 10\n",
        "num2 = 3"
      ],
      "execution_count": null,
      "outputs": []
    },
    {
      "cell_type": "code",
      "metadata": {
        "id": "ut7Wm5rxi3IB",
        "colab_type": "code",
        "colab": {
          "base_uri": "https://localhost:8080/",
          "height": 35
        },
        "outputId": "914f3157-101e-49be-e407-360cc685e914"
      },
      "source": [
        "print (num1 + num2)"
      ],
      "execution_count": null,
      "outputs": [
        {
          "output_type": "stream",
          "text": [
            "13\n"
          ],
          "name": "stdout"
        }
      ]
    },
    {
      "cell_type": "code",
      "metadata": {
        "id": "zv5T-O95jFce",
        "colab_type": "code",
        "colab": {
          "base_uri": "https://localhost:8080/",
          "height": 35
        },
        "outputId": "819e66f0-f633-4048-eeb5-dc2e76328e92"
      },
      "source": [
        "print (num1 - num2)"
      ],
      "execution_count": null,
      "outputs": [
        {
          "output_type": "stream",
          "text": [
            "7\n"
          ],
          "name": "stdout"
        }
      ]
    },
    {
      "cell_type": "code",
      "metadata": {
        "id": "wWqSuB_jjGvB",
        "colab_type": "code",
        "colab": {
          "base_uri": "https://localhost:8080/",
          "height": 35
        },
        "outputId": "e796643b-70f3-4531-ad62-430b6bd01d53"
      },
      "source": [
        "print (num1 * num2)"
      ],
      "execution_count": null,
      "outputs": [
        {
          "output_type": "stream",
          "text": [
            "30\n"
          ],
          "name": "stdout"
        }
      ]
    },
    {
      "cell_type": "code",
      "metadata": {
        "id": "YEjM5GsQjIEy",
        "colab_type": "code",
        "colab": {
          "base_uri": "https://localhost:8080/",
          "height": 35
        },
        "outputId": "988f1f52-ba9c-41b1-d7e0-c690e9a60bb5"
      },
      "source": [
        "print (num1 / num2)"
      ],
      "execution_count": null,
      "outputs": [
        {
          "output_type": "stream",
          "text": [
            "3.3333333333333335\n"
          ],
          "name": "stdout"
        }
      ]
    },
    {
      "cell_type": "code",
      "metadata": {
        "id": "x1HEkCxvjJYH",
        "colab_type": "code",
        "colab": {
          "base_uri": "https://localhost:8080/",
          "height": 35
        },
        "outputId": "ead2edc4-6cea-409f-cf17-280d2cc17807"
      },
      "source": [
        "print (num1 % num2)"
      ],
      "execution_count": null,
      "outputs": [
        {
          "output_type": "stream",
          "text": [
            "1\n"
          ],
          "name": "stdout"
        }
      ]
    },
    {
      "cell_type": "code",
      "metadata": {
        "id": "SGSbKw8gjKu-",
        "colab_type": "code",
        "colab": {
          "base_uri": "https://localhost:8080/",
          "height": 35
        },
        "outputId": "01506874-bb21-450b-b80b-fc02c8335c65"
      },
      "source": [
        "print (num1 // num2)"
      ],
      "execution_count": null,
      "outputs": [
        {
          "output_type": "stream",
          "text": [
            "3\n"
          ],
          "name": "stdout"
        }
      ]
    },
    {
      "cell_type": "code",
      "metadata": {
        "id": "ibTYoJ45jU6n",
        "colab_type": "code",
        "colab": {
          "base_uri": "https://localhost:8080/",
          "height": 35
        },
        "outputId": "60ceac36-8f05-4746-be02-f7ec549bfebd"
      },
      "source": [
        "print (num1 ** num2)"
      ],
      "execution_count": null,
      "outputs": [
        {
          "output_type": "stream",
          "text": [
            "1000\n"
          ],
          "name": "stdout"
        }
      ]
    },
    {
      "cell_type": "markdown",
      "metadata": {
        "id": "On0cburfkpxL",
        "colab_type": "text"
      },
      "source": [
        "# Manipulação de strings\n",
        "\n",
        "- len - Retorna o tamanho da string\n",
        "- capitalize - Retorna a string com a primeira letra maiúsculas\n",
        "- upper - Retorna uma cópia da string com as letras maiúsculas\n",
        "- lower - Retorna uma cópia da string com a letras minúsculas\n",
        "- title - Retorna uma cópia da string com as primeiras letras de cada pal\n",
        "- strip - Remove os espaços em branco da strings\n",
        "- cout - Retorna quantas vezes um caractere aparece na string"
      ]
    },
    {
      "cell_type": "code",
      "metadata": {
        "id": "E5fxbXCYk2cy",
        "colab_type": "code",
        "colab": {}
      },
      "source": [
        "# 0 1 2 3 4 5 6 7 8 9 10 11 12 13 14\n",
        "# c u r s o   d e   p  y  t  h  o  n"
      ],
      "execution_count": null,
      "outputs": []
    },
    {
      "cell_type": "code",
      "metadata": {
        "id": "6U_9qiBBlh0W",
        "colab_type": "code",
        "colab": {
          "base_uri": "https://localhost:8080/",
          "height": 35
        },
        "outputId": "b90588ab-b655-4702-d057-187407d50030"
      },
      "source": [
        "curso = 'curso de python'\n",
        "print (curso)"
      ],
      "execution_count": null,
      "outputs": [
        {
          "output_type": "stream",
          "text": [
            "curso de python\n"
          ],
          "name": "stdout"
        }
      ]
    },
    {
      "cell_type": "code",
      "metadata": {
        "id": "yYQMevn5lnz-",
        "colab_type": "code",
        "colab": {
          "base_uri": "https://localhost:8080/",
          "height": 35
        },
        "outputId": "c7e234f8-4a33-4e3c-f2d1-4be7fdeb6774"
      },
      "source": [
        "print (len(curso))"
      ],
      "execution_count": null,
      "outputs": [
        {
          "output_type": "stream",
          "text": [
            "15\n"
          ],
          "name": "stdout"
        }
      ]
    },
    {
      "cell_type": "code",
      "metadata": {
        "id": "IZDaU_bppAag",
        "colab_type": "code",
        "colab": {
          "base_uri": "https://localhost:8080/",
          "height": 34
        },
        "outputId": "cb3b6f65-dd8a-413e-8f60-1aff134fdb7f"
      },
      "source": [
        "print (\"Curso de 'Python'\")"
      ],
      "execution_count": null,
      "outputs": [
        {
          "output_type": "stream",
          "text": [
            "Curso de 'Python'\n"
          ],
          "name": "stdout"
        }
      ]
    },
    {
      "cell_type": "code",
      "metadata": {
        "id": "KqbVuraVl2pE",
        "colab_type": "code",
        "colab": {
          "base_uri": "https://localhost:8080/",
          "height": 72
        },
        "outputId": "a1b57cb1-ccb2-462e-bd0c-0a25363934ca"
      },
      "source": [
        "# Fatiamento\n",
        "print (curso[0:5])\n",
        "print (curso [9:15])\n",
        "print (curso [-1])"
      ],
      "execution_count": null,
      "outputs": [
        {
          "output_type": "stream",
          "text": [
            "curso\n",
            "python\n",
            "n\n"
          ],
          "name": "stdout"
        }
      ]
    },
    {
      "cell_type": "code",
      "metadata": {
        "id": "hzfOJA5Cl8s5",
        "colab_type": "code",
        "colab": {
          "base_uri": "https://localhost:8080/",
          "height": 35
        },
        "outputId": "433646e1-0203-497d-c6e7-5e627e811b76"
      },
      "source": [
        "print(curso.capitalize())"
      ],
      "execution_count": null,
      "outputs": [
        {
          "output_type": "stream",
          "text": [
            "Curso de python\n"
          ],
          "name": "stdout"
        }
      ]
    },
    {
      "cell_type": "code",
      "metadata": {
        "id": "65iNL6pwmHYK",
        "colab_type": "code",
        "colab": {
          "base_uri": "https://localhost:8080/",
          "height": 35
        },
        "outputId": "be20428d-9eed-4a21-b511-5df680d17a1f"
      },
      "source": [
        "print (curso.upper())\n"
      ],
      "execution_count": null,
      "outputs": [
        {
          "output_type": "stream",
          "text": [
            "CURSO DE PYTHON\n"
          ],
          "name": "stdout"
        }
      ]
    },
    {
      "cell_type": "code",
      "metadata": {
        "id": "uL-0JreLmPEr",
        "colab_type": "code",
        "colab": {
          "base_uri": "https://localhost:8080/",
          "height": 35
        },
        "outputId": "e4341dfb-a008-488f-ff47-24afcee8cb40"
      },
      "source": [
        "print (curso.lower())"
      ],
      "execution_count": null,
      "outputs": [
        {
          "output_type": "stream",
          "text": [
            "curso de python\n"
          ],
          "name": "stdout"
        }
      ]
    },
    {
      "cell_type": "code",
      "metadata": {
        "id": "HkiKZlzAmUr_",
        "colab_type": "code",
        "colab": {
          "base_uri": "https://localhost:8080/",
          "height": 35
        },
        "outputId": "5d9b9870-86aa-4ab3-c938-2a5fa9ada981"
      },
      "source": [
        "print (curso.title())\n"
      ],
      "execution_count": null,
      "outputs": [
        {
          "output_type": "stream",
          "text": [
            "Curso De Python\n"
          ],
          "name": "stdout"
        }
      ]
    },
    {
      "cell_type": "code",
      "metadata": {
        "id": "oH_PSEMjmagt",
        "colab_type": "code",
        "colab": {
          "base_uri": "https://localhost:8080/",
          "height": 54
        },
        "outputId": "96abe549-dbb5-4dd2-9850-0b759e333aa8"
      },
      "source": [
        "col = ' Colab '\n",
        "print (col)\n",
        "print (col.strip())\n"
      ],
      "execution_count": null,
      "outputs": [
        {
          "output_type": "stream",
          "text": [
            " Colab \n",
            "Colab\n"
          ],
          "name": "stdout"
        }
      ]
    },
    {
      "cell_type": "code",
      "metadata": {
        "id": "znrIflNlmjtd",
        "colab_type": "code",
        "colab": {
          "base_uri": "https://localhost:8080/",
          "height": 35
        },
        "outputId": "e5243156-1290-41ef-94e0-b0b3c058db4a"
      },
      "source": [
        "fruta = 'Bananada de banana'\n",
        "print (fruta.count('a'))\n"
      ],
      "execution_count": null,
      "outputs": [
        {
          "output_type": "stream",
          "text": [
            "7\n"
          ],
          "name": "stdout"
        }
      ]
    },
    {
      "cell_type": "markdown",
      "metadata": {
        "id": "MhGXa7Ltm2CA",
        "colab_type": "text"
      },
      "source": [
        "# Formatação de string"
      ]
    },
    {
      "cell_type": "code",
      "metadata": {
        "id": "8wBUiV_lm4G3",
        "colab_type": "code",
        "colab": {}
      },
      "source": [
        "nome = 'Cosmo'\n",
        "idade = 35"
      ],
      "execution_count": null,
      "outputs": []
    },
    {
      "cell_type": "code",
      "metadata": {
        "id": "lt-Sppo1wKUi",
        "colab_type": "code",
        "colab": {
          "base_uri": "https://localhost:8080/",
          "height": 35
        },
        "outputId": "f0538fd0-1cfb-41ca-fae5-33470af25396"
      },
      "source": [
        "print ('Nome:',nome,'idade:',idade)"
      ],
      "execution_count": null,
      "outputs": [
        {
          "output_type": "stream",
          "text": [
            "Nome: Cosmo idade: 35\n"
          ],
          "name": "stdout"
        }
      ]
    },
    {
      "cell_type": "code",
      "metadata": {
        "id": "UAJISJsPwREn",
        "colab_type": "code",
        "colab": {
          "base_uri": "https://localhost:8080/",
          "height": 35
        },
        "outputId": "61a5ea2e-bcc8-4eb7-dc12-d464356e0952"
      },
      "source": [
        "print ('Nome:{} Idade:{}'.format(nome,idade))"
      ],
      "execution_count": null,
      "outputs": [
        {
          "output_type": "stream",
          "text": [
            "Nome:Cosmo Idade:35\n"
          ],
          "name": "stdout"
        }
      ]
    },
    {
      "cell_type": "code",
      "metadata": {
        "id": "BPBw0ffRwVUf",
        "colab_type": "code",
        "colab": {
          "base_uri": "https://localhost:8080/",
          "height": 35
        },
        "outputId": "2a26c3b5-ac0a-4f94-cb7f-466a046bd4cf"
      },
      "source": [
        "print (f'Nome:{nome} Idade:{idade}')"
      ],
      "execution_count": null,
      "outputs": [
        {
          "output_type": "stream",
          "text": [
            "Nome:Cosmo Idade:35\n"
          ],
          "name": "stdout"
        }
      ]
    },
    {
      "cell_type": "markdown",
      "metadata": {
        "id": "cTIo5dYmwgNT",
        "colab_type": "text"
      },
      "source": [
        "# input () -> Entrada de dados\n",
        "- a função input - Retorna o tipo str\n"
      ]
    },
    {
      "cell_type": "code",
      "metadata": {
        "id": "1zn-u0sYwkAg",
        "colab_type": "code",
        "colab": {
          "base_uri": "https://localhost:8080/",
          "height": 72
        },
        "outputId": "70b16267-5902-42a9-d66d-bd18e0c1d5cf"
      },
      "source": [
        "nome = input('Digite o seu nome: ')\n",
        "print (type(nome))\n",
        "print (nome)"
      ],
      "execution_count": null,
      "outputs": [
        {
          "output_type": "stream",
          "text": [
            "Digite o seu nome: Cosmo\n",
            "<class 'str'>\n",
            "Cosmo\n"
          ],
          "name": "stdout"
        }
      ]
    },
    {
      "cell_type": "code",
      "metadata": {
        "id": "VX5i1OtRwyCj",
        "colab_type": "code",
        "colab": {
          "base_uri": "https://localhost:8080/",
          "height": 54
        },
        "outputId": "079eb7d7-af0f-4d4d-9202-03cac5260fc6"
      },
      "source": [
        "idade = int (input ('Digite sua idade: '))\n",
        "print (idade)"
      ],
      "execution_count": null,
      "outputs": [
        {
          "output_type": "stream",
          "text": [
            "Digite sua idade: 35\n",
            "35\n"
          ],
          "name": "stdout"
        }
      ]
    },
    {
      "cell_type": "markdown",
      "metadata": {
        "id": "-cmQGpuuxhHx",
        "colab_type": "text"
      },
      "source": [
        "# Operadores de comparação\n",
        "\n",
        "- Maior - >\n",
        "- Menor - <\n",
        "- Maior ou igual - >=\n",
        "- Menor ou igual - <=\n",
        "- igual - ==\n",
        "- Diferente - !="
      ]
    },
    {
      "cell_type": "code",
      "metadata": {
        "id": "4ZT_8mvBxpow",
        "colab_type": "code",
        "colab": {}
      },
      "source": [
        "num1 = 5\n",
        "num2 = 4"
      ],
      "execution_count": null,
      "outputs": []
    },
    {
      "cell_type": "code",
      "metadata": {
        "id": "148Fq_XsyBSb",
        "colab_type": "code",
        "colab": {
          "base_uri": "https://localhost:8080/",
          "height": 35
        },
        "outputId": "34a20ae0-680b-48d1-b326-461bdf5aa039"
      },
      "source": [
        "print (num1 > num2)"
      ],
      "execution_count": null,
      "outputs": [
        {
          "output_type": "stream",
          "text": [
            "True\n"
          ],
          "name": "stdout"
        }
      ]
    },
    {
      "cell_type": "code",
      "metadata": {
        "id": "ESgoTWdAyJaa",
        "colab_type": "code",
        "colab": {
          "base_uri": "https://localhost:8080/",
          "height": 35
        },
        "outputId": "bc93dd86-3ec4-4e11-9c1d-e858ae361471"
      },
      "source": [
        "print (num1 < num2)"
      ],
      "execution_count": null,
      "outputs": [
        {
          "output_type": "stream",
          "text": [
            "False\n"
          ],
          "name": "stdout"
        }
      ]
    },
    {
      "cell_type": "code",
      "metadata": {
        "id": "cx1KygGvyMY4",
        "colab_type": "code",
        "colab": {
          "base_uri": "https://localhost:8080/",
          "height": 35
        },
        "outputId": "2283c142-6729-4c3d-a6bd-fff8b5b69f38"
      },
      "source": [
        "print (num1 >= num2)"
      ],
      "execution_count": null,
      "outputs": [
        {
          "output_type": "stream",
          "text": [
            "True\n"
          ],
          "name": "stdout"
        }
      ]
    },
    {
      "cell_type": "code",
      "metadata": {
        "id": "eddyGcjByRJx",
        "colab_type": "code",
        "colab": {
          "base_uri": "https://localhost:8080/",
          "height": 35
        },
        "outputId": "73915633-184b-4094-8e6f-712fafa2e7bb"
      },
      "source": [
        "print (num1 <= num2)"
      ],
      "execution_count": null,
      "outputs": [
        {
          "output_type": "stream",
          "text": [
            "False\n"
          ],
          "name": "stdout"
        }
      ]
    },
    {
      "cell_type": "code",
      "metadata": {
        "id": "d04QfhXvyVjB",
        "colab_type": "code",
        "colab": {
          "base_uri": "https://localhost:8080/",
          "height": 35
        },
        "outputId": "30cd8a56-b359-4972-fb3e-a792ac67767c"
      },
      "source": [
        "print (num1 == num2)"
      ],
      "execution_count": null,
      "outputs": [
        {
          "output_type": "stream",
          "text": [
            "False\n"
          ],
          "name": "stdout"
        }
      ]
    },
    {
      "cell_type": "code",
      "metadata": {
        "id": "WcP261tqyv6L",
        "colab_type": "code",
        "colab": {
          "base_uri": "https://localhost:8080/",
          "height": 35
        },
        "outputId": "5c1b865c-4f9f-40b1-fdb9-287213a83781"
      },
      "source": [
        "print (num1 != num2)"
      ],
      "execution_count": null,
      "outputs": [
        {
          "output_type": "stream",
          "text": [
            "True\n"
          ],
          "name": "stdout"
        }
      ]
    },
    {
      "cell_type": "markdown",
      "metadata": {
        "id": "Au-qyiDKy6jn",
        "colab_type": "text"
      },
      "source": [
        "# Operadore Lógicos\n",
        "\n",
        "- not - não é - Inverte o resultado\n",
        "- and - e - Retorna True se as duas condições for verdadeiras\n",
        "- or - ou - Retorna True se as uma das duas condições for verdadeira"
      ]
    },
    {
      "cell_type": "code",
      "metadata": {
        "id": "D5dSXnsGzEBU",
        "colab_type": "code",
        "colab": {}
      },
      "source": [
        "a = 10\n",
        "b = 8\n",
        "c = 7"
      ],
      "execution_count": null,
      "outputs": []
    },
    {
      "cell_type": "code",
      "metadata": {
        "id": "N8KooZLZzavi",
        "colab_type": "code",
        "colab": {
          "base_uri": "https://localhost:8080/",
          "height": 35
        },
        "outputId": "e60d072c-5cda-41ef-a55d-cdec55a1f2d2"
      },
      "source": [
        "print (a > b and b > c)\n"
      ],
      "execution_count": null,
      "outputs": [
        {
          "output_type": "stream",
          "text": [
            "True\n"
          ],
          "name": "stdout"
        }
      ]
    },
    {
      "cell_type": "code",
      "metadata": {
        "id": "AGXv8K1hzdzl",
        "colab_type": "code",
        "colab": {
          "base_uri": "https://localhost:8080/",
          "height": 35
        },
        "outputId": "ce474aa2-c791-49d0-f642-04a0f9a490ea"
      },
      "source": [
        "print (a > b or b < c)"
      ],
      "execution_count": null,
      "outputs": [
        {
          "output_type": "stream",
          "text": [
            "True\n"
          ],
          "name": "stdout"
        }
      ]
    },
    {
      "cell_type": "code",
      "metadata": {
        "id": "_ZOqKnJ7zjpx",
        "colab_type": "code",
        "colab": {
          "base_uri": "https://localhost:8080/",
          "height": 35
        },
        "outputId": "1f5ba273-5593-4a13-ed9f-e0b71990f445"
      },
      "source": [
        "print (not a > b)\n"
      ],
      "execution_count": null,
      "outputs": [
        {
          "output_type": "stream",
          "text": [
            "False\n"
          ],
          "name": "stdout"
        }
      ]
    },
    {
      "cell_type": "markdown",
      "metadata": {
        "id": "VObyZ4spzy9Z",
        "colab_type": "text"
      },
      "source": [
        "# Estruturas condicionais\n",
        "# if , elif , else\n",
        "\n",
        "- if -> se\n",
        "- else -> senão\n",
        "- elif -> senão se\n"
      ]
    },
    {
      "cell_type": "code",
      "metadata": {
        "id": "5JZQpJfAz6oH",
        "colab_type": "code",
        "colab": {
          "base_uri": "https://localhost:8080/",
          "height": 35
        },
        "outputId": "414474d4-ff3e-4219-e11c-fd1b8bd15bad"
      },
      "source": [
        "idade = int (input ('Digite sua idade: '))"
      ],
      "execution_count": null,
      "outputs": [
        {
          "output_type": "stream",
          "text": [
            "Digite sua idade: 35\n"
          ],
          "name": "stdout"
        }
      ]
    },
    {
      "cell_type": "code",
      "metadata": {
        "id": "A7mesv3je1JD",
        "colab_type": "code",
        "colab": {
          "base_uri": "https://localhost:8080/",
          "height": 35
        },
        "outputId": "8d0d5493-63e7-4648-a4f1-6b534176ae30"
      },
      "source": [
        "if idade >= 18 and idade < 60:\n",
        " print ('Maior de idade!')\n",
        "elif idade < 18:\n",
        " print ('Menor idade!')\n",
        "else:\n",
        " print ('Melhor idade!')\n"
      ],
      "execution_count": null,
      "outputs": [
        {
          "output_type": "stream",
          "text": [
            "Maior de idade!\n"
          ],
          "name": "stdout"
        }
      ]
    },
    {
      "cell_type": "markdown",
      "metadata": {
        "id": "By3i19ZWfPUk",
        "colab_type": "text"
      },
      "source": [
        "# list () -> Listas\n",
        "\n",
        "- len() -> Retorna o tamanho da lista\n",
        "- min() -> Retorna o menor valor\n",
        "- max() -> Retorna o maior valor\n",
        "- append() -> Adiciona item no final da lista\n",
        "- insert() -> Adiciona em um índice específico\n",
        "- pop() Remove o último item da lista ou um índice específico\n",
        "- del -> Remove o item pelo índice\n",
        "- sort() -> Ordena a lista\n",
        "- reverse() -> Inverte a lista"
      ]
    },
    {
      "cell_type": "code",
      "metadata": {
        "id": "1HlPicuefh_M",
        "colab_type": "code",
        "colab": {}
      },
      "source": [
        "#           0      1  2   3\n",
        "lista = ['Python',10,5.5,True]"
      ],
      "execution_count": null,
      "outputs": []
    },
    {
      "cell_type": "code",
      "metadata": {
        "id": "GB7SOTtFf4N6",
        "colab_type": "code",
        "colab": {
          "base_uri": "https://localhost:8080/",
          "height": 35
        },
        "outputId": "f29e9046-cec0-45de-9ce9-d548fdc2c489"
      },
      "source": [
        "lista"
      ],
      "execution_count": null,
      "outputs": [
        {
          "output_type": "execute_result",
          "data": {
            "text/plain": [
              "['Python', 10, 5.5, True]"
            ]
          },
          "metadata": {
            "tags": []
          },
          "execution_count": 4
        }
      ]
    },
    {
      "cell_type": "code",
      "metadata": {
        "id": "J0qfVx5bgBgv",
        "colab_type": "code",
        "colab": {
          "base_uri": "https://localhost:8080/",
          "height": 35
        },
        "outputId": "f0203eb0-449b-4989-ea20-88843ab12e1b"
      },
      "source": [
        "len(lista)"
      ],
      "execution_count": null,
      "outputs": [
        {
          "output_type": "execute_result",
          "data": {
            "text/plain": [
              "4"
            ]
          },
          "metadata": {
            "tags": []
          },
          "execution_count": 5
        }
      ]
    },
    {
      "cell_type": "code",
      "metadata": {
        "id": "nmiZ7XCogGba",
        "colab_type": "code",
        "colab": {
          "base_uri": "https://localhost:8080/",
          "height": 35
        },
        "outputId": "53e5d974-bb3f-48b8-de3f-f2e5122c20a3"
      },
      "source": [
        "lista"
      ],
      "execution_count": null,
      "outputs": [
        {
          "output_type": "execute_result",
          "data": {
            "text/plain": [
              "['Python', 10, 5.5, True]"
            ]
          },
          "metadata": {
            "tags": []
          },
          "execution_count": 6
        }
      ]
    },
    {
      "cell_type": "code",
      "metadata": {
        "id": "ZnL4xM_ggScC",
        "colab_type": "code",
        "colab": {
          "base_uri": "https://localhost:8080/",
          "height": 36
        },
        "outputId": "4a295f2c-2ac0-4830-d9aa-aa5a77cc3715"
      },
      "source": [
        "lista [0]"
      ],
      "execution_count": null,
      "outputs": [
        {
          "output_type": "execute_result",
          "data": {
            "application/vnd.google.colaboratory.intrinsic+json": {
              "type": "string"
            },
            "text/plain": [
              "'Python'"
            ]
          },
          "metadata": {
            "tags": []
          },
          "execution_count": 7
        }
      ]
    },
    {
      "cell_type": "code",
      "metadata": {
        "id": "L4_aDDwBgYVT",
        "colab_type": "code",
        "colab": {
          "base_uri": "https://localhost:8080/",
          "height": 35
        },
        "outputId": "e237b432-2634-4d92-ef27-326a075b7794"
      },
      "source": [
        "lista [-1]"
      ],
      "execution_count": null,
      "outputs": [
        {
          "output_type": "execute_result",
          "data": {
            "text/plain": [
              "True"
            ]
          },
          "metadata": {
            "tags": []
          },
          "execution_count": 8
        }
      ]
    },
    {
      "cell_type": "code",
      "metadata": {
        "id": "UYUTSeBngkin",
        "colab_type": "code",
        "colab": {}
      },
      "source": [
        "lista = [2,4,3,5,7,6,9,8,1,10]"
      ],
      "execution_count": null,
      "outputs": []
    },
    {
      "cell_type": "code",
      "metadata": {
        "id": "Xxu6SdKAguIT",
        "colab_type": "code",
        "colab": {
          "base_uri": "https://localhost:8080/",
          "height": 35
        },
        "outputId": "10a304c0-58f9-4f86-b1c9-78a8da0789b2"
      },
      "source": [
        "lista"
      ],
      "execution_count": null,
      "outputs": [
        {
          "output_type": "execute_result",
          "data": {
            "text/plain": [
              "[2, 4, 3, 5, 7, 6, 9, 8, 1, 10]"
            ]
          },
          "metadata": {
            "tags": []
          },
          "execution_count": 11
        }
      ]
    },
    {
      "cell_type": "code",
      "metadata": {
        "id": "_ABZnZcLg2Ex",
        "colab_type": "code",
        "colab": {
          "base_uri": "https://localhost:8080/",
          "height": 35
        },
        "outputId": "020df38b-8235-4051-8f27-1785e64c8b3e"
      },
      "source": [
        "min(lista)"
      ],
      "execution_count": null,
      "outputs": [
        {
          "output_type": "execute_result",
          "data": {
            "text/plain": [
              "1"
            ]
          },
          "metadata": {
            "tags": []
          },
          "execution_count": 12
        }
      ]
    },
    {
      "cell_type": "code",
      "metadata": {
        "id": "D1WfpPw9g75c",
        "colab_type": "code",
        "colab": {
          "base_uri": "https://localhost:8080/",
          "height": 35
        },
        "outputId": "b622c0ce-51e2-486b-a6ac-978cffb671ca"
      },
      "source": [
        "max(lista)"
      ],
      "execution_count": null,
      "outputs": [
        {
          "output_type": "execute_result",
          "data": {
            "text/plain": [
              "10"
            ]
          },
          "metadata": {
            "tags": []
          },
          "execution_count": 13
        }
      ]
    },
    {
      "cell_type": "code",
      "metadata": {
        "id": "Sbs8FyEihCle",
        "colab_type": "code",
        "colab": {
          "base_uri": "https://localhost:8080/",
          "height": 35
        },
        "outputId": "3287e3c8-d56d-492e-a617-765d0d6a660a"
      },
      "source": [
        "lista.sort()\n",
        "lista"
      ],
      "execution_count": null,
      "outputs": [
        {
          "output_type": "execute_result",
          "data": {
            "text/plain": [
              "[1, 2, 3, 4, 5, 6, 7, 8, 9, 10]"
            ]
          },
          "metadata": {
            "tags": []
          },
          "execution_count": 14
        }
      ]
    },
    {
      "cell_type": "code",
      "metadata": {
        "id": "InHbExxmhJdm",
        "colab_type": "code",
        "colab": {
          "base_uri": "https://localhost:8080/",
          "height": 35
        },
        "outputId": "828536a1-22b5-41f6-9981-9313513298b0"
      },
      "source": [
        "lista.reverse()\n",
        "lista"
      ],
      "execution_count": null,
      "outputs": [
        {
          "output_type": "execute_result",
          "data": {
            "text/plain": [
              "[10, 9, 8, 7, 6, 5, 4, 3, 2, 1]"
            ]
          },
          "metadata": {
            "tags": []
          },
          "execution_count": 15
        }
      ]
    },
    {
      "cell_type": "code",
      "metadata": {
        "id": "Pi87DaRDhQ8Z",
        "colab_type": "code",
        "colab": {
          "base_uri": "https://localhost:8080/",
          "height": 35
        },
        "outputId": "713767f1-ec9a-400e-ecad-a29c6cc06dd7"
      },
      "source": [
        "lista [0] = 'Python'\n",
        "lista"
      ],
      "execution_count": null,
      "outputs": [
        {
          "output_type": "execute_result",
          "data": {
            "text/plain": [
              "['Python', 9, 8, 7, 6, 5, 4, 3, 2, 1]"
            ]
          },
          "metadata": {
            "tags": []
          },
          "execution_count": 16
        }
      ]
    },
    {
      "cell_type": "code",
      "metadata": {
        "id": "l5jkov8dhbad",
        "colab_type": "code",
        "colab": {
          "base_uri": "https://localhost:8080/",
          "height": 35
        },
        "outputId": "9ccb6205-c49d-4fcc-8f8d-da9ef2eb5568"
      },
      "source": [
        "lista.append('Java')\n",
        "lista"
      ],
      "execution_count": null,
      "outputs": [
        {
          "output_type": "execute_result",
          "data": {
            "text/plain": [
              "['Python', 9, 8, 7, 6, 5, 4, 3, 2, 1, 'Java']"
            ]
          },
          "metadata": {
            "tags": []
          },
          "execution_count": 17
        }
      ]
    },
    {
      "cell_type": "code",
      "metadata": {
        "id": "rQezaR7qiE7J",
        "colab_type": "code",
        "colab": {
          "base_uri": "https://localhost:8080/",
          "height": 35
        },
        "outputId": "82b33928-bdf3-48df-c40a-ff6541359d65"
      },
      "source": [
        "lista.insert(1,'HTML')\n",
        "lista"
      ],
      "execution_count": null,
      "outputs": [
        {
          "output_type": "execute_result",
          "data": {
            "text/plain": [
              "['Python', 'HTML', 9, 8, 7, 6, 5, 4, 3, 2, 1, 'Java']"
            ]
          },
          "metadata": {
            "tags": []
          },
          "execution_count": 18
        }
      ]
    },
    {
      "cell_type": "code",
      "metadata": {
        "id": "A2Yz-1VRityx",
        "colab_type": "code",
        "colab": {
          "base_uri": "https://localhost:8080/",
          "height": 35
        },
        "outputId": "3d02cb7b-52e1-4314-867c-a7728ae94ffb"
      },
      "source": [
        "lista.pop()\n",
        "lista"
      ],
      "execution_count": null,
      "outputs": [
        {
          "output_type": "execute_result",
          "data": {
            "text/plain": [
              "['Python', 'HTML', 9, 8, 7, 6, 5, 4, 3, 2, 1]"
            ]
          },
          "metadata": {
            "tags": []
          },
          "execution_count": 19
        }
      ]
    },
    {
      "cell_type": "code",
      "metadata": {
        "id": "JfSxQ82ji-XU",
        "colab_type": "code",
        "colab": {
          "base_uri": "https://localhost:8080/",
          "height": 35
        },
        "outputId": "34369657-2077-46bf-fd1f-bc41ff28610e"
      },
      "source": [
        "lista.pop(1)\n",
        "lista"
      ],
      "execution_count": null,
      "outputs": [
        {
          "output_type": "execute_result",
          "data": {
            "text/plain": [
              "['Python', 9, 8, 7, 6, 5, 4, 3, 2, 1]"
            ]
          },
          "metadata": {
            "tags": []
          },
          "execution_count": 20
        }
      ]
    },
    {
      "cell_type": "code",
      "metadata": {
        "id": "RrP-kCC0jhWw",
        "colab_type": "code",
        "colab": {
          "base_uri": "https://localhost:8080/",
          "height": 35
        },
        "outputId": "08d73414-b7d0-4ea9-f91b-283e091f39e4"
      },
      "source": [
        "del lista [0]\n",
        "lista"
      ],
      "execution_count": null,
      "outputs": [
        {
          "output_type": "execute_result",
          "data": {
            "text/plain": [
              "[9, 8, 7, 6, 5, 4, 3, 2, 1]"
            ]
          },
          "metadata": {
            "tags": []
          },
          "execution_count": 21
        }
      ]
    },
    {
      "cell_type": "code",
      "metadata": {
        "id": "0AboAdtgj859",
        "colab_type": "code",
        "colab": {
          "base_uri": "https://localhost:8080/",
          "height": 35
        },
        "outputId": "3deb5467-c3b3-4c73-c918-ee8101173281"
      },
      "source": [
        "lista = list(range(0,11))\n",
        "lista"
      ],
      "execution_count": null,
      "outputs": [
        {
          "output_type": "execute_result",
          "data": {
            "text/plain": [
              "[0, 1, 2, 3, 4, 5, 6, 7, 8, 9, 10]"
            ]
          },
          "metadata": {
            "tags": []
          },
          "execution_count": 22
        }
      ]
    },
    {
      "cell_type": "markdown",
      "metadata": {
        "id": "6DL0FUmFkYvO",
        "colab_type": "text"
      },
      "source": [
        "# tuple ( ) -> Tuplas\n",
        "\n",
        "-**negrito** As tuplas são imutáveis , não pode ser alteradas"
      ]
    },
    {
      "cell_type": "code",
      "metadata": {
        "id": "9qomBGJwkhR-",
        "colab_type": "code",
        "colab": {
          "base_uri": "https://localhost:8080/",
          "height": 35
        },
        "outputId": "4f43588b-10ec-43c9-cf97-bb9bef05e780"
      },
      "source": [
        "tupla = (8,7,3,4,4,5)\n",
        "tupla"
      ],
      "execution_count": null,
      "outputs": [
        {
          "output_type": "execute_result",
          "data": {
            "text/plain": [
              "(8, 7, 3, 4, 4, 5)"
            ]
          },
          "metadata": {
            "tags": []
          },
          "execution_count": 23
        }
      ]
    },
    {
      "cell_type": "code",
      "metadata": {
        "id": "co0ssSpxk64G",
        "colab_type": "code",
        "colab": {
          "base_uri": "https://localhost:8080/",
          "height": 35
        },
        "outputId": "609a0fc1-ab8a-43be-db17-1f3fb19204ef"
      },
      "source": [
        "tupla [0]"
      ],
      "execution_count": null,
      "outputs": [
        {
          "output_type": "execute_result",
          "data": {
            "text/plain": [
              "8"
            ]
          },
          "metadata": {
            "tags": []
          },
          "execution_count": 25
        }
      ]
    },
    {
      "cell_type": "code",
      "metadata": {
        "id": "aAjmo23ElC7W",
        "colab_type": "code",
        "colab": {
          "base_uri": "https://localhost:8080/",
          "height": 35
        },
        "outputId": "b7c123eb-64ac-470b-f44a-906838a2cc02"
      },
      "source": [
        "tupla [0:3]"
      ],
      "execution_count": null,
      "outputs": [
        {
          "output_type": "execute_result",
          "data": {
            "text/plain": [
              "(8, 7, 3)"
            ]
          },
          "metadata": {
            "tags": []
          },
          "execution_count": 26
        }
      ]
    },
    {
      "cell_type": "code",
      "metadata": {
        "id": "NdfosbtJlM1J",
        "colab_type": "code",
        "colab": {
          "base_uri": "https://localhost:8080/",
          "height": 35
        },
        "outputId": "1793d344-fb77-40a0-a0e4-0b64f65b4180"
      },
      "source": [
        "tupla.index(8)"
      ],
      "execution_count": null,
      "outputs": [
        {
          "output_type": "execute_result",
          "data": {
            "text/plain": [
              "0"
            ]
          },
          "metadata": {
            "tags": []
          },
          "execution_count": 27
        }
      ]
    },
    {
      "cell_type": "code",
      "metadata": {
        "id": "tjgCfS9BlY0j",
        "colab_type": "code",
        "colab": {
          "base_uri": "https://localhost:8080/",
          "height": 35
        },
        "outputId": "0b29bc16-eae8-4318-e1ec-5a4476ebd95c"
      },
      "source": [
        "tupla.count(4)"
      ],
      "execution_count": null,
      "outputs": [
        {
          "output_type": "execute_result",
          "data": {
            "text/plain": [
              "2"
            ]
          },
          "metadata": {
            "tags": []
          },
          "execution_count": 28
        }
      ]
    },
    {
      "cell_type": "markdown",
      "metadata": {
        "id": "X3pVRpA6lvy_",
        "colab_type": "text"
      },
      "source": [
        "# dict -> Dicionários\n",
        "- keys( ) # Retorna a chave\n",
        "- values( ) # Retorna os valores\n",
        "- items( ) # Retorna os itens"
      ]
    },
    {
      "cell_type": "code",
      "metadata": {
        "id": "867LXuVrl9MY",
        "colab_type": "code",
        "colab": {}
      },
      "source": [
        "cores = {\n",
        " 'A': 'Verde',\n",
        " 'B': 'Vermelho',\n",
        " 'C': 'Amarelo'\n",
        " }"
      ],
      "execution_count": null,
      "outputs": []
    },
    {
      "cell_type": "code",
      "metadata": {
        "id": "5hw44R6UmKpU",
        "colab_type": "code",
        "colab": {
          "base_uri": "https://localhost:8080/",
          "height": 35
        },
        "outputId": "50c19fbd-4031-4a8d-ee38-f56bafc297d8"
      },
      "source": [
        "cores"
      ],
      "execution_count": null,
      "outputs": [
        {
          "output_type": "execute_result",
          "data": {
            "text/plain": [
              "{'A': 'Verde', 'B': 'Vermelho', 'C': 'Amarelo'}"
            ]
          },
          "metadata": {
            "tags": []
          },
          "execution_count": 30
        }
      ]
    },
    {
      "cell_type": "code",
      "metadata": {
        "id": "5faliWLGmZ49",
        "colab_type": "code",
        "colab": {}
      },
      "source": [
        "cores ['D'] = 'Azul'"
      ],
      "execution_count": null,
      "outputs": []
    },
    {
      "cell_type": "code",
      "metadata": {
        "id": "fyezxhwBmmkd",
        "colab_type": "code",
        "colab": {
          "base_uri": "https://localhost:8080/",
          "height": 35
        },
        "outputId": "0c288877-07fc-4c92-cf51-43be09992d64"
      },
      "source": [
        "cores"
      ],
      "execution_count": null,
      "outputs": [
        {
          "output_type": "execute_result",
          "data": {
            "text/plain": [
              "{'A': 'Verde', 'B': 'Vermelho', 'C': 'Amarelo', 'D': 'Azul'}"
            ]
          },
          "metadata": {
            "tags": []
          },
          "execution_count": 32
        }
      ]
    },
    {
      "cell_type": "code",
      "metadata": {
        "id": "f7dneXzKm1Ap",
        "colab_type": "code",
        "colab": {
          "base_uri": "https://localhost:8080/",
          "height": 36
        },
        "outputId": "d77446e1-7784-4dc2-cd84-26a01b22547c"
      },
      "source": [
        "cores ['A']"
      ],
      "execution_count": null,
      "outputs": [
        {
          "output_type": "execute_result",
          "data": {
            "application/vnd.google.colaboratory.intrinsic+json": {
              "type": "string"
            },
            "text/plain": [
              "'Verde'"
            ]
          },
          "metadata": {
            "tags": []
          },
          "execution_count": 33
        }
      ]
    },
    {
      "cell_type": "code",
      "metadata": {
        "id": "yz1NegGtm-QM",
        "colab_type": "code",
        "colab": {
          "base_uri": "https://localhost:8080/",
          "height": 35
        },
        "outputId": "bc910bbd-01bd-416b-87d3-b893fa131bf7"
      },
      "source": [
        "cores.keys()"
      ],
      "execution_count": null,
      "outputs": [
        {
          "output_type": "execute_result",
          "data": {
            "text/plain": [
              "dict_keys(['A', 'B', 'C', 'D'])"
            ]
          },
          "metadata": {
            "tags": []
          },
          "execution_count": 34
        }
      ]
    },
    {
      "cell_type": "code",
      "metadata": {
        "id": "XsVO10fTnHzQ",
        "colab_type": "code",
        "colab": {
          "base_uri": "https://localhost:8080/",
          "height": 35
        },
        "outputId": "b69fe6e6-ebc3-49bc-bf0c-918ede53f101"
      },
      "source": [
        "cores.values()"
      ],
      "execution_count": null,
      "outputs": [
        {
          "output_type": "execute_result",
          "data": {
            "text/plain": [
              "dict_values(['Verde', 'Vermelho', 'Amarelo', 'Azul'])"
            ]
          },
          "metadata": {
            "tags": []
          },
          "execution_count": 35
        }
      ]
    },
    {
      "cell_type": "code",
      "metadata": {
        "id": "Xdc_DPK9nSYK",
        "colab_type": "code",
        "colab": {
          "base_uri": "https://localhost:8080/",
          "height": 35
        },
        "outputId": "54cb4e7e-a13b-4f13-eb80-028f3c2f959d"
      },
      "source": [
        "cores.items()"
      ],
      "execution_count": null,
      "outputs": [
        {
          "output_type": "execute_result",
          "data": {
            "text/plain": [
              "dict_items([('A', 'Verde'), ('B', 'Vermelho'), ('C', 'Amarelo'), ('D', 'Azul')])"
            ]
          },
          "metadata": {
            "tags": []
          },
          "execution_count": 36
        }
      ]
    },
    {
      "cell_type": "code",
      "metadata": {
        "id": "5TmSD1cTnX3J",
        "colab_type": "code",
        "colab": {}
      },
      "source": [
        "del cores['A']"
      ],
      "execution_count": null,
      "outputs": []
    },
    {
      "cell_type": "code",
      "metadata": {
        "id": "4yzczCYRncv3",
        "colab_type": "code",
        "colab": {
          "base_uri": "https://localhost:8080/",
          "height": 35
        },
        "outputId": "673af468-8d3b-4887-9399-7243813a16c3"
      },
      "source": [
        "cores"
      ],
      "execution_count": null,
      "outputs": [
        {
          "output_type": "execute_result",
          "data": {
            "text/plain": [
              "{'B': 'Vermelho', 'C': 'Amarelo', 'D': 'Azul'}"
            ]
          },
          "metadata": {
            "tags": []
          },
          "execution_count": 38
        }
      ]
    },
    {
      "cell_type": "markdown",
      "metadata": {
        "id": "vvBws0eBnu2r",
        "colab_type": "text"
      },
      "source": [
        "# while -> Enquanto"
      ]
    },
    {
      "cell_type": "code",
      "metadata": {
        "id": "IENiXPEjnxX8",
        "colab_type": "code",
        "colab": {
          "base_uri": "https://localhost:8080/",
          "height": 201
        },
        "outputId": "bead8cc8-204e-47dc-a21d-bccb58251c63"
      },
      "source": [
        "x = 0\n",
        "while x < 10:\n",
        " print (x)\n",
        " x = x + 1"
      ],
      "execution_count": null,
      "outputs": [
        {
          "output_type": "stream",
          "text": [
            "0\n",
            "1\n",
            "2\n",
            "3\n",
            "4\n",
            "5\n",
            "6\n",
            "7\n",
            "8\n",
            "9\n"
          ],
          "name": "stdout"
        }
      ]
    },
    {
      "cell_type": "code",
      "metadata": {
        "id": "NHcA_at1n-sY",
        "colab_type": "code",
        "colab": {}
      },
      "source": [
        "senha = 123\n",
        "entrada = 0"
      ],
      "execution_count": null,
      "outputs": []
    },
    {
      "cell_type": "code",
      "metadata": {
        "id": "QJBeQ0IGoHFh",
        "colab_type": "code",
        "colab": {
          "base_uri": "https://localhost:8080/",
          "height": 90
        },
        "outputId": "c4c71463-9407-4063-8f32-66b1050230df"
      },
      "source": [
        "while senha != entrada:\n",
        "  entrada = int (input ('Digite sua senha: '))\n",
        "  if senha == entrada:\n",
        "    print ('Acesso liberado!')\n",
        "  else:\n",
        "    print ('Senha inválida!, Tente novamente')  "
      ],
      "execution_count": null,
      "outputs": [
        {
          "output_type": "stream",
          "text": [
            "Digite sua senha: 12\n",
            "Senha inválida!, Tente novamente\n",
            "Digite sua senha: 123\n",
            "Acesso liberado!\n"
          ],
          "name": "stdout"
        }
      ]
    },
    {
      "cell_type": "code",
      "metadata": {
        "id": "BhVKgxY_p8tv",
        "colab_type": "code",
        "colab": {}
      },
      "source": [
        "import random"
      ],
      "execution_count": null,
      "outputs": []
    },
    {
      "cell_type": "code",
      "metadata": {
        "id": "1SfR9Ul4qCjS",
        "colab_type": "code",
        "colab": {}
      },
      "source": [
        "senha = random.randint(0,10)\n",
        "leitura = 0"
      ],
      "execution_count": null,
      "outputs": []
    },
    {
      "cell_type": "code",
      "metadata": {
        "id": "6cOfPPNzqLJD",
        "colab_type": "code",
        "colab": {
          "base_uri": "https://localhost:8080/",
          "height": 35
        },
        "outputId": "567310db-9215-4d3e-c919-4581a51168c8"
      },
      "source": [
        "print (senha)"
      ],
      "execution_count": null,
      "outputs": [
        {
          "output_type": "stream",
          "text": [
            "1\n"
          ],
          "name": "stdout"
        }
      ]
    },
    {
      "cell_type": "code",
      "metadata": {
        "id": "nMqVPX4iqbhr",
        "colab_type": "code",
        "colab": {
          "base_uri": "https://localhost:8080/",
          "height": 54
        },
        "outputId": "1f178d0d-b9b9-4ac9-e75e-4f75e935ed4e"
      },
      "source": [
        "while senha != entrada:\n",
        "  entrada = int (input ('Digite sua senha: '))\n",
        "  if senha == entrada:\n",
        "    print ('Acesso liberado!')\n",
        "  else:\n",
        "    print ('Senha inválida!, Tente novamente')  "
      ],
      "execution_count": null,
      "outputs": [
        {
          "output_type": "stream",
          "text": [
            "Digite sua senha: 1\n",
            "Acesso liberado!\n"
          ],
          "name": "stdout"
        }
      ]
    },
    {
      "cell_type": "markdown",
      "metadata": {
        "id": "3hb0GAYxqoxP",
        "colab_type": "text"
      },
      "source": [
        "# for -> para\n"
      ]
    },
    {
      "cell_type": "code",
      "metadata": {
        "id": "Iuxv_3EpqvJs",
        "colab_type": "code",
        "colab": {
          "base_uri": "https://localhost:8080/",
          "height": 219
        },
        "outputId": "3d83b3e9-502d-4361-f3c0-c45eecc230ac"
      },
      "source": [
        "for x in range(11):\n",
        "  print (x)"
      ],
      "execution_count": null,
      "outputs": [
        {
          "output_type": "stream",
          "text": [
            "0\n",
            "1\n",
            "2\n",
            "3\n",
            "4\n",
            "5\n",
            "6\n",
            "7\n",
            "8\n",
            "9\n",
            "10\n"
          ],
          "name": "stdout"
        }
      ]
    },
    {
      "cell_type": "code",
      "metadata": {
        "id": "DlKb3qURq2sN",
        "colab_type": "code",
        "colab": {
          "base_uri": "https://localhost:8080/",
          "height": 35
        },
        "outputId": "0fcae296-2429-42c3-a0e8-bce29d076127"
      },
      "source": [
        "lista = [1,2,3,4,5,6,7,8,9]\n",
        "lista"
      ],
      "execution_count": null,
      "outputs": [
        {
          "output_type": "execute_result",
          "data": {
            "text/plain": [
              "[1, 2, 3, 4, 5, 6, 7, 8, 9]"
            ]
          },
          "metadata": {
            "tags": []
          },
          "execution_count": 64
        }
      ]
    },
    {
      "cell_type": "code",
      "metadata": {
        "id": "bH36J9NNq9Wd",
        "colab_type": "code",
        "colab": {
          "base_uri": "https://localhost:8080/",
          "height": 182
        },
        "outputId": "76289e11-8178-4fd8-bb39-7465c5497b3d"
      },
      "source": [
        "for item in lista:\n",
        "  print (item)"
      ],
      "execution_count": null,
      "outputs": [
        {
          "output_type": "stream",
          "text": [
            "1\n",
            "2\n",
            "3\n",
            "4\n",
            "5\n",
            "6\n",
            "7\n",
            "8\n",
            "9\n"
          ],
          "name": "stdout"
        }
      ]
    },
    {
      "cell_type": "code",
      "metadata": {
        "id": "rYGzqXIXrKKp",
        "colab_type": "code",
        "colab": {
          "base_uri": "https://localhost:8080/",
          "height": 36
        },
        "outputId": "f4480a10-bc44-47b3-d074-80db483e6b75"
      },
      "source": [
        "curso = 'Curso de Python'\n",
        "curso"
      ],
      "execution_count": null,
      "outputs": [
        {
          "output_type": "execute_result",
          "data": {
            "application/vnd.google.colaboratory.intrinsic+json": {
              "type": "string"
            },
            "text/plain": [
              "'Curso de Python'"
            ]
          },
          "metadata": {
            "tags": []
          },
          "execution_count": 66
        }
      ]
    },
    {
      "cell_type": "code",
      "metadata": {
        "id": "7lyQEpNZrUaf",
        "colab_type": "code",
        "colab": {
          "base_uri": "https://localhost:8080/",
          "height": 293
        },
        "outputId": "8d43a723-f065-4bb6-e247-91a334434ece"
      },
      "source": [
        "for letra in curso:\n",
        "  print (letra)"
      ],
      "execution_count": null,
      "outputs": [
        {
          "output_type": "stream",
          "text": [
            "C\n",
            "u\n",
            "r\n",
            "s\n",
            "o\n",
            " \n",
            "d\n",
            "e\n",
            " \n",
            "P\n",
            "y\n",
            "t\n",
            "h\n",
            "o\n",
            "n\n"
          ],
          "name": "stdout"
        }
      ]
    },
    {
      "cell_type": "code",
      "metadata": {
        "id": "pFNiCBVjragz",
        "colab_type": "code",
        "colab": {}
      },
      "source": [
        "senha = 123"
      ],
      "execution_count": null,
      "outputs": []
    },
    {
      "cell_type": "code",
      "metadata": {
        "id": "6FTh65W3rewd",
        "colab_type": "code",
        "colab": {
          "base_uri": "https://localhost:8080/",
          "height": 90
        },
        "outputId": "bd0c36fa-1fee-4bee-acdf-826994e49aaf"
      },
      "source": [
        "for leitura in range( senha):\n",
        "    leitura = int (input ('Digite a senha!'))\n",
        "    if senha == leitura:\n",
        "        print ('Acesso liberado!')\n",
        "        break\n",
        "    else:\n",
        "        print ('Senha incorreta , tente novamente')"
      ],
      "execution_count": null,
      "outputs": [
        {
          "output_type": "stream",
          "text": [
            "Digite a senha!23\n",
            "Senha incorreta , tente novamente\n",
            "Digite a senha!123\n",
            "Acesso liberado!\n"
          ],
          "name": "stdout"
        }
      ]
    },
    {
      "cell_type": "markdown",
      "metadata": {
        "id": "l8ZxY5WbsSM8",
        "colab_type": "text"
      },
      "source": [
        "# def ( ) -> Funções\n"
      ]
    },
    {
      "cell_type": "code",
      "metadata": {
        "id": "KEf6k17TsTvS",
        "colab_type": "code",
        "colab": {}
      },
      "source": [
        "def mensagem():\n",
        "    print ('Bom dia!')"
      ],
      "execution_count": null,
      "outputs": []
    },
    {
      "cell_type": "code",
      "metadata": {
        "id": "cvawdJXFsZok",
        "colab_type": "code",
        "colab": {
          "base_uri": "https://localhost:8080/",
          "height": 35
        },
        "outputId": "d042b26b-4ffe-40a0-8d52-01066b96a6e4"
      },
      "source": [
        "mensagem()"
      ],
      "execution_count": null,
      "outputs": [
        {
          "output_type": "stream",
          "text": [
            "Bom dia!\n"
          ],
          "name": "stdout"
        }
      ]
    },
    {
      "cell_type": "code",
      "metadata": {
        "id": "QXJtBAZJsevh",
        "colab_type": "code",
        "colab": {}
      },
      "source": [
        "def mensagem(msg):\n",
        " return msg\n"
      ],
      "execution_count": null,
      "outputs": []
    },
    {
      "cell_type": "code",
      "metadata": {
        "id": "IcO6_xzksoRc",
        "colab_type": "code",
        "colab": {
          "base_uri": "https://localhost:8080/",
          "height": 36
        },
        "outputId": "f3d998f2-8dcb-4502-9613-5b6918ae5d05"
      },
      "source": [
        "mensagem('Bom dia!')"
      ],
      "execution_count": null,
      "outputs": [
        {
          "output_type": "execute_result",
          "data": {
            "application/vnd.google.colaboratory.intrinsic+json": {
              "type": "string"
            },
            "text/plain": [
              "'Bom dia!'"
            ]
          },
          "metadata": {
            "tags": []
          },
          "execution_count": 76
        }
      ]
    },
    {
      "cell_type": "code",
      "metadata": {
        "id": "jBQ9shgCs2cF",
        "colab_type": "code",
        "colab": {}
      },
      "source": [
        "def soma(x,y):\n",
        "    return x + y"
      ],
      "execution_count": null,
      "outputs": []
    },
    {
      "cell_type": "code",
      "metadata": {
        "id": "8-gbE08-s5Lh",
        "colab_type": "code",
        "colab": {
          "base_uri": "https://localhost:8080/",
          "height": 35
        },
        "outputId": "3dec882e-40e6-4db3-f028-62dc0546c189"
      },
      "source": [
        "soma(4,5)"
      ],
      "execution_count": null,
      "outputs": [
        {
          "output_type": "execute_result",
          "data": {
            "text/plain": [
              "9"
            ]
          },
          "metadata": {
            "tags": []
          },
          "execution_count": 78
        }
      ]
    },
    {
      "cell_type": "code",
      "metadata": {
        "id": "JYWKGM55tKso",
        "colab_type": "code",
        "colab": {}
      },
      "source": [
        "def login():\n",
        "    senha = 123\n",
        "\n",
        "    for leitura in range( senha):\n",
        "\n",
        "        leitura = int (input ('Digite a senha!'))\n",
        "        if senha == leitura:\n",
        "            print ('Acesso liberado!')\n",
        "            break\n",
        "        else:\n",
        "            print ('Senha incorreta , tente novamente')\n"
      ],
      "execution_count": null,
      "outputs": []
    },
    {
      "cell_type": "code",
      "metadata": {
        "id": "b-WkYghtuQY2",
        "colab_type": "code",
        "colab": {
          "base_uri": "https://localhost:8080/",
          "height": 90
        },
        "outputId": "421767a0-fbc0-4c04-965f-80a7a3dde42f"
      },
      "source": [
        "login()"
      ],
      "execution_count": null,
      "outputs": [
        {
          "output_type": "stream",
          "text": [
            "Digite a senha!12\n",
            "Senha incorreta , tente novamente\n",
            "Digite a senha!123\n",
            "Acesso liberado!\n"
          ],
          "name": "stdout"
        }
      ]
    },
    {
      "cell_type": "markdown",
      "metadata": {
        "id": "XygkeAYeuh5q",
        "colab_type": "text"
      },
      "source": [
        "# class -> Classes\n",
        "\n",
        "- Atributos e Métodos\n"
      ]
    },
    {
      "cell_type": "code",
      "metadata": {
        "id": "o_g4wkD_umKi",
        "colab_type": "code",
        "colab": {}
      },
      "source": [
        "class Pessoa:\n",
        "     # Atributos\n",
        "    nome = ''\n",
        "    idade = 0\n"
      ],
      "execution_count": null,
      "outputs": []
    },
    {
      "cell_type": "code",
      "metadata": {
        "id": "cDaPlfouuwR2",
        "colab_type": "code",
        "colab": {}
      },
      "source": [
        "p1 = Pessoa()\n",
        "p2 = Pessoa()"
      ],
      "execution_count": null,
      "outputs": []
    },
    {
      "cell_type": "code",
      "metadata": {
        "id": "H0m-d1e0u06A",
        "colab_type": "code",
        "colab": {}
      },
      "source": [
        "p1.nome = 'Cosmo'\n",
        "p1.idade = 35\n",
        "p2.nome = 'Lucas'\n",
        "p2.idade = 14"
      ],
      "execution_count": null,
      "outputs": []
    },
    {
      "cell_type": "code",
      "metadata": {
        "id": "pRXzXq03u8V7",
        "colab_type": "code",
        "colab": {
          "base_uri": "https://localhost:8080/",
          "height": 54
        },
        "outputId": "c95fe305-6d8c-481f-9ea2-f0ffd8f9d3d4"
      },
      "source": [
        "print (p1.nome)\n",
        "print (p1.idade)"
      ],
      "execution_count": null,
      "outputs": [
        {
          "output_type": "stream",
          "text": [
            "Cosmo\n",
            "35\n"
          ],
          "name": "stdout"
        }
      ]
    },
    {
      "cell_type": "code",
      "metadata": {
        "id": "pVzlfiaKva0X",
        "colab_type": "code",
        "colab": {
          "base_uri": "https://localhost:8080/",
          "height": 54
        },
        "outputId": "fabfe586-7eb9-4e62-eb0e-2f685fa3dfb3"
      },
      "source": [
        "print (p2.nome)\n",
        "print (p2.idade)"
      ],
      "execution_count": null,
      "outputs": [
        {
          "output_type": "stream",
          "text": [
            "Lucas\n",
            "14\n"
          ],
          "name": "stdout"
        }
      ]
    },
    {
      "cell_type": "code",
      "metadata": {
        "id": "6Awh2TsjvoAj",
        "colab_type": "code",
        "colab": {}
      },
      "source": [
        "class Pessoa:\n",
        "    # Atributos\n",
        "    nome = ''\n",
        "    idade = 0\n",
        "\n",
        "    # Métodos\n",
        "    def dados(self):\n",
        "        print(f'Nome:{self.nome} , Idade:{self.idade}')"
      ],
      "execution_count": null,
      "outputs": []
    },
    {
      "cell_type": "code",
      "metadata": {
        "id": "Bx7NKigbwMNZ",
        "colab_type": "code",
        "colab": {}
      },
      "source": [
        "p3 = Pessoa()\n",
        "p3.idade = 'Felipe'\n",
        "p3.idade = 16"
      ],
      "execution_count": null,
      "outputs": []
    },
    {
      "cell_type": "code",
      "metadata": {
        "id": "C3fUg5TcwdR1",
        "colab_type": "code",
        "colab": {
          "base_uri": "https://localhost:8080/",
          "height": 35
        },
        "outputId": "7178bf3a-42aa-48ab-c6c4-b584864e8f73"
      },
      "source": [
        "p3.dados()"
      ],
      "execution_count": null,
      "outputs": [
        {
          "output_type": "stream",
          "text": [
            "Nome: , Idade:16\n"
          ],
          "name": "stdout"
        }
      ]
    },
    {
      "cell_type": "code",
      "metadata": {
        "id": "BT2V8Q_ewrs7",
        "colab_type": "code",
        "colab": {}
      },
      "source": [
        "class Pessoa:\n",
        " # Método construtor ou inicial\n",
        "    def __init__(self,valor_nome,valor_idade):\n",
        "        self.nome = valor_nome\n",
        "        self.idade = valor_idade\n",
        "\n"
      ],
      "execution_count": null,
      "outputs": []
    },
    {
      "cell_type": "code",
      "metadata": {
        "id": "tFqxjk-5w_Vj",
        "colab_type": "code",
        "colab": {}
      },
      "source": [
        "p4 = Pessoa('Cosmo',35)"
      ],
      "execution_count": null,
      "outputs": []
    },
    {
      "cell_type": "code",
      "metadata": {
        "id": "lFSUxZZDxKpz",
        "colab_type": "code",
        "colab": {
          "base_uri": "https://localhost:8080/",
          "height": 35
        },
        "outputId": "7818e330-db8b-434c-ec47-add3735f972e"
      },
      "source": [
        "print (p4.nome,p4.idade)"
      ],
      "execution_count": null,
      "outputs": [
        {
          "output_type": "stream",
          "text": [
            "Cosmo 35\n"
          ],
          "name": "stdout"
        }
      ]
    },
    {
      "cell_type": "code",
      "metadata": {
        "id": "8FfzqmQqxRyd",
        "colab_type": "code",
        "colab": {}
      },
      "source": [
        "class Pessoa:\n",
        " # Método construtor ou inicial\n",
        "    def __init__(self,valor_nome,valor_idade):\n",
        "        self.nome = valor_nome\n",
        "        self.idade = valor_idade\n",
        "\n",
        "    def dados (self):\n",
        "        return (f'Nome:{self.nome} Idade:{self.idade}')   \n",
        "        \n",
        "    # get\n",
        "    def get_nome(self):\n",
        "        return self.nome\n",
        "\n",
        "    def get_idade(self):\n",
        "        return self.idade\n",
        "\n",
        "    # set\n",
        "    def set_nome (self,novo_nome):\n",
        "        self.nome = novo_nome\n",
        "\n",
        "    def set_idade(self,nova_idade):\n",
        "        self.idade = nova_idade\n"
      ],
      "execution_count": null,
      "outputs": []
    },
    {
      "cell_type": "code",
      "metadata": {
        "id": "uMGjMjd6yKJ1",
        "colab_type": "code",
        "colab": {}
      },
      "source": [
        "p5 = Pessoa('Cosmo' , 35)"
      ],
      "execution_count": null,
      "outputs": []
    },
    {
      "cell_type": "code",
      "metadata": {
        "id": "v41_dQd3yjUx",
        "colab_type": "code",
        "colab": {
          "base_uri": "https://localhost:8080/",
          "height": 35
        },
        "outputId": "47edbb98-7447-451a-9af7-cb38bfa16f08"
      },
      "source": [
        "print (p5.dados())"
      ],
      "execution_count": null,
      "outputs": [
        {
          "output_type": "stream",
          "text": [
            "Nome:Cosmo Idade:35\n"
          ],
          "name": "stdout"
        }
      ]
    },
    {
      "cell_type": "code",
      "metadata": {
        "id": "_ivlouVFyn2b",
        "colab_type": "code",
        "colab": {
          "base_uri": "https://localhost:8080/",
          "height": 54
        },
        "outputId": "6ceab0dd-568c-46d9-afa9-026208886e80"
      },
      "source": [
        "print(p5.get_nome())\n",
        "print(p5.get_idade())"
      ],
      "execution_count": null,
      "outputs": [
        {
          "output_type": "stream",
          "text": [
            "Cosmo\n",
            "35\n"
          ],
          "name": "stdout"
        }
      ]
    },
    {
      "cell_type": "code",
      "metadata": {
        "id": "-fYVbXozzHmj",
        "colab_type": "code",
        "colab": {}
      },
      "source": [
        "p5.set_nome('Lucas')\n",
        "p5.set_idade(16)"
      ],
      "execution_count": null,
      "outputs": []
    },
    {
      "cell_type": "code",
      "metadata": {
        "id": "tasQc8ThzaOc",
        "colab_type": "code",
        "colab": {
          "base_uri": "https://localhost:8080/",
          "height": 54
        },
        "outputId": "55d0d6d9-3dfd-485e-f446-dc4a785067bc"
      },
      "source": [
        "print (p5.nome)\n",
        "print (p5.idade)"
      ],
      "execution_count": null,
      "outputs": [
        {
          "output_type": "stream",
          "text": [
            "Lucas\n",
            "16\n"
          ],
          "name": "stdout"
        }
      ]
    },
    {
      "cell_type": "code",
      "metadata": {
        "id": "kV9zBQ_-08Qn",
        "colab_type": "code",
        "colab": {}
      },
      "source": [
        "# Herança\n",
        "class Animal():\n",
        "    def __init__(self, nome, cor):\n",
        "        self.nome = nome\n",
        "        self.cor = cor\n",
        "        \n",
        "    def comer(self):\n",
        "        print(f\"O {self.nome} está comendo\")\n"
      ],
      "execution_count": null,
      "outputs": []
    },
    {
      "cell_type": "code",
      "metadata": {
        "id": "2SgEC_Ar1RjF",
        "colab_type": "code",
        "colab": {}
      },
      "source": [
        "class Gato(Animal):\n",
        "    def __init__(self, nome, cor):\n",
        "        super().__init__(nome, cor)\n",
        "\n",
        "class Cachorro(Animal):\n",
        "    def __init__(self, nome, cor):\n",
        "        super().__init__(nome, cor)\n",
        "\n"
      ],
      "execution_count": null,
      "outputs": []
    },
    {
      "cell_type": "code",
      "metadata": {
        "id": "lTPoS5WI10S-",
        "colab_type": "code",
        "colab": {}
      },
      "source": [
        "gato = Gato(\"Bichano\", \"Branco\")\n",
        "cachorro = Cachorro(\"Totó\", \"Preto\")"
      ],
      "execution_count": null,
      "outputs": []
    },
    {
      "cell_type": "code",
      "metadata": {
        "id": "v07aezzI12Sq",
        "colab_type": "code",
        "colab": {
          "base_uri": "https://localhost:8080/",
          "height": 54
        },
        "outputId": "77f8fe37-3738-4c8f-ac2f-dfcd9b17f8c1"
      },
      "source": [
        "gato.comer()\n",
        "cachorro.comer()"
      ],
      "execution_count": null,
      "outputs": [
        {
          "output_type": "stream",
          "text": [
            "O Bichano está comendo\n",
            "O Totó está comendo\n"
          ],
          "name": "stdout"
        }
      ]
    }
  ]
}