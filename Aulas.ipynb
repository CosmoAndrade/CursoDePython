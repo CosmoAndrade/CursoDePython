{
  "nbformat": 4,
  "nbformat_minor": 0,
  "metadata": {
    "colab": {
      "name": "Aulas.ipynb",
      "provenance": [],
      "collapsed_sections": []
    },
    "kernelspec": {
      "name": "python3",
      "display_name": "Python 3"
    }
  },
  "cells": [
    {
      "cell_type": "markdown",
      "metadata": {
        "id": "QfcXVRBc_iB5",
        "colab_type": "text"
      },
      "source": [
        "Curso de Python"
      ]
    },
    {
      "cell_type": "code",
      "metadata": {
        "id": "aB2gyHBb-xed",
        "colab_type": "code",
        "colab": {
          "base_uri": "https://localhost:8080/",
          "height": 35
        },
        "outputId": "fef85970-00e2-4d42-bc71-794d5111b576"
      },
      "source": [
        "print ('Olá Mundo!')"
      ],
      "execution_count": null,
      "outputs": [
        {
          "output_type": "stream",
          "text": [
            "Olá Mundo!\n"
          ],
          "name": "stdout"
        }
      ]
    },
    {
      "cell_type": "code",
      "metadata": {
        "id": "Wp8a1TBF_dbT",
        "colab_type": "code",
        "colab": {
          "base_uri": "https://localhost:8080/",
          "height": 35
        },
        "outputId": "7d8d49c0-e374-4643-e14b-f8a9b65a2247"
      },
      "source": [
        "print ('Curso ',' De ',' Python', sep='-')"
      ],
      "execution_count": null,
      "outputs": [
        {
          "output_type": "stream",
          "text": [
            "Curso - De - Python\n"
          ],
          "name": "stdout"
        }
      ]
    },
    {
      "cell_type": "code",
      "metadata": {
        "id": "XPg1T8Tn_0BJ",
        "colab_type": "code",
        "colab": {
          "base_uri": "https://localhost:8080/",
          "height": 35
        },
        "outputId": "c71a820a-094c-459a-a1f8-b4c17d342229"
      },
      "source": [
        "print ('Curso de ', end='')\n",
        "print ('Python')"
      ],
      "execution_count": null,
      "outputs": [
        {
          "output_type": "stream",
          "text": [
            "Curso de Python\n"
          ],
          "name": "stdout"
        }
      ]
    },
    {
      "cell_type": "code",
      "metadata": {
        "id": "GW_cg_D8AI4X",
        "colab_type": "code",
        "colab": {
          "base_uri": "https://localhost:8080/",
          "height": 35
        },
        "outputId": "f3d235c7-5940-4801-d867-d3ebf0ccb512"
      },
      "source": [
        "print ('089','786','765', sep='.' , end='-')\n",
        "print ('56')\n"
      ],
      "execution_count": null,
      "outputs": [
        {
          "output_type": "stream",
          "text": [
            "089.786.765-56\n"
          ],
          "name": "stdout"
        }
      ]
    },
    {
      "cell_type": "code",
      "metadata": {
        "id": "pz5a7rFkL5eM",
        "colab_type": "code",
        "colab": {
          "base_uri": "https://localhost:8080/",
          "height": 54
        },
        "outputId": "cd889467-41a8-411a-d1cf-f6c07892f711"
      },
      "source": [
        "print ('Curso de \\n Python') # \\n - Quebra de linha"
      ],
      "execution_count": null,
      "outputs": [
        {
          "output_type": "stream",
          "text": [
            "Curso de \n",
            " Python\n"
          ],
          "name": "stdout"
        }
      ]
    },
    {
      "cell_type": "code",
      "metadata": {
        "id": "mvYdGlAXL6tc",
        "colab_type": "code",
        "colab": {
          "base_uri": "https://localhost:8080/",
          "height": 35
        },
        "outputId": "cde96d5a-3e33-46e2-d5d5-09cb259c4108"
      },
      "source": [
        "print ('Curso de \\t Python ') # \\t - Tabulação"
      ],
      "execution_count": null,
      "outputs": [
        {
          "output_type": "stream",
          "text": [
            "Curso de \t Python \n"
          ],
          "name": "stdout"
        }
      ]
    },
    {
      "cell_type": "code",
      "metadata": {
        "id": "cwh7YQfsA9kl",
        "colab_type": "code",
        "colab": {
          "base_uri": "https://localhost:8080/",
          "height": 35
        },
        "outputId": "57b33d1a-6522-4da1-d5d0-a3da04c77a5e"
      },
      "source": [
        "# Comentários  de uma linha\n",
        "'''\n",
        "Comentário \n",
        "de\n",
        "várias \n",
        "linhas\n",
        "\n",
        "'''\n",
        "print ('Curso de Python') # Final do código\n",
        "# print ('Python')"
      ],
      "execution_count": null,
      "outputs": [
        {
          "output_type": "stream",
          "text": [
            "Curso de Python\n"
          ],
          "name": "stdout"
        }
      ]
    },
    {
      "cell_type": "markdown",
      "metadata": {
        "id": "zMlmrdCrIGE9",
        "colab_type": "text"
      },
      "source": [
        "Números"
      ]
    },
    {
      "cell_type": "code",
      "metadata": {
        "id": "hZRqerkxDG9w",
        "colab_type": "code",
        "colab": {}
      },
      "source": [
        "x = 10\n",
        "y = 3"
      ],
      "execution_count": null,
      "outputs": []
    },
    {
      "cell_type": "code",
      "metadata": {
        "id": "xNcVSoL6IRfP",
        "colab_type": "code",
        "colab": {
          "base_uri": "https://localhost:8080/",
          "height": 35
        },
        "outputId": "6b3da513-e49e-4360-8f17-32740b5f3a29"
      },
      "source": [
        "print (x + y)"
      ],
      "execution_count": null,
      "outputs": [
        {
          "output_type": "stream",
          "text": [
            "13\n"
          ],
          "name": "stdout"
        }
      ]
    },
    {
      "cell_type": "code",
      "metadata": {
        "id": "Pe-tm0_2IY5f",
        "colab_type": "code",
        "colab": {
          "base_uri": "https://localhost:8080/",
          "height": 35
        },
        "outputId": "9bc019dd-460c-4bc1-c8f6-ced4ae5f32eb"
      },
      "source": [
        "print (x - y)"
      ],
      "execution_count": null,
      "outputs": [
        {
          "output_type": "stream",
          "text": [
            "7\n"
          ],
          "name": "stdout"
        }
      ]
    },
    {
      "cell_type": "code",
      "metadata": {
        "id": "Ur1B5crMIcH5",
        "colab_type": "code",
        "colab": {
          "base_uri": "https://localhost:8080/",
          "height": 35
        },
        "outputId": "1ba2d3ff-935b-4dbb-8d26-2360e782797b"
      },
      "source": [
        "print (x * y)"
      ],
      "execution_count": null,
      "outputs": [
        {
          "output_type": "stream",
          "text": [
            "30\n"
          ],
          "name": "stdout"
        }
      ]
    },
    {
      "cell_type": "code",
      "metadata": {
        "id": "Mk4KuW1MIgp4",
        "colab_type": "code",
        "colab": {
          "base_uri": "https://localhost:8080/",
          "height": 35
        },
        "outputId": "3e408481-9100-49b6-a275-1d526aad83b2"
      },
      "source": [
        "print (x / y)"
      ],
      "execution_count": null,
      "outputs": [
        {
          "output_type": "stream",
          "text": [
            "3.3333333333333335\n"
          ],
          "name": "stdout"
        }
      ]
    },
    {
      "cell_type": "code",
      "metadata": {
        "id": "r3oWJaW5KZK3",
        "colab_type": "code",
        "colab": {
          "base_uri": "https://localhost:8080/",
          "height": 35
        },
        "outputId": "38505494-b3e5-486f-ee16-24d6c56be1f3"
      },
      "source": [
        "print (x // y)"
      ],
      "execution_count": null,
      "outputs": [
        {
          "output_type": "stream",
          "text": [
            "3\n"
          ],
          "name": "stdout"
        }
      ]
    },
    {
      "cell_type": "code",
      "metadata": {
        "id": "qtO48iACIl6k",
        "colab_type": "code",
        "colab": {
          "base_uri": "https://localhost:8080/",
          "height": 35
        },
        "outputId": "89a1fe14-bc21-4265-d291-d2ec0a9f2341"
      },
      "source": [
        "print (x % y)"
      ],
      "execution_count": null,
      "outputs": [
        {
          "output_type": "stream",
          "text": [
            "1\n"
          ],
          "name": "stdout"
        }
      ]
    },
    {
      "cell_type": "code",
      "metadata": {
        "id": "nSzbD5JAI3Ug",
        "colab_type": "code",
        "colab": {
          "base_uri": "https://localhost:8080/",
          "height": 35
        },
        "outputId": "1164c839-6e7a-40c7-f422-898c0648d5c9"
      },
      "source": [
        "num = 10\n",
        "\n",
        "\n",
        "if num % 2  == 0:\n",
        "    print('Número é par')\n",
        "else:\n",
        "    print('Número é impar')\n",
        "\n"
      ],
      "execution_count": null,
      "outputs": [
        {
          "output_type": "stream",
          "text": [
            "Número é par\n"
          ],
          "name": "stdout"
        }
      ]
    },
    {
      "cell_type": "code",
      "metadata": {
        "id": "gvFl9_7iKTTH",
        "colab_type": "code",
        "colab": {
          "base_uri": "https://localhost:8080/",
          "height": 35
        },
        "outputId": "30765316-9e96-48f0-db2b-45c86052cb07"
      },
      "source": [
        "print (x ** y)"
      ],
      "execution_count": null,
      "outputs": [
        {
          "output_type": "stream",
          "text": [
            "1000\n"
          ],
          "name": "stdout"
        }
      ]
    },
    {
      "cell_type": "markdown",
      "metadata": {
        "id": "9D7lBr4AQmNW",
        "colab_type": "text"
      },
      "source": [
        "Variável"
      ]
    },
    {
      "cell_type": "code",
      "metadata": {
        "id": "kkcYtcTwQtKM",
        "colab_type": "code",
        "colab": {
          "base_uri": "https://localhost:8080/",
          "height": 35
        },
        "outputId": "1e1028a3-1d76-4d51-fe15-3e7c38bd8a43"
      },
      "source": [
        "nome = 'Cosmo'\n",
        "print (nome)"
      ],
      "execution_count": null,
      "outputs": [
        {
          "output_type": "stream",
          "text": [
            "Cosmo\n"
          ],
          "name": "stdout"
        }
      ]
    },
    {
      "cell_type": "code",
      "metadata": {
        "id": "ZE4EvqLomc2P",
        "colab_type": "code",
        "colab": {}
      },
      "source": [
        "nome_do_curso = 'Python'"
      ],
      "execution_count": null,
      "outputs": []
    },
    {
      "cell_type": "code",
      "metadata": {
        "id": "tXYUIAV6mksx",
        "colab_type": "code",
        "colab": {
          "base_uri": "https://localhost:8080/",
          "height": 35
        },
        "outputId": "3df0a8b4-f904-4d93-df14-59b181e2f92f"
      },
      "source": [
        "print (nome_do_curso)"
      ],
      "execution_count": null,
      "outputs": [
        {
          "output_type": "stream",
          "text": [
            "Python\n"
          ],
          "name": "stdout"
        }
      ]
    },
    {
      "cell_type": "markdown",
      "metadata": {
        "id": "SqVOy2EVKjW1",
        "colab_type": "text"
      },
      "source": [
        "Strings"
      ]
    },
    {
      "cell_type": "code",
      "metadata": {
        "id": "yxVWQ4P1KmfI",
        "colab_type": "code",
        "colab": {
          "base_uri": "https://localhost:8080/",
          "height": 36
        },
        "outputId": "d8f80b4a-1cb1-4329-d2d5-809321753a63"
      },
      "source": [
        "'Strings de aspas simples'"
      ],
      "execution_count": null,
      "outputs": [
        {
          "output_type": "execute_result",
          "data": {
            "application/vnd.google.colaboratory.intrinsic+json": {
              "type": "string"
            },
            "text/plain": [
              "'Strings de aspas simples'"
            ]
          },
          "metadata": {
            "tags": []
          },
          "execution_count": 34
        }
      ]
    },
    {
      "cell_type": "code",
      "metadata": {
        "id": "b6PrJLM8Kxzr",
        "colab_type": "code",
        "colab": {
          "base_uri": "https://localhost:8080/",
          "height": 36
        },
        "outputId": "e39ec3d4-cdd5-4ce5-8698-5a7c2487b7f6"
      },
      "source": [
        "\"Strings de aspas duplas\""
      ],
      "execution_count": null,
      "outputs": [
        {
          "output_type": "execute_result",
          "data": {
            "application/vnd.google.colaboratory.intrinsic+json": {
              "type": "string"
            },
            "text/plain": [
              "'Strings de aspas duplas'"
            ]
          },
          "metadata": {
            "tags": []
          },
          "execution_count": 35
        }
      ]
    },
    {
      "cell_type": "code",
      "metadata": {
        "id": "TufYDN3HK61x",
        "colab_type": "code",
        "colab": {
          "base_uri": "https://localhost:8080/",
          "height": 36
        },
        "outputId": "b94d401a-276b-4ecd-eae1-dfd0f3a24c3d"
      },
      "source": [
        "\" A letra 'B' está entre aspas\""
      ],
      "execution_count": null,
      "outputs": [
        {
          "output_type": "execute_result",
          "data": {
            "application/vnd.google.colaboratory.intrinsic+json": {
              "type": "string"
            },
            "text/plain": [
              "\" A letra 'B' está entre aspas\""
            ]
          },
          "metadata": {
            "tags": []
          },
          "execution_count": 36
        }
      ]
    },
    {
      "cell_type": "code",
      "metadata": {
        "id": "JQlkts92LHaK",
        "colab_type": "code",
        "colab": {}
      },
      "source": [
        "aula = 'curso de python'"
      ],
      "execution_count": null,
      "outputs": []
    },
    {
      "cell_type": "code",
      "metadata": {
        "id": "I6E0LeYJMrFJ",
        "colab_type": "code",
        "colab": {
          "base_uri": "https://localhost:8080/",
          "height": 36
        },
        "outputId": "29b82fc4-ed4e-4e02-8eaf-a9e0afaae1eb"
      },
      "source": [
        "aula.upper()"
      ],
      "execution_count": null,
      "outputs": [
        {
          "output_type": "execute_result",
          "data": {
            "application/vnd.google.colaboratory.intrinsic+json": {
              "type": "string"
            },
            "text/plain": [
              "'CURSO DE PYTHON'"
            ]
          },
          "metadata": {
            "tags": []
          },
          "execution_count": 40
        }
      ]
    },
    {
      "cell_type": "code",
      "metadata": {
        "id": "lpyLoGkGM0y4",
        "colab_type": "code",
        "colab": {
          "base_uri": "https://localhost:8080/",
          "height": 36
        },
        "outputId": "d88d3dfd-ff31-4d6f-f97b-94a96a43b532"
      },
      "source": [
        "aula.lower()"
      ],
      "execution_count": null,
      "outputs": [
        {
          "output_type": "execute_result",
          "data": {
            "application/vnd.google.colaboratory.intrinsic+json": {
              "type": "string"
            },
            "text/plain": [
              "'curso de python'"
            ]
          },
          "metadata": {
            "tags": []
          },
          "execution_count": 41
        }
      ]
    },
    {
      "cell_type": "code",
      "metadata": {
        "id": "wvppp2UIM7Mu",
        "colab_type": "code",
        "colab": {
          "base_uri": "https://localhost:8080/",
          "height": 36
        },
        "outputId": "7ff1d482-fc5e-4205-c61b-7c03e1870861"
      },
      "source": [
        "aula.title()"
      ],
      "execution_count": null,
      "outputs": [
        {
          "output_type": "execute_result",
          "data": {
            "application/vnd.google.colaboratory.intrinsic+json": {
              "type": "string"
            },
            "text/plain": [
              "'Curso De Python'"
            ]
          },
          "metadata": {
            "tags": []
          },
          "execution_count": 42
        }
      ]
    },
    {
      "cell_type": "code",
      "metadata": {
        "id": "uAIMlsWNNB28",
        "colab_type": "code",
        "colab": {
          "base_uri": "https://localhost:8080/",
          "height": 36
        },
        "outputId": "eefca29b-1f3c-4491-f091-0fe62c973064"
      },
      "source": [
        "aula.capitalize()"
      ],
      "execution_count": null,
      "outputs": [
        {
          "output_type": "execute_result",
          "data": {
            "application/vnd.google.colaboratory.intrinsic+json": {
              "type": "string"
            },
            "text/plain": [
              "'Curso de python'"
            ]
          },
          "metadata": {
            "tags": []
          },
          "execution_count": 43
        }
      ]
    },
    {
      "cell_type": "code",
      "metadata": {
        "id": "2oz_JeTsNG8_",
        "colab_type": "code",
        "colab": {
          "base_uri": "https://localhost:8080/",
          "height": 35
        },
        "outputId": "5f2cc681-38e8-4443-c95d-a12f1165d635"
      },
      "source": [
        "aula.split()"
      ],
      "execution_count": null,
      "outputs": [
        {
          "output_type": "execute_result",
          "data": {
            "text/plain": [
              "['curso', 'de', 'python']"
            ]
          },
          "metadata": {
            "tags": []
          },
          "execution_count": 46
        }
      ]
    },
    {
      "cell_type": "code",
      "metadata": {
        "id": "fyVeXIAJNp-q",
        "colab_type": "code",
        "colab": {}
      },
      "source": [
        "fruta = '   Banana  '"
      ],
      "execution_count": null,
      "outputs": []
    },
    {
      "cell_type": "code",
      "metadata": {
        "id": "DaSI1GHVOd5h",
        "colab_type": "code",
        "colab": {
          "base_uri": "https://localhost:8080/",
          "height": 36
        },
        "outputId": "f556d2cc-9aca-4055-e887-818288fe7191"
      },
      "source": [
        "fruta.strip()"
      ],
      "execution_count": null,
      "outputs": [
        {
          "output_type": "execute_result",
          "data": {
            "application/vnd.google.colaboratory.intrinsic+json": {
              "type": "string"
            },
            "text/plain": [
              "'Banana'"
            ]
          },
          "metadata": {
            "tags": []
          },
          "execution_count": 51
        }
      ]
    },
    {
      "cell_type": "code",
      "metadata": {
        "id": "xx-HKzvjOxxM",
        "colab_type": "code",
        "colab": {
          "base_uri": "https://localhost:8080/",
          "height": 35
        },
        "outputId": "473b6dbe-94ac-46ee-ca4d-a2e62ba5875b"
      },
      "source": [
        "fruta.count('a')"
      ],
      "execution_count": null,
      "outputs": [
        {
          "output_type": "execute_result",
          "data": {
            "text/plain": [
              "3"
            ]
          },
          "metadata": {
            "tags": []
          },
          "execution_count": 53
        }
      ]
    },
    {
      "cell_type": "code",
      "metadata": {
        "id": "M6OPDZm0PIiQ",
        "colab_type": "code",
        "colab": {
          "base_uri": "https://localhost:8080/",
          "height": 36
        },
        "outputId": "c0e4f278-7a74-4928-eb6c-0ce88db28bf4"
      },
      "source": [
        "aula"
      ],
      "execution_count": null,
      "outputs": [
        {
          "output_type": "execute_result",
          "data": {
            "application/vnd.google.colaboratory.intrinsic+json": {
              "type": "string"
            },
            "text/plain": [
              "'curso de python'"
            ]
          },
          "metadata": {
            "tags": []
          },
          "execution_count": 55
        }
      ]
    },
    {
      "cell_type": "code",
      "metadata": {
        "id": "spRUJz7YPQsJ",
        "colab_type": "code",
        "colab": {
          "base_uri": "https://localhost:8080/",
          "height": 35
        },
        "outputId": "fa6520a2-50b6-463c-90ba-d2386757b2f2"
      },
      "source": [
        "len(aula)"
      ],
      "execution_count": null,
      "outputs": [
        {
          "output_type": "execute_result",
          "data": {
            "text/plain": [
              "15"
            ]
          },
          "metadata": {
            "tags": []
          },
          "execution_count": 56
        }
      ]
    },
    {
      "cell_type": "code",
      "metadata": {
        "id": "1MUxR_c_O8iu",
        "colab_type": "code",
        "colab": {
          "base_uri": "https://localhost:8080/",
          "height": 36
        },
        "outputId": "5c8744e5-77d7-4dfb-989b-fd8c79f47058"
      },
      "source": [
        "# Fatiamento\n",
        "aula[0]"
      ],
      "execution_count": null,
      "outputs": [
        {
          "output_type": "execute_result",
          "data": {
            "application/vnd.google.colaboratory.intrinsic+json": {
              "type": "string"
            },
            "text/plain": [
              "'c'"
            ]
          },
          "metadata": {
            "tags": []
          },
          "execution_count": 57
        }
      ]
    },
    {
      "cell_type": "code",
      "metadata": {
        "id": "p7eLGzYvPYEE",
        "colab_type": "code",
        "colab": {
          "base_uri": "https://localhost:8080/",
          "height": 36
        },
        "outputId": "6363f669-1874-4e76-e38c-1dde8e17b537"
      },
      "source": [
        "aula[0:5]"
      ],
      "execution_count": null,
      "outputs": [
        {
          "output_type": "execute_result",
          "data": {
            "application/vnd.google.colaboratory.intrinsic+json": {
              "type": "string"
            },
            "text/plain": [
              "'curso'"
            ]
          },
          "metadata": {
            "tags": []
          },
          "execution_count": 58
        }
      ]
    },
    {
      "cell_type": "code",
      "metadata": {
        "id": "Ro7nRjlGPiwg",
        "colab_type": "code",
        "colab": {
          "base_uri": "https://localhost:8080/",
          "height": 35
        },
        "outputId": "0928fbca-16db-4cab-f9df-00fafef121cc"
      },
      "source": [
        "aula.index('p')"
      ],
      "execution_count": null,
      "outputs": [
        {
          "output_type": "execute_result",
          "data": {
            "text/plain": [
              "9"
            ]
          },
          "metadata": {
            "tags": []
          },
          "execution_count": 59
        }
      ]
    },
    {
      "cell_type": "code",
      "metadata": {
        "id": "LKG03KEvPrdy",
        "colab_type": "code",
        "colab": {}
      },
      "source": [
        "cor = 'Laranja'"
      ],
      "execution_count": null,
      "outputs": []
    },
    {
      "cell_type": "code",
      "metadata": {
        "id": "C-JJOTvyQTi1",
        "colab_type": "code",
        "colab": {
          "base_uri": "https://localhost:8080/",
          "height": 36
        },
        "outputId": "948bc407-308f-4acc-c421-3316c2912fef"
      },
      "source": [
        "cor.center(15)"
      ],
      "execution_count": null,
      "outputs": [
        {
          "output_type": "execute_result",
          "data": {
            "application/vnd.google.colaboratory.intrinsic+json": {
              "type": "string"
            },
            "text/plain": [
              "'    Laranja    '"
            ]
          },
          "metadata": {
            "tags": []
          },
          "execution_count": 63
        }
      ]
    },
    {
      "cell_type": "markdown",
      "metadata": {
        "id": "qVHInbrUn96l",
        "colab_type": "text"
      },
      "source": [
        "# LIstas"
      ]
    },
    {
      "cell_type": "code",
      "metadata": {
        "id": "goJQp5pmoCME",
        "colab_type": "code",
        "colab": {}
      },
      "source": [
        "lista = [0,1,2,3,4,5]"
      ],
      "execution_count": null,
      "outputs": []
    },
    {
      "cell_type": "code",
      "metadata": {
        "id": "GOEeQWgpoJH1",
        "colab_type": "code",
        "colab": {
          "base_uri": "https://localhost:8080/",
          "height": 35
        },
        "outputId": "11049dc5-a710-4532-c40b-7f65af57cfb2"
      },
      "source": [
        "lista"
      ],
      "execution_count": null,
      "outputs": [
        {
          "output_type": "execute_result",
          "data": {
            "text/plain": [
              "[0, 1, 2, 3, 4, 5]"
            ]
          },
          "metadata": {
            "tags": []
          },
          "execution_count": 4
        }
      ]
    },
    {
      "cell_type": "code",
      "metadata": {
        "id": "ZmyL_hzioX35",
        "colab_type": "code",
        "colab": {
          "base_uri": "https://localhost:8080/",
          "height": 35
        },
        "outputId": "16f2db08-4f20-4990-b8f4-0a0c4050da4c"
      },
      "source": [
        "len(lista)"
      ],
      "execution_count": null,
      "outputs": [
        {
          "output_type": "execute_result",
          "data": {
            "text/plain": [
              "6"
            ]
          },
          "metadata": {
            "tags": []
          },
          "execution_count": 7
        }
      ]
    },
    {
      "cell_type": "code",
      "metadata": {
        "id": "gUF_7xNuoNCz",
        "colab_type": "code",
        "colab": {
          "base_uri": "https://localhost:8080/",
          "height": 35
        },
        "outputId": "c7e9992a-11d0-45bf-fd84-ed55c81ac885"
      },
      "source": [
        "lista[0]"
      ],
      "execution_count": null,
      "outputs": [
        {
          "output_type": "execute_result",
          "data": {
            "text/plain": [
              "0"
            ]
          },
          "metadata": {
            "tags": []
          },
          "execution_count": 5
        }
      ]
    },
    {
      "cell_type": "code",
      "metadata": {
        "id": "fb9ohOs7oRXn",
        "colab_type": "code",
        "colab": {
          "base_uri": "https://localhost:8080/",
          "height": 35
        },
        "outputId": "8cefdfb1-e659-4828-d6b9-113bc0b0dc2d"
      },
      "source": [
        "lista[0:4]"
      ],
      "execution_count": null,
      "outputs": [
        {
          "output_type": "execute_result",
          "data": {
            "text/plain": [
              "[0, 1, 2, 3]"
            ]
          },
          "metadata": {
            "tags": []
          },
          "execution_count": 6
        }
      ]
    },
    {
      "cell_type": "code",
      "metadata": {
        "id": "Gfi9YZUqocc9",
        "colab_type": "code",
        "colab": {
          "base_uri": "https://localhost:8080/",
          "height": 35
        },
        "outputId": "8d9e6807-cfa8-4656-9daf-513b76949100"
      },
      "source": [
        "sum(lista)"
      ],
      "execution_count": null,
      "outputs": [
        {
          "output_type": "execute_result",
          "data": {
            "text/plain": [
              "15"
            ]
          },
          "metadata": {
            "tags": []
          },
          "execution_count": 8
        }
      ]
    },
    {
      "cell_type": "code",
      "metadata": {
        "id": "sCYqwwr5pOvW",
        "colab_type": "code",
        "colab": {
          "base_uri": "https://localhost:8080/",
          "height": 35
        },
        "outputId": "92c2f7eb-c20c-4050-b8e9-bf281011140e"
      },
      "source": [
        "min(lista)"
      ],
      "execution_count": null,
      "outputs": [
        {
          "output_type": "execute_result",
          "data": {
            "text/plain": [
              "0"
            ]
          },
          "metadata": {
            "tags": []
          },
          "execution_count": 14
        }
      ]
    },
    {
      "cell_type": "code",
      "metadata": {
        "id": "3x3kjfX7pWOu",
        "colab_type": "code",
        "colab": {
          "base_uri": "https://localhost:8080/",
          "height": 35
        },
        "outputId": "47583ba5-21f7-473d-fa19-b62bfd996bf8"
      },
      "source": [
        "max(lista)"
      ],
      "execution_count": null,
      "outputs": [
        {
          "output_type": "execute_result",
          "data": {
            "text/plain": [
              "5"
            ]
          },
          "metadata": {
            "tags": []
          },
          "execution_count": 15
        }
      ]
    },
    {
      "cell_type": "code",
      "metadata": {
        "id": "xbj9XlnMpddG",
        "colab_type": "code",
        "colab": {}
      },
      "source": [
        "lista.append('Python')"
      ],
      "execution_count": null,
      "outputs": []
    },
    {
      "cell_type": "code",
      "metadata": {
        "id": "3U-qyizipj7-",
        "colab_type": "code",
        "colab": {
          "base_uri": "https://localhost:8080/",
          "height": 35
        },
        "outputId": "06e02860-5018-41f6-ee50-37a340edeb56"
      },
      "source": [
        "lista"
      ],
      "execution_count": null,
      "outputs": [
        {
          "output_type": "execute_result",
          "data": {
            "text/plain": [
              "[0, 1, 2, 3, 4, 5, 'Python']"
            ]
          },
          "metadata": {
            "tags": []
          },
          "execution_count": 17
        }
      ]
    },
    {
      "cell_type": "code",
      "metadata": {
        "id": "_O_BtBTxpoAc",
        "colab_type": "code",
        "colab": {}
      },
      "source": [
        "lista[0] = 'Java'"
      ],
      "execution_count": null,
      "outputs": []
    },
    {
      "cell_type": "code",
      "metadata": {
        "id": "pRBBnTIspm7p",
        "colab_type": "code",
        "colab": {
          "base_uri": "https://localhost:8080/",
          "height": 35
        },
        "outputId": "8e8a6e87-c0d8-4fe8-eda6-e076377217ae"
      },
      "source": [
        "lista"
      ],
      "execution_count": null,
      "outputs": [
        {
          "output_type": "execute_result",
          "data": {
            "text/plain": [
              "['Java', 1, 2, 3, 4, 5, 'Python']"
            ]
          },
          "metadata": {
            "tags": []
          },
          "execution_count": 19
        }
      ]
    },
    {
      "cell_type": "code",
      "metadata": {
        "id": "X8H7G1UOpzJs",
        "colab_type": "code",
        "colab": {}
      },
      "source": [
        "lista.insert(1,'Android')"
      ],
      "execution_count": null,
      "outputs": []
    },
    {
      "cell_type": "code",
      "metadata": {
        "id": "dKgv3ouCp_Bc",
        "colab_type": "code",
        "colab": {
          "base_uri": "https://localhost:8080/",
          "height": 35
        },
        "outputId": "a75efe16-d0c8-4082-9e94-f26156179411"
      },
      "source": [
        "lista"
      ],
      "execution_count": null,
      "outputs": [
        {
          "output_type": "execute_result",
          "data": {
            "text/plain": [
              "['Java', 'Android', 1, 2, 3, 4, 5, 'Python']"
            ]
          },
          "metadata": {
            "tags": []
          },
          "execution_count": 21
        }
      ]
    },
    {
      "cell_type": "code",
      "metadata": {
        "id": "6tCx4snsqRlJ",
        "colab_type": "code",
        "colab": {
          "base_uri": "https://localhost:8080/",
          "height": 35
        },
        "outputId": "bfd53e7f-299b-41b1-97d1-40f37dcb89e6"
      },
      "source": [
        "lista.index('Python')"
      ],
      "execution_count": null,
      "outputs": [
        {
          "output_type": "execute_result",
          "data": {
            "text/plain": [
              "7"
            ]
          },
          "metadata": {
            "tags": []
          },
          "execution_count": 22
        }
      ]
    },
    {
      "cell_type": "code",
      "metadata": {
        "id": "pb8mL_LXqb6M",
        "colab_type": "code",
        "colab": {
          "base_uri": "https://localhost:8080/",
          "height": 35
        },
        "outputId": "34cff7b5-de93-44a7-8d3a-176ebcc15fd4"
      },
      "source": [
        "lista"
      ],
      "execution_count": null,
      "outputs": [
        {
          "output_type": "execute_result",
          "data": {
            "text/plain": [
              "['Java', 'Android', 1, 2, 3, 4, 5, 'Python']"
            ]
          },
          "metadata": {
            "tags": []
          },
          "execution_count": 23
        }
      ]
    },
    {
      "cell_type": "code",
      "metadata": {
        "id": "2nyznJV9qfup",
        "colab_type": "code",
        "colab": {
          "base_uri": "https://localhost:8080/",
          "height": 36
        },
        "outputId": "56138380-9de2-4832-f675-957f7d24e2a2"
      },
      "source": [
        "lista.pop()"
      ],
      "execution_count": null,
      "outputs": [
        {
          "output_type": "execute_result",
          "data": {
            "application/vnd.google.colaboratory.intrinsic+json": {
              "type": "string"
            },
            "text/plain": [
              "'Python'"
            ]
          },
          "metadata": {
            "tags": []
          },
          "execution_count": 24
        }
      ]
    },
    {
      "cell_type": "code",
      "metadata": {
        "id": "IVnrD3g_qnKo",
        "colab_type": "code",
        "colab": {
          "base_uri": "https://localhost:8080/",
          "height": 35
        },
        "outputId": "00007ac8-257c-4780-dd14-318629ee13e1"
      },
      "source": [
        "lista"
      ],
      "execution_count": null,
      "outputs": [
        {
          "output_type": "execute_result",
          "data": {
            "text/plain": [
              "['Java', 'Android', 1, 2, 3, 4, 5]"
            ]
          },
          "metadata": {
            "tags": []
          },
          "execution_count": 25
        }
      ]
    },
    {
      "cell_type": "code",
      "metadata": {
        "id": "ZR7zXGCYqy9y",
        "colab_type": "code",
        "colab": {
          "base_uri": "https://localhost:8080/",
          "height": 36
        },
        "outputId": "d2cd5bd0-3ed5-45ec-9a1b-a86a8636cd8a"
      },
      "source": [
        "lista.pop(0)"
      ],
      "execution_count": null,
      "outputs": [
        {
          "output_type": "execute_result",
          "data": {
            "application/vnd.google.colaboratory.intrinsic+json": {
              "type": "string"
            },
            "text/plain": [
              "'Java'"
            ]
          },
          "metadata": {
            "tags": []
          },
          "execution_count": 26
        }
      ]
    },
    {
      "cell_type": "code",
      "metadata": {
        "id": "s7At6nNKqy5X",
        "colab_type": "code",
        "colab": {
          "base_uri": "https://localhost:8080/",
          "height": 35
        },
        "outputId": "a8dcccbc-4797-4cc3-ff32-8612f62f93b9"
      },
      "source": [
        "lista"
      ],
      "execution_count": null,
      "outputs": [
        {
          "output_type": "execute_result",
          "data": {
            "text/plain": [
              "['Android', 1, 2, 3, 4, 5]"
            ]
          },
          "metadata": {
            "tags": []
          },
          "execution_count": 27
        }
      ]
    },
    {
      "cell_type": "code",
      "metadata": {
        "id": "vVuViZaSqy0_",
        "colab_type": "code",
        "colab": {}
      },
      "source": [
        "lista.remove('Android')"
      ],
      "execution_count": null,
      "outputs": []
    },
    {
      "cell_type": "code",
      "metadata": {
        "id": "mlNlTB40qyxF",
        "colab_type": "code",
        "colab": {
          "base_uri": "https://localhost:8080/",
          "height": 35
        },
        "outputId": "ec0a27fc-99af-4cdc-e5e3-17bc8db02769"
      },
      "source": [
        "lista"
      ],
      "execution_count": null,
      "outputs": [
        {
          "output_type": "execute_result",
          "data": {
            "text/plain": [
              "[1, 2, 3, 4, 5]"
            ]
          },
          "metadata": {
            "tags": []
          },
          "execution_count": 29
        }
      ]
    },
    {
      "cell_type": "code",
      "metadata": {
        "id": "z8rxcROfqynh",
        "colab_type": "code",
        "colab": {}
      },
      "source": [
        "notas = [5,6,8,9.7,6.5]"
      ],
      "execution_count": null,
      "outputs": []
    },
    {
      "cell_type": "code",
      "metadata": {
        "id": "gsK7tfvDqygV",
        "colab_type": "code",
        "colab": {
          "base_uri": "https://localhost:8080/",
          "height": 35
        },
        "outputId": "f87db84e-2868-4c02-dc45-ad96f07d1963"
      },
      "source": [
        "notas"
      ],
      "execution_count": null,
      "outputs": [
        {
          "output_type": "execute_result",
          "data": {
            "text/plain": [
              "[5, 6, 8, 9.7, 6.5]"
            ]
          },
          "metadata": {
            "tags": []
          },
          "execution_count": 33
        }
      ]
    },
    {
      "cell_type": "code",
      "metadata": {
        "id": "zsG7HoyNqybV",
        "colab_type": "code",
        "colab": {
          "base_uri": "https://localhost:8080/",
          "height": 35
        },
        "outputId": "6af4f78b-f9a3-4bda-c0db-02f8c6c6bec0"
      },
      "source": [
        "media = sum(notas)/ len(notas)\n",
        "media"
      ],
      "execution_count": null,
      "outputs": [
        {
          "output_type": "execute_result",
          "data": {
            "text/plain": [
              "7.040000000000001"
            ]
          },
          "metadata": {
            "tags": []
          },
          "execution_count": 34
        }
      ]
    },
    {
      "cell_type": "code",
      "metadata": {
        "id": "o_uzufM0ryB6",
        "colab_type": "code",
        "colab": {}
      },
      "source": [
        "lista2 = [8,7,8,5,4,3,1,2,6]"
      ],
      "execution_count": null,
      "outputs": []
    },
    {
      "cell_type": "code",
      "metadata": {
        "id": "MrpZ3dD4qyVo",
        "colab_type": "code",
        "colab": {
          "base_uri": "https://localhost:8080/",
          "height": 35
        },
        "outputId": "0122e7bc-95ee-4464-d3bb-971a2f7a4019"
      },
      "source": [
        "lista2"
      ],
      "execution_count": null,
      "outputs": [
        {
          "output_type": "execute_result",
          "data": {
            "text/plain": [
              "[8, 7, 8, 5, 4, 3, 1, 2, 6]"
            ]
          },
          "metadata": {
            "tags": []
          },
          "execution_count": 36
        }
      ]
    },
    {
      "cell_type": "code",
      "metadata": {
        "id": "WM4_2degqyLw",
        "colab_type": "code",
        "colab": {
          "base_uri": "https://localhost:8080/",
          "height": 35
        },
        "outputId": "db610303-e605-438c-df78-9adc2bcae0e5"
      },
      "source": [
        "sorted(lista2)"
      ],
      "execution_count": null,
      "outputs": [
        {
          "output_type": "execute_result",
          "data": {
            "text/plain": [
              "[1, 2, 3, 4, 5, 6, 7, 8, 8]"
            ]
          },
          "metadata": {
            "tags": []
          },
          "execution_count": 40
        }
      ]
    },
    {
      "cell_type": "code",
      "metadata": {
        "id": "OG_-4AIwqx-A",
        "colab_type": "code",
        "colab": {}
      },
      "source": [
        "lista2.reverse()"
      ],
      "execution_count": null,
      "outputs": []
    },
    {
      "cell_type": "code",
      "metadata": {
        "id": "JdlbEOkWqx0j",
        "colab_type": "code",
        "colab": {
          "base_uri": "https://localhost:8080/",
          "height": 35
        },
        "outputId": "a4377544-7cb0-49c9-a7ad-2adb12aee06e"
      },
      "source": [
        "lista2"
      ],
      "execution_count": null,
      "outputs": [
        {
          "output_type": "execute_result",
          "data": {
            "text/plain": [
              "[8, 8, 7, 6, 5, 4, 3, 2, 1]"
            ]
          },
          "metadata": {
            "tags": []
          },
          "execution_count": 46
        }
      ]
    },
    {
      "cell_type": "code",
      "metadata": {
        "id": "mMjUXGWOqxkT",
        "colab_type": "code",
        "colab": {
          "base_uri": "https://localhost:8080/",
          "height": 35
        },
        "outputId": "0c2ea14f-320b-4a1c-ecc5-2be81840035c"
      },
      "source": [
        "lista2.count(8)"
      ],
      "execution_count": null,
      "outputs": [
        {
          "output_type": "execute_result",
          "data": {
            "text/plain": [
              "2"
            ]
          },
          "metadata": {
            "tags": []
          },
          "execution_count": 47
        }
      ]
    },
    {
      "cell_type": "code",
      "metadata": {
        "id": "j7XggHBTqxJc",
        "colab_type": "code",
        "colab": {}
      },
      "source": [
        "fibo = [0,1]"
      ],
      "execution_count": null,
      "outputs": []
    },
    {
      "cell_type": "code",
      "metadata": {
        "id": "Bszaob0Jqwtx",
        "colab_type": "code",
        "colab": {
          "base_uri": "https://localhost:8080/",
          "height": 35
        },
        "outputId": "db41d59d-56e6-4ce2-97a1-8a2839a623e1"
      },
      "source": [
        "fibo.append(fibo[-2] + fibo[-1])\n",
        "fibo"
      ],
      "execution_count": null,
      "outputs": [
        {
          "output_type": "execute_result",
          "data": {
            "text/plain": [
              "[0, 1, 1, 2]"
            ]
          },
          "metadata": {
            "tags": []
          },
          "execution_count": 50
        }
      ]
    },
    {
      "cell_type": "code",
      "metadata": {
        "id": "XLZfgeImqvy3",
        "colab_type": "code",
        "colab": {
          "base_uri": "https://localhost:8080/",
          "height": 35
        },
        "outputId": "6c27eb07-2b7c-41f0-e732-e061a59ed7b7"
      },
      "source": [
        "prox_elemento = fibo[-2] + fibo[-1] # penúltimo + último elemento\n",
        "fibo.append(prox_elemento)\n",
        "fibo"
      ],
      "execution_count": null,
      "outputs": [
        {
          "output_type": "execute_result",
          "data": {
            "text/plain": [
              "[0, 1, 1, 2, 3, 5]"
            ]
          },
          "metadata": {
            "tags": []
          },
          "execution_count": 52
        }
      ]
    },
    {
      "cell_type": "markdown",
      "metadata": {
        "id": "EAQdzBInw4--",
        "colab_type": "text"
      },
      "source": [
        "# Tuplas"
      ]
    },
    {
      "cell_type": "code",
      "metadata": {
        "id": "nY-t19aLw3O7",
        "colab_type": "code",
        "colab": {}
      },
      "source": [
        "notas_tuplas = (5,6,8,9)"
      ],
      "execution_count": null,
      "outputs": []
    },
    {
      "cell_type": "code",
      "metadata": {
        "id": "fKI_dI-BxNH0",
        "colab_type": "code",
        "colab": {
          "base_uri": "https://localhost:8080/",
          "height": 35
        },
        "outputId": "6c71952f-b3a5-41f7-9e0a-86ab5e6c64c0"
      },
      "source": [
        "notas_tuplas"
      ],
      "execution_count": null,
      "outputs": [
        {
          "output_type": "execute_result",
          "data": {
            "text/plain": [
              "(5, 6, 8, 9)"
            ]
          },
          "metadata": {
            "tags": []
          },
          "execution_count": 59
        }
      ]
    },
    {
      "cell_type": "code",
      "metadata": {
        "id": "JFBWqYp9xUII",
        "colab_type": "code",
        "colab": {}
      },
      "source": [
        "# Adicionar\n",
        "notas_tuplas += (7,)"
      ],
      "execution_count": null,
      "outputs": []
    },
    {
      "cell_type": "code",
      "metadata": {
        "id": "u5lSoOBfyNHO",
        "colab_type": "code",
        "colab": {
          "base_uri": "https://localhost:8080/",
          "height": 35
        },
        "outputId": "f363452b-38d3-4dc9-9183-bfd8b4e7cc9d"
      },
      "source": [
        "notas_tuplas"
      ],
      "execution_count": null,
      "outputs": [
        {
          "output_type": "execute_result",
          "data": {
            "text/plain": [
              "(5, 6, 8, 9, 7)"
            ]
          },
          "metadata": {
            "tags": []
          },
          "execution_count": 61
        }
      ]
    },
    {
      "cell_type": "code",
      "metadata": {
        "id": "VbSZcIsSyz1D",
        "colab_type": "code",
        "colab": {
          "base_uri": "https://localhost:8080/",
          "height": 35
        },
        "outputId": "37baed8c-8212-4cca-df16-93877c84e4fe"
      },
      "source": [
        "notas_tuplas[0]"
      ],
      "execution_count": null,
      "outputs": [
        {
          "output_type": "execute_result",
          "data": {
            "text/plain": [
              "5"
            ]
          },
          "metadata": {
            "tags": []
          },
          "execution_count": 62
        }
      ]
    },
    {
      "cell_type": "code",
      "metadata": {
        "id": "mhY3SC1gy7sf",
        "colab_type": "code",
        "colab": {
          "base_uri": "https://localhost:8080/",
          "height": 35
        },
        "outputId": "1ad485ab-7bdb-47af-b911-975664af430d"
      },
      "source": [
        "notas_tuplas[0:4]"
      ],
      "execution_count": null,
      "outputs": [
        {
          "output_type": "execute_result",
          "data": {
            "text/plain": [
              "(5, 6, 8, 9)"
            ]
          },
          "metadata": {
            "tags": []
          },
          "execution_count": 63
        }
      ]
    },
    {
      "cell_type": "markdown",
      "metadata": {
        "id": "fifJF2dSzC89",
        "colab_type": "text"
      },
      "source": [
        "Sets\n"
      ]
    },
    {
      "cell_type": "code",
      "metadata": {
        "id": "IJKjCWBlzGxD",
        "colab_type": "code",
        "colab": {}
      },
      "source": [
        "set_notas = {3,4,5,5,9,7,8} # sets não suportab números repetidos"
      ],
      "execution_count": null,
      "outputs": []
    },
    {
      "cell_type": "code",
      "metadata": {
        "id": "PohgipvJzVnV",
        "colab_type": "code",
        "colab": {
          "base_uri": "https://localhost:8080/",
          "height": 35
        },
        "outputId": "cd5d3783-d136-4bbb-c967-496a4e932daf"
      },
      "source": [
        "set_notas"
      ],
      "execution_count": null,
      "outputs": [
        {
          "output_type": "execute_result",
          "data": {
            "text/plain": [
              "{3, 4, 5, 7, 8, 9}"
            ]
          },
          "metadata": {
            "tags": []
          },
          "execution_count": 67
        }
      ]
    },
    {
      "cell_type": "code",
      "metadata": {
        "id": "c7iwoqn4ztEl",
        "colab_type": "code",
        "colab": {}
      },
      "source": [
        "set_notas[0] # sets não suport fatiamento"
      ],
      "execution_count": null,
      "outputs": []
    },
    {
      "cell_type": "code",
      "metadata": {
        "id": "fi0GDNarz2q3",
        "colab_type": "code",
        "colab": {}
      },
      "source": [
        "set_notas.add(10) # adiciona um novo item"
      ],
      "execution_count": null,
      "outputs": []
    },
    {
      "cell_type": "code",
      "metadata": {
        "id": "ri0fXTSV0eco",
        "colab_type": "code",
        "colab": {
          "base_uri": "https://localhost:8080/",
          "height": 35
        },
        "outputId": "4788cb74-1807-42ee-809f-270628b274b9"
      },
      "source": [
        "set_notas"
      ],
      "execution_count": null,
      "outputs": [
        {
          "output_type": "execute_result",
          "data": {
            "text/plain": [
              "{3, 4, 5, 7, 8, 9, 10}"
            ]
          },
          "metadata": {
            "tags": []
          },
          "execution_count": 69
        }
      ]
    },
    {
      "cell_type": "markdown",
      "metadata": {
        "id": "8to-_4Iu1JsU",
        "colab_type": "text"
      },
      "source": [
        "Operadores Lógicos"
      ]
    },
    {
      "cell_type": "code",
      "metadata": {
        "id": "BjKAc56_1zDR",
        "colab_type": "code",
        "colab": {}
      },
      "source": [
        "num1 = 7\n",
        "num2 = 3"
      ],
      "execution_count": null,
      "outputs": []
    },
    {
      "cell_type": "code",
      "metadata": {
        "id": "FzRBOC0L2BY9",
        "colab_type": "code",
        "colab": {
          "base_uri": "https://localhost:8080/",
          "height": 35
        },
        "outputId": "9a464954-7b1e-47a4-cf74-a03bcc00ebc2"
      },
      "source": [
        "num1 == num2"
      ],
      "execution_count": null,
      "outputs": [
        {
          "output_type": "execute_result",
          "data": {
            "text/plain": [
              "False"
            ]
          },
          "metadata": {
            "tags": []
          },
          "execution_count": 2
        }
      ]
    },
    {
      "cell_type": "code",
      "metadata": {
        "id": "A2Y44b3o2LxG",
        "colab_type": "code",
        "colab": {
          "base_uri": "https://localhost:8080/",
          "height": 35
        },
        "outputId": "0a2f6e18-d106-4aae-fda9-58a028009a92"
      },
      "source": [
        "num1 > num2"
      ],
      "execution_count": null,
      "outputs": [
        {
          "output_type": "execute_result",
          "data": {
            "text/plain": [
              "True"
            ]
          },
          "metadata": {
            "tags": []
          },
          "execution_count": 6
        }
      ]
    },
    {
      "cell_type": "code",
      "metadata": {
        "colab_type": "code",
        "id": "ahcU3bGQ3G0o",
        "colab": {
          "base_uri": "https://localhost:8080/",
          "height": 35
        },
        "outputId": "7139ff2f-1987-4fa6-c360-d1b3e59cdaa9"
      },
      "source": [
        "num1 >= num2"
      ],
      "execution_count": null,
      "outputs": [
        {
          "output_type": "execute_result",
          "data": {
            "text/plain": [
              "True"
            ]
          },
          "metadata": {
            "tags": []
          },
          "execution_count": 7
        }
      ]
    },
    {
      "cell_type": "code",
      "metadata": {
        "colab_type": "code",
        "id": "dmx4nPE520Ct",
        "colab": {
          "base_uri": "https://localhost:8080/",
          "height": 35
        },
        "outputId": "11af89e7-f7e1-45af-e562-fa39b679a0fd"
      },
      "source": [
        "num1 < num2"
      ],
      "execution_count": null,
      "outputs": [
        {
          "output_type": "execute_result",
          "data": {
            "text/plain": [
              "False"
            ]
          },
          "metadata": {
            "tags": []
          },
          "execution_count": 8
        }
      ]
    },
    {
      "cell_type": "code",
      "metadata": {
        "colab_type": "code",
        "id": "aUaO0Wup2wpj",
        "colab": {
          "base_uri": "https://localhost:8080/",
          "height": 35
        },
        "outputId": "2fd6f18a-f086-4287-999b-c28abdf3fc87"
      },
      "source": [
        "num1 <= num2"
      ],
      "execution_count": null,
      "outputs": [
        {
          "output_type": "execute_result",
          "data": {
            "text/plain": [
              "False"
            ]
          },
          "metadata": {
            "tags": []
          },
          "execution_count": 9
        }
      ]
    },
    {
      "cell_type": "code",
      "metadata": {
        "colab_type": "code",
        "id": "QPN_tCfF2vIb",
        "colab": {
          "base_uri": "https://localhost:8080/",
          "height": 35
        },
        "outputId": "6601c4ea-661f-4d91-83aa-6bf065c309de"
      },
      "source": [
        "num1 != num2"
      ],
      "execution_count": null,
      "outputs": [
        {
          "output_type": "execute_result",
          "data": {
            "text/plain": [
              "True"
            ]
          },
          "metadata": {
            "tags": []
          },
          "execution_count": 10
        }
      ]
    },
    {
      "cell_type": "markdown",
      "metadata": {
        "id": "BVrQ6nS848Su",
        "colab_type": "text"
      },
      "source": [
        "Operadores de Comparação"
      ]
    },
    {
      "cell_type": "code",
      "metadata": {
        "id": "qMGSy5lC5Dio",
        "colab_type": "code",
        "colab": {}
      },
      "source": [
        "x = 10\n",
        "y = 7\n",
        "z = 6"
      ],
      "execution_count": null,
      "outputs": []
    },
    {
      "cell_type": "code",
      "metadata": {
        "id": "afkBAzhD5WX4",
        "colab_type": "code",
        "colab": {
          "base_uri": "https://localhost:8080/",
          "height": 35
        },
        "outputId": "2fa46631-c1d6-4b76-e4c1-1c635864d205"
      },
      "source": [
        "x > y and y > z"
      ],
      "execution_count": null,
      "outputs": [
        {
          "output_type": "execute_result",
          "data": {
            "text/plain": [
              "True"
            ]
          },
          "metadata": {
            "tags": []
          },
          "execution_count": 13
        }
      ]
    },
    {
      "cell_type": "code",
      "metadata": {
        "id": "7WU6VJyC6FG6",
        "colab_type": "code",
        "colab": {
          "base_uri": "https://localhost:8080/",
          "height": 35
        },
        "outputId": "d0d05eb7-9196-4323-d2f8-0c5ebf72b4a0"
      },
      "source": [
        "x > y or z > y"
      ],
      "execution_count": null,
      "outputs": [
        {
          "output_type": "execute_result",
          "data": {
            "text/plain": [
              "True"
            ]
          },
          "metadata": {
            "tags": []
          },
          "execution_count": 14
        }
      ]
    },
    {
      "cell_type": "code",
      "metadata": {
        "id": "OC9yGCFE6LX_",
        "colab_type": "code",
        "colab": {
          "base_uri": "https://localhost:8080/",
          "height": 35
        },
        "outputId": "9ebd0bc9-7280-4126-c99d-89e1d68766f8"
      },
      "source": [
        "not x > y"
      ],
      "execution_count": null,
      "outputs": [
        {
          "output_type": "execute_result",
          "data": {
            "text/plain": [
              "False"
            ]
          },
          "metadata": {
            "tags": []
          },
          "execution_count": 15
        }
      ]
    },
    {
      "cell_type": "markdown",
      "metadata": {
        "id": "imGLuyLF7X4q",
        "colab_type": "text"
      },
      "source": [
        "Métodos e Funcões"
      ]
    },
    {
      "cell_type": "code",
      "metadata": {
        "id": "wCgJhBA37eKW",
        "colab_type": "code",
        "colab": {
          "base_uri": "https://localhost:8080/",
          "height": 35
        },
        "outputId": "f95d9233-c752-496d-932f-ed2f6fc562f4"
      },
      "source": [
        "min ([1,2,3,4])"
      ],
      "execution_count": null,
      "outputs": [
        {
          "output_type": "execute_result",
          "data": {
            "text/plain": [
              "1"
            ]
          },
          "metadata": {
            "tags": []
          },
          "execution_count": 16
        }
      ]
    },
    {
      "cell_type": "code",
      "metadata": {
        "id": "THMlBz9T86bZ",
        "colab_type": "code",
        "colab": {
          "base_uri": "https://localhost:8080/",
          "height": 35
        },
        "outputId": "f7a542a6-7cd7-4a22-804f-974b036e8150"
      },
      "source": [
        "max([1,2,3,4])"
      ],
      "execution_count": null,
      "outputs": [
        {
          "output_type": "execute_result",
          "data": {
            "text/plain": [
              "4"
            ]
          },
          "metadata": {
            "tags": []
          },
          "execution_count": 17
        }
      ]
    },
    {
      "cell_type": "code",
      "metadata": {
        "id": "bFVRW9wc9C2z",
        "colab_type": "code",
        "colab": {
          "base_uri": "https://localhost:8080/",
          "height": 35
        },
        "outputId": "37c32e35-37c5-4693-c940-de0fdd5c79fb"
      },
      "source": [
        "round(12.9999)"
      ],
      "execution_count": null,
      "outputs": [
        {
          "output_type": "execute_result",
          "data": {
            "text/plain": [
              "13"
            ]
          },
          "metadata": {
            "tags": []
          },
          "execution_count": 18
        }
      ]
    },
    {
      "cell_type": "code",
      "metadata": {
        "id": "eO70fwCr9JXo",
        "colab_type": "code",
        "colab": {}
      },
      "source": [
        "def saudacao():\n",
        "    print ('Bom dia!')"
      ],
      "execution_count": null,
      "outputs": []
    },
    {
      "cell_type": "code",
      "metadata": {
        "id": "B1JLtHR59yZK",
        "colab_type": "code",
        "colab": {
          "base_uri": "https://localhost:8080/",
          "height": 35
        },
        "outputId": "b80cd733-f22a-4275-c066-bd11d4d297f4"
      },
      "source": [
        "saudacao()"
      ],
      "execution_count": null,
      "outputs": [
        {
          "output_type": "stream",
          "text": [
            "Bom dia!\n"
          ],
          "name": "stdout"
        }
      ]
    },
    {
      "cell_type": "code",
      "metadata": {
        "id": "RFGMzFTc925i",
        "colab_type": "code",
        "colab": {}
      },
      "source": [
        "def mensagem(msg):\n",
        "    return msg"
      ],
      "execution_count": null,
      "outputs": []
    },
    {
      "cell_type": "code",
      "metadata": {
        "id": "k7jJaTLr-OVO",
        "colab_type": "code",
        "colab": {
          "base_uri": "https://localhost:8080/",
          "height": 36
        },
        "outputId": "1c50d82e-cd69-436a-c948-6a3e8dd16728"
      },
      "source": [
        "mensagem('Bom dia!')"
      ],
      "execution_count": null,
      "outputs": [
        {
          "output_type": "execute_result",
          "data": {
            "application/vnd.google.colaboratory.intrinsic+json": {
              "type": "string"
            },
            "text/plain": [
              "'Bom dia!'"
            ]
          },
          "metadata": {
            "tags": []
          },
          "execution_count": 24
        }
      ]
    },
    {
      "cell_type": "code",
      "metadata": {
        "id": "HeddWb3_-V90",
        "colab_type": "code",
        "colab": {}
      },
      "source": [
        "def calc (x,y):\n",
        "    return x + y"
      ],
      "execution_count": null,
      "outputs": []
    },
    {
      "cell_type": "code",
      "metadata": {
        "id": "Ud_lCvCI-dQR",
        "colab_type": "code",
        "colab": {
          "base_uri": "https://localhost:8080/",
          "height": 35
        },
        "outputId": "bfcb8abc-c9ad-42f4-9665-a3697feba627"
      },
      "source": [
        "calc(10,7)"
      ],
      "execution_count": null,
      "outputs": [
        {
          "output_type": "execute_result",
          "data": {
            "text/plain": [
              "17"
            ]
          },
          "metadata": {
            "tags": []
          },
          "execution_count": 26
        }
      ]
    },
    {
      "cell_type": "markdown",
      "metadata": {
        "id": "uE08Pxd2_bML",
        "colab_type": "text"
      },
      "source": [
        "if, else , elif"
      ]
    },
    {
      "cell_type": "code",
      "metadata": {
        "id": "Nrl5kUPe_g-h",
        "colab_type": "code",
        "colab": {
          "base_uri": "https://localhost:8080/",
          "height": 35
        },
        "outputId": "6b3e33d8-0c0b-4ccf-f320-aa04428cdae9"
      },
      "source": [
        "idade = 14\n",
        "\n",
        "if idade >= 18:\n",
        "    print('Maior de idade')\n",
        "else:\n",
        "    print ('Menor de idade')    "
      ],
      "execution_count": null,
      "outputs": [
        {
          "output_type": "stream",
          "text": [
            "Menor de idade\n"
          ],
          "name": "stdout"
        }
      ]
    },
    {
      "cell_type": "code",
      "metadata": {
        "id": "CLpaij1a_-mB",
        "colab_type": "code",
        "colab": {
          "base_uri": "https://localhost:8080/",
          "height": 35
        },
        "outputId": "35b93212-4e85-445e-8e73-0f2df93aa039"
      },
      "source": [
        "idade = 8\n",
        "\n",
        "if idade >= 18 and idade < 60:\n",
        "    print ('Maior de idade')\n",
        "elif idade > 12 and idade <18:\n",
        "    print ('Adolescente')    \n",
        "else:\n",
        "    print ('Criança')    "
      ],
      "execution_count": null,
      "outputs": [
        {
          "output_type": "stream",
          "text": [
            "Criança\n"
          ],
          "name": "stdout"
        }
      ]
    },
    {
      "cell_type": "markdown",
      "metadata": {
        "id": "nh5BpRRT6HJ9",
        "colab_type": "text"
      },
      "source": [
        "Loops - for e while"
      ]
    },
    {
      "cell_type": "code",
      "metadata": {
        "id": "JHF3DJyb6Zop",
        "colab_type": "code",
        "colab": {}
      },
      "source": [
        "lista = [1,2,3,4,5,6,7]"
      ],
      "execution_count": null,
      "outputs": []
    },
    {
      "cell_type": "code",
      "metadata": {
        "id": "orvVUYWd6faZ",
        "colab_type": "code",
        "colab": {}
      },
      "source": [
        "curso = 'Curso de Python'"
      ],
      "execution_count": null,
      "outputs": []
    },
    {
      "cell_type": "code",
      "metadata": {
        "id": "ntGg3sjn6nu7",
        "colab_type": "code",
        "colab": {
          "base_uri": "https://localhost:8080/",
          "height": 146
        },
        "outputId": "88e3bd23-fbfb-4110-d313-2a9b6499c644"
      },
      "source": [
        "for item in lista:\n",
        "    print (item)"
      ],
      "execution_count": null,
      "outputs": [
        {
          "output_type": "stream",
          "text": [
            "1\n",
            "2\n",
            "3\n",
            "4\n",
            "5\n",
            "6\n",
            "7\n"
          ],
          "name": "stdout"
        }
      ]
    },
    {
      "cell_type": "code",
      "metadata": {
        "id": "JXAOgnRQ6ufC",
        "colab_type": "code",
        "colab": {
          "base_uri": "https://localhost:8080/",
          "height": 293
        },
        "outputId": "ac8ff8d5-404e-44ac-cca5-d3ec2563639f"
      },
      "source": [
        "for letra in curso:\n",
        "    print (letra)"
      ],
      "execution_count": null,
      "outputs": [
        {
          "output_type": "stream",
          "text": [
            "C\n",
            "u\n",
            "r\n",
            "s\n",
            "o\n",
            " \n",
            "d\n",
            "e\n",
            " \n",
            "P\n",
            "y\n",
            "t\n",
            "h\n",
            "o\n",
            "n\n"
          ],
          "name": "stdout"
        }
      ]
    },
    {
      "cell_type": "code",
      "metadata": {
        "id": "rejRvG3o6168",
        "colab_type": "code",
        "colab": {
          "base_uri": "https://localhost:8080/",
          "height": 35
        },
        "outputId": "cd2c640d-5c91-4e40-890a-56a42b8419b1"
      },
      "source": [
        "range (0,10)"
      ],
      "execution_count": null,
      "outputs": [
        {
          "output_type": "execute_result",
          "data": {
            "text/plain": [
              "range(0, 10)"
            ]
          },
          "metadata": {
            "tags": []
          },
          "execution_count": 5
        }
      ]
    },
    {
      "cell_type": "code",
      "metadata": {
        "id": "d4ATCpX77xe5",
        "colab_type": "code",
        "colab": {
          "base_uri": "https://localhost:8080/",
          "height": 35
        },
        "outputId": "755cd107-0370-4d04-dad2-2b69d1d59bab"
      },
      "source": [
        "list (range(0,10))"
      ],
      "execution_count": null,
      "outputs": [
        {
          "output_type": "execute_result",
          "data": {
            "text/plain": [
              "[0, 1, 2, 3, 4, 5, 6, 7, 8, 9]"
            ]
          },
          "metadata": {
            "tags": []
          },
          "execution_count": 6
        }
      ]
    },
    {
      "cell_type": "code",
      "metadata": {
        "id": "nuEeVV0d72pb",
        "colab_type": "code",
        "colab": {
          "base_uri": "https://localhost:8080/",
          "height": 219
        },
        "outputId": "c07b099b-fc8d-416b-b414-9740da39531c"
      },
      "source": [
        "for x in range(11):\n",
        "    print (x)"
      ],
      "execution_count": null,
      "outputs": [
        {
          "output_type": "stream",
          "text": [
            "0\n",
            "1\n",
            "2\n",
            "3\n",
            "4\n",
            "5\n",
            "6\n",
            "7\n",
            "8\n",
            "9\n",
            "10\n"
          ],
          "name": "stdout"
        }
      ]
    },
    {
      "cell_type": "code",
      "metadata": {
        "id": "pO18NKt98mBu",
        "colab_type": "code",
        "colab": {
          "base_uri": "https://localhost:8080/",
          "height": 109
        },
        "outputId": "ff33c2f7-e658-4464-e7f9-181e62e8c877"
      },
      "source": [
        "for x in range(1,10,2):\n",
        "    print (x)"
      ],
      "execution_count": null,
      "outputs": [
        {
          "output_type": "stream",
          "text": [
            "1\n",
            "3\n",
            "5\n",
            "7\n",
            "9\n"
          ],
          "name": "stdout"
        }
      ]
    },
    {
      "cell_type": "code",
      "metadata": {
        "id": "3KOtTFzb8uqC",
        "colab_type": "code",
        "colab": {
          "base_uri": "https://localhost:8080/",
          "height": 109
        },
        "outputId": "af03d2be-95d6-4b01-8ade-cd8fb15cde60"
      },
      "source": [
        "num = 1\n",
        "while num <= 9:\n",
        "    print (num)\n",
        "    num +=2"
      ],
      "execution_count": null,
      "outputs": [
        {
          "output_type": "stream",
          "text": [
            "1\n",
            "3\n",
            "5\n",
            "7\n",
            "9\n"
          ],
          "name": "stdout"
        }
      ]
    },
    {
      "cell_type": "code",
      "metadata": {
        "id": "_f_hzlQj9aeA",
        "colab_type": "code",
        "colab": {}
      },
      "source": [
        "usuario = True"
      ],
      "execution_count": null,
      "outputs": []
    },
    {
      "cell_type": "code",
      "metadata": {
        "id": "5PXFcX6Y9jrm",
        "colab_type": "code",
        "colab": {
          "base_uri": "https://localhost:8080/",
          "height": 72
        },
        "outputId": "dece45ff-5f9a-467b-f4fb-c44f46b4e9c3"
      },
      "source": [
        "while usuario == True:\n",
        "    entrada = input ('Quer continuar? (s/n)')\n",
        "    if entrada == 'n':\n",
        "        usuario = False"
      ],
      "execution_count": null,
      "outputs": [
        {
          "output_type": "stream",
          "text": [
            "Quer continuar? (s/n)s\n",
            "Quer continuar? (s/n)s\n",
            "Quer continuar? (s/n)n\n"
          ],
          "name": "stdout"
        }
      ]
    },
    {
      "cell_type": "markdown",
      "metadata": {
        "id": "ansXxzAi-U-5",
        "colab_type": "text"
      },
      "source": [
        "break e continue\n"
      ]
    },
    {
      "cell_type": "code",
      "metadata": {
        "id": "jsbcoN5F-ZaI",
        "colab_type": "code",
        "colab": {
          "base_uri": "https://localhost:8080/",
          "height": 201
        },
        "outputId": "a5b2b2f0-c0ca-4552-db5c-bf7377de91cb"
      },
      "source": [
        "# par ou impar\n",
        "\n",
        "for num in range(10):\n",
        "    if num % 2 == 0:\n",
        "        print (f'{num} é par')\n",
        "    else:\n",
        "        print (f'{num} é impar')    \n"
      ],
      "execution_count": null,
      "outputs": [
        {
          "output_type": "stream",
          "text": [
            "0 é par\n",
            "1 é impar\n",
            "2 é par\n",
            "3 é impar\n",
            "4 é par\n",
            "5 é impar\n",
            "6 é par\n",
            "7 é impar\n",
            "8 é par\n",
            "9 é impar\n"
          ],
          "name": "stdout"
        }
      ]
    },
    {
      "cell_type": "code",
      "metadata": {
        "id": "7Jnjl2h-_QiV",
        "colab_type": "code",
        "colab": {
          "base_uri": "https://localhost:8080/",
          "height": 201
        },
        "outputId": "948c5a9d-0e0e-410d-b487-676563b44a47"
      },
      "source": [
        "for num in range(10):\n",
        "    if num % 2 == 0:\n",
        "        print (f'{num} é par')\n",
        "        continue # passa para p próximo\n",
        "    print (f'{num} é impar')   "
      ],
      "execution_count": null,
      "outputs": [
        {
          "output_type": "stream",
          "text": [
            "0 é par\n",
            "1 é impar\n",
            "2 é par\n",
            "3 é impar\n",
            "4 é par\n",
            "5 é impar\n",
            "6 é par\n",
            "7 é impar\n",
            "8 é par\n",
            "9 é impar\n"
          ],
          "name": "stdout"
        }
      ]
    },
    {
      "cell_type": "code",
      "metadata": {
        "id": "0CDVbtqxAaQc",
        "colab_type": "code",
        "colab": {
          "base_uri": "https://localhost:8080/",
          "height": 164
        },
        "outputId": "5d3fc2f0-b36a-4e70-c0a1-bd5709c4800a"
      },
      "source": [
        "# Números primos\n",
        "\n",
        "for numero in range(2,10):\n",
        "    for divisor in range(2,numero):\n",
        "        if numero % divisor == 0:\n",
        "            print (f'{numero} é divisivel por {divisor}')\n",
        "            break\n",
        "    else:\n",
        "        print (numero,'é primo')"
      ],
      "execution_count": null,
      "outputs": [
        {
          "output_type": "stream",
          "text": [
            "2 é primo\n",
            "3 é primo\n",
            "4 é divisivel por 2\n",
            "5 é primo\n",
            "6 é divisivel por 2\n",
            "7 é primo\n",
            "8 é divisivel por 2\n",
            "9 é divisivel por 3\n"
          ],
          "name": "stdout"
        }
      ]
    },
    {
      "cell_type": "markdown",
      "metadata": {
        "id": "2EhW_TQLC3YN",
        "colab_type": "text"
      },
      "source": [
        "Dicionários"
      ]
    },
    {
      "cell_type": "code",
      "metadata": {
        "id": "YQIqj8beC6Ru",
        "colab_type": "code",
        "colab": {}
      },
      "source": [
        "cores = {\n",
        "    'A': 'Verde',\n",
        "    'B': 'Laranja',\n",
        "    'C': 'Azul'\n",
        "}"
      ],
      "execution_count": null,
      "outputs": []
    },
    {
      "cell_type": "code",
      "metadata": {
        "id": "o0vcBVY3DHr2",
        "colab_type": "code",
        "colab": {
          "base_uri": "https://localhost:8080/",
          "height": 35
        },
        "outputId": "1744bf22-a474-4ac6-c61a-ce70edfc8214"
      },
      "source": [
        "cores"
      ],
      "execution_count": null,
      "outputs": [
        {
          "output_type": "execute_result",
          "data": {
            "text/plain": [
              "{'A': 'Verde', 'B': 'Laranja', 'C': 'Azul'}"
            ]
          },
          "metadata": {
            "tags": []
          },
          "execution_count": 23
        }
      ]
    },
    {
      "cell_type": "code",
      "metadata": {
        "id": "g-AmaqZ6DJ0o",
        "colab_type": "code",
        "colab": {
          "base_uri": "https://localhost:8080/",
          "height": 36
        },
        "outputId": "79c22097-a09e-4da3-dcc4-a879ddd1e6ea"
      },
      "source": [
        "cores['A']"
      ],
      "execution_count": null,
      "outputs": [
        {
          "output_type": "execute_result",
          "data": {
            "application/vnd.google.colaboratory.intrinsic+json": {
              "type": "string"
            },
            "text/plain": [
              "'Verde'"
            ]
          },
          "metadata": {
            "tags": []
          },
          "execution_count": 24
        }
      ]
    },
    {
      "cell_type": "code",
      "metadata": {
        "id": "_t-7snOJDNxw",
        "colab_type": "code",
        "colab": {}
      },
      "source": [
        "cores ['D'] = 'Amarelo'"
      ],
      "execution_count": null,
      "outputs": []
    },
    {
      "cell_type": "code",
      "metadata": {
        "id": "zXAdY5e0DSt6",
        "colab_type": "code",
        "colab": {
          "base_uri": "https://localhost:8080/",
          "height": 35
        },
        "outputId": "f3134bf8-266e-47cd-faa5-093559790ea1"
      },
      "source": [
        "cores"
      ],
      "execution_count": null,
      "outputs": [
        {
          "output_type": "execute_result",
          "data": {
            "text/plain": [
              "{'A': 'Verde', 'B': 'Laranja', 'C': 'Azul', 'D': 'Amarelo'}"
            ]
          },
          "metadata": {
            "tags": []
          },
          "execution_count": 26
        }
      ]
    },
    {
      "cell_type": "code",
      "metadata": {
        "id": "Z_hvUQlRDVKk",
        "colab_type": "code",
        "colab": {
          "base_uri": "https://localhost:8080/",
          "height": 35
        },
        "outputId": "546ec5d5-3536-4ded-db76-78c5a04528dc"
      },
      "source": [
        "cores.keys()"
      ],
      "execution_count": null,
      "outputs": [
        {
          "output_type": "execute_result",
          "data": {
            "text/plain": [
              "dict_keys(['A', 'B', 'C', 'D'])"
            ]
          },
          "metadata": {
            "tags": []
          },
          "execution_count": 27
        }
      ]
    },
    {
      "cell_type": "code",
      "metadata": {
        "id": "MYDQSRmsDZdN",
        "colab_type": "code",
        "colab": {
          "base_uri": "https://localhost:8080/",
          "height": 35
        },
        "outputId": "0c706560-9127-47f9-9ce3-6215926c4114"
      },
      "source": [
        "cores.values()"
      ],
      "execution_count": null,
      "outputs": [
        {
          "output_type": "execute_result",
          "data": {
            "text/plain": [
              "dict_values(['Verde', 'Laranja', 'Azul', 'Amarelo'])"
            ]
          },
          "metadata": {
            "tags": []
          },
          "execution_count": 28
        }
      ]
    },
    {
      "cell_type": "code",
      "metadata": {
        "id": "TZaAHoIGDc2t",
        "colab_type": "code",
        "colab": {
          "base_uri": "https://localhost:8080/",
          "height": 35
        },
        "outputId": "89c5d74f-bf18-4a52-d8f6-71112d5f141c"
      },
      "source": [
        "cores.items()"
      ],
      "execution_count": null,
      "outputs": [
        {
          "output_type": "execute_result",
          "data": {
            "text/plain": [
              "dict_items([('A', 'Verde'), ('B', 'Laranja'), ('C', 'Azul'), ('D', 'Amarelo')])"
            ]
          },
          "metadata": {
            "tags": []
          },
          "execution_count": 29
        }
      ]
    },
    {
      "cell_type": "markdown",
      "metadata": {
        "id": "6iEKn_nSEOuq",
        "colab_type": "text"
      },
      "source": [
        "Compreensão de Listas"
      ]
    },
    {
      "cell_type": "code",
      "metadata": {
        "id": "BgT3aXpsEYRB",
        "colab_type": "code",
        "colab": {}
      },
      "source": [
        "lista = [0,1,2,3,4]"
      ],
      "execution_count": null,
      "outputs": []
    },
    {
      "cell_type": "code",
      "metadata": {
        "id": "JSYQ7tV3Eu_Y",
        "colab_type": "code",
        "colab": {
          "base_uri": "https://localhost:8080/",
          "height": 35
        },
        "outputId": "71481480-5b40-4dd1-a9e4-2a242d56fef2"
      },
      "source": [
        "[x for x in range(5)]"
      ],
      "execution_count": null,
      "outputs": [
        {
          "output_type": "execute_result",
          "data": {
            "text/plain": [
              "[0, 1, 2, 3, 4]"
            ]
          },
          "metadata": {
            "tags": []
          },
          "execution_count": 38
        }
      ]
    },
    {
      "cell_type": "code",
      "metadata": {
        "id": "I147hebXE2aC",
        "colab_type": "code",
        "colab": {
          "base_uri": "https://localhost:8080/",
          "height": 35
        },
        "outputId": "efe2a527-37e9-41fb-f0b7-483024a8d911"
      },
      "source": [
        "[x*2 for x in range(5)]"
      ],
      "execution_count": null,
      "outputs": [
        {
          "output_type": "execute_result",
          "data": {
            "text/plain": [
              "[0, 2, 4, 6, 8]"
            ]
          },
          "metadata": {
            "tags": []
          },
          "execution_count": 39
        }
      ]
    },
    {
      "cell_type": "code",
      "metadata": {
        "id": "6mx5iPpmE8xd",
        "colab_type": "code",
        "colab": {
          "base_uri": "https://localhost:8080/",
          "height": 35
        },
        "outputId": "2c2d3f38-8204-47a6-eddf-c3775c000d31"
      },
      "source": [
        "[x for x in range(10) if x % 2 == 0]"
      ],
      "execution_count": null,
      "outputs": [
        {
          "output_type": "execute_result",
          "data": {
            "text/plain": [
              "[0, 2, 4, 6, 8]"
            ]
          },
          "metadata": {
            "tags": []
          },
          "execution_count": 1
        }
      ]
    },
    {
      "cell_type": "code",
      "metadata": {
        "id": "lGy1HMqz-4id",
        "colab_type": "code",
        "colab": {}
      },
      "source": [
        "pessoas = [' Ana', 'Manuela', ' felipe', 'PEDRO']"
      ],
      "execution_count": null,
      "outputs": []
    },
    {
      "cell_type": "code",
      "metadata": {
        "id": "1w1Q-hz4_HDy",
        "colab_type": "code",
        "colab": {
          "base_uri": "https://localhost:8080/",
          "height": 35
        },
        "outputId": "a21f6267-4302-44c7-acce-0d48730bd515"
      },
      "source": [
        "normal = [pessoa.strip().capitalize() for pessoa in pessoas]\n",
        "normal\n",
        "\n"
      ],
      "execution_count": null,
      "outputs": [
        {
          "output_type": "execute_result",
          "data": {
            "text/plain": [
              "['Ana', 'Manuela', 'Felipe', 'Pedro']"
            ]
          },
          "metadata": {
            "tags": []
          },
          "execution_count": 9
        }
      ]
    },
    {
      "cell_type": "code",
      "metadata": {
        "id": "Z35RnEQPBTgq",
        "colab_type": "code",
        "colab": {}
      },
      "source": [
        "cores = ['Azul','Verde', 'Amarelo', 'Vermelho'] # cores em comum\n",
        "cores2 = ['Verde','Roxo','Petro','Amarelo']"
      ],
      "execution_count": null,
      "outputs": []
    },
    {
      "cell_type": "code",
      "metadata": {
        "id": "XpYEz-oJB4os",
        "colab_type": "code",
        "colab": {}
      },
      "source": [
        "cores_em_comum = [cor for cor2 in cores for cor in cores2 if cor == cor2]"
      ],
      "execution_count": null,
      "outputs": []
    },
    {
      "cell_type": "code",
      "metadata": {
        "id": "gYjIYKgFClE_",
        "colab_type": "code",
        "colab": {
          "base_uri": "https://localhost:8080/",
          "height": 35
        },
        "outputId": "f6b34d9b-7cd6-43cd-9d85-ec3bc76aec37"
      },
      "source": [
        "cores_em_comum"
      ],
      "execution_count": null,
      "outputs": [
        {
          "output_type": "execute_result",
          "data": {
            "text/plain": [
              "['Verde', 'Amarelo']"
            ]
          },
          "metadata": {
            "tags": []
          },
          "execution_count": 16
        }
      ]
    },
    {
      "cell_type": "code",
      "metadata": {
        "id": "5fzOAvdIDlX7",
        "colab_type": "code",
        "colab": {
          "base_uri": "https://localhost:8080/",
          "height": 54
        },
        "outputId": "058068fd-5715-4165-aed3-5057091a805c"
      },
      "source": [
        "for cor in cores:\n",
        "    for cor2 in cores2:\n",
        "        if cor == cor2:\n",
        "            print (cor,cor2)"
      ],
      "execution_count": null,
      "outputs": [
        {
          "output_type": "stream",
          "text": [
            "Verde Verde\n",
            "Amarelo Amarelo\n"
          ],
          "name": "stdout"
        }
      ]
    },
    {
      "cell_type": "markdown",
      "metadata": {
        "id": "78tiitAiER-O",
        "colab_type": "text"
      },
      "source": [
        "Lambdas"
      ]
    },
    {
      "cell_type": "code",
      "metadata": {
        "id": "IGTaMf-YEWEx",
        "colab_type": "code",
        "colab": {}
      },
      "source": [
        "ola = lambda : print ('Olá')"
      ],
      "execution_count": null,
      "outputs": []
    },
    {
      "cell_type": "code",
      "metadata": {
        "id": "wMk_R8luEkSi",
        "colab_type": "code",
        "colab": {
          "base_uri": "https://localhost:8080/",
          "height": 35
        },
        "outputId": "1110e5ea-25b7-4c3b-9bb8-045d05ee7a65"
      },
      "source": [
        "ola()"
      ],
      "execution_count": null,
      "outputs": [
        {
          "output_type": "stream",
          "text": [
            "Olá\n"
          ],
          "name": "stdout"
        }
      ]
    },
    {
      "cell_type": "code",
      "metadata": {
        "id": "8329DFX_E03J",
        "colab_type": "code",
        "colab": {}
      },
      "source": [
        "def eleva_ao_quadrado(x):\n",
        "    return x**2"
      ],
      "execution_count": null,
      "outputs": []
    },
    {
      "cell_type": "code",
      "metadata": {
        "id": "zBmSO5QoFCag",
        "colab_type": "code",
        "colab": {
          "base_uri": "https://localhost:8080/",
          "height": 35
        },
        "outputId": "fb3747b3-3d73-42dd-a941-9ca612678408"
      },
      "source": [
        "eleva_ao_quadrado(5)"
      ],
      "execution_count": null,
      "outputs": [
        {
          "output_type": "execute_result",
          "data": {
            "text/plain": [
              "25"
            ]
          },
          "metadata": {
            "tags": []
          },
          "execution_count": 25
        }
      ]
    },
    {
      "cell_type": "code",
      "metadata": {
        "id": "DGK_L5CRFIrz",
        "colab_type": "code",
        "colab": {}
      },
      "source": [
        "aoquadrado = lambda x: x**2\n"
      ],
      "execution_count": null,
      "outputs": []
    },
    {
      "cell_type": "code",
      "metadata": {
        "id": "_PnVE1eQFQ-q",
        "colab_type": "code",
        "colab": {
          "base_uri": "https://localhost:8080/",
          "height": 35
        },
        "outputId": "e512b5f5-ddea-4676-f0f9-116306a18ed0"
      },
      "source": [
        "aoquadrado(5)"
      ],
      "execution_count": null,
      "outputs": [
        {
          "output_type": "execute_result",
          "data": {
            "text/plain": [
              "25"
            ]
          },
          "metadata": {
            "tags": []
          },
          "execution_count": 31
        }
      ]
    },
    {
      "cell_type": "code",
      "metadata": {
        "id": "8NsLInMUF2e_",
        "colab_type": "code",
        "colab": {}
      },
      "source": [
        "def soma (a,b):\n",
        "    return a + b"
      ],
      "execution_count": null,
      "outputs": []
    },
    {
      "cell_type": "code",
      "metadata": {
        "id": "3ToBvEwGF-qp",
        "colab_type": "code",
        "colab": {
          "base_uri": "https://localhost:8080/",
          "height": 35
        },
        "outputId": "cc13fb45-3525-4cbe-f058-da5ba5fe3986"
      },
      "source": [
        "soma (2,4)"
      ],
      "execution_count": null,
      "outputs": [
        {
          "output_type": "execute_result",
          "data": {
            "text/plain": [
              "6"
            ]
          },
          "metadata": {
            "tags": []
          },
          "execution_count": 33
        }
      ]
    },
    {
      "cell_type": "code",
      "metadata": {
        "id": "NAeZLzYfGE5N",
        "colab_type": "code",
        "colab": {}
      },
      "source": [
        "somar = lambda a,b: a + b"
      ],
      "execution_count": null,
      "outputs": []
    },
    {
      "cell_type": "code",
      "metadata": {
        "id": "ANOC8m4vGPWm",
        "colab_type": "code",
        "colab": {
          "base_uri": "https://localhost:8080/",
          "height": 35
        },
        "outputId": "69952a9b-f19e-4f80-a0f9-956c458a3761"
      },
      "source": [
        "somar (2,4)"
      ],
      "execution_count": null,
      "outputs": [
        {
          "output_type": "execute_result",
          "data": {
            "text/plain": [
              "6"
            ]
          },
          "metadata": {
            "tags": []
          },
          "execution_count": 37
        }
      ]
    },
    {
      "cell_type": "code",
      "metadata": {
        "id": "uuFJLgJ_Gye_",
        "colab_type": "code",
        "colab": {}
      },
      "source": [
        "def par (n):\n",
        "    if n % 2 == 0:\n",
        "        print (n,'é par')\n",
        "    else:\n",
        "        print (n,'é impar')    "
      ],
      "execution_count": null,
      "outputs": []
    },
    {
      "cell_type": "code",
      "metadata": {
        "id": "M20IP76AGzN0",
        "colab_type": "code",
        "colab": {
          "base_uri": "https://localhost:8080/",
          "height": 35
        },
        "outputId": "72046d21-734c-4475-aaaa-6f67c1c94e20"
      },
      "source": [
        "par (7)"
      ],
      "execution_count": null,
      "outputs": [
        {
          "output_type": "stream",
          "text": [
            "7 é impar\n"
          ],
          "name": "stdout"
        }
      ]
    },
    {
      "cell_type": "code",
      "metadata": {
        "id": "cap69aSTGgFM",
        "colab_type": "code",
        "colab": {}
      },
      "source": [
        "par_ou_impar = lambda n : print (n,'é par ') if n % 2 == 0 else print (n,'é impar')"
      ],
      "execution_count": null,
      "outputs": []
    },
    {
      "cell_type": "code",
      "metadata": {
        "id": "JjtMRvnDHsIC",
        "colab_type": "code",
        "colab": {
          "base_uri": "https://localhost:8080/",
          "height": 35
        },
        "outputId": "88afbf8e-7922-48d6-e523-b6e3a932b239"
      },
      "source": [
        "par_ou_impar(7)"
      ],
      "execution_count": null,
      "outputs": [
        {
          "output_type": "stream",
          "text": [
            "7 é impar\n"
          ],
          "name": "stdout"
        }
      ]
    },
    {
      "cell_type": "code",
      "metadata": {
        "id": "EzVax7B3H1j2",
        "colab_type": "code",
        "colab": {}
      },
      "source": [
        "# *args "
      ],
      "execution_count": null,
      "outputs": []
    },
    {
      "cell_type": "code",
      "metadata": {
        "id": "-vzN0VwZIehM",
        "colab_type": "code",
        "colab": {
          "base_uri": "https://localhost:8080/",
          "height": 35
        },
        "outputId": "be0c12e6-d4b8-422f-d4e8-51359b1efdc7"
      },
      "source": [
        "def soma(x,y):\n",
        "    return x + y\n",
        "\n",
        "soma(2,5)"
      ],
      "execution_count": null,
      "outputs": [
        {
          "output_type": "execute_result",
          "data": {
            "text/plain": [
              "7"
            ]
          },
          "metadata": {
            "tags": []
          },
          "execution_count": 42
        }
      ]
    },
    {
      "cell_type": "code",
      "metadata": {
        "id": "V1u2LsswI_du",
        "colab_type": "code",
        "colab": {}
      },
      "source": [
        "def soma(*args):\n",
        "    return sum(args)"
      ],
      "execution_count": null,
      "outputs": []
    },
    {
      "cell_type": "code",
      "metadata": {
        "id": "qqHTQpd6Jdyk",
        "colab_type": "code",
        "colab": {
          "base_uri": "https://localhost:8080/",
          "height": 35
        },
        "outputId": "8d612934-bfd8-4a03-aa34-f1697d929f6d"
      },
      "source": [
        "soma (2,3,4,5,6,7)"
      ],
      "execution_count": null,
      "outputs": [
        {
          "output_type": "execute_result",
          "data": {
            "text/plain": [
              "27"
            ]
          },
          "metadata": {
            "tags": []
          },
          "execution_count": 44
        }
      ]
    },
    {
      "cell_type": "code",
      "metadata": {
        "id": "BcUv2TwWJkP7",
        "colab_type": "code",
        "colab": {}
      },
      "source": [
        "# desempacotando args de listas"
      ],
      "execution_count": null,
      "outputs": []
    },
    {
      "cell_type": "code",
      "metadata": {
        "id": "pN5oRgAyJ4Wx",
        "colab_type": "code",
        "colab": {
          "base_uri": "https://localhost:8080/",
          "height": 35
        },
        "outputId": "100e5ec5-f422-4e02-cc21-4da523728a9b"
      },
      "source": [
        "list(range(1,10,2))"
      ],
      "execution_count": null,
      "outputs": [
        {
          "output_type": "execute_result",
          "data": {
            "text/plain": [
              "[1, 3, 5, 7, 9]"
            ]
          },
          "metadata": {
            "tags": []
          },
          "execution_count": 45
        }
      ]
    },
    {
      "cell_type": "code",
      "metadata": {
        "id": "aNtRsKm3J-Kp",
        "colab_type": "code",
        "colab": {}
      },
      "source": [
        "lista_impar = [1,10,2]"
      ],
      "execution_count": null,
      "outputs": []
    },
    {
      "cell_type": "code",
      "metadata": {
        "id": "7IB6Lm0UKPRD",
        "colab_type": "code",
        "colab": {
          "base_uri": "https://localhost:8080/",
          "height": 35
        },
        "outputId": "a6a494fa-41a6-4827-9bb3-96051af4a5de"
      },
      "source": [
        "list (range(*lista_impar))"
      ],
      "execution_count": null,
      "outputs": [
        {
          "output_type": "execute_result",
          "data": {
            "text/plain": [
              "[1, 3, 5, 7, 9]"
            ]
          },
          "metadata": {
            "tags": []
          },
          "execution_count": 49
        }
      ]
    },
    {
      "cell_type": "code",
      "metadata": {
        "id": "FbSyDiTpKsli",
        "colab_type": "code",
        "colab": {}
      },
      "source": [
        "# **kwargs"
      ],
      "execution_count": null,
      "outputs": []
    },
    {
      "cell_type": "code",
      "metadata": {
        "id": "_tqfzLYSKyJ3",
        "colab_type": "code",
        "colab": {}
      },
      "source": [
        "# *args -> argumentos\n",
        "# **kwargs -> kword arguments (argumentos de palavra- chave)"
      ],
      "execution_count": null,
      "outputs": []
    },
    {
      "cell_type": "code",
      "metadata": {
        "id": "M1gyd4nMLSS4",
        "colab_type": "code",
        "colab": {}
      },
      "source": [
        "def args_kwargs(*args, **kwargs):\n",
        "    print (args)\n",
        "    print (kwargs)"
      ],
      "execution_count": null,
      "outputs": []
    },
    {
      "cell_type": "code",
      "metadata": {
        "id": "ZulzVsgVLqeY",
        "colab_type": "code",
        "colab": {
          "base_uri": "https://localhost:8080/",
          "height": 54
        },
        "outputId": "5eda1702-a9d8-4dff-b4f8-6cef98b38443"
      },
      "source": [
        "args_kwargs(4,5,8, nome='Cosmo',idade=36)"
      ],
      "execution_count": null,
      "outputs": [
        {
          "output_type": "stream",
          "text": [
            "(4, 5, 8)\n",
            "{'nome': 'Cosmo', 'idade': 36}\n"
          ],
          "name": "stdout"
        }
      ]
    },
    {
      "cell_type": "code",
      "metadata": {
        "id": "AIW5QxDsMH0R",
        "colab_type": "code",
        "colab": {}
      },
      "source": [
        "def formata_hora (horas,minutos='00',segundos='00'):\n",
        "    print (f'{horas}:{minutos}:{segundos}')"
      ],
      "execution_count": null,
      "outputs": []
    },
    {
      "cell_type": "code",
      "metadata": {
        "id": "jIBS5RyqNIeh",
        "colab_type": "code",
        "colab": {}
      },
      "source": [
        "tempo = {\n",
        "    'horas':'15',\n",
        "    'minutos':'19',\n",
        "    'segundos': '54'\n",
        "}"
      ],
      "execution_count": null,
      "outputs": []
    },
    {
      "cell_type": "code",
      "metadata": {
        "id": "hqcUrln8NXwD",
        "colab_type": "code",
        "colab": {
          "base_uri": "https://localhost:8080/",
          "height": 35
        },
        "outputId": "f8132e8b-7a3b-44fe-d745-4dce3299ce37"
      },
      "source": [
        "tempo"
      ],
      "execution_count": null,
      "outputs": [
        {
          "output_type": "execute_result",
          "data": {
            "text/plain": [
              "{'horas': '15', 'minutos': '19', 'segundos': '54'}"
            ]
          },
          "metadata": {
            "tags": []
          },
          "execution_count": 61
        }
      ]
    },
    {
      "cell_type": "code",
      "metadata": {
        "id": "DKgDdULWN29D",
        "colab_type": "code",
        "colab": {
          "base_uri": "https://localhost:8080/",
          "height": 35
        },
        "outputId": "c770784b-c0e8-4da1-a464-1d0a56554bb0"
      },
      "source": [
        "formata_hora(**tempo)"
      ],
      "execution_count": null,
      "outputs": [
        {
          "output_type": "stream",
          "text": [
            "15:19:54\n"
          ],
          "name": "stdout"
        }
      ]
    },
    {
      "cell_type": "code",
      "metadata": {
        "id": "1JiEHd58OMSy",
        "colab_type": "code",
        "colab": {
          "base_uri": "https://localhost:8080/",
          "height": 35
        },
        "outputId": "5c3d4276-8841-4894-ac57-51d21bae8324"
      },
      "source": [
        "formata_hora('12')"
      ],
      "execution_count": null,
      "outputs": [
        {
          "output_type": "stream",
          "text": [
            "12:00:00\n"
          ],
          "name": "stdout"
        }
      ]
    },
    {
      "cell_type": "code",
      "metadata": {
        "id": "85KnHTApObZ9",
        "colab_type": "code",
        "colab": {
          "base_uri": "https://localhost:8080/",
          "height": 35
        },
        "outputId": "606d681f-f801-4bcf-fd95-f7ab3b64908b"
      },
      "source": [
        "formata_hora(**{'horas': '10'})"
      ],
      "execution_count": null,
      "outputs": [
        {
          "output_type": "stream",
          "text": [
            "10:00:00\n"
          ],
          "name": "stdout"
        }
      ]
    },
    {
      "cell_type": "code",
      "metadata": {
        "id": "BQ_-_iqQO3w4",
        "colab_type": "code",
        "colab": {
          "base_uri": "https://localhost:8080/",
          "height": 35
        },
        "outputId": "b7ceb1e3-b74c-49d3-fe42-c3fabd45feea"
      },
      "source": [
        "formata_hora('12',**{'minutos':'34'})"
      ],
      "execution_count": null,
      "outputs": [
        {
          "output_type": "stream",
          "text": [
            "12:34:00\n"
          ],
          "name": "stdout"
        }
      ]
    },
    {
      "cell_type": "markdown",
      "metadata": {
        "id": "CMr7Tmy1R-Yw",
        "colab_type": "text"
      },
      "source": [
        "Função zip ( )"
      ]
    },
    {
      "cell_type": "code",
      "metadata": {
        "id": "7ZEJ0rbzSGPH",
        "colab_type": "code",
        "colab": {
          "base_uri": "https://localhost:8080/",
          "height": 35
        },
        "outputId": "2915d4d0-a77d-4699-c83e-6666f8226d0f"
      },
      "source": [
        "l1 = 'banana batata couve frango'.split()\n",
        "l1"
      ],
      "execution_count": null,
      "outputs": [
        {
          "output_type": "execute_result",
          "data": {
            "text/plain": [
              "['banana', 'batata', 'couve', 'frango']"
            ]
          },
          "metadata": {
            "tags": []
          },
          "execution_count": 1
        }
      ]
    },
    {
      "cell_type": "code",
      "metadata": {
        "id": "i_raQd5OSVZl",
        "colab_type": "code",
        "colab": {
          "base_uri": "https://localhost:8080/",
          "height": 35
        },
        "outputId": "a62daab6-674f-40dc-f8bc-adecc55facb5"
      },
      "source": [
        "l2 = 'fruta legume verdura carne'.split()\n",
        "l2"
      ],
      "execution_count": null,
      "outputs": [
        {
          "output_type": "execute_result",
          "data": {
            "text/plain": [
              "['fruta', 'legume', 'verdura', 'carne']"
            ]
          },
          "metadata": {
            "tags": []
          },
          "execution_count": 2
        }
      ]
    },
    {
      "cell_type": "code",
      "metadata": {
        "id": "8g9MJab1Shh5",
        "colab_type": "code",
        "colab": {}
      },
      "source": [
        "lista_zipada = zip(l1,l2)"
      ],
      "execution_count": null,
      "outputs": []
    },
    {
      "cell_type": "code",
      "metadata": {
        "id": "G_eAr8aRSq39",
        "colab_type": "code",
        "colab": {
          "base_uri": "https://localhost:8080/",
          "height": 90
        },
        "outputId": "314cb4c4-71bf-4d7b-c36a-45e1aa0cec93"
      },
      "source": [
        "list(lista_zipada)"
      ],
      "execution_count": null,
      "outputs": [
        {
          "output_type": "execute_result",
          "data": {
            "text/plain": [
              "[('banana', 'fruta'),\n",
              " ('batata', 'legume'),\n",
              " ('couve', 'verdura'),\n",
              " ('frango', 'carne')]"
            ]
          },
          "metadata": {
            "tags": []
          },
          "execution_count": 4
        }
      ]
    },
    {
      "cell_type": "code",
      "metadata": {
        "id": "Wv00UrzYSypo",
        "colab_type": "code",
        "colab": {}
      },
      "source": [
        "index = range(4)\n",
        "campos = 'nome idade sexo cidade'.split()\n",
        "dados = 'Cosmo 36 M BSB'.split()"
      ],
      "execution_count": null,
      "outputs": []
    },
    {
      "cell_type": "code",
      "metadata": {
        "id": "mBCMTjykTNhX",
        "colab_type": "code",
        "colab": {
          "base_uri": "https://localhost:8080/",
          "height": 90
        },
        "outputId": "1ca43f64-a4d1-43da-c249-800ff30775e2"
      },
      "source": [
        "list(zip(index,campos,dados))"
      ],
      "execution_count": null,
      "outputs": [
        {
          "output_type": "execute_result",
          "data": {
            "text/plain": [
              "[(0, 'nome', 'Cosmo'),\n",
              " (1, 'idade', '36'),\n",
              " (2, 'sexo', 'M'),\n",
              " (3, 'cidade', 'BSB')]"
            ]
          },
          "metadata": {
            "tags": []
          },
          "execution_count": 7
        }
      ]
    },
    {
      "cell_type": "code",
      "metadata": {
        "id": "IkbKN8KqTqUI",
        "colab_type": "code",
        "colab": {
          "base_uri": "https://localhost:8080/",
          "height": 90
        },
        "outputId": "3a9a22d9-13b5-42a0-ffbb-08340537219e"
      },
      "source": [
        "for idx,campo,dado in zip(index,campos,dados):\n",
        "    print (f'{idx}|{campo} :{dado}')"
      ],
      "execution_count": null,
      "outputs": [
        {
          "output_type": "stream",
          "text": [
            "0|nome :Cosmo\n",
            "1|idade :36\n",
            "2|sexo :M\n",
            "3|cidade :BSB\n"
          ],
          "name": "stdout"
        }
      ]
    },
    {
      "cell_type": "markdown",
      "metadata": {
        "id": "beoXechDUQLh",
        "colab_type": "text"
      },
      "source": [
        "enumerate( )"
      ]
    },
    {
      "cell_type": "code",
      "metadata": {
        "id": "5fOWOwNlUUUR",
        "colab_type": "code",
        "colab": {
          "base_uri": "https://localhost:8080/",
          "height": 35
        },
        "outputId": "e1f7bf4a-8e86-451b-f738-7764b84cf948"
      },
      "source": [
        "alfabeto = list('abcdefg')\n",
        "alfabeto"
      ],
      "execution_count": null,
      "outputs": [
        {
          "output_type": "execute_result",
          "data": {
            "text/plain": [
              "['a', 'b', 'c', 'd', 'e', 'f', 'g']"
            ]
          },
          "metadata": {
            "tags": []
          },
          "execution_count": 11
        }
      ]
    },
    {
      "cell_type": "code",
      "metadata": {
        "id": "C2g1wJqyUoGg",
        "colab_type": "code",
        "colab": {
          "base_uri": "https://localhost:8080/",
          "height": 146
        },
        "outputId": "bacd29ce-6584-41c0-b5ea-d85803b23682"
      },
      "source": [
        "idx = 0\n",
        "for letra in alfabeto:\n",
        "    print (f'{idx} --> {letra}')\n",
        "    idx+=1"
      ],
      "execution_count": null,
      "outputs": [
        {
          "output_type": "stream",
          "text": [
            "0 --> a\n",
            "1 --> b\n",
            "2 --> c\n",
            "3 --> d\n",
            "4 --> e\n",
            "5 --> f\n",
            "6 --> g\n"
          ],
          "name": "stdout"
        }
      ]
    },
    {
      "cell_type": "code",
      "metadata": {
        "id": "_WHaUPq6VF9m",
        "colab_type": "code",
        "colab": {
          "base_uri": "https://localhost:8080/",
          "height": 146
        },
        "outputId": "5020becd-f8ec-47eb-c574-d788a84fc04c"
      },
      "source": [
        "for idx, letra in enumerate(alfabeto,0):\n",
        "    print (f'{idx}--> {letra}')"
      ],
      "execution_count": null,
      "outputs": [
        {
          "output_type": "stream",
          "text": [
            "0--> a\n",
            "1--> b\n",
            "2--> c\n",
            "3--> d\n",
            "4--> e\n",
            "5--> f\n",
            "6--> g\n"
          ],
          "name": "stdout"
        }
      ]
    },
    {
      "cell_type": "code",
      "metadata": {
        "id": "JUUN7SQ6VssG",
        "colab_type": "code",
        "colab": {}
      },
      "source": [
        "def encontra_idx(lista,elemento):\n",
        "    for idx,el in enumerate(lista):\n",
        "        if el == elemento:\n",
        "            return idx\n",
        "    return print (f' O elemento \"{elemento}\" não está na lista')         "
      ],
      "execution_count": null,
      "outputs": []
    },
    {
      "cell_type": "code",
      "metadata": {
        "id": "xo06N_4TWvHQ",
        "colab_type": "code",
        "colab": {
          "base_uri": "https://localhost:8080/",
          "height": 35
        },
        "outputId": "b2652725-a82f-4dd6-af4c-d05cbd9a0ff7"
      },
      "source": [
        "encontra_idx(alfabeto,'g')"
      ],
      "execution_count": null,
      "outputs": [
        {
          "output_type": "execute_result",
          "data": {
            "text/plain": [
              "6"
            ]
          },
          "metadata": {
            "tags": []
          },
          "execution_count": 18
        }
      ]
    },
    {
      "cell_type": "code",
      "metadata": {
        "id": "Dpzt8YP9W600",
        "colab_type": "code",
        "colab": {
          "base_uri": "https://localhost:8080/",
          "height": 35
        },
        "outputId": "31b9c7c1-f966-463b-80d3-83a115e64c06"
      },
      "source": [
        "encontra_idx(alfabeto,'k')"
      ],
      "execution_count": null,
      "outputs": [
        {
          "output_type": "stream",
          "text": [
            " O elemento \"k\" não está na lista\n"
          ],
          "name": "stdout"
        }
      ]
    },
    {
      "cell_type": "markdown",
      "metadata": {
        "id": "MAx_u5JUXdGU",
        "colab_type": "text"
      },
      "source": [
        "map( )"
      ]
    },
    {
      "cell_type": "code",
      "metadata": {
        "id": "PXKr9tP_XjRc",
        "colab_type": "code",
        "colab": {
          "base_uri": "https://localhost:8080/",
          "height": 35
        },
        "outputId": "20ea2c65-de67-4c61-fb43-c6e315f79525"
      },
      "source": [
        "numeros = list(range(1,11))\n",
        "numeros"
      ],
      "execution_count": null,
      "outputs": [
        {
          "output_type": "execute_result",
          "data": {
            "text/plain": [
              "[1, 2, 3, 4, 5, 6, 7, 8, 9, 10]"
            ]
          },
          "metadata": {
            "tags": []
          },
          "execution_count": 23
        }
      ]
    },
    {
      "cell_type": "code",
      "metadata": {
        "id": "4AiiFxQRXu32",
        "colab_type": "code",
        "colab": {}
      },
      "source": [
        "def quadrado(x):\n",
        "    return x **2"
      ],
      "execution_count": null,
      "outputs": []
    },
    {
      "cell_type": "code",
      "metadata": {
        "id": "Pvrheab8X2-P",
        "colab_type": "code",
        "colab": {
          "base_uri": "https://localhost:8080/",
          "height": 35
        },
        "outputId": "3c0deddd-d9a1-4786-9747-b4c9a8de3101"
      },
      "source": [
        "map (quadrado,numeros"
      ],
      "execution_count": null,
      "outputs": [
        {
          "output_type": "execute_result",
          "data": {
            "text/plain": [
              "<map at 0x7f6d006d1ef0>"
            ]
          },
          "metadata": {
            "tags": []
          },
          "execution_count": 25
        }
      ]
    },
    {
      "cell_type": "code",
      "metadata": {
        "id": "OrAglj14X-C7",
        "colab_type": "code",
        "colab": {
          "base_uri": "https://localhost:8080/",
          "height": 35
        },
        "outputId": "73d85edb-19ac-4722-da32-73c3da5ffc62"
      },
      "source": [
        "list(map(quadrado,numeros)) # map com função"
      ],
      "execution_count": null,
      "outputs": [
        {
          "output_type": "execute_result",
          "data": {
            "text/plain": [
              "[1, 4, 9, 16, 25, 36, 49, 64, 81, 100]"
            ]
          },
          "metadata": {
            "tags": []
          },
          "execution_count": 26
        }
      ]
    },
    {
      "cell_type": "code",
      "metadata": {
        "id": "ld8RRX06YN42",
        "colab_type": "code",
        "colab": {
          "base_uri": "https://localhost:8080/",
          "height": 35
        },
        "outputId": "6c77f6d4-f46d-41ae-a979-7b25d9d19fff"
      },
      "source": [
        "list (map(lambda x: x ** 2,numeros)) # map com lambda"
      ],
      "execution_count": null,
      "outputs": [
        {
          "output_type": "execute_result",
          "data": {
            "text/plain": [
              "[1, 4, 9, 16, 25, 36, 49, 64, 81, 100]"
            ]
          },
          "metadata": {
            "tags": []
          },
          "execution_count": 27
        }
      ]
    },
    {
      "cell_type": "code",
      "metadata": {
        "id": "P1_4CF1gYceF",
        "colab_type": "code",
        "colab": {
          "base_uri": "https://localhost:8080/",
          "height": 35
        },
        "outputId": "3b3dcad1-a4de-40bd-b7ab-4a3f138e65f8"
      },
      "source": [
        "[x**2 for x in numeros] # compreensão de lista e mais prático"
      ],
      "execution_count": null,
      "outputs": [
        {
          "output_type": "execute_result",
          "data": {
            "text/plain": [
              "[1, 4, 9, 16, 25, 36, 49, 64, 81, 100]"
            ]
          },
          "metadata": {
            "tags": []
          },
          "execution_count": 28
        }
      ]
    },
    {
      "cell_type": "code",
      "metadata": {
        "id": "FJBoNjTKYzXj",
        "colab_type": "code",
        "colab": {
          "base_uri": "https://localhost:8080/",
          "height": 35
        },
        "outputId": "2e6cf33d-fc7d-4e29-90fe-b0835f871975"
      },
      "source": [
        "# for normal\n",
        "nova_lista = []\n",
        "for x in numeros:\n",
        "    nova_lista.append(x**2)\n",
        "nova_lista"
      ],
      "execution_count": null,
      "outputs": [
        {
          "output_type": "execute_result",
          "data": {
            "text/plain": [
              "[1, 4, 9, 16, 25, 36, 49, 64, 81, 100]"
            ]
          },
          "metadata": {
            "tags": []
          },
          "execution_count": 29
        }
      ]
    },
    {
      "cell_type": "markdown",
      "metadata": {
        "id": "39v1gHnyZZIC",
        "colab_type": "text"
      },
      "source": [
        "filter ( )"
      ]
    },
    {
      "cell_type": "code",
      "metadata": {
        "id": "H_jY95nGZfx2",
        "colab_type": "code",
        "colab": {
          "base_uri": "https://localhost:8080/",
          "height": 35
        },
        "outputId": "fd83fdf0-3f57-4ca9-94eb-a902da62bf50"
      },
      "source": [
        "numeros"
      ],
      "execution_count": null,
      "outputs": [
        {
          "output_type": "execute_result",
          "data": {
            "text/plain": [
              "[1, 2, 3, 4, 5, 6, 7, 8, 9, 10]"
            ]
          },
          "metadata": {
            "tags": []
          },
          "execution_count": 30
        }
      ]
    },
    {
      "cell_type": "code",
      "metadata": {
        "id": "6capjuYdZkzl",
        "colab_type": "code",
        "colab": {
          "base_uri": "https://localhost:8080/",
          "height": 35
        },
        "outputId": "0de3a70e-2556-4fa4-ba50-db7d4ef0414c"
      },
      "source": [
        "filter(lambda x: x > 5,numeros)"
      ],
      "execution_count": null,
      "outputs": [
        {
          "output_type": "execute_result",
          "data": {
            "text/plain": [
              "<filter at 0x7f6d0077a908>"
            ]
          },
          "metadata": {
            "tags": []
          },
          "execution_count": 32
        }
      ]
    },
    {
      "cell_type": "code",
      "metadata": {
        "id": "qK1FPQQYZ6p1",
        "colab_type": "code",
        "colab": {
          "base_uri": "https://localhost:8080/",
          "height": 35
        },
        "outputId": "40290810-8f4c-43c9-8764-50425633c602"
      },
      "source": [
        "list(filter(lambda x: x > 5 , numeros))"
      ],
      "execution_count": null,
      "outputs": [
        {
          "output_type": "execute_result",
          "data": {
            "text/plain": [
              "[6, 7, 8, 9, 10]"
            ]
          },
          "metadata": {
            "tags": []
          },
          "execution_count": 33
        }
      ]
    },
    {
      "cell_type": "code",
      "metadata": {
        "id": "DHGCEF-7aV6E",
        "colab_type": "code",
        "colab": {
          "base_uri": "https://localhost:8080/",
          "height": 35
        },
        "outputId": "fd421e62-31fc-42f1-dff1-afb5d97e71ee"
      },
      "source": [
        "# compreesão de listas\n",
        "[x for x in numeros if x > 5]"
      ],
      "execution_count": null,
      "outputs": [
        {
          "output_type": "execute_result",
          "data": {
            "text/plain": [
              "[6, 7, 8, 9, 10]"
            ]
          },
          "metadata": {
            "tags": []
          },
          "execution_count": 34
        }
      ]
    },
    {
      "cell_type": "code",
      "metadata": {
        "id": "tCYuy3rmap-i",
        "colab_type": "code",
        "colab": {}
      },
      "source": [
        "dados = ['','b','c','','','f','','h','i']"
      ],
      "execution_count": null,
      "outputs": []
    },
    {
      "cell_type": "code",
      "metadata": {
        "id": "hE8z4JYKa7wO",
        "colab_type": "code",
        "colab": {
          "base_uri": "https://localhost:8080/",
          "height": 35
        },
        "outputId": "e5d43b97-f9ce-4345-d991-2a8eba5d1b79"
      },
      "source": [
        "dados"
      ],
      "execution_count": null,
      "outputs": [
        {
          "output_type": "execute_result",
          "data": {
            "text/plain": [
              "['', 'b', 'c', '', '', 'f', '', 'h', 'i']"
            ]
          },
          "metadata": {
            "tags": []
          },
          "execution_count": 36
        }
      ]
    },
    {
      "cell_type": "code",
      "metadata": {
        "id": "ouIHbitia_Rk",
        "colab_type": "code",
        "colab": {
          "base_uri": "https://localhost:8080/",
          "height": 35
        },
        "outputId": "f2ae1075-322e-4b65-8384-504c43f60f97"
      },
      "source": [
        "list(filter(None,dados))"
      ],
      "execution_count": null,
      "outputs": [
        {
          "output_type": "execute_result",
          "data": {
            "text/plain": [
              "['b', 'c', 'f', 'h', 'i']"
            ]
          },
          "metadata": {
            "tags": []
          },
          "execution_count": 38
        }
      ]
    },
    {
      "cell_type": "markdown",
      "metadata": {
        "id": "YsKQ5dcHbhWk",
        "colab_type": "text"
      },
      "source": [
        "reduce"
      ]
    },
    {
      "cell_type": "code",
      "metadata": {
        "id": "eHx6MokGbPn7",
        "colab_type": "code",
        "colab": {}
      },
      "source": [
        "from functools import reduce"
      ],
      "execution_count": null,
      "outputs": []
    },
    {
      "cell_type": "code",
      "metadata": {
        "id": "peN5yRX1bsVj",
        "colab_type": "code",
        "colab": {
          "base_uri": "https://localhost:8080/",
          "height": 35
        },
        "outputId": "5e2aac3b-b5f5-4d0e-a10c-cd99c7a26e87"
      },
      "source": [
        "numeros"
      ],
      "execution_count": null,
      "outputs": [
        {
          "output_type": "execute_result",
          "data": {
            "text/plain": [
              "[1, 2, 3, 4, 5, 6, 7, 8, 9, 10]"
            ]
          },
          "metadata": {
            "tags": []
          },
          "execution_count": 40
        }
      ]
    },
    {
      "cell_type": "code",
      "metadata": {
        "id": "gAhs0TrXb0Dw",
        "colab_type": "code",
        "colab": {
          "base_uri": "https://localhost:8080/",
          "height": 35
        },
        "outputId": "7636b0c3-04dd-4745-aa7b-515a00627302"
      },
      "source": [
        "sum(numeros)"
      ],
      "execution_count": null,
      "outputs": [
        {
          "output_type": "execute_result",
          "data": {
            "text/plain": [
              "55"
            ]
          },
          "metadata": {
            "tags": []
          },
          "execution_count": 41
        }
      ]
    },
    {
      "cell_type": "code",
      "metadata": {
        "id": "VgcILJBGb5nT",
        "colab_type": "code",
        "colab": {}
      },
      "source": [
        "def soma(x,y):\n",
        "    return x + y"
      ],
      "execution_count": null,
      "outputs": []
    },
    {
      "cell_type": "code",
      "metadata": {
        "id": "CczmiHk2cLQk",
        "colab_type": "code",
        "colab": {
          "base_uri": "https://localhost:8080/",
          "height": 35
        },
        "outputId": "1eac080d-ae92-46eb-de6c-e39d5d82ed14"
      },
      "source": [
        "reduce (soma,numeros)"
      ],
      "execution_count": null,
      "outputs": [
        {
          "output_type": "execute_result",
          "data": {
            "text/plain": [
              "55"
            ]
          },
          "metadata": {
            "tags": []
          },
          "execution_count": 43
        }
      ]
    },
    {
      "cell_type": "code",
      "metadata": {
        "id": "xHmp6LL3cWDK",
        "colab_type": "code",
        "colab": {}
      },
      "source": [
        "def mult (x,y):\n",
        "    return x * y"
      ],
      "execution_count": null,
      "outputs": []
    },
    {
      "cell_type": "code",
      "metadata": {
        "id": "LA6NDVTQcgLo",
        "colab_type": "code",
        "colab": {
          "base_uri": "https://localhost:8080/",
          "height": 35
        },
        "outputId": "4c7f891d-cd1d-4eec-ecd1-2f4ca3d7ce46"
      },
      "source": [
        "reduce (mult,numeros)"
      ],
      "execution_count": null,
      "outputs": [
        {
          "output_type": "execute_result",
          "data": {
            "text/plain": [
              "3628800"
            ]
          },
          "metadata": {
            "tags": []
          },
          "execution_count": 45
        }
      ]
    },
    {
      "cell_type": "code",
      "metadata": {
        "id": "RRPuiXD3cex1",
        "colab_type": "code",
        "colab": {
          "base_uri": "https://localhost:8080/",
          "height": 35
        },
        "outputId": "d35ddb4f-a7ac-45ca-b19e-f46ce623a303"
      },
      "source": [
        "reduce (lambda x,y: x*y,numeros)"
      ],
      "execution_count": null,
      "outputs": [
        {
          "output_type": "execute_result",
          "data": {
            "text/plain": [
              "3628800"
            ]
          },
          "metadata": {
            "tags": []
          },
          "execution_count": 47
        }
      ]
    },
    {
      "cell_type": "code",
      "metadata": {
        "id": "wPB_tqrEc9rp",
        "colab_type": "code",
        "colab": {
          "base_uri": "https://localhost:8080/",
          "height": 35
        },
        "outputId": "1e3aa172-4aba-4638-bd28-419bd6523a16"
      },
      "source": [
        "produto = 1\n",
        "for x in numeros:\n",
        "    produto = produto * x\n",
        "produto    "
      ],
      "execution_count": null,
      "outputs": [
        {
          "output_type": "execute_result",
          "data": {
            "text/plain": [
              "3628800"
            ]
          },
          "metadata": {
            "tags": []
          },
          "execution_count": 49
        }
      ]
    },
    {
      "cell_type": "markdown",
      "metadata": {
        "id": "yI1hetJMdr8Q",
        "colab_type": "text"
      },
      "source": [
        "Erro e Exceções"
      ]
    },
    {
      "cell_type": "code",
      "metadata": {
        "id": "rvZA6_nydxUC",
        "colab_type": "code",
        "colab": {
          "base_uri": "https://localhost:8080/",
          "height": 72
        },
        "outputId": "432945ae-c375-4596-bad9-d70886f37cc9"
      },
      "source": [
        "while True:\n",
        "    try:# tente\n",
        "        num = int (input ('Digite um número inteiro: '))\n",
        "        break\n",
        "    except:\n",
        "        print ('Esse valor é inválido , Tente novamente')\n"
      ],
      "execution_count": null,
      "outputs": [
        {
          "output_type": "stream",
          "text": [
            "Digite um número inteiro: 2.5\n",
            "Esse valor é inválido , Tente novamente\n",
            "Digite um número inteiro: 2\n"
          ],
          "name": "stdout"
        }
      ]
    },
    {
      "cell_type": "markdown",
      "metadata": {
        "id": "ASaAs6Q9fAZK",
        "colab_type": "text"
      },
      "source": [
        "POO -> Programação Orientada a Objeto"
      ]
    },
    {
      "cell_type": "code",
      "metadata": {
        "id": "bpraNhQ5fSCz",
        "colab_type": "code",
        "colab": {}
      },
      "source": [
        "class Computador:\n",
        "    pass"
      ],
      "execution_count": null,
      "outputs": []
    },
    {
      "cell_type": "code",
      "metadata": {
        "id": "_unPaJqsjiHe",
        "colab_type": "code",
        "colab": {}
      },
      "source": [
        "pc1 = Computador()"
      ],
      "execution_count": null,
      "outputs": []
    },
    {
      "cell_type": "code",
      "metadata": {
        "id": "fTHdNyn4jfvp",
        "colab_type": "code",
        "colab": {}
      },
      "source": [
        "pc1.cor = 'Branco'\n",
        "pc1.ram = 8\n"
      ],
      "execution_count": null,
      "outputs": []
    },
    {
      "cell_type": "code",
      "metadata": {
        "id": "kFwlCU9Zj5W5",
        "colab_type": "code",
        "colab": {
          "base_uri": "https://localhost:8080/",
          "height": 35
        },
        "outputId": "a5772b94-efae-42af-b0a4-37056edfadd7"
      },
      "source": [
        "print (pc1.cor,pc1.ram)"
      ],
      "execution_count": null,
      "outputs": [
        {
          "output_type": "stream",
          "text": [
            "Branco 8\n"
          ],
          "name": "stdout"
        }
      ]
    },
    {
      "cell_type": "code",
      "metadata": {
        "id": "-bS8sXzPkaPg",
        "colab_type": "code",
        "colab": {}
      },
      "source": [
        "# __init__ e self"
      ],
      "execution_count": null,
      "outputs": []
    },
    {
      "cell_type": "code",
      "metadata": {
        "id": "8c7Wv5doketd",
        "colab_type": "code",
        "colab": {}
      },
      "source": [
        "class Computador:\n",
        "    def __init__(self):\n",
        "        print ('Método __init__ chamado')"
      ],
      "execution_count": null,
      "outputs": []
    },
    {
      "cell_type": "code",
      "metadata": {
        "id": "FXedleAulGfK",
        "colab_type": "code",
        "colab": {
          "base_uri": "https://localhost:8080/",
          "height": 35
        },
        "outputId": "c83dcc77-708a-4a98-f0be-efd56a7ce304"
      },
      "source": [
        "pc1 = Computador()"
      ],
      "execution_count": null,
      "outputs": [
        {
          "output_type": "stream",
          "text": [
            "Método __init__ chamado\n"
          ],
          "name": "stdout"
        }
      ]
    },
    {
      "cell_type": "code",
      "metadata": {
        "id": "fhm_SLisldQe",
        "colab_type": "code",
        "colab": {}
      },
      "source": [
        "class Computador:\n",
        "    def __init__(self,cor,hd):\n",
        "        self.cor = cor\n",
        "        self.hd = hd"
      ],
      "execution_count": null,
      "outputs": []
    },
    {
      "cell_type": "code",
      "metadata": {
        "id": "ehq0WkS0l0Po",
        "colab_type": "code",
        "colab": {}
      },
      "source": [
        "pc1 = Computador('Branco',200)"
      ],
      "execution_count": null,
      "outputs": []
    },
    {
      "cell_type": "code",
      "metadata": {
        "id": "MvAukw55l_lL",
        "colab_type": "code",
        "colab": {
          "base_uri": "https://localhost:8080/",
          "height": 35
        },
        "outputId": "a4aa1a2f-459d-4eaa-9d2d-6ae5dab9c0a9"
      },
      "source": [
        "print (pc1.cor,pc1.hd)"
      ],
      "execution_count": null,
      "outputs": [
        {
          "output_type": "stream",
          "text": [
            "Branco 200\n"
          ],
          "name": "stdout"
        }
      ]
    },
    {
      "cell_type": "code",
      "metadata": {
        "id": "dqdzixZlmhX4",
        "colab_type": "code",
        "colab": {}
      },
      "source": [
        "# Valores pré-definidos"
      ],
      "execution_count": null,
      "outputs": []
    },
    {
      "cell_type": "code",
      "metadata": {
        "id": "HceW-XL3Qj7B",
        "colab_type": "code",
        "colab": {}
      },
      "source": [
        "class Retangulo:\n",
        "    def __init__(self,altura=10,largura=10):\n",
        "        self.altura = altura\n",
        "        self.largura = largura\n"
      ],
      "execution_count": null,
      "outputs": []
    },
    {
      "cell_type": "code",
      "metadata": {
        "id": "hqplv71dQESJ",
        "colab_type": "code",
        "colab": {}
      },
      "source": [
        "ret = Retangulo(12,25)       \n",
        "ret2 = Retangulo()\n"
      ],
      "execution_count": null,
      "outputs": []
    },
    {
      "cell_type": "code",
      "metadata": {
        "id": "dES4G8twP7QW",
        "colab_type": "code",
        "colab": {
          "base_uri": "https://localhost:8080/",
          "height": 54
        },
        "outputId": "2e78c608-cc3e-4176-b27a-6f148a8df1ce"
      },
      "source": [
        "print (ret.altura,ret.largura)\n",
        "print (ret2.altura,ret2.largura)"
      ],
      "execution_count": null,
      "outputs": [
        {
          "output_type": "stream",
          "text": [
            "12 25\n",
            "10 10\n"
          ],
          "name": "stdout"
        }
      ]
    },
    {
      "cell_type": "markdown",
      "metadata": {
        "id": "z2iA6U4aTCOm",
        "colab_type": "text"
      },
      "source": [
        "encapsulamento - getters e setters"
      ]
    },
    {
      "cell_type": "code",
      "metadata": {
        "id": "lf86YwJMT45V",
        "colab_type": "code",
        "colab": {}
      },
      "source": [
        "class Fixa:\n",
        "    def __init__(self):\n",
        "        self.publico = 'publico'\n",
        "        self._privado_por_convencao = 'privado por convenção'\n",
        "        self.__privado_mesmo = 'privado mesmo'"
      ],
      "execution_count": null,
      "outputs": []
    },
    {
      "cell_type": "code",
      "metadata": {
        "id": "JjIKGzvzUzSH",
        "colab_type": "code",
        "colab": {}
      },
      "source": [
        "fixa = Fixa()"
      ],
      "execution_count": null,
      "outputs": []
    },
    {
      "cell_type": "code",
      "metadata": {
        "id": "w0rYjNz1U4Kn",
        "colab_type": "code",
        "colab": {
          "base_uri": "https://localhost:8080/",
          "height": 36
        },
        "outputId": "68f51baa-5bdd-418f-804e-b433f86e1b3a"
      },
      "source": [
        "fixa.publico"
      ],
      "execution_count": null,
      "outputs": [
        {
          "output_type": "execute_result",
          "data": {
            "application/vnd.google.colaboratory.intrinsic+json": {
              "type": "string"
            },
            "text/plain": [
              "'publico'"
            ]
          },
          "metadata": {
            "tags": []
          },
          "execution_count": 7
        }
      ]
    },
    {
      "cell_type": "code",
      "metadata": {
        "id": "BgzWGc0_U9A_",
        "colab_type": "code",
        "colab": {
          "base_uri": "https://localhost:8080/",
          "height": 36
        },
        "outputId": "7c55b5fb-cffc-4775-b822-31bbc231b05b"
      },
      "source": [
        "fixa._privado_por_convencao"
      ],
      "execution_count": null,
      "outputs": [
        {
          "output_type": "execute_result",
          "data": {
            "application/vnd.google.colaboratory.intrinsic+json": {
              "type": "string"
            },
            "text/plain": [
              "'privado por convenção'"
            ]
          },
          "metadata": {
            "tags": []
          },
          "execution_count": 8
        }
      ]
    },
    {
      "cell_type": "code",
      "metadata": {
        "id": "gzAKxO6nVES-",
        "colab_type": "code",
        "colab": {
          "base_uri": "https://localhost:8080/",
          "height": 172
        },
        "outputId": "4a12ddd0-926f-4aa9-d2ef-2c16da2db80f"
      },
      "source": [
        "fixa.__privado_mesmo"
      ],
      "execution_count": null,
      "outputs": [
        {
          "output_type": "error",
          "ename": "AttributeError",
          "evalue": "ignored",
          "traceback": [
            "\u001b[0;31m---------------------------------------------------------------------------\u001b[0m",
            "\u001b[0;31mAttributeError\u001b[0m                            Traceback (most recent call last)",
            "\u001b[0;32m<ipython-input-9-6d8c0f2dfe3e>\u001b[0m in \u001b[0;36m<module>\u001b[0;34m()\u001b[0m\n\u001b[0;32m----> 1\u001b[0;31m \u001b[0mfixa\u001b[0m\u001b[0;34m.\u001b[0m\u001b[0m__privado_mesmo\u001b[0m\u001b[0;34m\u001b[0m\u001b[0;34m\u001b[0m\u001b[0m\n\u001b[0m",
            "\u001b[0;31mAttributeError\u001b[0m: 'Fixa' object has no attribute '__privado_mesmo'"
          ]
        }
      ]
    },
    {
      "cell_type": "code",
      "metadata": {
        "id": "6QhvC8-eVaGm",
        "colab_type": "code",
        "colab": {}
      },
      "source": [
        "class Computador:\n",
        "    def __init__(self,cor,hd):\n",
        "        self.__cor = cor\n",
        "        self.__hd = hd\n",
        "\n",
        "    def get_cor (self):\n",
        "        return self.__cor\n",
        "\n",
        "    def set_cor(self,valor):\n",
        "        self.__cor = valor     \n"
      ],
      "execution_count": null,
      "outputs": []
    },
    {
      "cell_type": "code",
      "metadata": {
        "id": "EzCZpsjVWg5K",
        "colab_type": "code",
        "colab": {}
      },
      "source": [
        "pc1 = Computador('preto',500)"
      ],
      "execution_count": null,
      "outputs": []
    },
    {
      "cell_type": "code",
      "metadata": {
        "id": "GtWtA0PGWrOb",
        "colab_type": "code",
        "colab": {
          "base_uri": "https://localhost:8080/",
          "height": 36
        },
        "outputId": "07c4e745-1ba4-41b0-c5fd-ccc7caec4eb8"
      },
      "source": [
        "pc1.get_cor()"
      ],
      "execution_count": null,
      "outputs": [
        {
          "output_type": "execute_result",
          "data": {
            "application/vnd.google.colaboratory.intrinsic+json": {
              "type": "string"
            },
            "text/plain": [
              "'preto'"
            ]
          },
          "metadata": {
            "tags": []
          },
          "execution_count": 29
        }
      ]
    },
    {
      "cell_type": "code",
      "metadata": {
        "id": "iw1j6l6kWtfJ",
        "colab_type": "code",
        "colab": {
          "base_uri": "https://localhost:8080/",
          "height": 172
        },
        "outputId": "a62ea1f3-7cff-4c97-99cc-a7e045efbccb"
      },
      "source": [
        "pc1.__cor"
      ],
      "execution_count": null,
      "outputs": [
        {
          "output_type": "error",
          "ename": "AttributeError",
          "evalue": "ignored",
          "traceback": [
            "\u001b[0;31m---------------------------------------------------------------------------\u001b[0m",
            "\u001b[0;31mAttributeError\u001b[0m                            Traceback (most recent call last)",
            "\u001b[0;32m<ipython-input-16-b7585d52c96e>\u001b[0m in \u001b[0;36m<module>\u001b[0;34m()\u001b[0m\n\u001b[0;32m----> 1\u001b[0;31m \u001b[0mpc1\u001b[0m\u001b[0;34m.\u001b[0m\u001b[0m__cor\u001b[0m\u001b[0;34m\u001b[0m\u001b[0;34m\u001b[0m\u001b[0m\n\u001b[0m",
            "\u001b[0;31mAttributeError\u001b[0m: 'Computador' object has no attribute '__cor'"
          ]
        }
      ]
    },
    {
      "cell_type": "code",
      "metadata": {
        "id": "-F3PyaQfXRAY",
        "colab_type": "code",
        "colab": {}
      },
      "source": [
        "pc1.set_cor('branco')"
      ],
      "execution_count": null,
      "outputs": []
    },
    {
      "cell_type": "code",
      "metadata": {
        "id": "ttKjz6BCYDOW",
        "colab_type": "code",
        "colab": {
          "base_uri": "https://localhost:8080/",
          "height": 36
        },
        "outputId": "51c09c16-b376-44de-c6e2-d2eebe8f6515"
      },
      "source": [
        "pc1.get_cor()"
      ],
      "execution_count": null,
      "outputs": [
        {
          "output_type": "execute_result",
          "data": {
            "application/vnd.google.colaboratory.intrinsic+json": {
              "type": "string"
            },
            "text/plain": [
              "'branco'"
            ]
          },
          "metadata": {
            "tags": []
          },
          "execution_count": 31
        }
      ]
    },
    {
      "cell_type": "markdown",
      "metadata": {
        "id": "h4MYSasZY-gp",
        "colab_type": "text"
      },
      "source": [
        "Herança"
      ]
    },
    {
      "cell_type": "code",
      "metadata": {
        "id": "pT-T3kysZCuO",
        "colab_type": "code",
        "colab": {}
      },
      "source": [
        "# SuperClasse\n",
        "# SubClasse"
      ],
      "execution_count": null,
      "outputs": []
    },
    {
      "cell_type": "code",
      "metadata": {
        "id": "KyfGuovMZJ48",
        "colab_type": "code",
        "colab": {}
      },
      "source": [
        "# SuperClasse - Animal\n",
        "# SubClasse - Gato,Cachorro"
      ],
      "execution_count": null,
      "outputs": []
    },
    {
      "cell_type": "code",
      "metadata": {
        "id": "bFNZJdc1Zb-9",
        "colab_type": "code",
        "colab": {}
      },
      "source": [
        "class Animal:\n",
        "    def __init__(self,cor,raca):\n",
        "        self.cor = cor\n",
        "        self.raca = raca\n",
        "\n",
        "   \n",
        "\n"
      ],
      "execution_count": null,
      "outputs": []
    },
    {
      "cell_type": "code",
      "metadata": {
        "id": "jnbctiv-Zh5V",
        "colab_type": "code",
        "colab": {}
      },
      "source": [
        "class Gato(Animal):\n",
        "    pass"
      ],
      "execution_count": null,
      "outputs": []
    },
    {
      "cell_type": "code",
      "metadata": {
        "id": "WriktmGgZofY",
        "colab_type": "code",
        "colab": {}
      },
      "source": [
        "cat = Gato('lupe','persa')"
      ],
      "execution_count": null,
      "outputs": []
    },
    {
      "cell_type": "code",
      "metadata": {
        "id": "71n6SHVKa9JC",
        "colab_type": "code",
        "colab": {
          "base_uri": "https://localhost:8080/",
          "height": 35
        },
        "outputId": "06c56971-4a5f-4c4f-ac78-08e5bf0ecde8"
      },
      "source": [
        "cat.cor,cat.raca"
      ],
      "execution_count": null,
      "outputs": [
        {
          "output_type": "execute_result",
          "data": {
            "text/plain": [
              "('lupe', 'persa')"
            ]
          },
          "metadata": {
            "tags": []
          },
          "execution_count": 39
        }
      ]
    }
  ]
}