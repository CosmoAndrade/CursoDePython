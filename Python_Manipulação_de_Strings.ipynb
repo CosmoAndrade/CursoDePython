{
  "nbformat": 4,
  "nbformat_minor": 0,
  "metadata": {
    "colab": {
      "name": "Python - Manipulação de Strings.ipynb",
      "provenance": [],
      "collapsed_sections": [],
      "authorship_tag": "ABX9TyM3GDRPU/M5apoMdwWRF7ip",
      "include_colab_link": true
    },
    "kernelspec": {
      "name": "python3",
      "display_name": "Python 3"
    }
  },
  "cells": [
    {
      "cell_type": "markdown",
      "metadata": {
        "id": "view-in-github",
        "colab_type": "text"
      },
      "source": [
        "<a href=\"https://colab.research.google.com/github/CosmoAndrade/CursoDePython/blob/master/Python_Manipula%C3%A7%C3%A3o_de_Strings.ipynb\" target=\"_parent\"><img src=\"https://colab.research.google.com/assets/colab-badge.svg\" alt=\"Open In Colab\"/></a>"
      ]
    },
    {
      "cell_type": "markdown",
      "metadata": {
        "id": "cew5mtLa1oQJ"
      },
      "source": [
        "# Python - Manipulação de Strings\n",
        "- https://wiki.python.org.br/ManipulandoStringsComPython\n",
        "\n"
      ]
    },
    {
      "cell_type": "code",
      "metadata": {
        "id": "HApEbZa41igp",
        "outputId": "7217b34c-24e2-4cdb-98be-cf61eeef4cbf",
        "colab": {
          "base_uri": "https://localhost:8080/"
        }
      },
      "source": [
        "meuNome  = 'Cosmo '\n",
        "print (meuNome)\n",
        "sobrenome = \"Andrade\"\n",
        "print (sobrenome)"
      ],
      "execution_count": null,
      "outputs": [
        {
          "output_type": "stream",
          "text": [
            "Cosmo \n",
            "Andrade\n"
          ],
          "name": "stdout"
        }
      ]
    },
    {
      "cell_type": "code",
      "metadata": {
        "id": "xp1mCZUA2hlC",
        "outputId": "ce0d1e8a-9ff4-49be-9c0c-509c1625bd7e",
        "colab": {
          "base_uri": "https://localhost:8080/"
        }
      },
      "source": [
        "print (type(meuNome))\n",
        "print (type(sobrenome))"
      ],
      "execution_count": null,
      "outputs": [
        {
          "output_type": "stream",
          "text": [
            "<class 'str'>\n",
            "<class 'str'>\n"
          ],
          "name": "stdout"
        }
      ]
    },
    {
      "cell_type": "code",
      "metadata": {
        "id": "XkCVH4mK26TD",
        "outputId": "6e04eeff-71d7-4bd5-cd6a-e21096fcf2e2",
        "colab": {
          "base_uri": "https://localhost:8080/"
        }
      },
      "source": [
        "# Fatiamento\n",
        "sobreMim = 'Meu nome é Cosmo e tenho 36 anos'\n",
        "print (sobreMim)\n",
        "print (sobreMim[0:10])\n",
        "print (sobreMim[11:16])"
      ],
      "execution_count": null,
      "outputs": [
        {
          "output_type": "stream",
          "text": [
            "Meu nome é Cosmo e tenho 36 anos\n",
            "Meu nome é\n",
            "Cosmo\n"
          ],
          "name": "stdout"
        }
      ]
    },
    {
      "cell_type": "code",
      "metadata": {
        "id": "x_D7dyYLcJcv",
        "outputId": "e64ae07a-a72a-4c30-ede4-dc4b2ce4b969",
        "colab": {
          "base_uri": "https://localhost:8080/"
        }
      },
      "source": [
        "'''\n",
        "a função len. Ela pode ser usada para encontrar o tamanho de uma string \n",
        "contando espacos e caracteres especiais, ou seja, \n",
        "tudo que pertencer a essa string. \n",
        "\n",
        "'''\n",
        "\n",
        "print (len (sobreMim))"
      ],
      "execution_count": null,
      "outputs": [
        {
          "output_type": "stream",
          "text": [
            "32\n"
          ],
          "name": "stdout"
        }
      ]
    },
    {
      "cell_type": "code",
      "metadata": {
        "id": "f7f9U2XwcX0p",
        "outputId": "f5eac461-1142-4a93-c800-b4da5bad122a",
        "colab": {
          "base_uri": "https://localhost:8080/"
        }
      },
      "source": [
        "'''\n",
        "\n",
        "Vamos pegar nossa string e substituir \n",
        "uma palavra usando o método replace. \n",
        "\n",
        "'''\n",
        "\n",
        "teste = sobreMim.replace('Cosmo','Lucas')\n",
        "print (teste)"
      ],
      "execution_count": null,
      "outputs": [
        {
          "output_type": "stream",
          "text": [
            "Meu nome é Lucas e tenho 36 anos\n"
          ],
          "name": "stdout"
        }
      ]
    },
    {
      "cell_type": "code",
      "metadata": {
        "id": "FOepyOfSdbaa",
        "outputId": "3cc14ee9-d895-480e-d818-2679e6af0ec6",
        "colab": {
          "base_uri": "https://localhost:8080/"
        }
      },
      "source": [
        "'''\n",
        "Agora vamos contar o numero de vezes que a palavra especificada\n",
        " aparece na string, nesse caso estou apenas procurando por um caracter 'r'. \n",
        "\n",
        "'''\n",
        "\n",
        "teste = sobreMim.count('o')\n",
        "print (teste)"
      ],
      "execution_count": null,
      "outputs": [
        {
          "output_type": "stream",
          "text": [
            "5\n"
          ],
          "name": "stdout"
        }
      ]
    },
    {
      "cell_type": "code",
      "metadata": {
        "id": "_y4GOzs9dswI",
        "outputId": "fa5c7c5c-6183-405b-9a32-efa6f465af02",
        "colab": {
          "base_uri": "https://localhost:8080/"
        }
      },
      "source": [
        "'''\n",
        "Podemos também achar em que posição está certa levra ou palavra. \n",
        "'''\n",
        "\n",
        "teste = sobreMim.find('C')\n",
        "print (teste)"
      ],
      "execution_count": null,
      "outputs": [
        {
          "output_type": "stream",
          "text": [
            "11\n"
          ],
          "name": "stdout"
        }
      ]
    },
    {
      "cell_type": "code",
      "metadata": {
        "id": "qWu1B_yceDOU",
        "outputId": "4e2e2f73-62a7-4abf-8b19-e13a96710405",
        "colab": {
          "base_uri": "https://localhost:8080/"
        }
      },
      "source": [
        "'''\n",
        "Separar uma string é uma coisa que eu frequentemente faço.\n",
        "O método split é usado para isso. \n",
        "\n",
        "'''\n",
        "\n",
        "teste = sobreMim.split()\n",
        "print (teste)"
      ],
      "execution_count": null,
      "outputs": [
        {
          "output_type": "stream",
          "text": [
            "['Meu', 'nome', 'é', 'Cosmo', 'e', 'tenho', '36', 'anos']\n"
          ],
          "name": "stdout"
        }
      ]
    },
    {
      "cell_type": "code",
      "metadata": {
        "id": "7ByShWuHebyL",
        "outputId": "fbd7339f-a056-44c4-9130-983601aba176",
        "colab": {
          "base_uri": "https://localhost:8080/"
        }
      },
      "source": [
        "'''\n",
        "Para juntar nossa string separada, podemos usar o método join.\n",
        "\n",
        "'''\n",
        "\n",
        "teste = '-'.join(sobreMim.split('é'))\n",
        "print (teste)"
      ],
      "execution_count": null,
      "outputs": [
        {
          "output_type": "stream",
          "text": [
            "Meu nome - Cosmo e tenho 36 anos\n"
          ],
          "name": "stdout"
        }
      ]
    },
    {
      "cell_type": "code",
      "metadata": {
        "id": "dcYCOErbf1Ha",
        "outputId": "6464558e-f3c1-46c7-895d-7bc2deeb3cec",
        "colab": {
          "base_uri": "https://localhost:8080/"
        }
      },
      "source": [
        "'''\n",
        "Podemos brincar com a caixa das letras (maiúsculo ou minúsculo)\n",
        ". Vamos deixar tudo maiúsculo. \n",
        "\n",
        "'''\n",
        "\n",
        "teste = sobreMim.upper()\n",
        "print (teste)"
      ],
      "execution_count": null,
      "outputs": [
        {
          "output_type": "stream",
          "text": [
            "MEU NOME É COSMO E TENHO 36 ANOS\n"
          ],
          "name": "stdout"
        }
      ]
    },
    {
      "cell_type": "code",
      "metadata": {
        "id": "iu7qimsWgGRY",
        "outputId": "8705df41-1b71-4249-b3bc-5564ce203646",
        "colab": {
          "base_uri": "https://localhost:8080/"
        }
      },
      "source": [
        "'''\n",
        "Agora vamos deixar tudo minúsculo. \n",
        "'''\n",
        "\n",
        "teste = sobreMim.lower()\n",
        "print (teste)"
      ],
      "execution_count": null,
      "outputs": [
        {
          "output_type": "stream",
          "text": [
            "meu nome é cosmo e tenho 36 anos\n"
          ],
          "name": "stdout"
        }
      ]
    },
    {
      "cell_type": "code",
      "metadata": {
        "id": "M17legqBgVdv",
        "outputId": "8dafec09-3aa6-43c4-f0ae-f6c0fadf1725",
        "colab": {
          "base_uri": "https://localhost:8080/"
        }
      },
      "source": [
        "'''\n",
        "Vamos deixar apenas a primeira letra maiúscula de uma string minúscula. \n",
        "'''\n",
        "\n",
        "teste = sobreMim.capitalize()\n",
        "print (teste)"
      ],
      "execution_count": null,
      "outputs": [
        {
          "output_type": "stream",
          "text": [
            "Meu nome é cosmo e tenho 36 anos\n"
          ],
          "name": "stdout"
        }
      ]
    },
    {
      "cell_type": "code",
      "metadata": {
        "id": "SZOYSARghFMN",
        "outputId": "966c54e3-4cf7-456b-f19b-3958d29e15cc",
        "colab": {
          "base_uri": "https://localhost:8080/"
        }
      },
      "source": [
        "'''\n",
        "Podemos usar o método title, que deixa as letras de cada palavra da string maiúscula. \n",
        "'''\n",
        " \n",
        "teste = sobreMim.title()\n",
        "print (teste)"
      ],
      "execution_count": null,
      "outputs": [
        {
          "output_type": "stream",
          "text": [
            "Meu Nome É Cosmo E Tenho 36 Anos\n"
          ],
          "name": "stdout"
        }
      ]
    },
    {
      "cell_type": "code",
      "metadata": {
        "id": "Pjyiav16gd5r",
        "outputId": "3057cb89-12fe-492e-c97f-191f9ac02f8a",
        "colab": {
          "base_uri": "https://localhost:8080/"
        }
      },
      "source": [
        "'''\n",
        "Podemos rodar alguns testes numa string usando poucos métodos.\n",
        " Vamos ver se a string dada é totalmente maiúscula. \n",
        " \n",
        "'''\n",
        "teste = 'UPPER'.isupper()\n",
        "print (teste)"
      ],
      "execution_count": null,
      "outputs": [
        {
          "output_type": "stream",
          "text": [
            "True\n"
          ],
          "name": "stdout"
        }
      ]
    },
    {
      "cell_type": "code",
      "metadata": {
        "id": "q9q0Vc6JlS4w",
        "outputId": "c9c84d12-2dcc-4bde-c425-395c7dc45d77",
        "colab": {
          "base_uri": "https://localhost:8080/"
        }
      },
      "source": [
        "'''\n",
        "Do mesmo modo, podemos checar se a string dada é minúscula. \n",
        "'''\n",
        "teste = 'lower'.islower()\n",
        "print (teste)"
      ],
      "execution_count": null,
      "outputs": [
        {
          "output_type": "stream",
          "text": [
            "True\n"
          ],
          "name": "stdout"
        }
      ]
    },
    {
      "cell_type": "code",
      "metadata": {
        "id": "as6fov63lSik",
        "outputId": "96398833-7a23-4505-c21c-ce162a10f4d0",
        "colab": {
          "base_uri": "https://localhost:8080/"
        }
      },
      "source": [
        "'''\n",
        "Podemos checar se a string é alfa-numérica, ou seja, \n",
        "contém apenas letras e números, sem caracteres especiais. \n",
        "'''\n",
        "\n",
        "a = 'aa44'.isalnum()\n",
        "\n",
        "b = 'a$44'.isalnum()\n",
        "print (a,b)"
      ],
      "execution_count": null,
      "outputs": [
        {
          "output_type": "stream",
          "text": [
            "True False\n"
          ],
          "name": "stdout"
        }
      ]
    },
    {
      "cell_type": "code",
      "metadata": {
        "id": "njVi69uslRFq",
        "outputId": "781f94bc-1804-468f-f3d9-c97fdb0fe94c",
        "colab": {
          "base_uri": "https://localhost:8080/"
        }
      },
      "source": [
        "'''\n",
        "É possível checar se uma string contém apenas letras. \n",
        "'''\n",
        "\n",
        "a = 'letters'.isalpha()\n",
        "b ='letters4'.isalpha()\n",
        "print (a,b)\n",
        "\n"
      ],
      "execution_count": null,
      "outputs": [
        {
          "output_type": "stream",
          "text": [
            "True False\n"
          ],
          "name": "stdout"
        }
      ]
    },
    {
      "cell_type": "code",
      "metadata": {
        "id": "U3wEQezvlQVq",
        "outputId": "ebe20a25-8219-4132-a31a-ab116ead0f19",
        "colab": {
          "base_uri": "https://localhost:8080/"
        }
      },
      "source": [
        "'''\n",
        "Agora checando se ela contém apenas números. \n",
        "\n",
        "'''\n",
        "a = '306090'.isdigit()\n",
        "b = '30-60-90 Triangle'.isdigit()\n",
        "\n",
        "print (a,b)"
      ],
      "execution_count": null,
      "outputs": [
        {
          "output_type": "stream",
          "text": [
            "True False\n"
          ],
          "name": "stdout"
        }
      ]
    },
    {
      "cell_type": "code",
      "metadata": {
        "id": "Y7KOzMJ0lOIu",
        "outputId": "65251798-feb2-4260-caf0-58aeaac104ec",
        "colab": {
          "base_uri": "https://localhost:8080/"
        }
      },
      "source": [
        "'''\n",
        "Podemos checar se uma string contém apenas espacos. \n",
        "'''\n",
        "a = '   '.isspace()\n",
        "b = ''.isspace()\n",
        "print (a,b)"
      ],
      "execution_count": null,
      "outputs": [
        {
          "output_type": "stream",
          "text": [
            "True False\n"
          ],
          "name": "stdout"
        }
      ]
    },
    {
      "cell_type": "code",
      "metadata": {
        "id": "HoaoosqdnY7f",
        "outputId": "b5ce1721-e12d-4e7e-a490-c0d864906901",
        "colab": {
          "base_uri": "https://localhost:8080/"
        }
      },
      "source": [
        "'''\n",
        "Falando em espacos, podemos adicionar espacos em ambos os lados de uma string.\n",
        "Vamos adicionar espacos no lado direito de uma string. \n",
        "'''\n",
        "x = 'A string.'.ljust(15)\n",
        "print (x)"
      ],
      "execution_count": null,
      "outputs": [
        {
          "output_type": "stream",
          "text": [
            "A string.      \n"
          ],
          "name": "stdout"
        }
      ]
    },
    {
      "cell_type": "code",
      "metadata": {
        "id": "bkc3c-wZn7tD",
        "outputId": "41519c9f-bd09-4afc-e21c-d8ad4d4d8340",
        "colab": {
          "base_uri": "https://localhost:8080/"
        }
      },
      "source": [
        "'''\n",
        "Para adicionar espacos do lado esquerdo, o método rjust é usado. \n",
        "'''\n",
        "\n",
        "x = 'A string.'.rjust(15)\n",
        "print (x)"
      ],
      "execution_count": null,
      "outputs": [
        {
          "output_type": "stream",
          "text": [
            "      A string.\n"
          ],
          "name": "stdout"
        }
      ]
    },
    {
      "cell_type": "code",
      "metadata": {
        "id": "hhm9DQZPoLr6",
        "outputId": "8b6cdc16-6ed1-44c7-d24f-8e5811f767ab",
        "colab": {
          "base_uri": "https://localhost:8080/"
        }
      },
      "source": [
        "'''\n",
        "O método center é usado para centralizar uma string dentro de espacos.\n",
        "'''\n",
        "x = 'A string.'.center(15)\n",
        "print (x)"
      ],
      "execution_count": null,
      "outputs": [
        {
          "output_type": "stream",
          "text": [
            "   A string.   \n"
          ],
          "name": "stdout"
        }
      ]
    },
    {
      "cell_type": "code",
      "metadata": {
        "id": "9-jEdlIaoIfn",
        "outputId": "79117843-c1aa-4f4f-ebed-3dc7958b417a",
        "colab": {
          "base_uri": "https://localhost:8080/"
        }
      },
      "source": [
        "'''\n",
        "Podemos separar os espacos de ambos os lados de uma string. \n",
        "'''\n",
        "\n",
        "x = 'String.'.rjust(15).strip()\n",
        "print (x)"
      ],
      "execution_count": null,
      "outputs": [
        {
          "output_type": "stream",
          "text": [
            "String.\n"
          ],
          "name": "stdout"
        }
      ]
    }
  ]
}