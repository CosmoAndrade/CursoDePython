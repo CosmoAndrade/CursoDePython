{
  "nbformat": 4,
  "nbformat_minor": 0,
  "metadata": {
    "colab": {
      "name": "Python do Básico ao Avançado.ipynb",
      "provenance": [],
      "collapsed_sections": [
        "eaWcu2tumeAL",
        "QdTvWtxZpi5S",
        "ID4YrfvUhFmm",
        "32FcUWCOiQMp",
        "3-zJ_s-S8kwI",
        "l5M-LkG-9h62",
        "TdC8qifvAaAW",
        "RaqSLAlnGQle",
        "WNokECgzHWqI",
        "V2rtQjE7KfOb",
        "aKKHoAkpMROK",
        "SKXEBSGxP8ku",
        "QYjuBd1yR62N",
        "7EsNhlKnS_2o",
        "BgTQXEhzV8id",
        "nd2SBOb7AlyL",
        "velCTYgttk35",
        "Eyfn-pPwu3AH",
        "Ppzqz_fSxBnv",
        "S51BItS33b-R",
        "wEdfa7qf938B"
      ],
      "authorship_tag": "ABX9TyPq4EQg2gGLaN38P4Up2ofA",
      "include_colab_link": true
    },
    "kernelspec": {
      "name": "python3",
      "display_name": "Python 3"
    }
  },
  "cells": [
    {
      "cell_type": "markdown",
      "metadata": {
        "id": "view-in-github",
        "colab_type": "text"
      },
      "source": [
        "<a href=\"https://colab.research.google.com/github/CosmoAndrade/CursoDePython/blob/master/Python_do_B%C3%A1sico_ao_Avan%C3%A7ado.ipynb\" target=\"_parent\"><img src=\"https://colab.research.google.com/assets/colab-badge.svg\" alt=\"Open In Colab\"/></a>"
      ]
    },
    {
      "cell_type": "markdown",
      "metadata": {
        "id": "eaWcu2tumeAL"
      },
      "source": [
        "# `Variáveis`"
      ]
    },
    {
      "cell_type": "code",
      "metadata": {
        "colab": {
          "base_uri": "https://localhost:8080/"
        },
        "id": "Nr8kBLaFmmJE",
        "outputId": "4f894458-b756-4e45-9482-f722223b4827"
      },
      "source": [
        "nome = 'Cosmo'\n",
        "sobrenome = 'Andrade'\n",
        "idade = 36\n",
        " \n",
        "print (nome,sobrenome,idade)"
      ],
      "execution_count": null,
      "outputs": [
        {
          "output_type": "stream",
          "text": [
            "Cosmo Andrade 36\n"
          ],
          "name": "stdout"
        }
      ]
    },
    {
      "cell_type": "markdown",
      "metadata": {
        "id": "QdTvWtxZpi5S"
      },
      "source": [
        "# `Números`\n",
        " \n",
        "```- Adição --> + \n",
        "- Subtração -->  -\n",
        "- Divisão --> /\n",
        "- Multiplicação -->  *\n",
        "- Divisão Inteira -->  // \n",
        "- Resto da Divisão -->  % \n",
        "- Exponenciação --> **\n",
        "```"
      ]
    },
    {
      "cell_type": "code",
      "metadata": {
        "id": "XaI_gyvcpn7s"
      },
      "source": [
        "x = 10\n",
        "y = 3"
      ],
      "execution_count": null,
      "outputs": []
    },
    {
      "cell_type": "code",
      "metadata": {
        "colab": {
          "base_uri": "https://localhost:8080/"
        },
        "id": "M4QxMhmaqBgX",
        "outputId": "e4bcc0da-6fde-4456-f83b-be540b8f015e"
      },
      "source": [
        "print (x + y)"
      ],
      "execution_count": null,
      "outputs": [
        {
          "output_type": "stream",
          "text": [
            "13\n"
          ],
          "name": "stdout"
        }
      ]
    },
    {
      "cell_type": "code",
      "metadata": {
        "colab": {
          "base_uri": "https://localhost:8080/"
        },
        "id": "wssU7b3pqG-q",
        "outputId": "05c4965b-aacb-4b63-c47b-ee60214eca1e"
      },
      "source": [
        "print (x - y)"
      ],
      "execution_count": null,
      "outputs": [
        {
          "output_type": "stream",
          "text": [
            "7\n"
          ],
          "name": "stdout"
        }
      ]
    },
    {
      "cell_type": "code",
      "metadata": {
        "colab": {
          "base_uri": "https://localhost:8080/"
        },
        "id": "yXNr5FgUqKvG",
        "outputId": "4e72c802-19c9-4ef6-e15a-6e1981181cb0"
      },
      "source": [
        "print(x * y)"
      ],
      "execution_count": null,
      "outputs": [
        {
          "output_type": "stream",
          "text": [
            "30\n"
          ],
          "name": "stdout"
        }
      ]
    },
    {
      "cell_type": "code",
      "metadata": {
        "colab": {
          "base_uri": "https://localhost:8080/"
        },
        "id": "zomt7vKFqUYC",
        "outputId": "6b3c57f0-5436-4de1-ee8c-6700afd63326"
      },
      "source": [
        "print (x / y)"
      ],
      "execution_count": null,
      "outputs": [
        {
          "output_type": "stream",
          "text": [
            "3.3333333333333335\n"
          ],
          "name": "stdout"
        }
      ]
    },
    {
      "cell_type": "code",
      "metadata": {
        "colab": {
          "base_uri": "https://localhost:8080/"
        },
        "id": "Z0yD6dEMqXkw",
        "outputId": "e4e90520-6f41-4d98-9404-e1b027e04c11"
      },
      "source": [
        "print (x // y)"
      ],
      "execution_count": null,
      "outputs": [
        {
          "output_type": "stream",
          "text": [
            "3\n"
          ],
          "name": "stdout"
        }
      ]
    },
    {
      "cell_type": "code",
      "metadata": {
        "colab": {
          "base_uri": "https://localhost:8080/"
        },
        "id": "POpz5jVLqa1P",
        "outputId": "5808658e-466e-403e-d6ca-3ddb9662e91e"
      },
      "source": [
        "print (x % y)"
      ],
      "execution_count": null,
      "outputs": [
        {
          "output_type": "stream",
          "text": [
            "1\n"
          ],
          "name": "stdout"
        }
      ]
    },
    {
      "cell_type": "code",
      "metadata": {
        "colab": {
          "base_uri": "https://localhost:8080/"
        },
        "id": "fa0ZVQm_qecP",
        "outputId": "958eb7b2-9d71-41a7-b5aa-e92aca6c6692"
      },
      "source": [
        "print (x ** y)"
      ],
      "execution_count": null,
      "outputs": [
        {
          "output_type": "stream",
          "text": [
            "1000\n"
          ],
          "name": "stdout"
        }
      ]
    },
    {
      "cell_type": "code",
      "metadata": {
        "id": "nC1B0d-ZqiFX"
      },
      "source": [
        ""
      ],
      "execution_count": null,
      "outputs": []
    },
    {
      "cell_type": "markdown",
      "metadata": {
        "id": "ID4YrfvUhFmm"
      },
      "source": [
        " # Tipos de Dados\n",
        "```\n",
        "str-> String: Caracteres,  Textos\n",
        "\n",
        "int-> Números inteiros: 5,8, -6\n",
        "\n",
        "float -> Números reais: 5.8,4.7,-6.7\n",
        "\n",
        "bool -> Expressão booleana: True ou False \n",
        "\n",
        "type( ) -> Mostrar o tipo de Dado\n",
        "\n",
        "```"
      ]
    },
    {
      "cell_type": "code",
      "metadata": {
        "colab": {
          "base_uri": "https://localhost:8080/"
        },
        "id": "SwsrnRwdlw_9",
        "outputId": "01a4f636-5adb-4d39-b72c-ac76126edb5a"
      },
      "source": [
        "nome = 'Cosmo'\n",
        "print (nome)\n",
        "print (type(nome))"
      ],
      "execution_count": null,
      "outputs": [
        {
          "output_type": "stream",
          "text": [
            "Cosmo\n",
            "<class 'str'>\n"
          ],
          "name": "stdout"
        }
      ]
    },
    {
      "cell_type": "code",
      "metadata": {
        "colab": {
          "base_uri": "https://localhost:8080/"
        },
        "id": "_xVlyOZTl9AL",
        "outputId": "f49789dd-05c5-4f0e-ea72-4befb3acafa0"
      },
      "source": [
        "idade = 36\n",
        "print (idade)\n",
        "print (type(idade))"
      ],
      "execution_count": null,
      "outputs": [
        {
          "output_type": "stream",
          "text": [
            "36\n",
            "<class 'int'>\n"
          ],
          "name": "stdout"
        }
      ]
    },
    {
      "cell_type": "code",
      "metadata": {
        "colab": {
          "base_uri": "https://localhost:8080/"
        },
        "id": "WsE2OIE6mMBt",
        "outputId": "ebfdddd6-8b24-4831-efb3-c11dd89aa861"
      },
      "source": [
        "altura = 1.75\n",
        "print (altura)\n",
        "print (type(altura))"
      ],
      "execution_count": null,
      "outputs": [
        {
          "output_type": "stream",
          "text": [
            "1.75\n",
            "<class 'float'>\n"
          ],
          "name": "stdout"
        }
      ]
    },
    {
      "cell_type": "code",
      "metadata": {
        "colab": {
          "base_uri": "https://localhost:8080/"
        },
        "id": "5HcmVDoKmZyE",
        "outputId": "0ac8a945-fcb7-46fe-c5d8-365cb9405192"
      },
      "source": [
        "casado = True\n",
        "print (casado)\n",
        "print(type(casado))"
      ],
      "execution_count": null,
      "outputs": [
        {
          "output_type": "stream",
          "text": [
            "True\n",
            "<class 'bool'>\n"
          ],
          "name": "stdout"
        }
      ]
    },
    {
      "cell_type": "markdown",
      "metadata": {
        "id": "32FcUWCOiQMp"
      },
      "source": [
        "#` Casting (conversão de tipos )`"
      ]
    },
    {
      "cell_type": "code",
      "metadata": {
        "id": "C9erhUuzifqj",
        "colab": {
          "base_uri": "https://localhost:8080/",
          "height": 209
        },
        "outputId": "3cc83cbf-cffd-485c-e408-826aace4e81e"
      },
      "source": [
        "x = 5\n",
        "y = '7'\n",
        "print (x + y)"
      ],
      "execution_count": null,
      "outputs": [
        {
          "output_type": "error",
          "ename": "TypeError",
          "evalue": "ignored",
          "traceback": [
            "\u001b[0;31m---------------------------------------------------------------------------\u001b[0m",
            "\u001b[0;31mTypeError\u001b[0m                                 Traceback (most recent call last)",
            "\u001b[0;32m<ipython-input-5-e417c0aa01d5>\u001b[0m in \u001b[0;36m<module>\u001b[0;34m()\u001b[0m\n\u001b[1;32m      1\u001b[0m \u001b[0mx\u001b[0m \u001b[0;34m=\u001b[0m \u001b[0;36m5\u001b[0m\u001b[0;34m\u001b[0m\u001b[0;34m\u001b[0m\u001b[0m\n\u001b[1;32m      2\u001b[0m \u001b[0my\u001b[0m \u001b[0;34m=\u001b[0m \u001b[0;34m'7'\u001b[0m\u001b[0;34m\u001b[0m\u001b[0;34m\u001b[0m\u001b[0m\n\u001b[0;32m----> 3\u001b[0;31m \u001b[0mprint\u001b[0m \u001b[0;34m(\u001b[0m\u001b[0mx\u001b[0m \u001b[0;34m+\u001b[0m \u001b[0my\u001b[0m\u001b[0;34m)\u001b[0m\u001b[0;34m\u001b[0m\u001b[0;34m\u001b[0m\u001b[0m\n\u001b[0m",
            "\u001b[0;31mTypeError\u001b[0m: unsupported operand type(s) for +: 'int' and 'str'"
          ]
        }
      ]
    },
    {
      "cell_type": "code",
      "metadata": {
        "colab": {
          "base_uri": "https://localhost:8080/"
        },
        "id": "R26rsnSxm2je",
        "outputId": "1a726fe9-167a-4c77-de1e-ccc066b6fc12"
      },
      "source": [
        "y = int (y)\n",
        "print (x + y)"
      ],
      "execution_count": null,
      "outputs": [
        {
          "output_type": "stream",
          "text": [
            "12\n"
          ],
          "name": "stdout"
        }
      ]
    },
    {
      "cell_type": "markdown",
      "metadata": {
        "id": "3-zJ_s-S8kwI"
      },
      "source": [
        "# `Strings`"
      ]
    },
    {
      "cell_type": "code",
      "metadata": {
        "id": "5vdsxUHc8v-a"
      },
      "source": [
        "aspas_simples = 'Python'\n",
        "aspas_duplas = \"Python\"\n",
        "asplas_triplas = '''\n",
        "Curso \n",
        "De\n",
        "Python\n",
        "'''"
      ],
      "execution_count": null,
      "outputs": []
    },
    {
      "cell_type": "code",
      "metadata": {
        "colab": {
          "base_uri": "https://localhost:8080/"
        },
        "id": "VSDN2wr39RHy",
        "outputId": "1616c61d-bef7-40ee-eec3-cde538c99149"
      },
      "source": [
        "print (aspas_simples)"
      ],
      "execution_count": null,
      "outputs": [
        {
          "output_type": "stream",
          "text": [
            "Python\n"
          ],
          "name": "stdout"
        }
      ]
    },
    {
      "cell_type": "code",
      "metadata": {
        "colab": {
          "base_uri": "https://localhost:8080/"
        },
        "id": "ayA3F7Tn9T6d",
        "outputId": "5d63ba09-d091-4268-938c-f8356e903762"
      },
      "source": [
        "print (aspas_duplas)"
      ],
      "execution_count": null,
      "outputs": [
        {
          "output_type": "stream",
          "text": [
            "Python\n"
          ],
          "name": "stdout"
        }
      ]
    },
    {
      "cell_type": "code",
      "metadata": {
        "colab": {
          "base_uri": "https://localhost:8080/"
        },
        "id": "rTW3QpeP9Wuk",
        "outputId": "3060dd76-cf5e-413d-a77e-0a3a39988da5"
      },
      "source": [
        "print (asplas_triplas)"
      ],
      "execution_count": null,
      "outputs": [
        {
          "output_type": "stream",
          "text": [
            "\n",
            "Curso \n",
            "De\n",
            "Python\n",
            "\n"
          ],
          "name": "stdout"
        }
      ]
    },
    {
      "cell_type": "code",
      "metadata": {
        "id": "mjz1BbdQ9Zrp"
      },
      "source": [
        ""
      ],
      "execution_count": null,
      "outputs": []
    },
    {
      "cell_type": "markdown",
      "metadata": {
        "id": "l5M-LkG-9h62"
      },
      "source": [
        "# `Métodos e Strings`"
      ]
    },
    {
      "cell_type": "code",
      "metadata": {
        "colab": {
          "base_uri": "https://localhost:8080/"
        },
        "id": "_HOEVv1f9wsu",
        "outputId": "38746dd9-720f-415b-e609-fbd897d4b661"
      },
      "source": [
        "print()\n",
        "#type()\n",
        "help(print)"
      ],
      "execution_count": null,
      "outputs": [
        {
          "output_type": "stream",
          "text": [
            "\n",
            "Help on built-in function print in module builtins:\n",
            "\n",
            "print(...)\n",
            "    print(value, ..., sep=' ', end='\\n', file=sys.stdout, flush=False)\n",
            "    \n",
            "    Prints the values to a stream, or to sys.stdout by default.\n",
            "    Optional keyword arguments:\n",
            "    file:  a file-like object (stream); defaults to the current sys.stdout.\n",
            "    sep:   string inserted between values, default a space.\n",
            "    end:   string appended after the last value, default a newline.\n",
            "    flush: whether to forcibly flush the stream.\n",
            "\n"
          ],
          "name": "stdout"
        }
      ]
    },
    {
      "cell_type": "code",
      "metadata": {
        "id": "cTsmWL6n-S3i"
      },
      "source": [
        "curso = 'python'"
      ],
      "execution_count": null,
      "outputs": []
    },
    {
      "cell_type": "code",
      "metadata": {
        "colab": {
          "base_uri": "https://localhost:8080/"
        },
        "id": "L96JbNZm-cNO",
        "outputId": "2b1b640e-248e-471c-e399-c99814945795"
      },
      "source": [
        "maiusculo = curso.upper()\n",
        "print (maiusculo)\n"
      ],
      "execution_count": null,
      "outputs": [
        {
          "output_type": "stream",
          "text": [
            "PYTHON\n"
          ],
          "name": "stdout"
        }
      ]
    },
    {
      "cell_type": "code",
      "metadata": {
        "colab": {
          "base_uri": "https://localhost:8080/"
        },
        "id": "FfUYC6dr-g4Z",
        "outputId": "142ede6d-2aaf-4aa4-bca1-5732361cf1bb"
      },
      "source": [
        "minusculo = curso.lower()\n",
        "print(minusculo)"
      ],
      "execution_count": null,
      "outputs": [
        {
          "output_type": "stream",
          "text": [
            "python\n"
          ],
          "name": "stdout"
        }
      ]
    },
    {
      "cell_type": "code",
      "metadata": {
        "colab": {
          "base_uri": "https://localhost:8080/"
        },
        "id": "w9yAgtii-32S",
        "outputId": "3d237404-5db0-4a61-f4a2-920f118e429a"
      },
      "source": [
        "curso = 'curso de python'\n",
        "print(caixa_alta.title())"
      ],
      "execution_count": null,
      "outputs": [
        {
          "output_type": "stream",
          "text": [
            "Curso De Python\n"
          ],
          "name": "stdout"
        }
      ]
    },
    {
      "cell_type": "code",
      "metadata": {
        "colab": {
          "base_uri": "https://localhost:8080/"
        },
        "id": "0dS3rII1_Kp8",
        "outputId": "b370edbc-f9ee-498c-f2a9-721b2b0afe6b"
      },
      "source": [
        "print (curso.capitalize())"
      ],
      "execution_count": null,
      "outputs": [
        {
          "output_type": "stream",
          "text": [
            "Curso de python\n"
          ],
          "name": "stdout"
        }
      ]
    },
    {
      "cell_type": "code",
      "metadata": {
        "colab": {
          "base_uri": "https://localhost:8080/"
        },
        "id": "nnlph3A4_W6Y",
        "outputId": "6b9a2efa-31b6-49c3-f338-620ee523d46d"
      },
      "source": [
        "print (curso.replace('python','Java'))"
      ],
      "execution_count": null,
      "outputs": [
        {
          "output_type": "stream",
          "text": [
            "curso de Java\n"
          ],
          "name": "stdout"
        }
      ]
    },
    {
      "cell_type": "markdown",
      "metadata": {
        "id": "TdC8qifvAaAW"
      },
      "source": [
        "# `Indexação e Fatiamento de Strings`"
      ]
    },
    {
      "cell_type": "code",
      "metadata": {
        "colab": {
          "base_uri": "https://localhost:8080/"
        },
        "id": "0Ujb4QESAizz",
        "outputId": "1af5e8c2-c77a-4570-a503-d4d381631905"
      },
      "source": [
        "curso = 'Curso de Python'\n",
        "print (curso)"
      ],
      "execution_count": null,
      "outputs": [
        {
          "output_type": "stream",
          "text": [
            "Curso de Python\n"
          ],
          "name": "stdout"
        }
      ]
    },
    {
      "cell_type": "code",
      "metadata": {
        "id": "w-DHc2WPAti8"
      },
      "source": [
        "# C u r s o   d e   P y  t  h  o  n\n",
        "# 0 1 2 3 4 5 6 7 8 9 10 11 12 13 14"
      ],
      "execution_count": null,
      "outputs": []
    },
    {
      "cell_type": "code",
      "metadata": {
        "colab": {
          "base_uri": "https://localhost:8080/"
        },
        "id": "5gNhEXZWBMoK",
        "outputId": "7bfaef82-00f6-4f92-c185-3a815f72e613"
      },
      "source": [
        "print (len(curso))"
      ],
      "execution_count": null,
      "outputs": [
        {
          "output_type": "stream",
          "text": [
            "15\n"
          ],
          "name": "stdout"
        }
      ]
    },
    {
      "cell_type": "code",
      "metadata": {
        "colab": {
          "base_uri": "https://localhost:8080/"
        },
        "id": "UGN7ffUzBRCk",
        "outputId": "768be42d-7103-4300-dcdc-aabb9266b045"
      },
      "source": [
        "print(curso[0])"
      ],
      "execution_count": null,
      "outputs": [
        {
          "output_type": "stream",
          "text": [
            "C\n"
          ],
          "name": "stdout"
        }
      ]
    },
    {
      "cell_type": "code",
      "metadata": {
        "colab": {
          "base_uri": "https://localhost:8080/"
        },
        "id": "kotlo4PpD2nm",
        "outputId": "b10f872e-211b-4d1b-ddfa-ec8a1817ee4e"
      },
      "source": [
        "print (curso[9])"
      ],
      "execution_count": null,
      "outputs": [
        {
          "output_type": "stream",
          "text": [
            "P\n"
          ],
          "name": "stdout"
        }
      ]
    },
    {
      "cell_type": "code",
      "metadata": {
        "colab": {
          "base_uri": "https://localhost:8080/"
        },
        "id": "BdKhccg1EBJK",
        "outputId": "84b950fe-9388-4db6-bac9-e7e819170c2f"
      },
      "source": [
        "print(curso[-1])"
      ],
      "execution_count": null,
      "outputs": [
        {
          "output_type": "stream",
          "text": [
            "n\n"
          ],
          "name": "stdout"
        }
      ]
    },
    {
      "cell_type": "code",
      "metadata": {
        "colab": {
          "base_uri": "https://localhost:8080/"
        },
        "id": "ehOgdCZYENi7",
        "outputId": "16d64ddc-a05e-48ce-82e9-7cc79a3f8b6f"
      },
      "source": [
        "print(curso [0:5])"
      ],
      "execution_count": null,
      "outputs": [
        {
          "output_type": "stream",
          "text": [
            "Curso\n"
          ],
          "name": "stdout"
        }
      ]
    },
    {
      "cell_type": "code",
      "metadata": {
        "colab": {
          "base_uri": "https://localhost:8080/"
        },
        "id": "YgiAdi-rE-NT",
        "outputId": "1d3ab7ca-d529-4532-ec54-191e997b37a1"
      },
      "source": [
        "print (curso[2:-1])"
      ],
      "execution_count": null,
      "outputs": [
        {
          "output_type": "stream",
          "text": [
            "rso de Pytho\n"
          ],
          "name": "stdout"
        }
      ]
    },
    {
      "cell_type": "code",
      "metadata": {
        "colab": {
          "base_uri": "https://localhost:8080/"
        },
        "id": "7CDJXdtgFFIy",
        "outputId": "ee437f5d-f18a-4fca-9f2c-e3b08a3a78ce"
      },
      "source": [
        "print (curso.index('P'))"
      ],
      "execution_count": null,
      "outputs": [
        {
          "output_type": "stream",
          "text": [
            "9\n"
          ],
          "name": "stdout"
        }
      ]
    },
    {
      "cell_type": "code",
      "metadata": {
        "id": "3PsKR-0uFYzt"
      },
      "source": [
        ""
      ],
      "execution_count": null,
      "outputs": []
    },
    {
      "cell_type": "markdown",
      "metadata": {
        "id": "RaqSLAlnGQle"
      },
      "source": [
        "# `Formatação de Strings`"
      ]
    },
    {
      "cell_type": "code",
      "metadata": {
        "colab": {
          "base_uri": "https://localhost:8080/"
        },
        "id": "Q65D5AGMGW4I",
        "outputId": "7626c9db-5ae6-4aeb-9057-531aef356e53"
      },
      "source": [
        "nome =  'Cosmo'\n",
        "idade = 26\n",
        "print (nome,idade)"
      ],
      "execution_count": null,
      "outputs": [
        {
          "output_type": "stream",
          "text": [
            "Cosmo 26\n"
          ],
          "name": "stdout"
        }
      ]
    },
    {
      "cell_type": "code",
      "metadata": {
        "colab": {
          "base_uri": "https://localhost:8080/"
        },
        "id": "-xGRoiqRG6mw",
        "outputId": "845b7aaf-60e3-4a1e-b52c-2fcf4e28171b"
      },
      "source": [
        "print ('Nome:{} - Idade:{}'.format(nome,idade))"
      ],
      "execution_count": null,
      "outputs": [
        {
          "output_type": "stream",
          "text": [
            "Nome:Cosmo - Idade:26\n"
          ],
          "name": "stdout"
        }
      ]
    },
    {
      "cell_type": "code",
      "metadata": {
        "colab": {
          "base_uri": "https://localhost:8080/"
        },
        "id": "V4fevXJwHDpq",
        "outputId": "db25262f-838d-4e85-9738-16940ff1b8f4"
      },
      "source": [
        "print (f'Nome:{nome} - Idade:{idade}')"
      ],
      "execution_count": null,
      "outputs": [
        {
          "output_type": "stream",
          "text": [
            "Nome:Cosmo - Idade:26\n"
          ],
          "name": "stdout"
        }
      ]
    },
    {
      "cell_type": "code",
      "metadata": {
        "id": "YMTW-89NHSBC"
      },
      "source": [
        ""
      ],
      "execution_count": null,
      "outputs": []
    },
    {
      "cell_type": "markdown",
      "metadata": {
        "id": "WNokECgzHWqI"
      },
      "source": [
        "# `Listas []`"
      ]
    },
    {
      "cell_type": "code",
      "metadata": {
        "id": "M9-i2_rBHbQ4"
      },
      "source": [
        "lista = [1,2,3,5]"
      ],
      "execution_count": null,
      "outputs": []
    },
    {
      "cell_type": "code",
      "metadata": {
        "colab": {
          "base_uri": "https://localhost:8080/"
        },
        "id": "Gwylqx7wH9nh",
        "outputId": "2001cf69-a1d0-44c8-8933-2ec172743549"
      },
      "source": [
        "print (lista)"
      ],
      "execution_count": null,
      "outputs": [
        {
          "output_type": "stream",
          "text": [
            "[1, 2, 3, 5]\n"
          ],
          "name": "stdout"
        }
      ]
    },
    {
      "cell_type": "code",
      "metadata": {
        "colab": {
          "base_uri": "https://localhost:8080/"
        },
        "id": "26teVyC5H_1A",
        "outputId": "3f20f84f-76c8-4053-bf3f-22a1c1ccb98d"
      },
      "source": [
        "print (type(lista))"
      ],
      "execution_count": null,
      "outputs": [
        {
          "output_type": "stream",
          "text": [
            "<class 'list'>\n"
          ],
          "name": "stdout"
        }
      ]
    },
    {
      "cell_type": "code",
      "metadata": {
        "colab": {
          "base_uri": "https://localhost:8080/"
        },
        "id": "xN4OXsFwIGlu",
        "outputId": "fc0ea06e-8acb-4587-f738-0dee28cef97f"
      },
      "source": [
        "print (len(lista))"
      ],
      "execution_count": null,
      "outputs": [
        {
          "output_type": "stream",
          "text": [
            "4\n"
          ],
          "name": "stdout"
        }
      ]
    },
    {
      "cell_type": "code",
      "metadata": {
        "colab": {
          "base_uri": "https://localhost:8080/"
        },
        "id": "w14t_0O-IKvc",
        "outputId": "b06edfba-a5f5-4803-b450-134b24bf65c8"
      },
      "source": [
        "print (lista[0])"
      ],
      "execution_count": null,
      "outputs": [
        {
          "output_type": "stream",
          "text": [
            "1\n"
          ],
          "name": "stdout"
        }
      ]
    },
    {
      "cell_type": "code",
      "metadata": {
        "colab": {
          "base_uri": "https://localhost:8080/"
        },
        "id": "62cSL8AOITjU",
        "outputId": "f372d2df-9315-428f-d34b-a641a31fc0bd"
      },
      "source": [
        "print (lista[0:3])"
      ],
      "execution_count": null,
      "outputs": [
        {
          "output_type": "stream",
          "text": [
            "[1, 2, 3]\n"
          ],
          "name": "stdout"
        }
      ]
    },
    {
      "cell_type": "code",
      "metadata": {
        "colab": {
          "base_uri": "https://localhost:8080/"
        },
        "id": "LkRlOUexLngZ",
        "outputId": "298a7308-c9e5-4a1d-f856-96db7c8cf1b6"
      },
      "source": [
        "lista [0] = 8\n",
        "print (lista)"
      ],
      "execution_count": null,
      "outputs": [
        {
          "output_type": "stream",
          "text": [
            "[8, 3, 1, 4, 2]\n"
          ],
          "name": "stdout"
        }
      ]
    },
    {
      "cell_type": "code",
      "metadata": {
        "colab": {
          "base_uri": "https://localhost:8080/"
        },
        "id": "zfw16UDXIYoO",
        "outputId": "9862de82-aff1-444e-ea01-41de77c0fc5f"
      },
      "source": [
        "lista.append(6)\n",
        "print(lista)"
      ],
      "execution_count": null,
      "outputs": [
        {
          "output_type": "stream",
          "text": [
            "[8, 3, 1, 4, 2, 6]\n"
          ],
          "name": "stdout"
        }
      ]
    },
    {
      "cell_type": "code",
      "metadata": {
        "colab": {
          "base_uri": "https://localhost:8080/"
        },
        "id": "OmtFCY8dIoqL",
        "outputId": "22bdb1aa-5696-4cd2-f360-9dac6c429f76"
      },
      "source": [
        "lista.insert(0,7)\n",
        "print (lista)"
      ],
      "execution_count": null,
      "outputs": [
        {
          "output_type": "stream",
          "text": [
            "[7, 7, 8, 3, 1, 4, 2, 6]\n"
          ],
          "name": "stdout"
        }
      ]
    },
    {
      "cell_type": "code",
      "metadata": {
        "colab": {
          "base_uri": "https://localhost:8080/"
        },
        "id": "Agg-x_g8JASw",
        "outputId": "ba381d90-3fef-4fed-825b-de01dbb5d30c"
      },
      "source": [
        "print (sum(lista))"
      ],
      "execution_count": null,
      "outputs": [
        {
          "output_type": "stream",
          "text": [
            "38\n"
          ],
          "name": "stdout"
        }
      ]
    },
    {
      "cell_type": "code",
      "metadata": {
        "colab": {
          "base_uri": "https://localhost:8080/"
        },
        "id": "-4-fa-C4JRQ4",
        "outputId": "3c20a602-2f0c-4d2c-a7e2-6f2d672f740a"
      },
      "source": [
        "print (max(lista))"
      ],
      "execution_count": null,
      "outputs": [
        {
          "output_type": "stream",
          "text": [
            "8\n"
          ],
          "name": "stdout"
        }
      ]
    },
    {
      "cell_type": "code",
      "metadata": {
        "colab": {
          "base_uri": "https://localhost:8080/"
        },
        "id": "2vBMq154JUXO",
        "outputId": "ce60970d-0122-4894-edce-21b7d12b72bd"
      },
      "source": [
        "print (min(lista))"
      ],
      "execution_count": null,
      "outputs": [
        {
          "output_type": "stream",
          "text": [
            "1\n"
          ],
          "name": "stdout"
        }
      ]
    },
    {
      "cell_type": "code",
      "metadata": {
        "colab": {
          "base_uri": "https://localhost:8080/"
        },
        "id": "GNuWV_WoJXsS",
        "outputId": "141295ce-7818-4c4e-9968-822a1ba0dcd2"
      },
      "source": [
        "print (lista)"
      ],
      "execution_count": null,
      "outputs": [
        {
          "output_type": "stream",
          "text": [
            "[7, 7, 8, 3, 1, 4, 2, 6]\n"
          ],
          "name": "stdout"
        }
      ]
    },
    {
      "cell_type": "code",
      "metadata": {
        "colab": {
          "base_uri": "https://localhost:8080/"
        },
        "id": "ewhh9G9mJlzn",
        "outputId": "2b656779-3270-4ae4-c88c-c06dc337c93b"
      },
      "source": [
        "lista.pop()\n",
        "print(lista)"
      ],
      "execution_count": null,
      "outputs": [
        {
          "output_type": "stream",
          "text": [
            "[7, 7, 8, 3, 1, 4, 2]\n"
          ],
          "name": "stdout"
        }
      ]
    },
    {
      "cell_type": "code",
      "metadata": {
        "colab": {
          "base_uri": "https://localhost:8080/"
        },
        "id": "-YtfAcB-Jrph",
        "outputId": "c5525092-45d9-4e88-987a-2358dfd98eb6"
      },
      "source": [
        "lista.remove(7)\n",
        "print(lista)"
      ],
      "execution_count": null,
      "outputs": [
        {
          "output_type": "stream",
          "text": [
            "[7, 8, 3, 1, 4, 2]\n"
          ],
          "name": "stdout"
        }
      ]
    },
    {
      "cell_type": "code",
      "metadata": {
        "colab": {
          "base_uri": "https://localhost:8080/"
        },
        "id": "CPi29tH4KCH0",
        "outputId": "c692de84-b76e-4d42-cb87-67c59780da7a"
      },
      "source": [
        "lista = [2,4,1,3,5]\n",
        "print (lista)"
      ],
      "execution_count": null,
      "outputs": [
        {
          "output_type": "stream",
          "text": [
            "[2, 4, 1, 3, 5]\n"
          ],
          "name": "stdout"
        }
      ]
    },
    {
      "cell_type": "code",
      "metadata": {
        "colab": {
          "base_uri": "https://localhost:8080/"
        },
        "id": "cTKOTGOvJ0EY",
        "outputId": "3c7c7d6d-c435-48c0-c101-3c50556c9f45"
      },
      "source": [
        "lista.sort()\n",
        "print (lista)"
      ],
      "execution_count": null,
      "outputs": [
        {
          "output_type": "stream",
          "text": [
            "[1, 2, 3, 4, 5]\n"
          ],
          "name": "stdout"
        }
      ]
    },
    {
      "cell_type": "code",
      "metadata": {
        "colab": {
          "base_uri": "https://localhost:8080/"
        },
        "id": "MsiRcjstJ8x3",
        "outputId": "b27aebae-d410-4e47-d2af-d71b708223cc"
      },
      "source": [
        "lista.reverse()\n",
        "print (lista)"
      ],
      "execution_count": null,
      "outputs": [
        {
          "output_type": "stream",
          "text": [
            "[5, 3, 1, 4, 2]\n"
          ],
          "name": "stdout"
        }
      ]
    },
    {
      "cell_type": "code",
      "metadata": {
        "id": "73dEzGZwKR3x"
      },
      "source": [
        ""
      ],
      "execution_count": null,
      "outputs": []
    },
    {
      "cell_type": "markdown",
      "metadata": {
        "id": "V2rtQjE7KfOb"
      },
      "source": [
        "# `Tuplas ()`"
      ]
    },
    {
      "cell_type": "code",
      "metadata": {
        "colab": {
          "base_uri": "https://localhost:8080/"
        },
        "id": "8ifdbhoiKp1B",
        "outputId": "2b9646d3-9215-4dbe-b270-95e0dde111c6"
      },
      "source": [
        "tupla = (1,)\n",
        "print(tupla)"
      ],
      "execution_count": null,
      "outputs": [
        {
          "output_type": "stream",
          "text": [
            "(1,)\n"
          ],
          "name": "stdout"
        }
      ]
    },
    {
      "cell_type": "code",
      "metadata": {
        "colab": {
          "base_uri": "https://localhost:8080/"
        },
        "id": "ovNYunecKwDg",
        "outputId": "1d0da72f-8435-4a4f-9932-98b1c288b0c7"
      },
      "source": [
        "print(type(tupla))"
      ],
      "execution_count": null,
      "outputs": [
        {
          "output_type": "stream",
          "text": [
            "<class 'tuple'>\n"
          ],
          "name": "stdout"
        }
      ]
    },
    {
      "cell_type": "code",
      "metadata": {
        "colab": {
          "base_uri": "https://localhost:8080/"
        },
        "id": "cZy09W1DK4x9",
        "outputId": "d9c7d02a-2a11-4a05-ec3e-2792dd394148"
      },
      "source": [
        "tupla = (1,2,3,4,5)\n",
        "print(tupla)"
      ],
      "execution_count": null,
      "outputs": [
        {
          "output_type": "stream",
          "text": [
            "(1, 2, 3, 4, 5)\n"
          ],
          "name": "stdout"
        }
      ]
    },
    {
      "cell_type": "code",
      "metadata": {
        "colab": {
          "base_uri": "https://localhost:8080/"
        },
        "id": "8Ny5n4lrLGcT",
        "outputId": "7b28a11f-77ed-47d0-c82a-c441422f72a9"
      },
      "source": [
        "print (len(tupla))"
      ],
      "execution_count": null,
      "outputs": [
        {
          "output_type": "stream",
          "text": [
            "5\n"
          ],
          "name": "stdout"
        }
      ]
    },
    {
      "cell_type": "code",
      "metadata": {
        "colab": {
          "base_uri": "https://localhost:8080/"
        },
        "id": "wuybxiCaLMNx",
        "outputId": "a027cab3-22de-437b-99f1-2f4e8c1b3db3"
      },
      "source": [
        "print (tupla[0])"
      ],
      "execution_count": null,
      "outputs": [
        {
          "output_type": "stream",
          "text": [
            "1\n"
          ],
          "name": "stdout"
        }
      ]
    },
    {
      "cell_type": "code",
      "metadata": {
        "colab": {
          "base_uri": "https://localhost:8080/",
          "height": 191
        },
        "id": "o5qzaAeMLVWZ",
        "outputId": "1249a0da-fde5-45d4-9ab1-635fe64d5c05"
      },
      "source": [
        "tupla[0] = 6\n",
        "print (tupla)"
      ],
      "execution_count": null,
      "outputs": [
        {
          "output_type": "error",
          "ename": "TypeError",
          "evalue": "ignored",
          "traceback": [
            "\u001b[0;31m---------------------------------------------------------------------------\u001b[0m",
            "\u001b[0;31mTypeError\u001b[0m                                 Traceback (most recent call last)",
            "\u001b[0;32m<ipython-input-78-786de2b5b97c>\u001b[0m in \u001b[0;36m<module>\u001b[0;34m()\u001b[0m\n\u001b[0;32m----> 1\u001b[0;31m \u001b[0mtupla\u001b[0m\u001b[0;34m[\u001b[0m\u001b[0;36m0\u001b[0m\u001b[0;34m]\u001b[0m \u001b[0;34m=\u001b[0m \u001b[0;36m6\u001b[0m\u001b[0;34m\u001b[0m\u001b[0;34m\u001b[0m\u001b[0m\n\u001b[0m\u001b[1;32m      2\u001b[0m \u001b[0mprint\u001b[0m \u001b[0;34m(\u001b[0m\u001b[0mtupla\u001b[0m\u001b[0;34m)\u001b[0m\u001b[0;34m\u001b[0m\u001b[0;34m\u001b[0m\u001b[0m\n",
            "\u001b[0;31mTypeError\u001b[0m: 'tuple' object does not support item assignment"
          ]
        }
      ]
    },
    {
      "cell_type": "code",
      "metadata": {
        "id": "_WSh2BeaLci1"
      },
      "source": [
        ""
      ],
      "execution_count": null,
      "outputs": []
    },
    {
      "cell_type": "markdown",
      "metadata": {
        "id": "aKKHoAkpMROK"
      },
      "source": [
        "# `Dicionário {}`\n",
        "\n",
        "## `Chave:Valor`\n",
        "\n",
        "\n",
        "\n",
        "\n",
        "\n",
        "\n",
        "\n",
        "\n",
        "\n"
      ]
    },
    {
      "cell_type": "code",
      "metadata": {
        "id": "J8xj2pd3MZHl"
      },
      "source": [
        "cores = {'A':'Verde','B':'Vermelho','C':'Azul'}"
      ],
      "execution_count": null,
      "outputs": []
    },
    {
      "cell_type": "code",
      "metadata": {
        "colab": {
          "base_uri": "https://localhost:8080/"
        },
        "id": "4p7wsXSUNeks",
        "outputId": "91fdea0f-b7da-46bf-ff01-0ea7643cbcb2"
      },
      "source": [
        "print (cores)"
      ],
      "execution_count": null,
      "outputs": [
        {
          "output_type": "stream",
          "text": [
            "{'A': 'Verde', 'B': 'Vermelho', 'C': 'Azul'}\n"
          ],
          "name": "stdout"
        }
      ]
    },
    {
      "cell_type": "code",
      "metadata": {
        "colab": {
          "base_uri": "https://localhost:8080/"
        },
        "id": "utZGKHwGNgnC",
        "outputId": "8bb35001-bc8a-447e-beef-09d3ea2b9e87"
      },
      "source": [
        "print (cores['A'])"
      ],
      "execution_count": null,
      "outputs": [
        {
          "output_type": "stream",
          "text": [
            "Verde\n"
          ],
          "name": "stdout"
        }
      ]
    },
    {
      "cell_type": "code",
      "metadata": {
        "colab": {
          "base_uri": "https://localhost:8080/"
        },
        "id": "u4r1gjRfNkcD",
        "outputId": "541966dd-bf5d-4048-fcf4-bad1faf99d0e"
      },
      "source": [
        "cores['D'] = 'Laranja'\n",
        "print (cores)"
      ],
      "execution_count": null,
      "outputs": [
        {
          "output_type": "stream",
          "text": [
            "{'A': 'Verde', 'B': 'Vermelho', 'C': 'Azul', 'D': 'Laranja'}\n"
          ],
          "name": "stdout"
        }
      ]
    },
    {
      "cell_type": "code",
      "metadata": {
        "colab": {
          "base_uri": "https://localhost:8080/"
        },
        "id": "zONcOaHoN5nn",
        "outputId": "2460e87f-77ad-4430-8d74-7439b697a39d"
      },
      "source": [
        "print (len(cores))"
      ],
      "execution_count": null,
      "outputs": [
        {
          "output_type": "stream",
          "text": [
            "4\n"
          ],
          "name": "stdout"
        }
      ]
    },
    {
      "cell_type": "code",
      "metadata": {
        "colab": {
          "base_uri": "https://localhost:8080/"
        },
        "id": "mZC58xGyOf0W",
        "outputId": "25f3d5ec-1faa-4b63-82df-20ee8ec823d2"
      },
      "source": [
        "print (cores.keys())"
      ],
      "execution_count": null,
      "outputs": [
        {
          "output_type": "stream",
          "text": [
            "dict_keys(['A', 'B', 'C', 'D'])\n"
          ],
          "name": "stdout"
        }
      ]
    },
    {
      "cell_type": "code",
      "metadata": {
        "colab": {
          "base_uri": "https://localhost:8080/"
        },
        "id": "Yao6ByrXOk-J",
        "outputId": "864f7058-c313-4c15-9a16-a242b2690386"
      },
      "source": [
        "print (cores.values())"
      ],
      "execution_count": null,
      "outputs": [
        {
          "output_type": "stream",
          "text": [
            "dict_values(['Verde', 'Vermelho', 'Azul', 'Laranja'])\n"
          ],
          "name": "stdout"
        }
      ]
    },
    {
      "cell_type": "code",
      "metadata": {
        "colab": {
          "base_uri": "https://localhost:8080/"
        },
        "id": "W6bPzbXCOpAz",
        "outputId": "e9eb8e70-fe4b-4b33-ae68-44557db42e3f"
      },
      "source": [
        "print (cores.items())"
      ],
      "execution_count": null,
      "outputs": [
        {
          "output_type": "stream",
          "text": [
            "dict_items([('A', 'Verde'), ('B', 'Vermelho'), ('C', 'Azul'), ('D', 'Laranja')])\n"
          ],
          "name": "stdout"
        }
      ]
    },
    {
      "cell_type": "code",
      "metadata": {
        "colab": {
          "base_uri": "https://localhost:8080/"
        },
        "id": "eZt7levuOtjH",
        "outputId": "07e51651-8741-4cb6-a966-2905f6623c16"
      },
      "source": [
        "print (cores.get('A'))"
      ],
      "execution_count": null,
      "outputs": [
        {
          "output_type": "stream",
          "text": [
            "Verde\n"
          ],
          "name": "stdout"
        }
      ]
    },
    {
      "cell_type": "code",
      "metadata": {
        "colab": {
          "base_uri": "https://localhost:8080/"
        },
        "id": "gvmLR-BDO7lQ",
        "outputId": "c2809f12-a24e-47d8-a715-ee69477749fd"
      },
      "source": [
        "print (cores.pop('D'))\n",
        "print (cores)"
      ],
      "execution_count": null,
      "outputs": [
        {
          "output_type": "stream",
          "text": [
            "Laranja\n",
            "{'A': 'Verde', 'B': 'Vermelho', 'C': 'Azul'}\n"
          ],
          "name": "stdout"
        }
      ]
    },
    {
      "cell_type": "code",
      "metadata": {
        "colab": {
          "base_uri": "https://localhost:8080/"
        },
        "id": "rO-DavjvPEsQ",
        "outputId": "73d967d3-79cc-4cee-b1e6-8501ca45ecb0"
      },
      "source": [
        "del cores['C']\n",
        "print (cores)"
      ],
      "execution_count": null,
      "outputs": [
        {
          "output_type": "stream",
          "text": [
            "{'A': 'Verde', 'B': 'Vermelho'}\n"
          ],
          "name": "stdout"
        }
      ]
    },
    {
      "cell_type": "code",
      "metadata": {
        "id": "1VSTb_51PRw2"
      },
      "source": [
        ""
      ],
      "execution_count": null,
      "outputs": []
    },
    {
      "cell_type": "markdown",
      "metadata": {
        "id": "SKXEBSGxP8ku"
      },
      "source": [
        "# `Operadores de atribuição`\n",
        "\n",
        "```\n",
        "+= \tmais igual\n",
        "-= \tmenos igual\n",
        "*= \tvezes igual\n",
        "/= \tdividido igual\n",
        "%= \tmódulo igual\n",
        "```"
      ]
    },
    {
      "cell_type": "code",
      "metadata": {
        "colab": {
          "base_uri": "https://localhost:8080/"
        },
        "id": "19HE1RFGQycL",
        "outputId": "b12218c2-7cc5-407d-c311-cba8e4394f18"
      },
      "source": [
        "x = 5\n",
        "print (x)"
      ],
      "execution_count": null,
      "outputs": [
        {
          "output_type": "stream",
          "text": [
            "5\n"
          ],
          "name": "stdout"
        }
      ]
    },
    {
      "cell_type": "code",
      "metadata": {
        "colab": {
          "base_uri": "https://localhost:8080/"
        },
        "id": "3lZUr9vyQ59b",
        "outputId": "ee64013c-8c71-40f0-dbe7-cc012c702537"
      },
      "source": [
        "x += 1\n",
        "print (x)"
      ],
      "execution_count": null,
      "outputs": [
        {
          "output_type": "stream",
          "text": [
            "6\n"
          ],
          "name": "stdout"
        }
      ]
    },
    {
      "cell_type": "code",
      "metadata": {
        "colab": {
          "base_uri": "https://localhost:8080/"
        },
        "id": "97i9T7qsQ-St",
        "outputId": "6e3fdf06-4152-4954-9595-21b0375a84a9"
      },
      "source": [
        "print (x)"
      ],
      "execution_count": null,
      "outputs": [
        {
          "output_type": "stream",
          "text": [
            "6\n"
          ],
          "name": "stdout"
        }
      ]
    },
    {
      "cell_type": "code",
      "metadata": {
        "colab": {
          "base_uri": "https://localhost:8080/"
        },
        "id": "0zmz5TQ6RNNo",
        "outputId": "2a9a806d-cf42-430c-ef4f-a19440442e46"
      },
      "source": [
        "x -=1\n",
        "print (x)"
      ],
      "execution_count": null,
      "outputs": [
        {
          "output_type": "stream",
          "text": [
            "5\n"
          ],
          "name": "stdout"
        }
      ]
    },
    {
      "cell_type": "code",
      "metadata": {
        "colab": {
          "base_uri": "https://localhost:8080/"
        },
        "id": "9NwQ8D6qRq6L",
        "outputId": "6b8036b6-a85d-405f-8060-9fa01be2f9d3"
      },
      "source": [
        "x *= 2\n",
        "print (x)"
      ],
      "execution_count": null,
      "outputs": [
        {
          "output_type": "stream",
          "text": [
            "10\n"
          ],
          "name": "stdout"
        }
      ]
    },
    {
      "cell_type": "code",
      "metadata": {
        "id": "kpAaeB-MRxEG"
      },
      "source": [
        ""
      ],
      "execution_count": null,
      "outputs": []
    },
    {
      "cell_type": "markdown",
      "metadata": {
        "id": "QYjuBd1yR62N"
      },
      "source": [
        "# `Operadores de Comparação`\n",
        "\n",
        "```\n",
        "> \tmaior que\n",
        "< \tmenor que\n",
        ">= \tmaior ou igual a\n",
        "<= \tmenor ou igual a\n",
        "== \tigual a\n",
        "!= \tdiferente de\n",
        "\n",
        "\n",
        "```"
      ]
    },
    {
      "cell_type": "code",
      "metadata": {
        "colab": {
          "base_uri": "https://localhost:8080/"
        },
        "id": "sxqQ0MVzSTOd",
        "outputId": "e65ad543-c298-4011-f062-0d798336070e"
      },
      "source": [
        "x = 7\n",
        "y = 5\n",
        "print (x,y)"
      ],
      "execution_count": null,
      "outputs": [
        {
          "output_type": "stream",
          "text": [
            "7 5\n"
          ],
          "name": "stdout"
        }
      ]
    },
    {
      "cell_type": "code",
      "metadata": {
        "colab": {
          "base_uri": "https://localhost:8080/"
        },
        "id": "Ne2EpGL3Sj6v",
        "outputId": "b93e0c5e-5502-4ee9-e8ce-9326c34225d6"
      },
      "source": [
        "print (x > y)"
      ],
      "execution_count": null,
      "outputs": [
        {
          "output_type": "stream",
          "text": [
            "True\n"
          ],
          "name": "stdout"
        }
      ]
    },
    {
      "cell_type": "code",
      "metadata": {
        "colab": {
          "base_uri": "https://localhost:8080/"
        },
        "id": "LHUh-QuhSoF9",
        "outputId": "9b3f5187-369a-4a62-80be-28dc4bc6f0f5"
      },
      "source": [
        "print (x >= y)"
      ],
      "execution_count": null,
      "outputs": [
        {
          "output_type": "stream",
          "text": [
            "True\n"
          ],
          "name": "stdout"
        }
      ]
    },
    {
      "cell_type": "code",
      "metadata": {
        "colab": {
          "base_uri": "https://localhost:8080/"
        },
        "id": "oaHNk59zSsgE",
        "outputId": "1099c424-b23c-4d5b-87a1-1e1cc69d8353"
      },
      "source": [
        "print (x < y)"
      ],
      "execution_count": null,
      "outputs": [
        {
          "output_type": "stream",
          "text": [
            "False\n"
          ],
          "name": "stdout"
        }
      ]
    },
    {
      "cell_type": "code",
      "metadata": {
        "colab": {
          "base_uri": "https://localhost:8080/"
        },
        "id": "75CH254XSwRr",
        "outputId": "408c9a6a-7448-4578-a255-cd6af3081dc6"
      },
      "source": [
        "print (x <= y)"
      ],
      "execution_count": null,
      "outputs": [
        {
          "output_type": "stream",
          "text": [
            "False\n"
          ],
          "name": "stdout"
        }
      ]
    },
    {
      "cell_type": "code",
      "metadata": {
        "colab": {
          "base_uri": "https://localhost:8080/"
        },
        "id": "56PbDzwCSzNy",
        "outputId": "c8ab939a-bc7c-4097-d69b-7c03c48933fd"
      },
      "source": [
        "print (x == y)"
      ],
      "execution_count": null,
      "outputs": [
        {
          "output_type": "stream",
          "text": [
            "False\n"
          ],
          "name": "stdout"
        }
      ]
    },
    {
      "cell_type": "code",
      "metadata": {
        "colab": {
          "base_uri": "https://localhost:8080/"
        },
        "id": "A2wSJyUvS4j5",
        "outputId": "2d9ffe52-b93b-4318-bab6-8000d4f8c2fa"
      },
      "source": [
        "print (x != y)"
      ],
      "execution_count": null,
      "outputs": [
        {
          "output_type": "stream",
          "text": [
            "True\n"
          ],
          "name": "stdout"
        }
      ]
    },
    {
      "cell_type": "code",
      "metadata": {
        "id": "2qHIJbvaS78z"
      },
      "source": [
        ""
      ],
      "execution_count": null,
      "outputs": []
    },
    {
      "cell_type": "markdown",
      "metadata": {
        "id": "7EsNhlKnS_2o"
      },
      "source": [
        "# `Operadores Lógicos`\n",
        "\n",
        "```\n",
        "and - 'e'\n",
        "or - 'ou'\n",
        "not - 'não'\n",
        "\n",
        "```"
      ]
    },
    {
      "cell_type": "code",
      "metadata": {
        "id": "Ti8Q0KG4VNSM"
      },
      "source": [
        "x = 7 \n",
        "y = 5\n",
        "z = 4"
      ],
      "execution_count": null,
      "outputs": []
    },
    {
      "cell_type": "code",
      "metadata": {
        "colab": {
          "base_uri": "https://localhost:8080/"
        },
        "id": "KSR6LDRyVQuh",
        "outputId": "f3820d72-b797-4af2-fb9e-d6413e44ad4a"
      },
      "source": [
        "print (x > 5 and y > z)"
      ],
      "execution_count": null,
      "outputs": [
        {
          "output_type": "stream",
          "text": [
            "True\n"
          ],
          "name": "stdout"
        }
      ]
    },
    {
      "cell_type": "code",
      "metadata": {
        "colab": {
          "base_uri": "https://localhost:8080/"
        },
        "id": "_NEu4YRMVcZl",
        "outputId": "72071052-6ae4-4a6e-dd44-8b0fdadc367b"
      },
      "source": [
        "print (x > y or x < z)"
      ],
      "execution_count": null,
      "outputs": [
        {
          "output_type": "stream",
          "text": [
            "True\n"
          ],
          "name": "stdout"
        }
      ]
    },
    {
      "cell_type": "code",
      "metadata": {
        "colab": {
          "base_uri": "https://localhost:8080/"
        },
        "id": "b7gy628wVjhq",
        "outputId": "657d07bf-01f8-4e74-9772-839d711908a0"
      },
      "source": [
        "print (not x > y)"
      ],
      "execution_count": null,
      "outputs": [
        {
          "output_type": "stream",
          "text": [
            "False\n"
          ],
          "name": "stdout"
        }
      ]
    },
    {
      "cell_type": "code",
      "metadata": {
        "colab": {
          "base_uri": "https://localhost:8080/"
        },
        "id": "3DKWGwBjVl2L",
        "outputId": "c92fb538-377a-42d9-dde1-d4ab2b7c804a"
      },
      "source": [
        "print(not y > x)"
      ],
      "execution_count": null,
      "outputs": [
        {
          "output_type": "stream",
          "text": [
            "True\n"
          ],
          "name": "stdout"
        }
      ]
    },
    {
      "cell_type": "code",
      "metadata": {
        "id": "mrstL8UgVwWJ"
      },
      "source": [
        ""
      ],
      "execution_count": null,
      "outputs": []
    },
    {
      "cell_type": "markdown",
      "metadata": {
        "id": "BgTQXEhzV8id"
      },
      "source": [
        "# `input () - Entrada de dados`"
      ]
    },
    {
      "cell_type": "code",
      "metadata": {
        "colab": {
          "base_uri": "https://localhost:8080/"
        },
        "id": "fLvOyh7kfifT",
        "outputId": "c209cd77-fc54-458c-a6f9-54485f4886de"
      },
      "source": [
        "nome = input('Digite seu nome: ')\n",
        "idade = int (input('Digite a sua idade: '))\n",
        "print (f'Seu nome é:{nome}')\n",
        "print ('A sua idade é:{idade}')"
      ],
      "execution_count": null,
      "outputs": [
        {
          "output_type": "stream",
          "text": [
            "Digite seu nome: Cosmo\n",
            "Digite a sua idade: 36\n",
            "Seu nome é:Cosmo\n",
            "A sua idade é:{idade}\n"
          ],
          "name": "stdout"
        }
      ]
    },
    {
      "cell_type": "markdown",
      "metadata": {
        "id": "nd2SBOb7AlyL"
      },
      "source": [
        "# `Funções`"
      ]
    },
    {
      "cell_type": "code",
      "metadata": {
        "id": "qF-gisVwA7wo"
      },
      "source": [
        "# Criação da função com a palavra def ()\n",
        "def mensagem():\n",
        "    print ('Olá Tudo Bem !')"
      ],
      "execution_count": null,
      "outputs": []
    },
    {
      "cell_type": "code",
      "metadata": {
        "colab": {
          "base_uri": "https://localhost:8080/"
        },
        "id": "gQNxRn9mgDFk",
        "outputId": "140dc816-f514-488d-dac8-d88da177c2ba"
      },
      "source": [
        "# Chamar a função\n",
        "mensagem()"
      ],
      "execution_count": null,
      "outputs": [
        {
          "output_type": "stream",
          "text": [
            "Olá Tudo Bem !\n"
          ],
          "name": "stdout"
        }
      ]
    },
    {
      "cell_type": "code",
      "metadata": {
        "id": "UlMhK8j7gH9T"
      },
      "source": [
        "# Função com parâmetro\n",
        "def mensagem(msg):\n",
        "    print ('Olá', msg)"
      ],
      "execution_count": null,
      "outputs": []
    },
    {
      "cell_type": "code",
      "metadata": {
        "colab": {
          "base_uri": "https://localhost:8080/"
        },
        "id": "WL1RN2BBgulU",
        "outputId": "f7add653-bb21-4e50-81ae-6a596374810c"
      },
      "source": [
        "mensagem('Boa Noite!')"
      ],
      "execution_count": null,
      "outputs": [
        {
          "output_type": "stream",
          "text": [
            "Olá Boa Noite!\n"
          ],
          "name": "stdout"
        }
      ]
    },
    {
      "cell_type": "code",
      "metadata": {
        "id": "w5sf5cxog22Y"
      },
      "source": [
        "# Função com retorno\n",
        "def soma(x,y):\n",
        "    return x + y"
      ],
      "execution_count": null,
      "outputs": []
    },
    {
      "cell_type": "code",
      "metadata": {
        "colab": {
          "base_uri": "https://localhost:8080/"
        },
        "id": "ny82bxmchQtE",
        "outputId": "6368d7da-425d-4938-ac36-0ffdc39f7978"
      },
      "source": [
        "print (soma(10,6))"
      ],
      "execution_count": null,
      "outputs": [
        {
          "output_type": "stream",
          "text": [
            "16\n"
          ],
          "name": "stdout"
        }
      ]
    },
    {
      "cell_type": "code",
      "metadata": {
        "id": "riohSHPshTlI"
      },
      "source": [
        ""
      ],
      "execution_count": null,
      "outputs": []
    },
    {
      "cell_type": "markdown",
      "metadata": {
        "id": "velCTYgttk35"
      },
      "source": [
        "# `Condições - if else`"
      ]
    },
    {
      "cell_type": "code",
      "metadata": {
        "colab": {
          "base_uri": "https://localhost:8080/"
        },
        "id": "jJpu716lttbc",
        "outputId": "01fbea1c-072a-4474-dbe9-04b58c1ee160"
      },
      "source": [
        "idade = int (input ('Digite a sua idade: '))"
      ],
      "execution_count": null,
      "outputs": [
        {
          "output_type": "stream",
          "text": [
            "Digite a sua idade: 36\n"
          ],
          "name": "stdout"
        }
      ]
    },
    {
      "cell_type": "code",
      "metadata": {
        "colab": {
          "base_uri": "https://localhost:8080/"
        },
        "id": "WGe9UVXDt1Og",
        "outputId": "41776dc1-3928-4167-ccc0-ca20ebcb913b"
      },
      "source": [
        "if idade >= 18:\n",
        "    print ('Maior de idade!')\n",
        "else:\n",
        "    print ('Menor de idade')    "
      ],
      "execution_count": null,
      "outputs": [
        {
          "output_type": "stream",
          "text": [
            "Maior de idade!\n"
          ],
          "name": "stdout"
        }
      ]
    },
    {
      "cell_type": "code",
      "metadata": {
        "colab": {
          "base_uri": "https://localhost:8080/"
        },
        "id": "1ymSuXjpuQHB",
        "outputId": "00a13375-df1a-4d21-98d4-cbc9dd67d9c4"
      },
      "source": [
        "if idade >= 18:\n",
        "    print ('Maior de idade!')\n",
        "elif idade < 18:\n",
        "    print ('Menor de idade!')\n",
        "else:\n",
        "    print ('Melhor idade!')        "
      ],
      "execution_count": null,
      "outputs": [
        {
          "output_type": "stream",
          "text": [
            "Maior de idade!\n"
          ],
          "name": "stdout"
        }
      ]
    },
    {
      "cell_type": "markdown",
      "metadata": {
        "id": "Eyfn-pPwu3AH"
      },
      "source": [
        "# `Laços (for e while)`"
      ]
    },
    {
      "cell_type": "code",
      "metadata": {
        "colab": {
          "base_uri": "https://localhost:8080/"
        },
        "id": "ct9y5Sngu9wL",
        "outputId": "1b538f2a-e588-4f58-a14c-27a46e2aa8fb"
      },
      "source": [
        "x = 1\n",
        "\n",
        "while x < 10:\n",
        "    print (x)\n",
        "    x+=1"
      ],
      "execution_count": null,
      "outputs": [
        {
          "output_type": "stream",
          "text": [
            "1\n",
            "2\n",
            "3\n",
            "4\n",
            "5\n",
            "6\n",
            "7\n",
            "8\n",
            "9\n"
          ],
          "name": "stdout"
        }
      ]
    },
    {
      "cell_type": "code",
      "metadata": {
        "colab": {
          "base_uri": "https://localhost:8080/"
        },
        "id": "ggmwI-dFvuOq",
        "outputId": "fb40140d-4d23-4531-ee1b-a21fd3cbc3dc"
      },
      "source": [
        "for x in range(10):\n",
        "    print (x)"
      ],
      "execution_count": null,
      "outputs": [
        {
          "output_type": "stream",
          "text": [
            "0\n",
            "1\n",
            "2\n",
            "3\n",
            "4\n",
            "5\n",
            "6\n",
            "7\n",
            "8\n",
            "9\n"
          ],
          "name": "stdout"
        }
      ]
    },
    {
      "cell_type": "code",
      "metadata": {
        "id": "wjerOnTtwBdf"
      },
      "source": [
        "curso = 'Curso de Python'"
      ],
      "execution_count": null,
      "outputs": []
    },
    {
      "cell_type": "code",
      "metadata": {
        "colab": {
          "base_uri": "https://localhost:8080/"
        },
        "id": "YRhj9a78wfqU",
        "outputId": "c844e1db-b250-4e6c-fbde-cda9e5000840"
      },
      "source": [
        "for letra in curso:\n",
        "    print (letra)"
      ],
      "execution_count": null,
      "outputs": [
        {
          "output_type": "stream",
          "text": [
            "C\n",
            "u\n",
            "r\n",
            "s\n",
            "o\n",
            " \n",
            "d\n",
            "e\n",
            " \n",
            "P\n",
            "y\n",
            "t\n",
            "h\n",
            "o\n",
            "n\n"
          ],
          "name": "stdout"
        }
      ]
    },
    {
      "cell_type": "code",
      "metadata": {
        "colab": {
          "base_uri": "https://localhost:8080/"
        },
        "id": "zWT9yMNxwmru",
        "outputId": "0ded1ad4-7ceb-45cc-86e0-4db4fa060b68"
      },
      "source": [
        "lista = list(range(10))\n",
        "print (lista)"
      ],
      "execution_count": null,
      "outputs": [
        {
          "output_type": "stream",
          "text": [
            "[0, 1, 2, 3, 4, 5, 6, 7, 8, 9]\n"
          ],
          "name": "stdout"
        }
      ]
    },
    {
      "cell_type": "code",
      "metadata": {
        "colab": {
          "base_uri": "https://localhost:8080/"
        },
        "id": "22j9Af9TwwOe",
        "outputId": "2de3ff3e-911f-49aa-c2c3-07d6c84b08e3"
      },
      "source": [
        "for item in lista:\n",
        "    print (item)"
      ],
      "execution_count": null,
      "outputs": [
        {
          "output_type": "stream",
          "text": [
            "0\n",
            "1\n",
            "2\n",
            "3\n",
            "4\n",
            "5\n",
            "6\n",
            "7\n",
            "8\n",
            "9\n"
          ],
          "name": "stdout"
        }
      ]
    },
    {
      "cell_type": "code",
      "metadata": {
        "colab": {
          "base_uri": "https://localhost:8080/"
        },
        "id": "hJl2Wqk7w0nG",
        "outputId": "48902e6d-81cd-4b0b-f8e0-50d04380b0c5"
      },
      "source": [
        "for x in range(0,20,2):\n",
        "    print (x)"
      ],
      "execution_count": null,
      "outputs": [
        {
          "output_type": "stream",
          "text": [
            "0\n",
            "2\n",
            "4\n",
            "6\n",
            "8\n",
            "10\n",
            "12\n",
            "14\n",
            "16\n",
            "18\n"
          ],
          "name": "stdout"
        }
      ]
    },
    {
      "cell_type": "code",
      "metadata": {
        "colab": {
          "base_uri": "https://localhost:8080/"
        },
        "id": "Z1mej3iQx3oX",
        "outputId": "2a1c3ef6-ea8b-4f11-ad60-b75c84c8fb2b"
      },
      "source": [
        "import random\n",
        "aleatorio = random.randint(0,50)\n",
        "print (aleatorio)"
      ],
      "execution_count": null,
      "outputs": [
        {
          "output_type": "stream",
          "text": [
            "6\n"
          ],
          "name": "stdout"
        }
      ]
    },
    {
      "cell_type": "code",
      "metadata": {
        "colab": {
          "base_uri": "https://localhost:8080/"
        },
        "id": "vWEe0msGyUFo",
        "outputId": "5e46c729-f1c6-4a54-a92f-69ba392fb673"
      },
      "source": [
        "from random import  randint\n",
        "aleatorio = randint(0,50)\n",
        "print (aleatorio)"
      ],
      "execution_count": null,
      "outputs": [
        {
          "output_type": "stream",
          "text": [
            "38\n"
          ],
          "name": "stdout"
        }
      ]
    },
    {
      "cell_type": "code",
      "metadata": {
        "colab": {
          "base_uri": "https://localhost:8080/"
        },
        "id": "WXvWzdwf17aT",
        "outputId": "0ebf6337-8dda-476f-d4d7-034fe2f148c4"
      },
      "source": [
        "\n",
        "from random import  randint\n",
        "secreto = randint(0,10)\n",
        "chute = 0\n",
        "\n",
        "while  secreto != chute:\n",
        "    chute = int(input('Digite um número: '))\n",
        "    if secreto == chute:\n",
        "         print (f'Você ACERTOU! o número secreto foi: {secreto}')\n",
        "    else:\n",
        "       print ('Você ERROU! ')"
      ],
      "execution_count": null,
      "outputs": [
        {
          "output_type": "stream",
          "text": [
            "Digite um número: 1\n",
            "Você ERROU! \n",
            "Digite um número: 2\n",
            "Você ERROU! \n",
            "Digite um número: 3\n",
            "Você ERROU! \n",
            "Digite um número: 4\n",
            "Você ERROU! \n",
            "Digite um número: 5\n",
            "Você ACERTOU! o número secreto foi: 5\n"
          ],
          "name": "stdout"
        }
      ]
    },
    {
      "cell_type": "code",
      "metadata": {
        "colab": {
          "base_uri": "https://localhost:8080/"
        },
        "id": "59DCMO5d41ur",
        "outputId": "24333050-4ad6-4d4e-8b98-53b6b2d10b3c"
      },
      "source": [
        "from random import  randint\n",
        "senha = randint(0,10)\n",
        "\n",
        "for leitura in range( senha):\n",
        "    leitura = int (input ('Digite a senha!'))\n",
        "    if senha == leitura:\n",
        "         print ('Acesso liberado!')\n",
        "         break\n",
        "    else:\n",
        "        print ('Senha incorreta , tente novamente')"
      ],
      "execution_count": null,
      "outputs": [
        {
          "output_type": "stream",
          "text": [
            "Digite a senha!7\n",
            "Senha incorreta , tente novamente\n",
            "Digite a senha!7\n",
            "Senha incorreta , tente novamente\n",
            "Digite a senha!9\n",
            "Senha incorreta , tente novamente\n",
            "Digite a senha!8\n",
            "Acesso liberado!\n"
          ],
          "name": "stdout"
        }
      ]
    },
    {
      "cell_type": "markdown",
      "metadata": {
        "id": "hYgs5vQl2R_m"
      },
      "source": [
        "`break`"
      ]
    },
    {
      "cell_type": "code",
      "metadata": {
        "colab": {
          "base_uri": "https://localhost:8080/"
        },
        "id": "gzKAPj9oweIP",
        "outputId": "6779e4a1-5223-408a-de82-c7e317e68d5e"
      },
      "source": [
        "for i in \"Python\":\n",
        "        if i == \"h\":\n",
        "            break\n",
        "        print(i)\n",
        "print(\" Fim do loop\")"
      ],
      "execution_count": null,
      "outputs": [
        {
          "output_type": "stream",
          "text": [
            "P\n",
            "y\n",
            "t\n",
            " Fim do loop\n"
          ],
          "name": "stdout"
        }
      ]
    },
    {
      "cell_type": "markdown",
      "metadata": {
        "id": "AEM47Evi2ZHM"
      },
      "source": [
        "`continue`"
      ]
    },
    {
      "cell_type": "code",
      "metadata": {
        "colab": {
          "base_uri": "https://localhost:8080/"
        },
        "id": "kWZvjdkOwo3B",
        "outputId": "2eac24da-e2b4-4bc4-b744-9fbe62aa7649"
      },
      "source": [
        "for i in \"Python\":\n",
        "        if i == \"h\":\n",
        "            continue\n",
        "        print(i)\n",
        "print(\"Fim do loop\")"
      ],
      "execution_count": null,
      "outputs": [
        {
          "output_type": "stream",
          "text": [
            "P\n",
            "y\n",
            "t\n",
            "o\n",
            "n\n",
            "Fim do loop\n"
          ],
          "name": "stdout"
        }
      ]
    },
    {
      "cell_type": "markdown",
      "metadata": {
        "id": "3pdDRaDt2faF"
      },
      "source": [
        "`enumerate`"
      ]
    },
    {
      "cell_type": "code",
      "metadata": {
        "colab": {
          "base_uri": "https://localhost:8080/"
        },
        "id": "IWF4O9-S2mmk",
        "outputId": "8abf7ac5-91a1-426b-c0d1-b8c4e6520935"
      },
      "source": [
        "lista = [\"p\", \"y\", \"t\", \"h\", \"o\", \"n\"]\n",
        "\n",
        "for item in lista:\n",
        "    print (item)"
      ],
      "execution_count": null,
      "outputs": [
        {
          "output_type": "stream",
          "text": [
            "p\n",
            "y\n",
            "t\n",
            "h\n",
            "o\n",
            "n\n"
          ],
          "name": "stdout"
        }
      ]
    },
    {
      "cell_type": "code",
      "metadata": {
        "colab": {
          "base_uri": "https://localhost:8080/"
        },
        "id": "SAnQNjbd2_Hk",
        "outputId": "790543b5-059c-432e-a655-ad75ecb0f038"
      },
      "source": [
        "for chave, item in enumerate(lista):\n",
        "    print (chave,item)\n"
      ],
      "execution_count": null,
      "outputs": [
        {
          "output_type": "stream",
          "text": [
            "0 p\n",
            "1 y\n",
            "2 t\n",
            "3 h\n",
            "4 o\n",
            "5 n\n"
          ],
          "name": "stdout"
        }
      ]
    },
    {
      "cell_type": "markdown",
      "metadata": {
        "id": "Ppzqz_fSxBnv"
      },
      "source": [
        "# `Erros em Python`"
      ]
    },
    {
      "cell_type": "markdown",
      "metadata": {
        "id": "ATSLRt8M0sP0"
      },
      "source": [
        "```\n",
        "try:\n",
        "    código a tentar\n",
        "except AlgumaExcecao:\n",
        "    código a executar no caso da exceção\n",
        "else:\n",
        "    código a executar caso não ocorra exceção em try\n",
        "finally:\n",
        "    código que é executado sempre, independente de haver uma exceção em andamento ou não\n",
        "\n",
        "```\n",
        "\n",
        "\n",
        "\n"
      ]
    },
    {
      "cell_type": "code",
      "metadata": {
        "colab": {
          "base_uri": "https://localhost:8080/",
          "height": 209
        },
        "id": "ohzBAIOhxGjV",
        "outputId": "cbc8afe8-802e-4ba6-8526-5b5b023df23c"
      },
      "source": [
        "x = 12\n",
        "y = 0\n",
        "z = x/y\n"
      ],
      "execution_count": null,
      "outputs": [
        {
          "output_type": "error",
          "ename": "ZeroDivisionError",
          "evalue": "ignored",
          "traceback": [
            "\u001b[0;31m---------------------------------------------------------------------------\u001b[0m",
            "\u001b[0;31mZeroDivisionError\u001b[0m                         Traceback (most recent call last)",
            "\u001b[0;32m<ipython-input-8-20995fd532f1>\u001b[0m in \u001b[0;36m<module>\u001b[0;34m()\u001b[0m\n\u001b[1;32m      1\u001b[0m \u001b[0mx\u001b[0m \u001b[0;34m=\u001b[0m \u001b[0;36m12\u001b[0m\u001b[0;34m\u001b[0m\u001b[0;34m\u001b[0m\u001b[0m\n\u001b[1;32m      2\u001b[0m \u001b[0my\u001b[0m \u001b[0;34m=\u001b[0m \u001b[0;36m0\u001b[0m\u001b[0;34m\u001b[0m\u001b[0;34m\u001b[0m\u001b[0m\n\u001b[0;32m----> 3\u001b[0;31m \u001b[0mz\u001b[0m \u001b[0;34m=\u001b[0m \u001b[0mx\u001b[0m\u001b[0;34m/\u001b[0m\u001b[0my\u001b[0m\u001b[0;34m\u001b[0m\u001b[0;34m\u001b[0m\u001b[0m\n\u001b[0m",
            "\u001b[0;31mZeroDivisionError\u001b[0m: division by zero"
          ]
        }
      ]
    },
    {
      "cell_type": "code",
      "metadata": {
        "colab": {
          "base_uri": "https://localhost:8080/"
        },
        "id": "ILWbZn1VyBTe",
        "outputId": "1b125e97-e704-4831-9fd9-002addc03531"
      },
      "source": [
        "try:\n",
        "    z = x/y \n",
        "except ZeroDivisionError:\n",
        "    print('Erro: divisão por zero')"
      ],
      "execution_count": null,
      "outputs": [
        {
          "output_type": "stream",
          "text": [
            "Erro: divisão por zero\n"
          ],
          "name": "stdout"
        }
      ]
    },
    {
      "cell_type": "code",
      "metadata": {
        "colab": {
          "base_uri": "https://localhost:8080/"
        },
        "id": "DT-Pbf9C14aw",
        "outputId": "f5b1e6bc-ed1a-47ef-f31e-84a70f3510d3"
      },
      "source": [
        "try:\n",
        "    z = x/y \n",
        "except ZeroDivisionError:\n",
        "    print('Erro: divisão por zero')\n",
        "finally:\n",
        "    print ('Fim')    "
      ],
      "execution_count": null,
      "outputs": [
        {
          "output_type": "stream",
          "text": [
            "Erro: divisão por zero\n",
            "Fim\n"
          ],
          "name": "stdout"
        }
      ]
    },
    {
      "cell_type": "markdown",
      "metadata": {
        "id": "S51BItS33b-R"
      },
      "source": [
        "# `Data em Python`"
      ]
    },
    {
      "cell_type": "code",
      "metadata": {
        "colab": {
          "base_uri": "https://localhost:8080/"
        },
        "id": "IFDTFRFy3mEv",
        "outputId": "d41af420-5dd1-4839-a5eb-27b1dd0e09c0"
      },
      "source": [
        "from datetime import date\n",
        "\n",
        "data_atual = date.today()\n",
        "print(data_atual)"
      ],
      "execution_count": null,
      "outputs": [
        {
          "output_type": "stream",
          "text": [
            "2020-11-25\n"
          ],
          "name": "stdout"
        }
      ]
    },
    {
      "cell_type": "code",
      "metadata": {
        "colab": {
          "base_uri": "https://localhost:8080/"
        },
        "id": "afl9whQI33ZE",
        "outputId": "dd3dd12b-ab15-469f-d5d7-d92c2206eceb"
      },
      "source": [
        "data_em_texto = '{}/{}/{}'.format(data_atual.day, data_atual.month,data_atual.year)\n",
        "print (data_em_texto)"
      ],
      "execution_count": null,
      "outputs": [
        {
          "output_type": "stream",
          "text": [
            "25/11/2020\n"
          ],
          "name": "stdout"
        }
      ]
    },
    {
      "cell_type": "code",
      "metadata": {
        "colab": {
          "base_uri": "https://localhost:8080/"
        },
        "id": "1aVTLxvv4kJA",
        "outputId": "e9447cab-a7a2-4db5-d63b-920a0748e3c0"
      },
      "source": [
        "data_em_texto = data_atual.strftime('%d/%m/%Y')\n",
        "print(data_em_texto)"
      ],
      "execution_count": null,
      "outputs": [
        {
          "output_type": "stream",
          "text": [
            "25/11/2020\n"
          ],
          "name": "stdout"
        }
      ]
    },
    {
      "cell_type": "code",
      "metadata": {
        "colab": {
          "base_uri": "https://localhost:8080/"
        },
        "id": "t08QSG454zR_",
        "outputId": "51ac2fde-ac15-4eca-8649-cc92d40bf9e7"
      },
      "source": [
        "from datetime import datetime\n",
        "data_e_hora_atuais = datetime.now()\n",
        "data_e_hora_em_texto = data_e_hora_atuais.strftime('%d/%m/%Y')\n",
        "\n",
        "print(data_e_hora_em_texto)"
      ],
      "execution_count": null,
      "outputs": [
        {
          "output_type": "stream",
          "text": [
            "25/11/2020\n"
          ],
          "name": "stdout"
        }
      ]
    },
    {
      "cell_type": "markdown",
      "metadata": {
        "id": "OFq0TYkQ5tVL"
      },
      "source": [
        "# `Manipulando Arquivos`\n",
        "\n",
        "```\n",
        "Mode\tExplicação\n",
        "r\tAbre o arquivo somente para leitura\n",
        "r+\tAbre o arquivo para leitura e escrita, o ponteiro é colocado no início do arquivo\n",
        "w\tAbre o arquivo somete para escrita, o ponteiro é colocado no início do arquivo, qualquer informação contida no arquivo é removida e se o arquivo não existir, ele é criado\n",
        "w+\tAbre o arquivo para escrita e leitura, o ponteiro é colocado no início do arquivo e qualquer informação contida no arquivo é removida, se o arquivo não existir ele é criado\n",
        "a\tAbre o arquivo somente para escrita, o ponteiro é colocado no final do arquivo, por tanto é possível adicionar informações\n",
        "a+\tAbre o arquivo para escrita e leitura, o ponteiro é colocado no final do arquivo, por tanto é possível adicionar informações\n",
        "\n",
        "```"
      ]
    },
    {
      "cell_type": "code",
      "metadata": {
        "id": "lU7WGX6K51y3"
      },
      "source": [
        "arq = open('lista.txt', 'w')\n",
        "texto = \"\"\"\n",
        "Lista de Alunos\n",
        "---\n",
        "João da Silva\n",
        "José Lima\n",
        "Maria das Dores\n",
        "\"\"\"\n",
        "arq.write(texto)\n",
        "arq.close()"
      ],
      "execution_count": null,
      "outputs": []
    },
    {
      "cell_type": "code",
      "metadata": {
        "id": "c-R0hayh8eDM"
      },
      "source": [
        "arq = open('lista.txt', 'w')\n",
        "texto = \"\"\"\n",
        "Lista de Alunos\n",
        "---\n",
        "João da Silva\n",
        "José Lima\n",
        "Maria das Dores\n",
        "\"\"\"\n",
        "arq.write(texto)\n",
        "arq.close()"
      ],
      "execution_count": null,
      "outputs": []
    },
    {
      "cell_type": "code",
      "metadata": {
        "colab": {
          "base_uri": "https://localhost:8080/"
        },
        "id": "uW1gZ5m67hAt",
        "outputId": "29c3f78d-4095-4010-f4ce-61eba400245b"
      },
      "source": [
        "arq = open('lista.txt', 'r')\n",
        "texto = arq.readlines()\n",
        "for linha in texto :\n",
        "    print(linha)\n",
        "arq.close()"
      ],
      "execution_count": null,
      "outputs": [
        {
          "output_type": "stream",
          "text": [
            "Lista de Alunos\n",
            "\n",
            "---\n",
            "\n",
            "João da Silva\n",
            "\n",
            "José Lima\n",
            "\n",
            "Maria das Dores\n"
          ],
          "name": "stdout"
        }
      ]
    },
    {
      "cell_type": "code",
      "metadata": {
        "id": "yifYR5DK8Sat"
      },
      "source": [
        "with open('test.txt', 'w') as f:\n",
        "  f.write(\"\"\"\n",
        "Lista de Alunos\n",
        "---\n",
        "João da Silva\n",
        "José Lima\n",
        "Maria das Dores\n",
        "\"\"\")\n",
        "  "
      ],
      "execution_count": null,
      "outputs": []
    },
    {
      "cell_type": "code",
      "metadata": {
        "colab": {
          "base_uri": "https://localhost:8080/"
        },
        "id": "6pQJjv7B8zNU",
        "outputId": "897a0544-841a-437d-fbb1-c1aed9ad50ca"
      },
      "source": [
        "with open('test.txt', 'r') as f:  \n",
        "  print(f.read())"
      ],
      "execution_count": null,
      "outputs": [
        {
          "output_type": "stream",
          "text": [
            "\n",
            "Lista de Alunos\n",
            "---\n",
            "João da Silva\n",
            "José Lima\n",
            "Maria das Dores\n",
            "\n"
          ],
          "name": "stdout"
        }
      ]
    },
    {
      "cell_type": "markdown",
      "metadata": {
        "id": "NYl7ovcu-YQu"
      },
      "source": [
        "# `Classe em Python`"
      ]
    },
    {
      "cell_type": "code",
      "metadata": {
        "id": "7zCu265h-fnK"
      },
      "source": [
        "class Pessoa:\n",
        "    pass\n",
        "\n",
        "pessoa1 = Pessoa()\n",
        "pessoa1.nome = 'Cosmo'\n",
        "pessoa1.idade = 36\n",
        "\n",
        "pessoa2 = Pessoa()\n",
        "pessoa2.nome = 'Lucas'\n",
        "pessoa2.idade = 16"
      ],
      "execution_count": null,
      "outputs": []
    },
    {
      "cell_type": "code",
      "metadata": {
        "colab": {
          "base_uri": "https://localhost:8080/"
        },
        "id": "jlKWIwCG-zaC",
        "outputId": "efd65ec5-3fac-46bd-b7bc-4d83a74b1fa9"
      },
      "source": [
        "print (pessoa1.nome,pessoa1.idade)\n",
        "print (pessoa2.nome,pessoa2.idade)"
      ],
      "execution_count": null,
      "outputs": [
        {
          "output_type": "stream",
          "text": [
            "Cosmo 36\n",
            "Lucas 16\n"
          ],
          "name": "stdout"
        }
      ]
    },
    {
      "cell_type": "code",
      "metadata": {
        "id": "qC3f0ST-_Rkd"
      },
      "source": [
        "class Pessoa:\n",
        "    def __init__(self,nome,idade):\n",
        "        self.nome = nome\n",
        "        self.idade = idade\n",
        "\n",
        "    def imprimir_dados(self):\n",
        "        return(f'Nome:{self.nome} - Idade: {self.idade}')    \n",
        "\n",
        "\n",
        "\n",
        "pessoa1 = Pessoa('Cosmo',36)\n",
        "\n",
        "pessoa2 = Pessoa('Felipe',18)\n"
      ],
      "execution_count": null,
      "outputs": []
    },
    {
      "cell_type": "code",
      "metadata": {
        "colab": {
          "base_uri": "https://localhost:8080/"
        },
        "id": "T-pd6j53AJyG",
        "outputId": "0420fd18-397e-4ace-bfaa-a1bd7da92883"
      },
      "source": [
        "print (pessoa1.imprimir_dados())\n",
        "print (pessoa2.imprimir_dados())"
      ],
      "execution_count": null,
      "outputs": [
        {
          "output_type": "stream",
          "text": [
            "Nome:Cosmo - Idade: 36\n",
            "Nome:Felipe - Idade: 18\n"
          ],
          "name": "stdout"
        }
      ]
    },
    {
      "cell_type": "code",
      "metadata": {
        "id": "vZXkStlXAnYD"
      },
      "source": [
        "class Pessoa:\n",
        "    def __init__(self,nome,idade):\n",
        "        self.nome = nome\n",
        "        self.idade = idade\n",
        "\n",
        "    def __str__(self):\n",
        "        return(f'Nome:{self.nome} - Idade: {self.idade}')    \n",
        "\n",
        "\n",
        "\n",
        "pessoa1 = Pessoa('Cosmo',36)\n",
        "\n",
        "pessoa2 = Pessoa('Felipe',18)\n"
      ],
      "execution_count": null,
      "outputs": []
    },
    {
      "cell_type": "code",
      "metadata": {
        "colab": {
          "base_uri": "https://localhost:8080/"
        },
        "id": "QFl4C32HAtvX",
        "outputId": "71d2a8ad-1b52-4538-81a3-089ae7d9cda9"
      },
      "source": [
        "print (pessoa1)\n",
        "print (pessoa2)"
      ],
      "execution_count": null,
      "outputs": [
        {
          "output_type": "stream",
          "text": [
            "Nome:Cosmo - Idade: 36\n",
            "Nome:Felipe - Idade: 18\n"
          ],
          "name": "stdout"
        }
      ]
    },
    {
      "cell_type": "code",
      "metadata": {
        "id": "Lui_xq-uBR43"
      },
      "source": [
        "class Animal:\n",
        "    def __init__(self,nome,cor,especie):\n",
        "        self.nome = nome\n",
        "        self.cor = cor\n",
        "        self.especie = especie\n",
        "\n",
        "    def __str__(self):\n",
        "        return (f'Nome:{self.nome} - Cor:{self.cor} - Espécie:{self.especie}') \n",
        "\n",
        "cao = Animal('Toto','branco','canino')\n",
        "gato = Animal ('Bilu','preto','felino')               "
      ],
      "execution_count": null,
      "outputs": []
    },
    {
      "cell_type": "code",
      "metadata": {
        "colab": {
          "base_uri": "https://localhost:8080/"
        },
        "id": "GGME96NbDHuA",
        "outputId": "bb46ec2c-bdaf-4272-f079-5cc9b60a6d0c"
      },
      "source": [
        "print (cao)\n",
        "print (gato)"
      ],
      "execution_count": null,
      "outputs": [
        {
          "output_type": "stream",
          "text": [
            "Nome:Toto - Cor:branco - Espécie:canino\n",
            "Nome:Bilu - Cor:preto - Espécie:felino\n"
          ],
          "name": "stdout"
        }
      ]
    },
    {
      "cell_type": "markdown",
      "metadata": {
        "id": "oSu3sVq6JQdO"
      },
      "source": [
        "`Herança em Python`"
      ]
    },
    {
      "cell_type": "code",
      "metadata": {
        "id": "OGLd6HFNDhc8"
      },
      "source": [
        "class Animal:\n",
        "    def __init__(self,nome,cor,especie):\n",
        "        self.nome = nome\n",
        "        self.cor = cor\n",
        "        self.especie = especie\n",
        "\n",
        "    def mensagem(self):\n",
        "        return(f'{self.nome} - Lindo!')     \n",
        "\n",
        "class Cachorro(Animal):\n",
        "    def __init__(self,nome,cor,especie,raca):\n",
        "        super().__init__(nome,cor,especie)\n",
        "        self.raca = raca\n",
        "\n",
        "    def __str__(self):\n",
        "        return (f'Nome:{self.nome} - Cor:{self.cor} - Espécie:{self.especie} - Raça:{self.raca}')     \n",
        "\n",
        "    "
      ],
      "execution_count": null,
      "outputs": []
    },
    {
      "cell_type": "code",
      "metadata": {
        "colab": {
          "base_uri": "https://localhost:8080/"
        },
        "id": "sCzsk0rAGrxE",
        "outputId": "baa23846-13e0-4a45-ca16-58a085a741d7"
      },
      "source": [
        "animal = Cachorro('Toto','pardo','Canino','Vira-Lata')\n",
        "print (animal)\n",
        "print (animal.mensagem())"
      ],
      "execution_count": null,
      "outputs": [
        {
          "output_type": "stream",
          "text": [
            "Nome:Toto - Cor:pardo - Espécie:Canino - Raça:Vira-Lata\n",
            "Toto - Lindo!\n"
          ],
          "name": "stdout"
        }
      ]
    },
    {
      "cell_type": "markdown",
      "metadata": {
        "id": "dFw2D-En1Zki"
      },
      "source": [
        "# `Programa jogar Dado`"
      ]
    },
    {
      "cell_type": "code",
      "metadata": {
        "colab": {
          "base_uri": "https://localhost:8080/"
        },
        "id": "dkE4t7-E1smB",
        "outputId": "cb2bb743-fdad-4c02-ef86-b5effb8e197e"
      },
      "source": [
        "import random\n",
        "print(\"Este é um siimulador de dados\")\n",
        "x = \"y\"\n",
        "\n",
        "while x == \"y\":\n",
        "    number = random.randint(1,6)\n",
        "\n",
        "    if number == 1:\n",
        "        print(\"----------\")\n",
        "        print(\"|        |\")\n",
        "        print(\"|    O   |\")\n",
        "        print(\"|        |\")\n",
        "        print(\"----------\")\n",
        "    if number == 2:\n",
        "        print(\"----------\")\n",
        "        print(\"|        |\")\n",
        "        print(\"| O    O |\")\n",
        "        print(\"|        |\")\n",
        "        print(\"----------\")\n",
        "    if number == 3:\n",
        "        print(\"----------\")\n",
        "        print(\"|    O   |\")\n",
        "        print(\"|    O   |\")\n",
        "        print(\"|    O   |\")\n",
        "        print(\"----------\")\n",
        "    if number == 4:\n",
        "        print(\"----------\")\n",
        "        print(\"| O    O |\")\n",
        "        print(\"|        |\")\n",
        "        print(\"| O    O |\")\n",
        "        print(\"----------\")\n",
        "    if number == 5:\n",
        "        print(\"----------\")\n",
        "        print(\"| O    O |\")\n",
        "        print(\"|    O   |\")\n",
        "        print(\"| O    O |\")\n",
        "        print(\"----------\")\n",
        "    if number == 6:\n",
        "        print(\"----------\")\n",
        "        print(\"| O    O |\")\n",
        "        print(\"| O    O |\")\n",
        "        print(\"| O    O |\")\n",
        "        print(\"----------\")\n",
        "    x = input(\"Pressione 'y' para rolar novamente: \")\n",
        "    \n"
      ],
      "execution_count": null,
      "outputs": [
        {
          "output_type": "stream",
          "text": [
            "Este é um siimulador de dados\n",
            "----------\n",
            "|        |\n",
            "|    O   |\n",
            "|        |\n",
            "----------\n",
            "Pressione 'y' para rolar novamente: y\n",
            "----------\n",
            "| O    O |\n",
            "| O    O |\n",
            "| O    O |\n",
            "----------\n",
            "Pressione 'y' para rolar novamente: x\n"
          ],
          "name": "stdout"
        }
      ]
    },
    {
      "cell_type": "markdown",
      "metadata": {
        "id": "wEdfa7qf938B"
      },
      "source": [
        "# `Numpy`"
      ]
    },
    {
      "cell_type": "code",
      "metadata": {
        "id": "JuiSMDjd-Bap"
      },
      "source": [
        "import numpy as np"
      ],
      "execution_count": null,
      "outputs": []
    },
    {
      "cell_type": "code",
      "metadata": {
        "colab": {
          "base_uri": "https://localhost:8080/"
        },
        "id": "gVemQZ_0-HNR",
        "outputId": "f2565044-0dc0-467b-bfc1-d37bc88d56b1"
      },
      "source": [
        "x = [[1,2,3],[4,5,6],[7,8,9]]\n",
        "print (x)\n",
        "print (type(x))"
      ],
      "execution_count": null,
      "outputs": [
        {
          "output_type": "stream",
          "text": [
            "[[1, 2, 3], [4, 5, 6], [7, 8, 9]]\n",
            "<class 'list'>\n"
          ],
          "name": "stdout"
        }
      ]
    },
    {
      "cell_type": "code",
      "metadata": {
        "colab": {
          "base_uri": "https://localhost:8080/"
        },
        "id": "fu5MbZqh-jdD",
        "outputId": "eb19148d-d43d-4c37-be2f-1fc2defad376"
      },
      "source": [
        "y = np.array(x)\n",
        "print (y)\n",
        "print (type(y))"
      ],
      "execution_count": null,
      "outputs": [
        {
          "output_type": "stream",
          "text": [
            "[[1 2 3]\n",
            " [4 5 6]\n",
            " [7 8 9]]\n",
            "<class 'numpy.ndarray'>\n"
          ],
          "name": "stdout"
        }
      ]
    },
    {
      "cell_type": "code",
      "metadata": {
        "colab": {
          "base_uri": "https://localhost:8080/"
        },
        "id": "RKPcefrF_KFE",
        "outputId": "e5a30835-7b34-4acf-a8db-d5d0cc3ccd4c"
      },
      "source": [
        "print (y[0])"
      ],
      "execution_count": null,
      "outputs": [
        {
          "output_type": "stream",
          "text": [
            "[1 2 3]\n"
          ],
          "name": "stdout"
        }
      ]
    },
    {
      "cell_type": "code",
      "metadata": {
        "colab": {
          "base_uri": "https://localhost:8080/"
        },
        "id": "aVuzd5O_AB9e",
        "outputId": "a7be2ebb-619a-49ef-eead-8971b79bd792"
      },
      "source": [
        "x = [0,1,2,3,4,5,6]\n",
        "x"
      ],
      "execution_count": null,
      "outputs": [
        {
          "output_type": "execute_result",
          "data": {
            "text/plain": [
              "[0, 1, 2, 3, 4, 5, 6]"
            ]
          },
          "metadata": {
            "tags": []
          },
          "execution_count": 33
        }
      ]
    },
    {
      "cell_type": "code",
      "metadata": {
        "colab": {
          "base_uri": "https://localhost:8080/"
        },
        "id": "ZR8i0wnsAI27",
        "outputId": "07825829-6ced-40dc-8e94-32dc31bd2d8c"
      },
      "source": [
        "x = np.array(x)\n",
        "x"
      ],
      "execution_count": null,
      "outputs": [
        {
          "output_type": "execute_result",
          "data": {
            "text/plain": [
              "array([0, 1, 2, 3, 4, 5, 6])"
            ]
          },
          "metadata": {
            "tags": []
          },
          "execution_count": 34
        }
      ]
    },
    {
      "cell_type": "code",
      "metadata": {
        "colab": {
          "base_uri": "https://localhost:8080/"
        },
        "id": "jRInqcexAS1v",
        "outputId": "077fae74-8229-49ff-aee2-8ccae2ee3c5c"
      },
      "source": [
        "z = np.zeros((5))\n",
        "z"
      ],
      "execution_count": null,
      "outputs": [
        {
          "output_type": "execute_result",
          "data": {
            "text/plain": [
              "array([0., 0., 0., 0., 0.])"
            ]
          },
          "metadata": {
            "tags": []
          },
          "execution_count": 36
        }
      ]
    },
    {
      "cell_type": "code",
      "metadata": {
        "colab": {
          "base_uri": "https://localhost:8080/"
        },
        "id": "S84ykYBsAhJx",
        "outputId": "f6008661-dcc9-499a-e0be-49b8f1225ff2"
      },
      "source": [
        "z = np.zeros((3,4))\n",
        "z"
      ],
      "execution_count": null,
      "outputs": [
        {
          "output_type": "execute_result",
          "data": {
            "text/plain": [
              "array([[0., 0., 0., 0.],\n",
              "       [0., 0., 0., 0.],\n",
              "       [0., 0., 0., 0.]])"
            ]
          },
          "metadata": {
            "tags": []
          },
          "execution_count": 38
        }
      ]
    },
    {
      "cell_type": "code",
      "metadata": {
        "colab": {
          "base_uri": "https://localhost:8080/"
        },
        "id": "xHHVIjaLAsdf",
        "outputId": "970d9ec6-b6b3-4f8c-bf33-8e4183abc0c7"
      },
      "source": [
        "np.ones((3,4))"
      ],
      "execution_count": null,
      "outputs": [
        {
          "output_type": "execute_result",
          "data": {
            "text/plain": [
              "array([[1., 1., 1., 1.],\n",
              "       [1., 1., 1., 1.],\n",
              "       [1., 1., 1., 1.]])"
            ]
          },
          "metadata": {
            "tags": []
          },
          "execution_count": 39
        }
      ]
    },
    {
      "cell_type": "code",
      "metadata": {
        "colab": {
          "base_uri": "https://localhost:8080/"
        },
        "id": "UnmO_lF6BDHo",
        "outputId": "4836876e-24ad-4e29-9934-d3bda1ff8a61"
      },
      "source": [
        "np.eye((5))"
      ],
      "execution_count": null,
      "outputs": [
        {
          "output_type": "execute_result",
          "data": {
            "text/plain": [
              "array([[1., 0., 0., 0., 0.],\n",
              "       [0., 1., 0., 0., 0.],\n",
              "       [0., 0., 1., 0., 0.],\n",
              "       [0., 0., 0., 1., 0.],\n",
              "       [0., 0., 0., 0., 1.]])"
            ]
          },
          "metadata": {
            "tags": []
          },
          "execution_count": 41
        }
      ]
    },
    {
      "cell_type": "code",
      "metadata": {
        "colab": {
          "base_uri": "https://localhost:8080/"
        },
        "id": "79Tf-GtgBYH9",
        "outputId": "565a799d-1a2f-4916-dd75-b3181bbb7465"
      },
      "source": [
        "np.arange(11)"
      ],
      "execution_count": null,
      "outputs": [
        {
          "output_type": "execute_result",
          "data": {
            "text/plain": [
              "array([ 0,  1,  2,  3,  4,  5,  6,  7,  8,  9, 10])"
            ]
          },
          "metadata": {
            "tags": []
          },
          "execution_count": 43
        }
      ]
    },
    {
      "cell_type": "code",
      "metadata": {
        "colab": {
          "base_uri": "https://localhost:8080/"
        },
        "id": "lqufPFtgBmL9",
        "outputId": "5910a2ba-170e-4240-bed5-1921eca03034"
      },
      "source": [
        "np.arange(0,101)"
      ],
      "execution_count": null,
      "outputs": [
        {
          "output_type": "execute_result",
          "data": {
            "text/plain": [
              "array([  0,   1,   2,   3,   4,   5,   6,   7,   8,   9,  10,  11,  12,\n",
              "        13,  14,  15,  16,  17,  18,  19,  20,  21,  22,  23,  24,  25,\n",
              "        26,  27,  28,  29,  30,  31,  32,  33,  34,  35,  36,  37,  38,\n",
              "        39,  40,  41,  42,  43,  44,  45,  46,  47,  48,  49,  50,  51,\n",
              "        52,  53,  54,  55,  56,  57,  58,  59,  60,  61,  62,  63,  64,\n",
              "        65,  66,  67,  68,  69,  70,  71,  72,  73,  74,  75,  76,  77,\n",
              "        78,  79,  80,  81,  82,  83,  84,  85,  86,  87,  88,  89,  90,\n",
              "        91,  92,  93,  94,  95,  96,  97,  98,  99, 100])"
            ]
          },
          "metadata": {
            "tags": []
          },
          "execution_count": 45
        }
      ]
    },
    {
      "cell_type": "code",
      "metadata": {
        "colab": {
          "base_uri": "https://localhost:8080/"
        },
        "id": "YRKFzMJpBzkf",
        "outputId": "84f87b8c-6ff3-4f22-d4fb-c027b6f96dfc"
      },
      "source": [
        "np.arange(0,101,2)"
      ],
      "execution_count": null,
      "outputs": [
        {
          "output_type": "execute_result",
          "data": {
            "text/plain": [
              "array([  0,   2,   4,   6,   8,  10,  12,  14,  16,  18,  20,  22,  24,\n",
              "        26,  28,  30,  32,  34,  36,  38,  40,  42,  44,  46,  48,  50,\n",
              "        52,  54,  56,  58,  60,  62,  64,  66,  68,  70,  72,  74,  76,\n",
              "        78,  80,  82,  84,  86,  88,  90,  92,  94,  96,  98, 100])"
            ]
          },
          "metadata": {
            "tags": []
          },
          "execution_count": 46
        }
      ]
    },
    {
      "cell_type": "code",
      "metadata": {
        "colab": {
          "base_uri": "https://localhost:8080/"
        },
        "id": "GSKZOOhNCYEH",
        "outputId": "35addcc2-b260-493a-90d6-18cad3f178b4"
      },
      "source": [
        "np.arange(50).reshape(5,10)"
      ],
      "execution_count": null,
      "outputs": [
        {
          "output_type": "execute_result",
          "data": {
            "text/plain": [
              "array([[ 0,  1,  2,  3,  4,  5,  6,  7,  8,  9],\n",
              "       [10, 11, 12, 13, 14, 15, 16, 17, 18, 19],\n",
              "       [20, 21, 22, 23, 24, 25, 26, 27, 28, 29],\n",
              "       [30, 31, 32, 33, 34, 35, 36, 37, 38, 39],\n",
              "       [40, 41, 42, 43, 44, 45, 46, 47, 48, 49]])"
            ]
          },
          "metadata": {
            "tags": []
          },
          "execution_count": 47
        }
      ]
    },
    {
      "cell_type": "code",
      "metadata": {
        "colab": {
          "base_uri": "https://localhost:8080/"
        },
        "id": "OF6KalvpClR0",
        "outputId": "7095a8c4-5754-437c-9446-a2bad94d0bc1"
      },
      "source": [
        "np.linspace(0,100.5)"
      ],
      "execution_count": null,
      "outputs": [
        {
          "output_type": "execute_result",
          "data": {
            "text/plain": [
              "array([  0.        ,   2.05102041,   4.10204082,   6.15306122,\n",
              "         8.20408163,  10.25510204,  12.30612245,  14.35714286,\n",
              "        16.40816327,  18.45918367,  20.51020408,  22.56122449,\n",
              "        24.6122449 ,  26.66326531,  28.71428571,  30.76530612,\n",
              "        32.81632653,  34.86734694,  36.91836735,  38.96938776,\n",
              "        41.02040816,  43.07142857,  45.12244898,  47.17346939,\n",
              "        49.2244898 ,  51.2755102 ,  53.32653061,  55.37755102,\n",
              "        57.42857143,  59.47959184,  61.53061224,  63.58163265,\n",
              "        65.63265306,  67.68367347,  69.73469388,  71.78571429,\n",
              "        73.83673469,  75.8877551 ,  77.93877551,  79.98979592,\n",
              "        82.04081633,  84.09183673,  86.14285714,  88.19387755,\n",
              "        90.24489796,  92.29591837,  94.34693878,  96.39795918,\n",
              "        98.44897959, 100.5       ])"
            ]
          },
          "metadata": {
            "tags": []
          },
          "execution_count": 48
        }
      ]
    },
    {
      "cell_type": "code",
      "metadata": {
        "colab": {
          "base_uri": "https://localhost:8080/"
        },
        "id": "nFgZzMxUDkKs",
        "outputId": "2f49a7e4-e04e-4817-f065-b8cd043c1b16"
      },
      "source": [
        "x"
      ],
      "execution_count": null,
      "outputs": [
        {
          "output_type": "execute_result",
          "data": {
            "text/plain": [
              "array([0, 1, 2, 3, 4, 5, 6])"
            ]
          },
          "metadata": {
            "tags": []
          },
          "execution_count": 51
        }
      ]
    },
    {
      "cell_type": "code",
      "metadata": {
        "colab": {
          "base_uri": "https://localhost:8080/"
        },
        "id": "_3eD-XkADsaB",
        "outputId": "4af0e6df-0b81-407a-de03-1a4e280bccf1"
      },
      "source": [
        "x.max()"
      ],
      "execution_count": null,
      "outputs": [
        {
          "output_type": "execute_result",
          "data": {
            "text/plain": [
              "6"
            ]
          },
          "metadata": {
            "tags": []
          },
          "execution_count": 52
        }
      ]
    },
    {
      "cell_type": "code",
      "metadata": {
        "colab": {
          "base_uri": "https://localhost:8080/"
        },
        "id": "_tvJgVUWDvo3",
        "outputId": "a1408d88-c7c5-4f61-8629-1f68d4399fd9"
      },
      "source": [
        "x.min()"
      ],
      "execution_count": null,
      "outputs": [
        {
          "output_type": "execute_result",
          "data": {
            "text/plain": [
              "0"
            ]
          },
          "metadata": {
            "tags": []
          },
          "execution_count": 53
        }
      ]
    },
    {
      "cell_type": "code",
      "metadata": {
        "colab": {
          "base_uri": "https://localhost:8080/"
        },
        "id": "QDbb2zRCEHo3",
        "outputId": "d64049e3-66b9-470c-e614-7be40e1c9423"
      },
      "source": [
        "x = np.array ([ 1, 2, 0, 3, 6, 5 ])\n",
        "x"
      ],
      "execution_count": null,
      "outputs": [
        {
          "output_type": "execute_result",
          "data": {
            "text/plain": [
              "array([1, 2, 0, 3, 6, 5])"
            ]
          },
          "metadata": {
            "tags": []
          },
          "execution_count": 62
        }
      ]
    },
    {
      "cell_type": "code",
      "metadata": {
        "colab": {
          "base_uri": "https://localhost:8080/"
        },
        "id": "07Vt7QBvD91W",
        "outputId": "f4c120ac-7247-4db0-ed16-e3e5e695b90b"
      },
      "source": [
        "x.argmax()"
      ],
      "execution_count": null,
      "outputs": [
        {
          "output_type": "execute_result",
          "data": {
            "text/plain": [
              "4"
            ]
          },
          "metadata": {
            "tags": []
          },
          "execution_count": 63
        }
      ]
    },
    {
      "cell_type": "code",
      "metadata": {
        "colab": {
          "base_uri": "https://localhost:8080/"
        },
        "id": "Cp60oSlfEBjr",
        "outputId": "b99699e1-32d1-4146-b5ae-821bb79e2011"
      },
      "source": [
        "x.argmin()"
      ],
      "execution_count": null,
      "outputs": [
        {
          "output_type": "execute_result",
          "data": {
            "text/plain": [
              "2"
            ]
          },
          "metadata": {
            "tags": []
          },
          "execution_count": 64
        }
      ]
    },
    {
      "cell_type": "code",
      "metadata": {
        "colab": {
          "base_uri": "https://localhost:8080/"
        },
        "id": "Ef82WzBAEnnN",
        "outputId": "fbed894e-0fd8-463f-e9f6-3980c1e27c92"
      },
      "source": [
        "np.random.rand(10)"
      ],
      "execution_count": null,
      "outputs": [
        {
          "output_type": "execute_result",
          "data": {
            "text/plain": [
              "array([0.40579896, 0.34591525, 0.44085974, 0.75077934, 0.67502281,\n",
              "       0.83411312, 0.56978634, 0.45958082, 0.09376355, 0.35160566])"
            ]
          },
          "metadata": {
            "tags": []
          },
          "execution_count": 65
        }
      ]
    },
    {
      "cell_type": "code",
      "metadata": {
        "id": "OmZaDAtAE1oX"
      },
      "source": [
        ""
      ],
      "execution_count": null,
      "outputs": []
    },
    {
      "cell_type": "markdown",
      "metadata": {
        "id": "fGM_9CJ7ZmX6"
      },
      "source": [
        "# `Pandas`"
      ]
    },
    {
      "cell_type": "code",
      "metadata": {
        "id": "BUjSTGPVZw06"
      },
      "source": [
        "'''Series'''"
      ],
      "execution_count": null,
      "outputs": []
    },
    {
      "cell_type": "code",
      "metadata": {
        "id": "gj4shjoCZ3-H"
      },
      "source": [
        "import numpy as np\n",
        "import pandas as pd"
      ],
      "execution_count": null,
      "outputs": []
    },
    {
      "cell_type": "code",
      "metadata": {
        "id": "U5XYuannbOqI"
      },
      "source": [
        "x = ['a','b','c','d','e']\n",
        "y = [1,2,3,4,5]\n",
        "z = {1:'a',2:'b',3:'c',4:'d',5:'e'}"
      ],
      "execution_count": null,
      "outputs": []
    },
    {
      "cell_type": "code",
      "metadata": {
        "colab": {
          "base_uri": "https://localhost:8080/"
        },
        "id": "bTMi621Ncfw9",
        "outputId": "056b7cd1-964c-4379-b702-62672cdb3d31"
      },
      "source": [
        "pd.Series(x)"
      ],
      "execution_count": null,
      "outputs": [
        {
          "output_type": "execute_result",
          "data": {
            "text/plain": [
              "0    a\n",
              "1    b\n",
              "2    c\n",
              "3    d\n",
              "4    e\n",
              "dtype: object"
            ]
          },
          "metadata": {
            "tags": []
          },
          "execution_count": 3
        }
      ]
    },
    {
      "cell_type": "code",
      "metadata": {
        "colab": {
          "base_uri": "https://localhost:8080/"
        },
        "id": "5OLp3lYBclfv",
        "outputId": "8b865076-d194-42bf-b23b-d308eb5e0e88"
      },
      "source": [
        "serie = pd.Series(data=y,index=x)\n",
        "serie"
      ],
      "execution_count": null,
      "outputs": [
        {
          "output_type": "execute_result",
          "data": {
            "text/plain": [
              "a    1\n",
              "b    2\n",
              "c    3\n",
              "d    4\n",
              "e    5\n",
              "dtype: int64"
            ]
          },
          "metadata": {
            "tags": []
          },
          "execution_count": 7
        }
      ]
    },
    {
      "cell_type": "code",
      "metadata": {
        "colab": {
          "base_uri": "https://localhost:8080/"
        },
        "id": "XH_OthLSly01",
        "outputId": "a6d14f37-99a1-43f7-c3de-5e303c83c7d2"
      },
      "source": [
        "serie ['a']"
      ],
      "execution_count": null,
      "outputs": [
        {
          "output_type": "execute_result",
          "data": {
            "text/plain": [
              "1"
            ]
          },
          "metadata": {
            "tags": []
          },
          "execution_count": 8
        }
      ]
    },
    {
      "cell_type": "code",
      "metadata": {
        "colab": {
          "base_uri": "https://localhost:8080/"
        },
        "id": "1UchfxBimaAz",
        "outputId": "41f6cb58-681e-4ca2-9ced-ec88d0c5cdbd"
      },
      "source": [
        "serie['a':'b']\n"
      ],
      "execution_count": null,
      "outputs": [
        {
          "output_type": "execute_result",
          "data": {
            "text/plain": [
              "a    1\n",
              "b    2\n",
              "dtype: int64"
            ]
          },
          "metadata": {
            "tags": []
          },
          "execution_count": 11
        }
      ]
    },
    {
      "cell_type": "code",
      "metadata": {
        "colab": {
          "base_uri": "https://localhost:8080/"
        },
        "id": "Iei6aJe3mt8X",
        "outputId": "7ce457ec-d380-4810-e3b5-7b237c615f8d"
      },
      "source": [
        "serie2 = pd.Series(data=z)\n",
        "serie2"
      ],
      "execution_count": null,
      "outputs": [
        {
          "output_type": "execute_result",
          "data": {
            "text/plain": [
              "1    a\n",
              "2    b\n",
              "3    c\n",
              "4    d\n",
              "5    e\n",
              "dtype: object"
            ]
          },
          "metadata": {
            "tags": []
          },
          "execution_count": 13
        }
      ]
    },
    {
      "cell_type": "code",
      "metadata": {
        "id": "O3jn0Ivtnopd"
      },
      "source": [
        "'''Dataframes'''"
      ],
      "execution_count": null,
      "outputs": []
    },
    {
      "cell_type": "code",
      "metadata": {
        "id": "HWxfoy1Bbiwc"
      },
      "source": [
        "import pandas as pd\n"
      ],
      "execution_count": null,
      "outputs": []
    },
    {
      "cell_type": "code",
      "metadata": {
        "id": "os_0v49bnrVU"
      },
      "source": [
        "a = [1,2,3,4]\n",
        "b = [5,6,7,8]\n",
        "c = [9,1,3,5]\n",
        "d = [8,7,4,6]\n",
        "e = [8,9,10,11]"
      ],
      "execution_count": null,
      "outputs": []
    },
    {
      "cell_type": "code",
      "metadata": {
        "id": "gtE32CuAazGB"
      },
      "source": [
        "df = pd.DataFrame([a,b,c,d,e],['A','B','C','D','E'],['W','X','Y','D'])"
      ],
      "execution_count": null,
      "outputs": []
    },
    {
      "cell_type": "code",
      "metadata": {
        "colab": {
          "base_uri": "https://localhost:8080/",
          "height": 206
        },
        "id": "KzhE0_Gnbyiz",
        "outputId": "24afac38-1fb0-4dbc-eaf6-c450d99762c1"
      },
      "source": [
        "df"
      ],
      "execution_count": null,
      "outputs": [
        {
          "output_type": "execute_result",
          "data": {
            "text/html": [
              "<div>\n",
              "<style scoped>\n",
              "    .dataframe tbody tr th:only-of-type {\n",
              "        vertical-align: middle;\n",
              "    }\n",
              "\n",
              "    .dataframe tbody tr th {\n",
              "        vertical-align: top;\n",
              "    }\n",
              "\n",
              "    .dataframe thead th {\n",
              "        text-align: right;\n",
              "    }\n",
              "</style>\n",
              "<table border=\"1\" class=\"dataframe\">\n",
              "  <thead>\n",
              "    <tr style=\"text-align: right;\">\n",
              "      <th></th>\n",
              "      <th>W</th>\n",
              "      <th>X</th>\n",
              "      <th>Y</th>\n",
              "      <th>D</th>\n",
              "    </tr>\n",
              "  </thead>\n",
              "  <tbody>\n",
              "    <tr>\n",
              "      <th>A</th>\n",
              "      <td>1</td>\n",
              "      <td>2</td>\n",
              "      <td>3</td>\n",
              "      <td>4</td>\n",
              "    </tr>\n",
              "    <tr>\n",
              "      <th>B</th>\n",
              "      <td>5</td>\n",
              "      <td>6</td>\n",
              "      <td>7</td>\n",
              "      <td>8</td>\n",
              "    </tr>\n",
              "    <tr>\n",
              "      <th>C</th>\n",
              "      <td>9</td>\n",
              "      <td>1</td>\n",
              "      <td>3</td>\n",
              "      <td>5</td>\n",
              "    </tr>\n",
              "    <tr>\n",
              "      <th>D</th>\n",
              "      <td>8</td>\n",
              "      <td>7</td>\n",
              "      <td>4</td>\n",
              "      <td>6</td>\n",
              "    </tr>\n",
              "    <tr>\n",
              "      <th>E</th>\n",
              "      <td>8</td>\n",
              "      <td>9</td>\n",
              "      <td>10</td>\n",
              "      <td>11</td>\n",
              "    </tr>\n",
              "  </tbody>\n",
              "</table>\n",
              "</div>"
            ],
            "text/plain": [
              "   W  X   Y   D\n",
              "A  1  2   3   4\n",
              "B  5  6   7   8\n",
              "C  9  1   3   5\n",
              "D  8  7   4   6\n",
              "E  8  9  10  11"
            ]
          },
          "metadata": {
            "tags": []
          },
          "execution_count": 11
        }
      ]
    },
    {
      "cell_type": "code",
      "metadata": {
        "id": "DYU6unlGcFim"
      },
      "source": [
        "dic  = {\n",
        "    'Alunos': ['Cosmo','Felipe','Lucas'],\n",
        "    'Faltas': [2,1,1],\n",
        "    'Prova': [6,8,9],\n",
        "    'Media': [7,8,9]\n",
        "}"
      ],
      "execution_count": null,
      "outputs": []
    },
    {
      "cell_type": "code",
      "metadata": {
        "colab": {
          "base_uri": "https://localhost:8080/",
          "height": 143
        },
        "id": "CKPSRkXnd2hr",
        "outputId": "05eea7c6-8884-4594-930b-a711168a2bd1"
      },
      "source": [
        "df = pd.DataFrame(dic)\n",
        "df"
      ],
      "execution_count": null,
      "outputs": [
        {
          "output_type": "execute_result",
          "data": {
            "text/html": [
              "<div>\n",
              "<style scoped>\n",
              "    .dataframe tbody tr th:only-of-type {\n",
              "        vertical-align: middle;\n",
              "    }\n",
              "\n",
              "    .dataframe tbody tr th {\n",
              "        vertical-align: top;\n",
              "    }\n",
              "\n",
              "    .dataframe thead th {\n",
              "        text-align: right;\n",
              "    }\n",
              "</style>\n",
              "<table border=\"1\" class=\"dataframe\">\n",
              "  <thead>\n",
              "    <tr style=\"text-align: right;\">\n",
              "      <th></th>\n",
              "      <th>Alunos</th>\n",
              "      <th>Faltas</th>\n",
              "      <th>Prova</th>\n",
              "      <th>Media</th>\n",
              "    </tr>\n",
              "  </thead>\n",
              "  <tbody>\n",
              "    <tr>\n",
              "      <th>0</th>\n",
              "      <td>Cosmo</td>\n",
              "      <td>2</td>\n",
              "      <td>6</td>\n",
              "      <td>7</td>\n",
              "    </tr>\n",
              "    <tr>\n",
              "      <th>1</th>\n",
              "      <td>Felipe</td>\n",
              "      <td>1</td>\n",
              "      <td>8</td>\n",
              "      <td>8</td>\n",
              "    </tr>\n",
              "    <tr>\n",
              "      <th>2</th>\n",
              "      <td>Lucas</td>\n",
              "      <td>1</td>\n",
              "      <td>9</td>\n",
              "      <td>9</td>\n",
              "    </tr>\n",
              "  </tbody>\n",
              "</table>\n",
              "</div>"
            ],
            "text/plain": [
              "   Alunos  Faltas  Prova  Media\n",
              "0   Cosmo       2      6      7\n",
              "1  Felipe       1      8      8\n",
              "2   Lucas       1      9      9"
            ]
          },
          "metadata": {
            "tags": []
          },
          "execution_count": 13
        }
      ]
    },
    {
      "cell_type": "code",
      "metadata": {
        "colab": {
          "base_uri": "https://localhost:8080/"
        },
        "id": "R8m6vU0KeFOH",
        "outputId": "ea965e9b-beb0-410e-ffdb-d5019f845020"
      },
      "source": [
        "df['Alunos']"
      ],
      "execution_count": null,
      "outputs": [
        {
          "output_type": "execute_result",
          "data": {
            "text/plain": [
              "0     Cosmo\n",
              "1    Felipe\n",
              "2     Lucas\n",
              "Name: Alunos, dtype: object"
            ]
          },
          "metadata": {
            "tags": []
          },
          "execution_count": 14
        }
      ]
    },
    {
      "cell_type": "code",
      "metadata": {
        "colab": {
          "base_uri": "https://localhost:8080/"
        },
        "id": "k53o7xVpfnJk",
        "outputId": "060fe6f4-95e4-4b82-d3ec-c320dea469b5"
      },
      "source": [
        "df['Media']"
      ],
      "execution_count": null,
      "outputs": [
        {
          "output_type": "execute_result",
          "data": {
            "text/plain": [
              "0    7\n",
              "1    8\n",
              "2    9\n",
              "Name: Media, dtype: int64"
            ]
          },
          "metadata": {
            "tags": []
          },
          "execution_count": 15
        }
      ]
    },
    {
      "cell_type": "code",
      "metadata": {
        "colab": {
          "base_uri": "https://localhost:8080/"
        },
        "id": "wvTFKiedgc4i",
        "outputId": "3652978c-b2a8-45e5-fbae-d95463c9c2c5"
      },
      "source": [
        "df.loc[0]"
      ],
      "execution_count": null,
      "outputs": [
        {
          "output_type": "execute_result",
          "data": {
            "text/plain": [
              "Alunos    Cosmo\n",
              "Faltas        2\n",
              "Prova         6\n",
              "Media         7\n",
              "Name: 0, dtype: object"
            ]
          },
          "metadata": {
            "tags": []
          },
          "execution_count": 17
        }
      ]
    },
    {
      "cell_type": "code",
      "metadata": {
        "colab": {
          "base_uri": "https://localhost:8080/"
        },
        "id": "ZwUlyWz7g7pD",
        "outputId": "7f2b968c-1e9a-4043-cb46-69465d5ecc2f"
      },
      "source": [
        "df.loc[1]"
      ],
      "execution_count": null,
      "outputs": [
        {
          "output_type": "execute_result",
          "data": {
            "text/plain": [
              "Alunos    Felipe\n",
              "Faltas         1\n",
              "Prova          8\n",
              "Media          8\n",
              "Name: 1, dtype: object"
            ]
          },
          "metadata": {
            "tags": []
          },
          "execution_count": 18
        }
      ]
    },
    {
      "cell_type": "code",
      "metadata": {
        "colab": {
          "base_uri": "https://localhost:8080/"
        },
        "id": "8gT8SoYLhAfm",
        "outputId": "9d46700b-3135-4715-b89a-0b6fc81ee30e"
      },
      "source": [
        "df.loc[2]"
      ],
      "execution_count": null,
      "outputs": [
        {
          "output_type": "execute_result",
          "data": {
            "text/plain": [
              "Alunos    Lucas\n",
              "Faltas        1\n",
              "Prova         9\n",
              "Media         9\n",
              "Name: 2, dtype: object"
            ]
          },
          "metadata": {
            "tags": []
          },
          "execution_count": 19
        }
      ]
    },
    {
      "cell_type": "code",
      "metadata": {
        "colab": {
          "base_uri": "https://localhost:8080/",
          "height": 206
        },
        "id": "B6tAZjc_hd0e",
        "outputId": "f733e772-4b6a-4696-e449-2cf5a72ec5d1"
      },
      "source": [
        "df = pd.DataFrame([a,b,c,d,e],['A','B','C','D','E'],['W','X','Y','D'])\n",
        "df"
      ],
      "execution_count": null,
      "outputs": [
        {
          "output_type": "execute_result",
          "data": {
            "text/html": [
              "<div>\n",
              "<style scoped>\n",
              "    .dataframe tbody tr th:only-of-type {\n",
              "        vertical-align: middle;\n",
              "    }\n",
              "\n",
              "    .dataframe tbody tr th {\n",
              "        vertical-align: top;\n",
              "    }\n",
              "\n",
              "    .dataframe thead th {\n",
              "        text-align: right;\n",
              "    }\n",
              "</style>\n",
              "<table border=\"1\" class=\"dataframe\">\n",
              "  <thead>\n",
              "    <tr style=\"text-align: right;\">\n",
              "      <th></th>\n",
              "      <th>W</th>\n",
              "      <th>X</th>\n",
              "      <th>Y</th>\n",
              "      <th>D</th>\n",
              "    </tr>\n",
              "  </thead>\n",
              "  <tbody>\n",
              "    <tr>\n",
              "      <th>A</th>\n",
              "      <td>1</td>\n",
              "      <td>2</td>\n",
              "      <td>3</td>\n",
              "      <td>4</td>\n",
              "    </tr>\n",
              "    <tr>\n",
              "      <th>B</th>\n",
              "      <td>5</td>\n",
              "      <td>6</td>\n",
              "      <td>7</td>\n",
              "      <td>8</td>\n",
              "    </tr>\n",
              "    <tr>\n",
              "      <th>C</th>\n",
              "      <td>9</td>\n",
              "      <td>1</td>\n",
              "      <td>3</td>\n",
              "      <td>5</td>\n",
              "    </tr>\n",
              "    <tr>\n",
              "      <th>D</th>\n",
              "      <td>8</td>\n",
              "      <td>7</td>\n",
              "      <td>4</td>\n",
              "      <td>6</td>\n",
              "    </tr>\n",
              "    <tr>\n",
              "      <th>E</th>\n",
              "      <td>8</td>\n",
              "      <td>9</td>\n",
              "      <td>10</td>\n",
              "      <td>11</td>\n",
              "    </tr>\n",
              "  </tbody>\n",
              "</table>\n",
              "</div>"
            ],
            "text/plain": [
              "   W  X   Y   D\n",
              "A  1  2   3   4\n",
              "B  5  6   7   8\n",
              "C  9  1   3   5\n",
              "D  8  7   4   6\n",
              "E  8  9  10  11"
            ]
          },
          "metadata": {
            "tags": []
          },
          "execution_count": 20
        }
      ]
    },
    {
      "cell_type": "code",
      "metadata": {
        "colab": {
          "base_uri": "https://localhost:8080/"
        },
        "id": "clryvhJDiqsN",
        "outputId": "285262e9-0fa4-4e21-e764-9cba1fc46273"
      },
      "source": [
        "df['W']"
      ],
      "execution_count": null,
      "outputs": [
        {
          "output_type": "execute_result",
          "data": {
            "text/plain": [
              "A    1\n",
              "B    5\n",
              "C    9\n",
              "D    8\n",
              "E    8\n",
              "Name: W, dtype: int64"
            ]
          },
          "metadata": {
            "tags": []
          },
          "execution_count": 22
        }
      ]
    },
    {
      "cell_type": "code",
      "metadata": {
        "colab": {
          "base_uri": "https://localhost:8080/"
        },
        "id": "AgH-k-zoi1Wr",
        "outputId": "e889f3ac-fc0a-4d39-9b46-3eb73b12cd45"
      },
      "source": [
        "df.loc['A']"
      ],
      "execution_count": null,
      "outputs": [
        {
          "output_type": "execute_result",
          "data": {
            "text/plain": [
              "W    1\n",
              "X    2\n",
              "Y    3\n",
              "D    4\n",
              "Name: A, dtype: int64"
            ]
          },
          "metadata": {
            "tags": []
          },
          "execution_count": 23
        }
      ]
    },
    {
      "cell_type": "code",
      "metadata": {
        "colab": {
          "base_uri": "https://localhost:8080/"
        },
        "id": "aDuaMi3yi9vC",
        "outputId": "3da11bd1-d1ad-45dd-8505-86c642a32ca0"
      },
      "source": [
        "df.loc['C','D']"
      ],
      "execution_count": null,
      "outputs": [
        {
          "output_type": "execute_result",
          "data": {
            "text/plain": [
              "5"
            ]
          },
          "metadata": {
            "tags": []
          },
          "execution_count": 24
        }
      ]
    },
    {
      "cell_type": "code",
      "metadata": {
        "colab": {
          "base_uri": "https://localhost:8080/",
          "height": 143
        },
        "id": "by_wbWfajiAn",
        "outputId": "597162e6-56d0-41c8-fc69-5dd6eafebb11"
      },
      "source": [
        "df = pd.DataFrame(dic)\n",
        "df"
      ],
      "execution_count": null,
      "outputs": [
        {
          "output_type": "execute_result",
          "data": {
            "text/html": [
              "<div>\n",
              "<style scoped>\n",
              "    .dataframe tbody tr th:only-of-type {\n",
              "        vertical-align: middle;\n",
              "    }\n",
              "\n",
              "    .dataframe tbody tr th {\n",
              "        vertical-align: top;\n",
              "    }\n",
              "\n",
              "    .dataframe thead th {\n",
              "        text-align: right;\n",
              "    }\n",
              "</style>\n",
              "<table border=\"1\" class=\"dataframe\">\n",
              "  <thead>\n",
              "    <tr style=\"text-align: right;\">\n",
              "      <th></th>\n",
              "      <th>Alunos</th>\n",
              "      <th>Faltas</th>\n",
              "      <th>Prova</th>\n",
              "      <th>Media</th>\n",
              "    </tr>\n",
              "  </thead>\n",
              "  <tbody>\n",
              "    <tr>\n",
              "      <th>0</th>\n",
              "      <td>Cosmo</td>\n",
              "      <td>2</td>\n",
              "      <td>6</td>\n",
              "      <td>7</td>\n",
              "    </tr>\n",
              "    <tr>\n",
              "      <th>1</th>\n",
              "      <td>Felipe</td>\n",
              "      <td>1</td>\n",
              "      <td>8</td>\n",
              "      <td>8</td>\n",
              "    </tr>\n",
              "    <tr>\n",
              "      <th>2</th>\n",
              "      <td>Lucas</td>\n",
              "      <td>1</td>\n",
              "      <td>9</td>\n",
              "      <td>9</td>\n",
              "    </tr>\n",
              "  </tbody>\n",
              "</table>\n",
              "</div>"
            ],
            "text/plain": [
              "   Alunos  Faltas  Prova  Media\n",
              "0   Cosmo       2      6      7\n",
              "1  Felipe       1      8      8\n",
              "2   Lucas       1      9      9"
            ]
          },
          "metadata": {
            "tags": []
          },
          "execution_count": 25
        }
      ]
    },
    {
      "cell_type": "code",
      "metadata": {
        "colab": {
          "base_uri": "https://localhost:8080/"
        },
        "id": "MPYDfn3Xjkru",
        "outputId": "4ccbf95c-63f8-4557-d0b1-f76642290821"
      },
      "source": [
        "df.loc[2,'Media']"
      ],
      "execution_count": null,
      "outputs": [
        {
          "output_type": "execute_result",
          "data": {
            "text/plain": [
              "9"
            ]
          },
          "metadata": {
            "tags": []
          },
          "execution_count": 26
        }
      ]
    },
    {
      "cell_type": "code",
      "metadata": {
        "colab": {
          "base_uri": "https://localhost:8080/",
          "height": 206
        },
        "id": "4-X7bny5kOna",
        "outputId": "c0486a6d-f3c7-4b8e-8cd5-fd688eff3a45"
      },
      "source": [
        "df = pd.DataFrame([a,b,c,d,e],['A','B','C','D','E'],['W','X','Y','D'])\n",
        "df"
      ],
      "execution_count": null,
      "outputs": [
        {
          "output_type": "execute_result",
          "data": {
            "text/html": [
              "<div>\n",
              "<style scoped>\n",
              "    .dataframe tbody tr th:only-of-type {\n",
              "        vertical-align: middle;\n",
              "    }\n",
              "\n",
              "    .dataframe tbody tr th {\n",
              "        vertical-align: top;\n",
              "    }\n",
              "\n",
              "    .dataframe thead th {\n",
              "        text-align: right;\n",
              "    }\n",
              "</style>\n",
              "<table border=\"1\" class=\"dataframe\">\n",
              "  <thead>\n",
              "    <tr style=\"text-align: right;\">\n",
              "      <th></th>\n",
              "      <th>W</th>\n",
              "      <th>X</th>\n",
              "      <th>Y</th>\n",
              "      <th>D</th>\n",
              "    </tr>\n",
              "  </thead>\n",
              "  <tbody>\n",
              "    <tr>\n",
              "      <th>A</th>\n",
              "      <td>1</td>\n",
              "      <td>2</td>\n",
              "      <td>3</td>\n",
              "      <td>4</td>\n",
              "    </tr>\n",
              "    <tr>\n",
              "      <th>B</th>\n",
              "      <td>5</td>\n",
              "      <td>6</td>\n",
              "      <td>7</td>\n",
              "      <td>8</td>\n",
              "    </tr>\n",
              "    <tr>\n",
              "      <th>C</th>\n",
              "      <td>9</td>\n",
              "      <td>1</td>\n",
              "      <td>3</td>\n",
              "      <td>5</td>\n",
              "    </tr>\n",
              "    <tr>\n",
              "      <th>D</th>\n",
              "      <td>8</td>\n",
              "      <td>7</td>\n",
              "      <td>4</td>\n",
              "      <td>6</td>\n",
              "    </tr>\n",
              "    <tr>\n",
              "      <th>E</th>\n",
              "      <td>8</td>\n",
              "      <td>9</td>\n",
              "      <td>10</td>\n",
              "      <td>11</td>\n",
              "    </tr>\n",
              "  </tbody>\n",
              "</table>\n",
              "</div>"
            ],
            "text/plain": [
              "   W  X   Y   D\n",
              "A  1  2   3   4\n",
              "B  5  6   7   8\n",
              "C  9  1   3   5\n",
              "D  8  7   4   6\n",
              "E  8  9  10  11"
            ]
          },
          "metadata": {
            "tags": []
          },
          "execution_count": 27
        }
      ]
    },
    {
      "cell_type": "code",
      "metadata": {
        "colab": {
          "base_uri": "https://localhost:8080/",
          "height": 206
        },
        "id": "x_LjYJ52kQ3Z",
        "outputId": "2a49ef12-889c-4a15-d2b9-77fc6c5f571e"
      },
      "source": [
        "df > 3"
      ],
      "execution_count": null,
      "outputs": [
        {
          "output_type": "execute_result",
          "data": {
            "text/html": [
              "<div>\n",
              "<style scoped>\n",
              "    .dataframe tbody tr th:only-of-type {\n",
              "        vertical-align: middle;\n",
              "    }\n",
              "\n",
              "    .dataframe tbody tr th {\n",
              "        vertical-align: top;\n",
              "    }\n",
              "\n",
              "    .dataframe thead th {\n",
              "        text-align: right;\n",
              "    }\n",
              "</style>\n",
              "<table border=\"1\" class=\"dataframe\">\n",
              "  <thead>\n",
              "    <tr style=\"text-align: right;\">\n",
              "      <th></th>\n",
              "      <th>W</th>\n",
              "      <th>X</th>\n",
              "      <th>Y</th>\n",
              "      <th>D</th>\n",
              "    </tr>\n",
              "  </thead>\n",
              "  <tbody>\n",
              "    <tr>\n",
              "      <th>A</th>\n",
              "      <td>False</td>\n",
              "      <td>False</td>\n",
              "      <td>False</td>\n",
              "      <td>True</td>\n",
              "    </tr>\n",
              "    <tr>\n",
              "      <th>B</th>\n",
              "      <td>True</td>\n",
              "      <td>True</td>\n",
              "      <td>True</td>\n",
              "      <td>True</td>\n",
              "    </tr>\n",
              "    <tr>\n",
              "      <th>C</th>\n",
              "      <td>True</td>\n",
              "      <td>False</td>\n",
              "      <td>False</td>\n",
              "      <td>True</td>\n",
              "    </tr>\n",
              "    <tr>\n",
              "      <th>D</th>\n",
              "      <td>True</td>\n",
              "      <td>True</td>\n",
              "      <td>True</td>\n",
              "      <td>True</td>\n",
              "    </tr>\n",
              "    <tr>\n",
              "      <th>E</th>\n",
              "      <td>True</td>\n",
              "      <td>True</td>\n",
              "      <td>True</td>\n",
              "      <td>True</td>\n",
              "    </tr>\n",
              "  </tbody>\n",
              "</table>\n",
              "</div>"
            ],
            "text/plain": [
              "       W      X      Y     D\n",
              "A  False  False  False  True\n",
              "B   True   True   True  True\n",
              "C   True  False  False  True\n",
              "D   True   True   True  True\n",
              "E   True   True   True  True"
            ]
          },
          "metadata": {
            "tags": []
          },
          "execution_count": 28
        }
      ]
    },
    {
      "cell_type": "code",
      "metadata": {
        "colab": {
          "base_uri": "https://localhost:8080/",
          "height": 206
        },
        "id": "jo61Vy8tkWQK",
        "outputId": "64387ae9-b45b-489e-bd75-b13581ec9a1d"
      },
      "source": [
        "df [df > 3]"
      ],
      "execution_count": null,
      "outputs": [
        {
          "output_type": "execute_result",
          "data": {
            "text/html": [
              "<div>\n",
              "<style scoped>\n",
              "    .dataframe tbody tr th:only-of-type {\n",
              "        vertical-align: middle;\n",
              "    }\n",
              "\n",
              "    .dataframe tbody tr th {\n",
              "        vertical-align: top;\n",
              "    }\n",
              "\n",
              "    .dataframe thead th {\n",
              "        text-align: right;\n",
              "    }\n",
              "</style>\n",
              "<table border=\"1\" class=\"dataframe\">\n",
              "  <thead>\n",
              "    <tr style=\"text-align: right;\">\n",
              "      <th></th>\n",
              "      <th>W</th>\n",
              "      <th>X</th>\n",
              "      <th>Y</th>\n",
              "      <th>D</th>\n",
              "    </tr>\n",
              "  </thead>\n",
              "  <tbody>\n",
              "    <tr>\n",
              "      <th>A</th>\n",
              "      <td>NaN</td>\n",
              "      <td>NaN</td>\n",
              "      <td>NaN</td>\n",
              "      <td>4</td>\n",
              "    </tr>\n",
              "    <tr>\n",
              "      <th>B</th>\n",
              "      <td>5.0</td>\n",
              "      <td>6.0</td>\n",
              "      <td>7.0</td>\n",
              "      <td>8</td>\n",
              "    </tr>\n",
              "    <tr>\n",
              "      <th>C</th>\n",
              "      <td>9.0</td>\n",
              "      <td>NaN</td>\n",
              "      <td>NaN</td>\n",
              "      <td>5</td>\n",
              "    </tr>\n",
              "    <tr>\n",
              "      <th>D</th>\n",
              "      <td>8.0</td>\n",
              "      <td>7.0</td>\n",
              "      <td>4.0</td>\n",
              "      <td>6</td>\n",
              "    </tr>\n",
              "    <tr>\n",
              "      <th>E</th>\n",
              "      <td>8.0</td>\n",
              "      <td>9.0</td>\n",
              "      <td>10.0</td>\n",
              "      <td>11</td>\n",
              "    </tr>\n",
              "  </tbody>\n",
              "</table>\n",
              "</div>"
            ],
            "text/plain": [
              "     W    X     Y   D\n",
              "A  NaN  NaN   NaN   4\n",
              "B  5.0  6.0   7.0   8\n",
              "C  9.0  NaN   NaN   5\n",
              "D  8.0  7.0   4.0   6\n",
              "E  8.0  9.0  10.0  11"
            ]
          },
          "metadata": {
            "tags": []
          },
          "execution_count": 29
        }
      ]
    },
    {
      "cell_type": "code",
      "metadata": {
        "colab": {
          "base_uri": "https://localhost:8080/",
          "height": 175
        },
        "id": "hpTKw76hka6b",
        "outputId": "ee5e681c-73dc-4d8f-a1e4-36fbcaa68ed0"
      },
      "source": [
        "df [df['W']>3]"
      ],
      "execution_count": null,
      "outputs": [
        {
          "output_type": "execute_result",
          "data": {
            "text/html": [
              "<div>\n",
              "<style scoped>\n",
              "    .dataframe tbody tr th:only-of-type {\n",
              "        vertical-align: middle;\n",
              "    }\n",
              "\n",
              "    .dataframe tbody tr th {\n",
              "        vertical-align: top;\n",
              "    }\n",
              "\n",
              "    .dataframe thead th {\n",
              "        text-align: right;\n",
              "    }\n",
              "</style>\n",
              "<table border=\"1\" class=\"dataframe\">\n",
              "  <thead>\n",
              "    <tr style=\"text-align: right;\">\n",
              "      <th></th>\n",
              "      <th>W</th>\n",
              "      <th>X</th>\n",
              "      <th>Y</th>\n",
              "      <th>D</th>\n",
              "    </tr>\n",
              "  </thead>\n",
              "  <tbody>\n",
              "    <tr>\n",
              "      <th>B</th>\n",
              "      <td>5</td>\n",
              "      <td>6</td>\n",
              "      <td>7</td>\n",
              "      <td>8</td>\n",
              "    </tr>\n",
              "    <tr>\n",
              "      <th>C</th>\n",
              "      <td>9</td>\n",
              "      <td>1</td>\n",
              "      <td>3</td>\n",
              "      <td>5</td>\n",
              "    </tr>\n",
              "    <tr>\n",
              "      <th>D</th>\n",
              "      <td>8</td>\n",
              "      <td>7</td>\n",
              "      <td>4</td>\n",
              "      <td>6</td>\n",
              "    </tr>\n",
              "    <tr>\n",
              "      <th>E</th>\n",
              "      <td>8</td>\n",
              "      <td>9</td>\n",
              "      <td>10</td>\n",
              "      <td>11</td>\n",
              "    </tr>\n",
              "  </tbody>\n",
              "</table>\n",
              "</div>"
            ],
            "text/plain": [
              "   W  X   Y   D\n",
              "B  5  6   7   8\n",
              "C  9  1   3   5\n",
              "D  8  7   4   6\n",
              "E  8  9  10  11"
            ]
          },
          "metadata": {
            "tags": []
          },
          "execution_count": 30
        }
      ]
    },
    {
      "cell_type": "code",
      "metadata": {
        "id": "9tmm1K8hWqz4"
      },
      "source": [
        "dic = {\n",
        "    'fruta': ['maça','maça','pera','pera','pera','banana','banana'],\n",
        "    'dia': ['seg','ter','quar','qui','sex','sab','dom'],\n",
        "    'valor': [10,20,30,40,50,60,70]\n",
        "}"
      ],
      "execution_count": null,
      "outputs": []
    },
    {
      "cell_type": "code",
      "metadata": {
        "colab": {
          "base_uri": "https://localhost:8080/",
          "height": 269
        },
        "id": "L-xUVAELX8ZY",
        "outputId": "28d4f2ac-e84e-4d82-b6d9-68399bf4f50a"
      },
      "source": [
        "import pandas as pd\n",
        "\n",
        "df = pd.DataFrame(dic)\n",
        "df"
      ],
      "execution_count": null,
      "outputs": [
        {
          "output_type": "execute_result",
          "data": {
            "text/html": [
              "<div>\n",
              "<style scoped>\n",
              "    .dataframe tbody tr th:only-of-type {\n",
              "        vertical-align: middle;\n",
              "    }\n",
              "\n",
              "    .dataframe tbody tr th {\n",
              "        vertical-align: top;\n",
              "    }\n",
              "\n",
              "    .dataframe thead th {\n",
              "        text-align: right;\n",
              "    }\n",
              "</style>\n",
              "<table border=\"1\" class=\"dataframe\">\n",
              "  <thead>\n",
              "    <tr style=\"text-align: right;\">\n",
              "      <th></th>\n",
              "      <th>fruta</th>\n",
              "      <th>dia</th>\n",
              "      <th>valor</th>\n",
              "    </tr>\n",
              "  </thead>\n",
              "  <tbody>\n",
              "    <tr>\n",
              "      <th>0</th>\n",
              "      <td>maça</td>\n",
              "      <td>seg</td>\n",
              "      <td>10</td>\n",
              "    </tr>\n",
              "    <tr>\n",
              "      <th>1</th>\n",
              "      <td>maça</td>\n",
              "      <td>ter</td>\n",
              "      <td>20</td>\n",
              "    </tr>\n",
              "    <tr>\n",
              "      <th>2</th>\n",
              "      <td>pera</td>\n",
              "      <td>quar</td>\n",
              "      <td>30</td>\n",
              "    </tr>\n",
              "    <tr>\n",
              "      <th>3</th>\n",
              "      <td>pera</td>\n",
              "      <td>qui</td>\n",
              "      <td>40</td>\n",
              "    </tr>\n",
              "    <tr>\n",
              "      <th>4</th>\n",
              "      <td>pera</td>\n",
              "      <td>sex</td>\n",
              "      <td>50</td>\n",
              "    </tr>\n",
              "    <tr>\n",
              "      <th>5</th>\n",
              "      <td>banana</td>\n",
              "      <td>sab</td>\n",
              "      <td>60</td>\n",
              "    </tr>\n",
              "    <tr>\n",
              "      <th>6</th>\n",
              "      <td>banana</td>\n",
              "      <td>dom</td>\n",
              "      <td>70</td>\n",
              "    </tr>\n",
              "  </tbody>\n",
              "</table>\n",
              "</div>"
            ],
            "text/plain": [
              "    fruta   dia  valor\n",
              "0    maça   seg     10\n",
              "1    maça   ter     20\n",
              "2    pera  quar     30\n",
              "3    pera   qui     40\n",
              "4    pera   sex     50\n",
              "5  banana   sab     60\n",
              "6  banana   dom     70"
            ]
          },
          "metadata": {
            "tags": []
          },
          "execution_count": 7
        }
      ]
    },
    {
      "cell_type": "code",
      "metadata": {
        "colab": {
          "base_uri": "https://localhost:8080/"
        },
        "id": "lgyQod02YciC",
        "outputId": "5c67781a-51fd-49d0-9b1d-b5d9ddb83705"
      },
      "source": [
        "x = df.groupby('fruta')\n",
        "x"
      ],
      "execution_count": null,
      "outputs": [
        {
          "output_type": "execute_result",
          "data": {
            "text/plain": [
              "<pandas.core.groupby.generic.DataFrameGroupBy object at 0x7f7d1f534b38>"
            ]
          },
          "metadata": {
            "tags": []
          },
          "execution_count": 9
        }
      ]
    },
    {
      "cell_type": "code",
      "metadata": {
        "colab": {
          "base_uri": "https://localhost:8080/",
          "height": 269
        },
        "id": "UDlxx0nmYrXY",
        "outputId": "af434f82-6681-4e8c-9296-607a16147d7c"
      },
      "source": [
        "x.head()"
      ],
      "execution_count": null,
      "outputs": [
        {
          "output_type": "execute_result",
          "data": {
            "text/html": [
              "<div>\n",
              "<style scoped>\n",
              "    .dataframe tbody tr th:only-of-type {\n",
              "        vertical-align: middle;\n",
              "    }\n",
              "\n",
              "    .dataframe tbody tr th {\n",
              "        vertical-align: top;\n",
              "    }\n",
              "\n",
              "    .dataframe thead th {\n",
              "        text-align: right;\n",
              "    }\n",
              "</style>\n",
              "<table border=\"1\" class=\"dataframe\">\n",
              "  <thead>\n",
              "    <tr style=\"text-align: right;\">\n",
              "      <th></th>\n",
              "      <th>fruta</th>\n",
              "      <th>dia</th>\n",
              "      <th>valor</th>\n",
              "    </tr>\n",
              "  </thead>\n",
              "  <tbody>\n",
              "    <tr>\n",
              "      <th>0</th>\n",
              "      <td>maça</td>\n",
              "      <td>seg</td>\n",
              "      <td>10</td>\n",
              "    </tr>\n",
              "    <tr>\n",
              "      <th>1</th>\n",
              "      <td>maça</td>\n",
              "      <td>ter</td>\n",
              "      <td>20</td>\n",
              "    </tr>\n",
              "    <tr>\n",
              "      <th>2</th>\n",
              "      <td>pera</td>\n",
              "      <td>quar</td>\n",
              "      <td>30</td>\n",
              "    </tr>\n",
              "    <tr>\n",
              "      <th>3</th>\n",
              "      <td>pera</td>\n",
              "      <td>qui</td>\n",
              "      <td>40</td>\n",
              "    </tr>\n",
              "    <tr>\n",
              "      <th>4</th>\n",
              "      <td>pera</td>\n",
              "      <td>sex</td>\n",
              "      <td>50</td>\n",
              "    </tr>\n",
              "    <tr>\n",
              "      <th>5</th>\n",
              "      <td>banana</td>\n",
              "      <td>sab</td>\n",
              "      <td>60</td>\n",
              "    </tr>\n",
              "    <tr>\n",
              "      <th>6</th>\n",
              "      <td>banana</td>\n",
              "      <td>dom</td>\n",
              "      <td>70</td>\n",
              "    </tr>\n",
              "  </tbody>\n",
              "</table>\n",
              "</div>"
            ],
            "text/plain": [
              "    fruta   dia  valor\n",
              "0    maça   seg     10\n",
              "1    maça   ter     20\n",
              "2    pera  quar     30\n",
              "3    pera   qui     40\n",
              "4    pera   sex     50\n",
              "5  banana   sab     60\n",
              "6  banana   dom     70"
            ]
          },
          "metadata": {
            "tags": []
          },
          "execution_count": 10
        }
      ]
    },
    {
      "cell_type": "code",
      "metadata": {
        "colab": {
          "base_uri": "https://localhost:8080/",
          "height": 175
        },
        "id": "KpEZ6IsaY5Vt",
        "outputId": "0cbc87dc-ca44-4c09-a6ff-d2c1399ab804"
      },
      "source": [
        "x.mean()"
      ],
      "execution_count": null,
      "outputs": [
        {
          "output_type": "execute_result",
          "data": {
            "text/html": [
              "<div>\n",
              "<style scoped>\n",
              "    .dataframe tbody tr th:only-of-type {\n",
              "        vertical-align: middle;\n",
              "    }\n",
              "\n",
              "    .dataframe tbody tr th {\n",
              "        vertical-align: top;\n",
              "    }\n",
              "\n",
              "    .dataframe thead th {\n",
              "        text-align: right;\n",
              "    }\n",
              "</style>\n",
              "<table border=\"1\" class=\"dataframe\">\n",
              "  <thead>\n",
              "    <tr style=\"text-align: right;\">\n",
              "      <th></th>\n",
              "      <th>valor</th>\n",
              "    </tr>\n",
              "    <tr>\n",
              "      <th>fruta</th>\n",
              "      <th></th>\n",
              "    </tr>\n",
              "  </thead>\n",
              "  <tbody>\n",
              "    <tr>\n",
              "      <th>banana</th>\n",
              "      <td>65</td>\n",
              "    </tr>\n",
              "    <tr>\n",
              "      <th>maça</th>\n",
              "      <td>15</td>\n",
              "    </tr>\n",
              "    <tr>\n",
              "      <th>pera</th>\n",
              "      <td>40</td>\n",
              "    </tr>\n",
              "  </tbody>\n",
              "</table>\n",
              "</div>"
            ],
            "text/plain": [
              "        valor\n",
              "fruta        \n",
              "banana     65\n",
              "maça       15\n",
              "pera       40"
            ]
          },
          "metadata": {
            "tags": []
          },
          "execution_count": 12
        }
      ]
    },
    {
      "cell_type": "code",
      "metadata": {
        "colab": {
          "base_uri": "https://localhost:8080/",
          "height": 175
        },
        "id": "2AUlSBpvZJd9",
        "outputId": "1a96bd60-39c8-4cfa-e17d-cef91859ba8d"
      },
      "source": [
        "x.sum()"
      ],
      "execution_count": null,
      "outputs": [
        {
          "output_type": "execute_result",
          "data": {
            "text/html": [
              "<div>\n",
              "<style scoped>\n",
              "    .dataframe tbody tr th:only-of-type {\n",
              "        vertical-align: middle;\n",
              "    }\n",
              "\n",
              "    .dataframe tbody tr th {\n",
              "        vertical-align: top;\n",
              "    }\n",
              "\n",
              "    .dataframe thead th {\n",
              "        text-align: right;\n",
              "    }\n",
              "</style>\n",
              "<table border=\"1\" class=\"dataframe\">\n",
              "  <thead>\n",
              "    <tr style=\"text-align: right;\">\n",
              "      <th></th>\n",
              "      <th>valor</th>\n",
              "    </tr>\n",
              "    <tr>\n",
              "      <th>fruta</th>\n",
              "      <th></th>\n",
              "    </tr>\n",
              "  </thead>\n",
              "  <tbody>\n",
              "    <tr>\n",
              "      <th>banana</th>\n",
              "      <td>130</td>\n",
              "    </tr>\n",
              "    <tr>\n",
              "      <th>maça</th>\n",
              "      <td>30</td>\n",
              "    </tr>\n",
              "    <tr>\n",
              "      <th>pera</th>\n",
              "      <td>120</td>\n",
              "    </tr>\n",
              "  </tbody>\n",
              "</table>\n",
              "</div>"
            ],
            "text/plain": [
              "        valor\n",
              "fruta        \n",
              "banana    130\n",
              "maça       30\n",
              "pera      120"
            ]
          },
          "metadata": {
            "tags": []
          },
          "execution_count": 13
        }
      ]
    },
    {
      "cell_type": "code",
      "metadata": {
        "colab": {
          "base_uri": "https://localhost:8080/",
          "height": 175
        },
        "id": "gjyhGx1FZP46",
        "outputId": "2d5dcfc1-9399-4c3f-ba6f-2ce8326f7777"
      },
      "source": [
        "x.count()"
      ],
      "execution_count": null,
      "outputs": [
        {
          "output_type": "execute_result",
          "data": {
            "text/html": [
              "<div>\n",
              "<style scoped>\n",
              "    .dataframe tbody tr th:only-of-type {\n",
              "        vertical-align: middle;\n",
              "    }\n",
              "\n",
              "    .dataframe tbody tr th {\n",
              "        vertical-align: top;\n",
              "    }\n",
              "\n",
              "    .dataframe thead th {\n",
              "        text-align: right;\n",
              "    }\n",
              "</style>\n",
              "<table border=\"1\" class=\"dataframe\">\n",
              "  <thead>\n",
              "    <tr style=\"text-align: right;\">\n",
              "      <th></th>\n",
              "      <th>dia</th>\n",
              "      <th>valor</th>\n",
              "    </tr>\n",
              "    <tr>\n",
              "      <th>fruta</th>\n",
              "      <th></th>\n",
              "      <th></th>\n",
              "    </tr>\n",
              "  </thead>\n",
              "  <tbody>\n",
              "    <tr>\n",
              "      <th>banana</th>\n",
              "      <td>2</td>\n",
              "      <td>2</td>\n",
              "    </tr>\n",
              "    <tr>\n",
              "      <th>maça</th>\n",
              "      <td>2</td>\n",
              "      <td>2</td>\n",
              "    </tr>\n",
              "    <tr>\n",
              "      <th>pera</th>\n",
              "      <td>3</td>\n",
              "      <td>3</td>\n",
              "    </tr>\n",
              "  </tbody>\n",
              "</table>\n",
              "</div>"
            ],
            "text/plain": [
              "        dia  valor\n",
              "fruta             \n",
              "banana    2      2\n",
              "maça      2      2\n",
              "pera      3      3"
            ]
          },
          "metadata": {
            "tags": []
          },
          "execution_count": 15
        }
      ]
    },
    {
      "cell_type": "code",
      "metadata": {
        "colab": {
          "base_uri": "https://localhost:8080/",
          "height": 175
        },
        "id": "N94_-0TdZlFj",
        "outputId": "b98e5bd5-bbc5-459d-af2d-c7cd59b1d715"
      },
      "source": [
        "x.max()"
      ],
      "execution_count": null,
      "outputs": [
        {
          "output_type": "execute_result",
          "data": {
            "text/html": [
              "<div>\n",
              "<style scoped>\n",
              "    .dataframe tbody tr th:only-of-type {\n",
              "        vertical-align: middle;\n",
              "    }\n",
              "\n",
              "    .dataframe tbody tr th {\n",
              "        vertical-align: top;\n",
              "    }\n",
              "\n",
              "    .dataframe thead th {\n",
              "        text-align: right;\n",
              "    }\n",
              "</style>\n",
              "<table border=\"1\" class=\"dataframe\">\n",
              "  <thead>\n",
              "    <tr style=\"text-align: right;\">\n",
              "      <th></th>\n",
              "      <th>dia</th>\n",
              "      <th>valor</th>\n",
              "    </tr>\n",
              "    <tr>\n",
              "      <th>fruta</th>\n",
              "      <th></th>\n",
              "      <th></th>\n",
              "    </tr>\n",
              "  </thead>\n",
              "  <tbody>\n",
              "    <tr>\n",
              "      <th>banana</th>\n",
              "      <td>sab</td>\n",
              "      <td>70</td>\n",
              "    </tr>\n",
              "    <tr>\n",
              "      <th>maça</th>\n",
              "      <td>ter</td>\n",
              "      <td>20</td>\n",
              "    </tr>\n",
              "    <tr>\n",
              "      <th>pera</th>\n",
              "      <td>sex</td>\n",
              "      <td>50</td>\n",
              "    </tr>\n",
              "  </tbody>\n",
              "</table>\n",
              "</div>"
            ],
            "text/plain": [
              "        dia  valor\n",
              "fruta             \n",
              "banana  sab     70\n",
              "maça    ter     20\n",
              "pera    sex     50"
            ]
          },
          "metadata": {
            "tags": []
          },
          "execution_count": 16
        }
      ]
    },
    {
      "cell_type": "code",
      "metadata": {
        "colab": {
          "base_uri": "https://localhost:8080/",
          "height": 206
        },
        "id": "1KwJGLdjZoZ0",
        "outputId": "011b8dd3-ed1f-48b6-982f-894bac7eae17"
      },
      "source": [
        "x.describe()"
      ],
      "execution_count": null,
      "outputs": [
        {
          "output_type": "execute_result",
          "data": {
            "text/html": [
              "<div>\n",
              "<style scoped>\n",
              "    .dataframe tbody tr th:only-of-type {\n",
              "        vertical-align: middle;\n",
              "    }\n",
              "\n",
              "    .dataframe tbody tr th {\n",
              "        vertical-align: top;\n",
              "    }\n",
              "\n",
              "    .dataframe thead tr th {\n",
              "        text-align: left;\n",
              "    }\n",
              "\n",
              "    .dataframe thead tr:last-of-type th {\n",
              "        text-align: right;\n",
              "    }\n",
              "</style>\n",
              "<table border=\"1\" class=\"dataframe\">\n",
              "  <thead>\n",
              "    <tr>\n",
              "      <th></th>\n",
              "      <th colspan=\"8\" halign=\"left\">valor</th>\n",
              "    </tr>\n",
              "    <tr>\n",
              "      <th></th>\n",
              "      <th>count</th>\n",
              "      <th>mean</th>\n",
              "      <th>std</th>\n",
              "      <th>min</th>\n",
              "      <th>25%</th>\n",
              "      <th>50%</th>\n",
              "      <th>75%</th>\n",
              "      <th>max</th>\n",
              "    </tr>\n",
              "    <tr>\n",
              "      <th>fruta</th>\n",
              "      <th></th>\n",
              "      <th></th>\n",
              "      <th></th>\n",
              "      <th></th>\n",
              "      <th></th>\n",
              "      <th></th>\n",
              "      <th></th>\n",
              "      <th></th>\n",
              "    </tr>\n",
              "  </thead>\n",
              "  <tbody>\n",
              "    <tr>\n",
              "      <th>banana</th>\n",
              "      <td>2.0</td>\n",
              "      <td>65.0</td>\n",
              "      <td>7.071068</td>\n",
              "      <td>60.0</td>\n",
              "      <td>62.5</td>\n",
              "      <td>65.0</td>\n",
              "      <td>67.5</td>\n",
              "      <td>70.0</td>\n",
              "    </tr>\n",
              "    <tr>\n",
              "      <th>maça</th>\n",
              "      <td>2.0</td>\n",
              "      <td>15.0</td>\n",
              "      <td>7.071068</td>\n",
              "      <td>10.0</td>\n",
              "      <td>12.5</td>\n",
              "      <td>15.0</td>\n",
              "      <td>17.5</td>\n",
              "      <td>20.0</td>\n",
              "    </tr>\n",
              "    <tr>\n",
              "      <th>pera</th>\n",
              "      <td>3.0</td>\n",
              "      <td>40.0</td>\n",
              "      <td>10.000000</td>\n",
              "      <td>30.0</td>\n",
              "      <td>35.0</td>\n",
              "      <td>40.0</td>\n",
              "      <td>45.0</td>\n",
              "      <td>50.0</td>\n",
              "    </tr>\n",
              "  </tbody>\n",
              "</table>\n",
              "</div>"
            ],
            "text/plain": [
              "       valor                                               \n",
              "       count  mean        std   min   25%   50%   75%   max\n",
              "fruta                                                      \n",
              "banana   2.0  65.0   7.071068  60.0  62.5  65.0  67.5  70.0\n",
              "maça     2.0  15.0   7.071068  10.0  12.5  15.0  17.5  20.0\n",
              "pera     3.0  40.0  10.000000  30.0  35.0  40.0  45.0  50.0"
            ]
          },
          "metadata": {
            "tags": []
          },
          "execution_count": 17
        }
      ]
    },
    {
      "cell_type": "code",
      "metadata": {
        "id": "cupl2JBlZ0Wd"
      },
      "source": [
        "import pandas as pd\n"
      ],
      "execution_count": null,
      "outputs": []
    },
    {
      "cell_type": "code",
      "metadata": {
        "colab": {
          "base_uri": "https://localhost:8080/",
          "height": 175
        },
        "id": "vbflHVIluO2P",
        "outputId": "14a1f6c9-5c2b-498c-ad87-4b42c8959a15"
      },
      "source": [
        "filmes = pd.read_csv('dados.csv')\n",
        "filmes.head()"
      ],
      "execution_count": null,
      "outputs": [
        {
          "output_type": "execute_result",
          "data": {
            "text/html": [
              "<div>\n",
              "<style scoped>\n",
              "    .dataframe tbody tr th:only-of-type {\n",
              "        vertical-align: middle;\n",
              "    }\n",
              "\n",
              "    .dataframe tbody tr th {\n",
              "        vertical-align: top;\n",
              "    }\n",
              "\n",
              "    .dataframe thead th {\n",
              "        text-align: right;\n",
              "    }\n",
              "</style>\n",
              "<table border=\"1\" class=\"dataframe\">\n",
              "  <thead>\n",
              "    <tr style=\"text-align: right;\">\n",
              "      <th></th>\n",
              "      <th>Nome</th>\n",
              "      <th>Idade</th>\n",
              "      <th>Sexo</th>\n",
              "      <th>Tel</th>\n",
              "    </tr>\n",
              "  </thead>\n",
              "  <tbody>\n",
              "    <tr>\n",
              "      <th>0</th>\n",
              "      <td>Cosmo</td>\n",
              "      <td>36</td>\n",
              "      <td>M</td>\n",
              "      <td>8888-7777</td>\n",
              "    </tr>\n",
              "    <tr>\n",
              "      <th>1</th>\n",
              "      <td>Felipe</td>\n",
              "      <td>16</td>\n",
              "      <td>M</td>\n",
              "      <td>7777-6666</td>\n",
              "    </tr>\n",
              "    <tr>\n",
              "      <th>2</th>\n",
              "      <td>Lucas</td>\n",
              "      <td>14</td>\n",
              "      <td>M</td>\n",
              "      <td>5555-8888</td>\n",
              "    </tr>\n",
              "    <tr>\n",
              "      <th>3</th>\n",
              "      <td>Adriana</td>\n",
              "      <td>35</td>\n",
              "      <td>F</td>\n",
              "      <td>4444-9999</td>\n",
              "    </tr>\n",
              "  </tbody>\n",
              "</table>\n",
              "</div>"
            ],
            "text/plain": [
              "      Nome  Idade Sexo        Tel\n",
              "0    Cosmo     36    M  8888-7777\n",
              "1   Felipe     16    M  7777-6666\n",
              "2    Lucas     14    M  5555-8888\n",
              "3  Adriana     35    F  4444-9999"
            ]
          },
          "metadata": {
            "tags": []
          },
          "execution_count": 12
        }
      ]
    },
    {
      "cell_type": "code",
      "metadata": {
        "colab": {
          "base_uri": "https://localhost:8080/",
          "height": 300
        },
        "id": "j81okCujx7Mw",
        "outputId": "bb85baff-9a0d-4694-c5dc-5c3ef9720133"
      },
      "source": [
        "filmes.describe()"
      ],
      "execution_count": null,
      "outputs": [
        {
          "output_type": "execute_result",
          "data": {
            "text/html": [
              "<div>\n",
              "<style scoped>\n",
              "    .dataframe tbody tr th:only-of-type {\n",
              "        vertical-align: middle;\n",
              "    }\n",
              "\n",
              "    .dataframe tbody tr th {\n",
              "        vertical-align: top;\n",
              "    }\n",
              "\n",
              "    .dataframe thead th {\n",
              "        text-align: right;\n",
              "    }\n",
              "</style>\n",
              "<table border=\"1\" class=\"dataframe\">\n",
              "  <thead>\n",
              "    <tr style=\"text-align: right;\">\n",
              "      <th></th>\n",
              "      <th>Idade</th>\n",
              "    </tr>\n",
              "  </thead>\n",
              "  <tbody>\n",
              "    <tr>\n",
              "      <th>count</th>\n",
              "      <td>4.000000</td>\n",
              "    </tr>\n",
              "    <tr>\n",
              "      <th>mean</th>\n",
              "      <td>25.250000</td>\n",
              "    </tr>\n",
              "    <tr>\n",
              "      <th>std</th>\n",
              "      <td>11.870833</td>\n",
              "    </tr>\n",
              "    <tr>\n",
              "      <th>min</th>\n",
              "      <td>14.000000</td>\n",
              "    </tr>\n",
              "    <tr>\n",
              "      <th>25%</th>\n",
              "      <td>15.500000</td>\n",
              "    </tr>\n",
              "    <tr>\n",
              "      <th>50%</th>\n",
              "      <td>25.500000</td>\n",
              "    </tr>\n",
              "    <tr>\n",
              "      <th>75%</th>\n",
              "      <td>35.250000</td>\n",
              "    </tr>\n",
              "    <tr>\n",
              "      <th>max</th>\n",
              "      <td>36.000000</td>\n",
              "    </tr>\n",
              "  </tbody>\n",
              "</table>\n",
              "</div>"
            ],
            "text/plain": [
              "           Idade\n",
              "count   4.000000\n",
              "mean   25.250000\n",
              "std    11.870833\n",
              "min    14.000000\n",
              "25%    15.500000\n",
              "50%    25.500000\n",
              "75%    35.250000\n",
              "max    36.000000"
            ]
          },
          "metadata": {
            "tags": []
          },
          "execution_count": 13
        }
      ]
    },
    {
      "cell_type": "code",
      "metadata": {
        "colab": {
          "base_uri": "https://localhost:8080/"
        },
        "id": "FOEtax3OyJ85",
        "outputId": "3184ed57-b845-4480-e27c-3b49f74ca65a"
      },
      "source": [
        "filmes['Nome']"
      ],
      "execution_count": null,
      "outputs": [
        {
          "output_type": "execute_result",
          "data": {
            "text/plain": [
              "0      Cosmo\n",
              "1     Felipe\n",
              "2      Lucas\n",
              "3    Adriana\n",
              "Name: Nome, dtype: object"
            ]
          },
          "metadata": {
            "tags": []
          },
          "execution_count": 14
        }
      ]
    },
    {
      "cell_type": "code",
      "metadata": {
        "colab": {
          "base_uri": "https://localhost:8080/"
        },
        "id": "9O-in_WgyqXb",
        "outputId": "4b6d1420-b1e6-4e59-fa31-23e47ceafd87"
      },
      "source": [
        "filmes['Sexo']"
      ],
      "execution_count": null,
      "outputs": [
        {
          "output_type": "execute_result",
          "data": {
            "text/plain": [
              "0    M\n",
              "1    M\n",
              "2    M\n",
              "3    F\n",
              "Name: Sexo, dtype: object"
            ]
          },
          "metadata": {
            "tags": []
          },
          "execution_count": 15
        }
      ]
    },
    {
      "cell_type": "code",
      "metadata": {
        "colab": {
          "base_uri": "https://localhost:8080/"
        },
        "id": "HFsBSnt-yvhj",
        "outputId": "5e22e57e-d058-4e7c-e0e0-e5ec15a193c1"
      },
      "source": [
        "filmes['Tel']"
      ],
      "execution_count": null,
      "outputs": [
        {
          "output_type": "execute_result",
          "data": {
            "text/plain": [
              "0    8888-7777\n",
              "1    7777-6666\n",
              "2    5555-8888\n",
              "3    4444-9999\n",
              "Name: Tel, dtype: object"
            ]
          },
          "metadata": {
            "tags": []
          },
          "execution_count": 16
        }
      ]
    },
    {
      "cell_type": "code",
      "metadata": {
        "id": "xgSkDDzMy3FQ"
      },
      "source": [
        ""
      ],
      "execution_count": null,
      "outputs": []
    }
  ]
}