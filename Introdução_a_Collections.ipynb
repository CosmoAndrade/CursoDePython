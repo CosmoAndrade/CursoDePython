{
  "nbformat": 4,
  "nbformat_minor": 0,
  "metadata": {
    "colab": {
      "name": "Introdução a Collections.ipynb",
      "provenance": [],
      "authorship_tag": "ABX9TyOzigYueT4zacc6KaeVQM2u",
      "include_colab_link": true
    },
    "kernelspec": {
      "name": "python3",
      "display_name": "Python 3"
    }
  },
  "cells": [
    {
      "cell_type": "markdown",
      "metadata": {
        "id": "view-in-github",
        "colab_type": "text"
      },
      "source": [
        "<a href=\"https://colab.research.google.com/github/CosmoAndrade/CursoDePython/blob/master/Introdu%C3%A7%C3%A3o_a_Collections.ipynb\" target=\"_parent\"><img src=\"https://colab.research.google.com/assets/colab-badge.svg\" alt=\"Open In Colab\"/></a>"
      ]
    },
    {
      "cell_type": "markdown",
      "metadata": {
        "id": "gTXHsnDdxoyN"
      },
      "source": [
        "# `Listas ` \n",
        "\n",
        "- https://docs.python.org/pt-br/3.8/tutorial/datastructures.html"
      ]
    },
    {
      "cell_type": "markdown",
      "metadata": {
        "id": "1fvTjnN_3Uhp"
      },
      "source": [
        "\n",
        "# `list.append(x)`\n",
        "\n",
        "    Adiciona um item ao fim da lista. Equivalente a a[`len(a):] = [x].`\n",
        "\n",
        "# `list.extend(iterable)`\n",
        "\n",
        "    Prolonga a lista, adicionando no fim todos os elementos do argumento iterable passado como parâmetro. Equivalente a a[`len(a):] = iterable.`\n",
        "\n",
        "# `list.insert(i, x)`\n",
        "\n",
        "    Insere um item em uma dada posição. O primeiro argumento é o índice do elemento antes do qual será feita a inserção, assim a.insert(0, x) insere um elemento na frente da lista e` a.insert(len(a), x) e equivale a a.append(x)`.\n",
        "\n",
        "# `list.remove(x)`\n",
        "\n",
        "    Remove o primeiro item encontrado na lista cujo valor é igual a x. Se não existir valor igual, uma exceção ValueError é levantada.\n",
        "\n",
        "#` list.pop([i])`\n",
        "\n",
        "    Remove um item em uma dada posição na lista e o retorna. Se nenhum índice é especificado, `a.pop()` remove e devolve o último item da lista. (Os colchetes ao redor do i na demonstração do método indica que o parâmetro é opcional, e não que é necessário escrever estes colchetes ao chamar o método. Você verá este tipo de notação frequentemente na Biblioteca de Referência Python.)\n",
        "\n",
        "# `list.clear()`\n",
        "\n",
        "    Remove todos os itens de uma lista. Equivalente a` del a[:].`\n",
        "\n",
        "# `list.index(x[, start[, end]])`\n",
        "\n",
        "    Devolve o índice base-zero do primeiro item cujo valor é igual a x, levantando ValueError se este valor não existe.\n",
        "\n",
        "    Os argumentos opcionais start e end são interpretados como nas notações de fatiamento e são usados para limitar a busca para uma subsequência específica da lista. O índice retornado é calculado relativo ao começo da sequência inteira e não referente ao argumento start.\n",
        "\n",
        "# `list.count(x)`\n",
        "\n",
        "Devolve o número de vezes em que x aparece na lista.\n",
        "\n",
        "# `list.sort(key=None, reverse=False)`\n",
        "\n",
        "    Ordena os itens na lista (os argumentos podem ser usados para personalizar a ordenação, veja a função `sorted() `para maiores explicações).\n",
        "\n",
        "# `list.reverse()`\n",
        "\n",
        "\n",
        "    Inverte a ordem dos elementos na lista.\n",
        "\n",
        "# `list.copy()`\n",
        "\n",
        "    Devolve uma cópia rasa da lista. Equivalente a a[:].\n",
        "\n",
        "\n"
      ]
    },
    {
      "cell_type": "code",
      "metadata": {
        "id": "VB9cRbRpxzwj"
      },
      "source": [
        "idades = [23,27,16,19,34]"
      ],
      "execution_count": 1,
      "outputs": []
    },
    {
      "cell_type": "code",
      "metadata": {
        "id": "q3PcfFZ_y37o",
        "outputId": "684c82fd-08a7-4650-c795-ed213c6094ac",
        "colab": {
          "base_uri": "https://localhost:8080/"
        }
      },
      "source": [
        "idades"
      ],
      "execution_count": 2,
      "outputs": [
        {
          "output_type": "execute_result",
          "data": {
            "text/plain": [
              "[23, 27, 16, 19, 34]"
            ]
          },
          "metadata": {
            "tags": []
          },
          "execution_count": 2
        }
      ]
    },
    {
      "cell_type": "code",
      "metadata": {
        "id": "KzI77yLYzUIB",
        "outputId": "f9894389-86bd-478d-ea7f-126e58d8c5a8",
        "colab": {
          "base_uri": "https://localhost:8080/"
        }
      },
      "source": [
        "type(idades) # tipo de dados"
      ],
      "execution_count": 3,
      "outputs": [
        {
          "output_type": "execute_result",
          "data": {
            "text/plain": [
              "list"
            ]
          },
          "metadata": {
            "tags": []
          },
          "execution_count": 3
        }
      ]
    },
    {
      "cell_type": "code",
      "metadata": {
        "id": "CPgyAcwBzYKk",
        "outputId": "34eb11ea-49aa-4ce4-e814-4f3d9a4ff273",
        "colab": {
          "base_uri": "https://localhost:8080/"
        }
      },
      "source": [
        "len (idades) # tamanho da lista"
      ],
      "execution_count": 5,
      "outputs": [
        {
          "output_type": "execute_result",
          "data": {
            "text/plain": [
              "5"
            ]
          },
          "metadata": {
            "tags": []
          },
          "execution_count": 5
        }
      ]
    },
    {
      "cell_type": "code",
      "metadata": {
        "id": "FsQjTtC4z-Ia",
        "outputId": "c8302558-0191-4953-f67d-62b569d484c9",
        "colab": {
          "base_uri": "https://localhost:8080/"
        }
      },
      "source": [
        "idades[0]"
      ],
      "execution_count": 6,
      "outputs": [
        {
          "output_type": "execute_result",
          "data": {
            "text/plain": [
              "23"
            ]
          },
          "metadata": {
            "tags": []
          },
          "execution_count": 6
        }
      ]
    },
    {
      "cell_type": "code",
      "metadata": {
        "id": "65mvs3Q80SYf",
        "outputId": "86c7cb69-7394-4dd8-8257-8c60c5e65aae",
        "colab": {
          "base_uri": "https://localhost:8080/"
        }
      },
      "source": [
        "idades[0:4]"
      ],
      "execution_count": 7,
      "outputs": [
        {
          "output_type": "execute_result",
          "data": {
            "text/plain": [
              "[23, 27, 16, 19]"
            ]
          },
          "metadata": {
            "tags": []
          },
          "execution_count": 7
        }
      ]
    },
    {
      "cell_type": "code",
      "metadata": {
        "id": "i7rgTggd0oKg",
        "outputId": "4ca8219d-deca-421b-f661-38ef1ef17307",
        "colab": {
          "base_uri": "https://localhost:8080/"
        }
      },
      "source": [
        "idades.append(33) # adiciona no final\n",
        "idades"
      ],
      "execution_count": 8,
      "outputs": [
        {
          "output_type": "execute_result",
          "data": {
            "text/plain": [
              "[23, 27, 16, 19, 34, 33]"
            ]
          },
          "metadata": {
            "tags": []
          },
          "execution_count": 8
        }
      ]
    },
    {
      "cell_type": "code",
      "metadata": {
        "id": "UXLI3U9h0y_N",
        "outputId": "ff61d0e5-678e-46ff-8b66-7320cf1aa046",
        "colab": {
          "base_uri": "https://localhost:8080/"
        }
      },
      "source": [
        "for idade in idades:\n",
        "    print (idade)"
      ],
      "execution_count": 9,
      "outputs": [
        {
          "output_type": "stream",
          "text": [
            "23\n",
            "27\n",
            "16\n",
            "19\n",
            "34\n",
            "33\n"
          ],
          "name": "stdout"
        }
      ]
    },
    {
      "cell_type": "code",
      "metadata": {
        "id": "QAu9HQ0L1LGO",
        "outputId": "4d85b344-2432-48c4-b871-22dbef6cb239",
        "colab": {
          "base_uri": "https://localhost:8080/"
        }
      },
      "source": [
        "idades.remove(27) # Remove pelo item\n",
        "idades"
      ],
      "execution_count": 10,
      "outputs": [
        {
          "output_type": "execute_result",
          "data": {
            "text/plain": [
              "[23, 16, 19, 34, 33]"
            ]
          },
          "metadata": {
            "tags": []
          },
          "execution_count": 10
        }
      ]
    },
    {
      "cell_type": "code",
      "metadata": {
        "id": "oNZydG-11cQc",
        "outputId": "9ca6da47-6736-4867-cf74-dd1f8b9d3589",
        "colab": {
          "base_uri": "https://localhost:8080/"
        }
      },
      "source": [
        "idades.clear() # Limpa toda a lista\n",
        "idades"
      ],
      "execution_count": 11,
      "outputs": [
        {
          "output_type": "execute_result",
          "data": {
            "text/plain": [
              "[]"
            ]
          },
          "metadata": {
            "tags": []
          },
          "execution_count": 11
        }
      ]
    },
    {
      "cell_type": "code",
      "metadata": {
        "id": "3e49yQBT2HBx",
        "outputId": "94fb0f00-5761-4d2a-e53b-dbcc63393176",
        "colab": {
          "base_uri": "https://localhost:8080/"
        }
      },
      "source": [
        "idades  = [23, 27, 16, 19, 34, 33]\n",
        "idades"
      ],
      "execution_count": 13,
      "outputs": [
        {
          "output_type": "execute_result",
          "data": {
            "text/plain": [
              "[23, 27, 16, 19, 34, 33]"
            ]
          },
          "metadata": {
            "tags": []
          },
          "execution_count": 13
        }
      ]
    },
    {
      "cell_type": "code",
      "metadata": {
        "id": "so3R_whC5eY3",
        "outputId": "f279c3bc-dba5-498f-ff9c-0c8b9f0f1cd5",
        "colab": {
          "base_uri": "https://localhost:8080/"
        }
      },
      "source": [
        "33 in idades # "
      ],
      "execution_count": 14,
      "outputs": [
        {
          "output_type": "execute_result",
          "data": {
            "text/plain": [
              "True"
            ]
          },
          "metadata": {
            "tags": []
          },
          "execution_count": 14
        }
      ]
    },
    {
      "cell_type": "code",
      "metadata": {
        "id": "CfdTKTEc5m2l",
        "outputId": "98c1aa43-90bf-435d-d820-5bd4b9af4506",
        "colab": {
          "base_uri": "https://localhost:8080/"
        }
      },
      "source": [
        "if 33 in idades:\n",
        "    idades.remove(33)\n",
        "idades\n"
      ],
      "execution_count": 15,
      "outputs": [
        {
          "output_type": "execute_result",
          "data": {
            "text/plain": [
              "[23, 27, 16, 19, 34]"
            ]
          },
          "metadata": {
            "tags": []
          },
          "execution_count": 15
        }
      ]
    },
    {
      "cell_type": "code",
      "metadata": {
        "id": "b2Cc5Wop6Oaw",
        "outputId": "69a76d6d-1010-46a4-dd7d-7e51052bbb45",
        "colab": {
          "base_uri": "https://localhost:8080/"
        }
      },
      "source": [
        "idades.insert(0,55)\n",
        "idades"
      ],
      "execution_count": 19,
      "outputs": [
        {
          "output_type": "execute_result",
          "data": {
            "text/plain": [
              "[55, 23, 27, 16, 19, 34]"
            ]
          },
          "metadata": {
            "tags": []
          },
          "execution_count": 19
        }
      ]
    },
    {
      "cell_type": "code",
      "metadata": {
        "id": "GwG46Fsj8t_f",
        "outputId": "d4889e57-9215-4c4d-dfef-eaef70011d74",
        "colab": {
          "base_uri": "https://localhost:8080/"
        }
      },
      "source": [
        "idades2 =  [22,34,56,11]\n",
        "idades2"
      ],
      "execution_count": 20,
      "outputs": [
        {
          "output_type": "execute_result",
          "data": {
            "text/plain": [
              "[22, 34, 56, 11]"
            ]
          },
          "metadata": {
            "tags": []
          },
          "execution_count": 20
        }
      ]
    },
    {
      "cell_type": "code",
      "metadata": {
        "id": "Q_-hwuSZ83ic",
        "outputId": "8d988634-37c6-4aff-d20c-127edaeacf33",
        "colab": {
          "base_uri": "https://localhost:8080/"
        }
      },
      "source": [
        "idades.extend(idades2)\n",
        "idades"
      ],
      "execution_count": 21,
      "outputs": [
        {
          "output_type": "execute_result",
          "data": {
            "text/plain": [
              "[55, 23, 27, 16, 19, 34, 22, 34, 56, 11]"
            ]
          },
          "metadata": {
            "tags": []
          },
          "execution_count": 21
        }
      ]
    },
    {
      "cell_type": "code",
      "metadata": {
        "id": "3oXWuo9g9EXG",
        "outputId": "e3b9b47a-3ab9-4db0-edf3-383873b3d268",
        "colab": {
          "base_uri": "https://localhost:8080/"
        }
      },
      "source": [
        "for idade in idades:\n",
        "    print (idade + 1)"
      ],
      "execution_count": 23,
      "outputs": [
        {
          "output_type": "stream",
          "text": [
            "56\n",
            "24\n",
            "28\n",
            "17\n",
            "20\n",
            "35\n",
            "23\n",
            "35\n",
            "57\n",
            "12\n"
          ],
          "name": "stdout"
        }
      ]
    },
    {
      "cell_type": "code",
      "metadata": {
        "id": "yXNzHVqG9ty3",
        "outputId": "8ab68d4a-7e05-4d2a-a331-814b5eaf656a",
        "colab": {
          "base_uri": "https://localhost:8080/"
        }
      },
      "source": [
        "idade_ano_que_vem = []\n",
        "for idade in idades:\n",
        "    idade_ano_que_vem.append(idade + 1)\n",
        "\n",
        "print(idade_ano_que_vem)\n",
        "    "
      ],
      "execution_count": 24,
      "outputs": [
        {
          "output_type": "stream",
          "text": [
            "[56, 24, 28, 17, 20, 35, 23, 35, 57, 12]\n"
          ],
          "name": "stdout"
        }
      ]
    },
    {
      "cell_type": "code",
      "metadata": {
        "id": "ifG_XpK0-hLS",
        "outputId": "93caacc3-b040-440c-edb7-73fe0e9abbce",
        "colab": {
          "base_uri": "https://localhost:8080/"
        }
      },
      "source": [
        "idade_ano_que_vem = [idade + 1 for idade in idades]\n",
        "\n",
        "idade_ano_que_vem"
      ],
      "execution_count": 26,
      "outputs": [
        {
          "output_type": "execute_result",
          "data": {
            "text/plain": [
              "[56, 24, 28, 17, 20, 35, 23, 35, 57, 12]"
            ]
          },
          "metadata": {
            "tags": []
          },
          "execution_count": 26
        }
      ]
    },
    {
      "cell_type": "code",
      "metadata": {
        "id": "w4qiUE8ZASRX",
        "outputId": "cd288b2e-c4a2-481b-9f06-c10120ff5f8e",
        "colab": {
          "base_uri": "https://localhost:8080/"
        }
      },
      "source": [
        "[idade for idade in idades if idade  > 28]"
      ],
      "execution_count": 27,
      "outputs": [
        {
          "output_type": "execute_result",
          "data": {
            "text/plain": [
              "[55, 34, 34, 56]"
            ]
          },
          "metadata": {
            "tags": []
          },
          "execution_count": 27
        }
      ]
    },
    {
      "cell_type": "code",
      "metadata": {
        "id": "X5GUNVGODSCH"
      },
      "source": [
        "class ContaCorrente:\n",
        "    def __init__(self,codigo):\n",
        "        self.codigo = codigo\n",
        "        self.saldo = 0\n",
        "\n",
        "    def deposita(self,valor):\n",
        "        self.saldo += valor\n",
        "\n",
        "    def  __str__(self):\n",
        "        return '>> [Codigo {} - Saldo {} <<]'.format (self.codigo,self.saldo)  \n",
        "\n",
        "            "
      ],
      "execution_count": 32,
      "outputs": []
    },
    {
      "cell_type": "code",
      "metadata": {
        "id": "qux2IdLJFPRV",
        "outputId": "e28f7b94-040b-4ff0-db70-6b9a02ad0388",
        "colab": {
          "base_uri": "https://localhost:8080/"
        }
      },
      "source": [
        "conta_do_lucas = ContaCorrente (15)\n",
        "print (conta_do_lucas) "
      ],
      "execution_count": 33,
      "outputs": [
        {
          "output_type": "stream",
          "text": [
            ">> [Codigo 15 - Saldo 0 <<]\n"
          ],
          "name": "stdout"
        }
      ]
    },
    {
      "cell_type": "code",
      "metadata": {
        "id": "B7UTcmgzDSuG",
        "outputId": "f0e60636-c627-4faf-e643-d4a8e5838845",
        "colab": {
          "base_uri": "https://localhost:8080/"
        }
      },
      "source": [
        "conta_do_lucas.deposita(500)\n",
        "print (conta_do_lucas)"
      ],
      "execution_count": 34,
      "outputs": [
        {
          "output_type": "stream",
          "text": [
            ">> [Codigo 15 - Saldo 500 <<]\n"
          ],
          "name": "stdout"
        }
      ]
    },
    {
      "cell_type": "code",
      "metadata": {
        "id": "sb2Nz9njFTA-",
        "outputId": "7309ab86-01cd-4a21-ea18-dc09c8cc2383",
        "colab": {
          "base_uri": "https://localhost:8080/"
        }
      },
      "source": [
        "conta_do_felipe = ContaCorrente(20)\n",
        "print (conta_do_felipe)"
      ],
      "execution_count": 35,
      "outputs": [
        {
          "output_type": "stream",
          "text": [
            ">> [Codigo 20 - Saldo 0 <<]\n"
          ],
          "name": "stdout"
        }
      ]
    },
    {
      "cell_type": "code",
      "metadata": {
        "id": "dwtbk8X-Fd31",
        "outputId": "d1aaa891-32d7-4f31-ffdd-fdc7c7ce6aad",
        "colab": {
          "base_uri": "https://localhost:8080/"
        }
      },
      "source": [
        "conta_do_felipe.deposita(500)\n",
        "print (conta_do_felipe)"
      ],
      "execution_count": 36,
      "outputs": [
        {
          "output_type": "stream",
          "text": [
            ">> [Codigo 20 - Saldo 500 <<]\n"
          ],
          "name": "stdout"
        }
      ]
    },
    {
      "cell_type": "code",
      "metadata": {
        "id": "lCOOdR0bFmSW",
        "outputId": "88b320d5-7021-4204-9544-281f8199c514",
        "colab": {
          "base_uri": "https://localhost:8080/"
        }
      },
      "source": [
        "contas = [conta_do_lucas,conta_do_felipe]\n",
        "print (contas)"
      ],
      "execution_count": 37,
      "outputs": [
        {
          "output_type": "stream",
          "text": [
            "[<__main__.ContaCorrente object at 0x7f5dd2f3b780>, <__main__.ContaCorrente object at 0x7f5dd2f3b320>]\n"
          ],
          "name": "stdout"
        }
      ]
    },
    {
      "cell_type": "code",
      "metadata": {
        "id": "MmIuGgTgF9Wx",
        "outputId": "2df4305e-abdc-4655-e759-a6b944047eb4",
        "colab": {
          "base_uri": "https://localhost:8080/"
        }
      },
      "source": [
        "for conta in contas:\n",
        "    print (conta)"
      ],
      "execution_count": 38,
      "outputs": [
        {
          "output_type": "stream",
          "text": [
            ">> [Codigo 15 - Saldo 500 <<]\n",
            ">> [Codigo 20 - Saldo 500 <<]\n"
          ],
          "name": "stdout"
        }
      ]
    },
    {
      "cell_type": "code",
      "metadata": {
        "id": "NOcyXky_GMhY",
        "outputId": "f7358798-2b83-45c4-ff2b-33e9423415af",
        "colab": {
          "base_uri": "https://localhost:8080/"
        }
      },
      "source": [
        "print (contas[0])"
      ],
      "execution_count": 39,
      "outputs": [
        {
          "output_type": "stream",
          "text": [
            ">> [Codigo 15 - Saldo 500 <<]\n"
          ],
          "name": "stdout"
        }
      ]
    },
    {
      "cell_type": "markdown",
      "metadata": {
        "id": "M3fj43uTCLyu"
      },
      "source": [
        "# `Tuplas `\n"
      ]
    },
    {
      "cell_type": "code",
      "metadata": {
        "id": "qo-oxMTCCfWs",
        "outputId": "531a33c9-2612-4ec3-9c65-db9fdb266fcc",
        "colab": {
          "base_uri": "https://localhost:8080/"
        }
      },
      "source": [
        "nome_da_tupla1 = (1, 2, 3) #tupla de inteiros\n",
        "nome_da_tupla2 = (1, \"olá\", 1.5) #tupla heterogênea\n",
        "\n",
        "print (nome_da_tupla1)\n",
        "print (nome_da_tupla2)"
      ],
      "execution_count": 40,
      "outputs": [
        {
          "output_type": "stream",
          "text": [
            "(1, 2, 3)\n",
            "(1, 'olá', 1.5)\n"
          ],
          "name": "stdout"
        }
      ]
    },
    {
      "cell_type": "markdown",
      "metadata": {
        "id": "hxvEFxo0ISUi"
      },
      "source": [
        "Para verificar a quantidade de elementos existentes em uma tupla, podemos utilizar o método` count()` e enviando o valor que queremos verificar como parâmetro:"
      ]
    },
    {
      "cell_type": "code",
      "metadata": {
        "id": "zNHYZJkaIV6R",
        "outputId": "b5ed3657-799d-47b3-dafa-9e0f11a131e3",
        "colab": {
          "base_uri": "https://localhost:8080/"
        }
      },
      "source": [
        "nome_da_tupla1 = (1, 2, 3) #tupla de inteiros\n",
        "\n",
        "print(nome_da_tupla1.count(1))\n",
        "nome_da_tupla1 = (1, 1, 2, 3)\n",
        "print(nome_da_tupla1.count(1))"
      ],
      "execution_count": 41,
      "outputs": [
        {
          "output_type": "stream",
          "text": [
            "1\n",
            "2\n"
          ],
          "name": "stdout"
        }
      ]
    },
    {
      "cell_type": "markdown",
      "metadata": {
        "id": "j0yR1GmiIic7"
      },
      "source": [
        "Para retornar o índice de um determinado elemento em uma tupla, utilizamos o método `index()`, enviando o valor que queremos pesquisar como parâmetro:"
      ]
    },
    {
      "cell_type": "code",
      "metadata": {
        "id": "mUBXhSiUIlDJ",
        "outputId": "780f20fa-12ce-441d-a705-6e73ec27ef03",
        "colab": {
          "base_uri": "https://localhost:8080/"
        }
      },
      "source": [
        "nome_da_tupla1 = (1, 2, 3) #tupla de inteiros\n",
        "\n",
        "print(nome_da_tupla1.index(3))"
      ],
      "execution_count": 42,
      "outputs": [
        {
          "output_type": "stream",
          "text": [
            "2\n"
          ],
          "name": "stdout"
        }
      ]
    },
    {
      "cell_type": "markdown",
      "metadata": {
        "id": "DhaOTuGpIup4"
      },
      "source": [
        "Um outro recurso muito utilizado em tuplas é a verificação da existência de um determinado elemento. Para isso, utilizamos o `in` do Python, como podemos ver abaixo:"
      ]
    },
    {
      "cell_type": "code",
      "metadata": {
        "id": "qCbnwomlIxg7",
        "outputId": "8af59642-0896-46b1-e967-dae4889260d6",
        "colab": {
          "base_uri": "https://localhost:8080/"
        }
      },
      "source": [
        "nome_da_tupla1 = (1, 2, 3) #tupla de inteiros\n",
        "\n",
        "print(2 in nome_da_tupla1)\n",
        "print(22 in nome_da_tupla1)"
      ],
      "execution_count": 43,
      "outputs": [
        {
          "output_type": "stream",
          "text": [
            "True\n",
            "False\n"
          ],
          "name": "stdout"
        }
      ]
    },
    {
      "cell_type": "markdown",
      "metadata": {
        "id": "RUeHD5BHLwFK"
      },
      "source": [
        "# `Dicionários `"
      ]
    },
    {
      "cell_type": "code",
      "metadata": {
        "id": "rBT2XMQ_L1uU",
        "outputId": "32ff77db-f244-4412-9678-2b30a2250c67",
        "colab": {
          "base_uri": "https://localhost:8080/"
        }
      },
      "source": [
        "cores = {\n",
        "    1 : 'Azul',\n",
        "    2 : 'Amarelo',\n",
        "    3 : 'Verde'\n",
        "}\n",
        "\n",
        "print (cores)"
      ],
      "execution_count": 44,
      "outputs": [
        {
          "output_type": "stream",
          "text": [
            "{1: 'Azul', 2: 'Amarelo', 3: 'Verde'}\n"
          ],
          "name": "stdout"
        }
      ]
    },
    {
      "cell_type": "code",
      "metadata": {
        "id": "GrsR73oZMEFn",
        "outputId": "dbac1b1a-2f1f-4e7e-f023-dee712ef39cc",
        "colab": {
          "base_uri": "https://localhost:8080/"
        }
      },
      "source": [
        "print (cores[1])"
      ],
      "execution_count": 45,
      "outputs": [
        {
          "output_type": "stream",
          "text": [
            "Azul\n"
          ],
          "name": "stdout"
        }
      ]
    },
    {
      "cell_type": "markdown",
      "metadata": {
        "id": "6JxOgx3CMu7H"
      },
      "source": [
        "Adicionando elementos em um dicionário\n",
        "\n",
        "Para inserir novos elementos em um dicionário, existem duas formas. A primeira é passar o valor ao índice de um dicionário e a segunda é utilizando o método `update()`, passando como parâmetro a chave e o elemento a ser adicionado:"
      ]
    },
    {
      "cell_type": "code",
      "metadata": {
        "id": "Q0CDPpskM0NY",
        "outputId": "c988db45-ccae-45ca-afc8-d26917ab7cd2",
        "colab": {
          "base_uri": "https://localhost:8080/"
        }
      },
      "source": [
        "cores.update({4:'Roxo'})\n",
        "print(cores)"
      ],
      "execution_count": 47,
      "outputs": [
        {
          "output_type": "stream",
          "text": [
            "{1: 'Azul', 2: 'Amarelo', 3: 'Verde', 4: 'Roxo'}\n"
          ],
          "name": "stdout"
        }
      ]
    },
    {
      "cell_type": "code",
      "metadata": {
        "id": "P6FF1rTkMLLA",
        "outputId": "9ee5e369-6d89-4ec9-892b-7c5b4367aa95",
        "colab": {
          "base_uri": "https://localhost:8080/"
        }
      },
      "source": [
        "cores [5] = 'Magenta'\n",
        "print (cores)"
      ],
      "execution_count": 48,
      "outputs": [
        {
          "output_type": "stream",
          "text": [
            "{1: 'Azul', 2: 'Amarelo', 3: 'Verde', 4: 'Roxo', 5: 'Magenta'}\n"
          ],
          "name": "stdout"
        }
      ]
    },
    {
      "cell_type": "markdown",
      "metadata": {
        "id": "zPS4tQMNNNS_"
      },
      "source": [
        "Removendo elementos de um dicionário\n",
        "\n",
        "Para remover elementos de um dicionário utilizamos o método `pop()` seguido do índice do elemento que deve ser removido."
      ]
    },
    {
      "cell_type": "code",
      "metadata": {
        "id": "S0n6S_J3NQ2Z",
        "outputId": "39743e43-3abd-4784-de25-c54ae27ae97e",
        "colab": {
          "base_uri": "https://localhost:8080/"
        }
      },
      "source": [
        "cores.pop(5)\n",
        "print (cores)"
      ],
      "execution_count": 49,
      "outputs": [
        {
          "output_type": "stream",
          "text": [
            "{1: 'Azul', 2: 'Amarelo', 3: 'Verde', 4: 'Roxo'}\n"
          ],
          "name": "stdout"
        }
      ]
    },
    {
      "cell_type": "markdown",
      "metadata": {
        "id": "uUE3PnjRNxVU"
      },
      "source": [
        "![image.png](data:image/png;base64,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)"
      ]
    },
    {
      "cell_type": "code",
      "metadata": {
        "id": "d3nUFeDAN7ii",
        "outputId": "271ce1b6-9888-4b3a-f3f7-4b93900e8ee3",
        "colab": {
          "base_uri": "https://localhost:8080/"
        }
      },
      "source": [
        "print (cores.keys())"
      ],
      "execution_count": 50,
      "outputs": [
        {
          "output_type": "stream",
          "text": [
            "dict_keys([1, 2, 3, 4])\n"
          ],
          "name": "stdout"
        }
      ]
    },
    {
      "cell_type": "code",
      "metadata": {
        "id": "SSVv0LlVOEeQ",
        "outputId": "76b8f9b5-4280-4c11-e6cc-3476d63a5722",
        "colab": {
          "base_uri": "https://localhost:8080/"
        }
      },
      "source": [
        "print (cores.values())"
      ],
      "execution_count": 53,
      "outputs": [
        {
          "output_type": "stream",
          "text": [
            "dict_values(['Azul', 'Amarelo', 'Verde', 'Roxo'])\n"
          ],
          "name": "stdout"
        }
      ]
    },
    {
      "cell_type": "code",
      "metadata": {
        "id": "FjSvxU72OMXp",
        "outputId": "defca80a-1402-4ee3-da3b-9f679f1bd45c",
        "colab": {
          "base_uri": "https://localhost:8080/"
        }
      },
      "source": [
        "print (cores.items())"
      ],
      "execution_count": 54,
      "outputs": [
        {
          "output_type": "stream",
          "text": [
            "dict_items([(1, 'Azul'), (2, 'Amarelo'), (3, 'Verde'), (4, 'Roxo')])\n"
          ],
          "name": "stdout"
        }
      ]
    },
    {
      "cell_type": "code",
      "metadata": {
        "id": "UcEc3SoYOTFd",
        "outputId": "467f2c5c-8a65-4ef7-e2f0-aaf429492220",
        "colab": {
          "base_uri": "https://localhost:8080/"
        }
      },
      "source": [
        "print (cores.get(1))"
      ],
      "execution_count": 55,
      "outputs": [
        {
          "output_type": "stream",
          "text": [
            "Azul\n"
          ],
          "name": "stdout"
        }
      ]
    },
    {
      "cell_type": "code",
      "metadata": {
        "id": "RdCAdgQ1Oppt",
        "outputId": "407a38ef-c205-4a93-86b2-ded1251f699a",
        "colab": {
          "base_uri": "https://localhost:8080/"
        }
      },
      "source": [
        "for cor in cores.keys():\n",
        "    print (cor)"
      ],
      "execution_count": 59,
      "outputs": [
        {
          "output_type": "stream",
          "text": [
            "1\n",
            "2\n",
            "3\n",
            "4\n"
          ],
          "name": "stdout"
        }
      ]
    },
    {
      "cell_type": "code",
      "metadata": {
        "id": "PqmQPvgGPRZZ"
      },
      "source": [
        ""
      ],
      "execution_count": null,
      "outputs": []
    },
    {
      "cell_type": "code",
      "metadata": {
        "id": "_ewN36wkOy0B",
        "outputId": "1a48faab-93a2-48ba-fad9-b983f704a35f",
        "colab": {
          "base_uri": "https://localhost:8080/"
        }
      },
      "source": [
        "for cor in cores.values():\n",
        "    print (cor)"
      ],
      "execution_count": 57,
      "outputs": [
        {
          "output_type": "stream",
          "text": [
            "Azul\n",
            "Amarelo\n",
            "Verde\n",
            "Roxo\n"
          ],
          "name": "stdout"
        }
      ]
    },
    {
      "cell_type": "code",
      "metadata": {
        "id": "II63bIhfO6W3",
        "outputId": "aa7c5777-c8b8-4b77-b675-9936942abec3",
        "colab": {
          "base_uri": "https://localhost:8080/"
        }
      },
      "source": [
        "for cor in cores.items():\n",
        "    print (cor)"
      ],
      "execution_count": 58,
      "outputs": [
        {
          "output_type": "stream",
          "text": [
            "(1, 'Azul')\n",
            "(2, 'Amarelo')\n",
            "(3, 'Verde')\n",
            "(4, 'Roxo')\n"
          ],
          "name": "stdout"
        }
      ]
    }
  ]
}