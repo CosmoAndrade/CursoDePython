{
  "nbformat": 4,
  "nbformat_minor": 0,
  "metadata": {
    "colab": {
      "name": "print em python.ipynb",
      "provenance": [],
      "authorship_tag": "ABX9TyOFKEZQbUmLCSxL+ZJSI0H5",
      "include_colab_link": true
    },
    "kernelspec": {
      "name": "python3",
      "display_name": "Python 3"
    }
  },
  "cells": [
    {
      "cell_type": "markdown",
      "metadata": {
        "id": "view-in-github",
        "colab_type": "text"
      },
      "source": [
        "<a href=\"https://colab.research.google.com/github/CosmoAndrade/CursoDePython/blob/master/print_em_python.ipynb\" target=\"_parent\"><img src=\"https://colab.research.google.com/assets/colab-badge.svg\" alt=\"Open In Colab\"/></a>"
      ]
    },
    {
      "cell_type": "code",
      "metadata": {
        "id": "L0jmKy0Ljnkq"
      },
      "source": [
        ""
      ],
      "execution_count": null,
      "outputs": []
    },
    {
      "cell_type": "markdown",
      "metadata": {
        "id": "yEB9AKKsj0tl"
      },
      "source": [
        "# A função `print()`\n",
        "\n",
        "A grosso modo a função ` print()` serve para imprimir os argumentos passados a ela no terminal."
      ]
    },
    {
      "cell_type": "markdown",
      "metadata": {
        "id": "oZn_Zi1wkMKl"
      },
      "source": [
        "### Dentre os argumentos que `print` pode receber existem três parâmetros que são passados ao final com as palavras chave` sep, end e file`, você  normalmente não vê esses parâmetros porque eles já tem valores predefinidos:\n",
        "`sep `\tO valor padrão de sep é um espaço em branco, quando dois ou mais argumentos são passados para a função print sep coloca entre eles um espaço em branco ou um outro valor que podemos passar para sep.\n",
        "\n",
        "`end` \tO valor padrão de end é uma nova linha “\\n” e por isso que sempre a função print adiciona uma nova linha depois de imprimir tudo que lhe foi passado, mas, podemos definir outro valor com uma tabulação “\\t” por exemplo.\n",
        "\n",
        "`file `\tEste é o padrão que define onde será impresso os argumentos passados para print. Seu valor padrão é definido por sys.stdout, o fluxo de saída padrão que normalmente é o terminal. Podemos alterar esse valor para especificar um arquivo por exemplo."
      ]
    },
    {
      "cell_type": "code",
      "metadata": {
        "id": "CNWqE9QRkj92",
        "outputId": "0327e18a-341c-4f9d-ad59-d1e5e7d46d3c",
        "colab": {
          "base_uri": "https://localhost:8080/"
        }
      },
      "source": [
        "ano1 = '1980'\n",
        "ano2 = '1990'\n",
        "ano3 = '2000'\n",
        "ano4 = '2010'\n",
        "\n",
        "texto = \"Alterando o valor de sep\"\n",
        "print(texto)\n",
        "print(ano1, ano2, ano3, ano4, sep='--->')\n",
        "\n",
        "# pula uma linha\n",
        "print()\n",
        "\n",
        "texto = \"Alterando o valor de sep e end\"\n",
        "print(texto)\n",
        "print(ano1, ano2, ano3, ano4, sep='--->', end='...\\n')"
      ],
      "execution_count": 1,
      "outputs": [
        {
          "output_type": "stream",
          "text": [
            "Alterando o valor de sep\n",
            "1980--->1990--->2000--->2010\n",
            "\n",
            "Alterando o valor de sep e end\n",
            "1980--->1990--->2000--->2010...\n"
          ],
          "name": "stdout"
        }
      ]
    },
    {
      "cell_type": "code",
      "metadata": {
        "id": "TWthesb6lhbM",
        "outputId": "5c1d829c-4b3f-4e0d-a7ba-41571bf85843",
        "colab": {
          "base_uri": "https://localhost:8080/"
        }
      },
      "source": [
        "# Criando um cpf\n",
        "print (111,333,445, sep='.' , end='-')\n",
        "print (10)"
      ],
      "execution_count": 7,
      "outputs": [
        {
          "output_type": "stream",
          "text": [
            "111.333.445-10\n"
          ],
          "name": "stdout"
        }
      ]
    },
    {
      "cell_type": "markdown",
      "metadata": {
        "id": "BXbwvck1pOYC"
      },
      "source": [
        "# Método `format()`\n",
        "\n",
        "O método ` format()` serve para criar uma string que contem campos entre chaves a serem substituídos pelos argumentos de format."
      ]
    },
    {
      "cell_type": "code",
      "metadata": {
        "id": "60JyZi_up8E8",
        "outputId": "4cfb8ae4-1a13-472a-9a25-b5868bd23546",
        "colab": {
          "base_uri": "https://localhost:8080/"
        }
      },
      "source": [
        "curso = 'Python'\n",
        "ano = 2020\n",
        "print ('Curso de {} - Ano {}'.format(curso,ano))"
      ],
      "execution_count": 17,
      "outputs": [
        {
          "output_type": "stream",
          "text": [
            "Curso de Python - Ano 2020\n"
          ],
          "name": "stdout"
        }
      ]
    },
    {
      "cell_type": "code",
      "metadata": {
        "id": "P42hIGXkqVaT",
        "outputId": "cb0b6064-7227-4327-f3d8-93ef48f15c92",
        "colab": {
          "base_uri": "https://localhost:8080/"
        }
      },
      "source": [
        "print (f'Curso de {curso} - Ano {ano}')"
      ],
      "execution_count": 18,
      "outputs": [
        {
          "output_type": "stream",
          "text": [
            "Curso de Python - Ano 2020\n"
          ],
          "name": "stdout"
        }
      ]
    }
  ]
}