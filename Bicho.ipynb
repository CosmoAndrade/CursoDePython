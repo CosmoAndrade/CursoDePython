{
  "nbformat": 4,
  "nbformat_minor": 0,
  "metadata": {
    "colab": {
      "name": "Bicho.ipynb",
      "provenance": [],
      "collapsed_sections": [],
      "authorship_tag": "ABX9TyPdahPbaoQy1AKaeGcvjpEk",
      "include_colab_link": true
    },
    "kernelspec": {
      "name": "python3",
      "display_name": "Python 3"
    }
  },
  "cells": [
    {
      "cell_type": "markdown",
      "metadata": {
        "id": "view-in-github",
        "colab_type": "text"
      },
      "source": [
        "<a href=\"https://colab.research.google.com/github/CosmoAndrade/CursoDePython/blob/master/Bicho.ipynb\" target=\"_parent\"><img src=\"https://colab.research.google.com/assets/colab-badge.svg\" alt=\"Open In Colab\"/></a>"
      ]
    },
    {
      "cell_type": "code",
      "metadata": {
        "colab": {
          "base_uri": "https://localhost:8080/"
        },
        "id": "rXACEJ7UakQo",
        "outputId": "1860e9bf-44bc-4df5-8c1b-91bd1ed135c8"
      },
      "source": [
        " \n",
        "import random\n",
        "print(\"Jogo do bicho\")\n",
        "x = \"y\"\n",
        " \n",
        "while x == \"y\":\n",
        "    number = random.randint(1,26)\n",
        " \n",
        "    if number == 1:\n",
        "        print(\"-------------\")\n",
        "        print(\"|           |\")\n",
        "        print(\"| Avestruz  |\")\n",
        "        print(\"|           |\")\n",
        "        print(\"-------------\")\n",
        "    if number == 2:\n",
        "        print(\"-------------\")\n",
        "        print(\"|           |\")\n",
        "        print(\"| 🦅  Àguia  |\")\n",
        "        print(\"|           |\")\n",
        "        print(\"-------------\")\n",
        "    if number == 3:\n",
        "        print(\"-------------\")\n",
        "        print(\"|           |\")\n",
        "        print(\"|  🐎 Burro   |\")\n",
        "        print(\"|           |\")\n",
        "        print(\"-------------\")\n",
        "    if number == 4:\n",
        "        print(\"-------------\")\n",
        "        print(\"|           |\")\n",
        "        print(\"| 🦋 Borboleta|\")\n",
        "        print(\"|           |\")\n",
        "        print(\"-------------\")\n",
        "    if number == 5:\n",
        "        print(\"-------------\")\n",
        "        print(\"|           |\")\n",
        "        print(\"| 🐶 Cachorro |\")\n",
        "        print(\"|           |\")\n",
        "        print(\"-------------\")\n",
        "    if number == 6:\n",
        "        print(\"-------------\")\n",
        "        print(\"|           |\")\n",
        "        print(\"| 🐐 Cabra   |\")\n",
        "        print(\"|           |\")\n",
        "        print(\"-------------\")\n",
        " \n",
        "    if number == 7:\n",
        "        print(\"-------------\")\n",
        "        print(\"|           |\")\n",
        "        print(\"| 🐏 Carneiro|\")\n",
        "        print(\"|           |\")\n",
        "        print(\"-------------\")\n",
        " \n",
        "    if number == 8:\n",
        "        print(\"-------------\")\n",
        "        print(\"|           |\")\n",
        "        print(\"| 🐫 Camelo |\")\n",
        "        print(\"|           |\")\n",
        "        print(\"-------------\")\n",
        " \n",
        "    if number == 9:\n",
        "        print(\"-------------\")\n",
        "        print(\"|           |\")\n",
        "        print(\"| 🐍  Cobra |\")\n",
        "        print(\"|           |\")\n",
        "        print(\"-------------\")\n",
        " \n",
        "    if number == 10:\n",
        "        print(\"-------------\")\n",
        "        print(\"|           |\")\n",
        "        print(\"|  🐰 Coelho |\")\n",
        "        print(\"|           |\")\n",
        "        print(\"-------------\")\n",
        " \n",
        " \n",
        "    if number == 11:\n",
        "        print(\"-------------\")\n",
        "        print(\"|           |\")\n",
        "        print(\"|  🐴 Cavalo |\")\n",
        "        print(\"|           |\")\n",
        "        print(\"-------------\")\n",
        " \n",
        "    if number == 12:\n",
        "        print(\"-------------\")\n",
        "        print(\"|           |\")\n",
        "        print(\"| 🐘 Elefante|\")\n",
        "        print(\"|           |\")\n",
        "        print(\"-------------\")\n",
        " \n",
        "    if number == 13:\n",
        "        print(\"-------------\")\n",
        "        print(\"|           |\")\n",
        "        print(\"|  🐓 Galo  |\")\n",
        "        print(\"|           |\")\n",
        "        print(\"-------------\")\n",
        " \n",
        " \n",
        "    if number == 14:\n",
        "        print(\"-------------\")\n",
        "        print(\"|           |\")\n",
        "        print(\"| 🐹 Gato   |\")\n",
        "        print(\"|           |\")\n",
        "        print(\"-------------\")\n",
        " \n",
        " \n",
        "    if number == 15:\n",
        "        print(\"-------------\")\n",
        "        print(\"|           |\")\n",
        "        print(\"|  🐊 Jacaré |\")\n",
        "        print(\"|           |\")\n",
        "        print(\"-------------\")\n",
        " \n",
        "    if number == 16:\n",
        "        print(\"-------------\")\n",
        "        print(\"|           |\")\n",
        "        print(\"|   🦁 Leão  |\")\n",
        "        print(\"|           |\")\n",
        "        print(\"-------------\")        \n",
        " \n",
        "    if number == 17:\n",
        "        print(\"-------------\")\n",
        "        print(\"|           |\")\n",
        "        print(\"|  🐵 Macaco |\")\n",
        "        print(\"|           |\")\n",
        "        print(\"-------------\")\n",
        " \n",
        "    if number == 18:\n",
        "        print(\"-------------\")\n",
        "        print(\"|           |\")\n",
        "        print(\"|  🐷 Porco  |\")\n",
        "        print(\"|           |\")\n",
        "        print(\"-------------\")\n",
        " \n",
        " \n",
        "    if number == 19:\n",
        "        print(\"-------------\")\n",
        "        print(\"|           |\")\n",
        "        print(\"|  🦚 Pavão   |\")\n",
        "        print(\"|           |\")\n",
        "        print(\"-------------\")\n",
        " \n",
        " \n",
        "    if number == 20:\n",
        "        print(\"-------------\")\n",
        "        print(\"|           |\")\n",
        "        print(\"|  🦃 Peru    |\")\n",
        "        print(\"|           |\")\n",
        "        print(\"-------------\")\n",
        " \n",
        " \n",
        "    if number == 21:\n",
        "        print(\"-------------\")\n",
        "        print(\"|           |\")\n",
        "        print(\"| 🐃 Touro   |\")\n",
        "        print(\"|           |\")\n",
        "        print(\"-------------\")     \n",
        " \n",
        " \n",
        "    if number == 22:\n",
        "        print(\"-------------\")\n",
        "        print(\"|           |\")\n",
        "        print(\"| 🐯 Tigre  |\")\n",
        "        print(\"|           |\")\n",
        "        print(\"-------------\")\n",
        " \n",
        "    if number == 23:\n",
        "        print(\"-------------\")\n",
        "        print(\"|           |\")\n",
        "        print(\"|   🐻 Urso  |\")\n",
        "        print(\"|           |\")\n",
        "        print(\"-------------\")\n",
        " \n",
        " \n",
        "    if number == 24:\n",
        "        print(\"-------------\")\n",
        "        print(\"|           |\")\n",
        "        print(\"|  🦌 Veado |\")\n",
        "        print(\"|           |\")\n",
        "        print(\"-------------\") \n",
        " \n",
        " \n",
        "    if number == 25:\n",
        "        print(\"-------------\")\n",
        "        print(\"|           |\")\n",
        "        print(\"| 🐮 Vaca    |\")\n",
        "        print(\"|           |\")\n",
        "        print(\"-------------\")                                                          \n",
        " \n",
        " \n",
        "    x = input(\"Pressione 'y' para jogar novamente: \")"
      ],
      "execution_count": 1,
      "outputs": [
        {
          "output_type": "stream",
          "text": [
            "Jogo do bicho\n",
            "Pressione 'y' para jogar novamente: y\n",
            "-------------\n",
            "|           |\n",
            "| 🐐 Cabra   |\n",
            "|           |\n",
            "-------------\n",
            "Pressione 'y' para jogar novamente: y\n",
            "-------------\n",
            "|           |\n",
            "| 🐶 Cachorro |\n",
            "|           |\n",
            "-------------\n",
            "Pressione 'y' para jogar novamente: b\n"
          ],
          "name": "stdout"
        }
      ]
    },
    {
      "cell_type": "code",
      "metadata": {
        "id": "uWF0aSWUTx2l"
      },
      "source": [
        "import random"
      ],
      "execution_count": 2,
      "outputs": []
    },
    {
      "cell_type": "code",
      "metadata": {
        "id": "CO47yKAqTwh_"
      },
      "source": [
        "jogo = ['Avestruz','Àguia','Burro','Borboleta','Cachorro','Cabra','Carnero','Camelo'\n",
        "                ,'Cobra','Coelho','Cavalo','Elefante','Galo','Gato','Jacaré','Leão','Macaco','Porco','Pavão','Peru','Touro','Tigre','Urso','Veado','Vaca']"
      ],
      "execution_count": 3,
      "outputs": []
    },
    {
      "cell_type": "code",
      "metadata": {
        "colab": {
          "base_uri": "https://localhost:8080/"
        },
        "id": "WO4tkdMBU1Yx",
        "outputId": "a8d4b880-6de0-4f76-fb08-eda45479a90e"
      },
      "source": [
        "jogo"
      ],
      "execution_count": null,
      "outputs": [
        {
          "output_type": "execute_result",
          "data": {
            "text/plain": [
              "['Avestruz',\n",
              " 'Àguia',\n",
              " 'Burro',\n",
              " 'Borboleta',\n",
              " 'Cachorro',\n",
              " 'Cabra',\n",
              " 'Carnero',\n",
              " 'Camelo',\n",
              " 'Cobra',\n",
              " 'Coelho',\n",
              " 'Cavalo',\n",
              " 'Elefante',\n",
              " 'Galo',\n",
              " 'Gato',\n",
              " 'Jacaré',\n",
              " 'Leão',\n",
              " 'Macaco',\n",
              " 'Porco',\n",
              " 'Pavão',\n",
              " 'Peru',\n",
              " 'Touro',\n",
              " 'Tigre',\n",
              " 'Urso',\n",
              " 'Veado',\n",
              " 'Vaca']"
            ]
          },
          "metadata": {
            "tags": []
          },
          "execution_count": 3
        }
      ]
    },
    {
      "cell_type": "code",
      "metadata": {
        "id": "rI7IlRl8V3o2"
      },
      "source": [
        "bicho_escolhido = random.choice(jogo)"
      ],
      "execution_count": 4,
      "outputs": []
    },
    {
      "cell_type": "code",
      "metadata": {
        "colab": {
          "base_uri": "https://localhost:8080/"
        },
        "id": "iD9X5WZcWDky",
        "outputId": "711faaca-38e9-4560-fb15-6f17fbe89bd7"
      },
      "source": [
        "print (bicho_escolhido)"
      ],
      "execution_count": 5,
      "outputs": [
        {
          "output_type": "stream",
          "text": [
            "Macaco\n"
          ],
          "name": "stdout"
        }
      ]
    },
    {
      "cell_type": "code",
      "metadata": {
        "id": "vm4w6IcWWiSQ"
      },
      "source": [
        "bicho_escolhido = random.choice(jogo)"
      ],
      "execution_count": 6,
      "outputs": []
    },
    {
      "cell_type": "code",
      "metadata": {
        "colab": {
          "base_uri": "https://localhost:8080/"
        },
        "id": "Sk1LRHiNWWor",
        "outputId": "e5c4e576-52d5-458d-fcc0-1f3cf44b312b"
      },
      "source": [
        "print (bicho_escolhido)"
      ],
      "execution_count": 7,
      "outputs": [
        {
          "output_type": "stream",
          "text": [
            "Cachorro\n"
          ],
          "name": "stdout"
        }
      ]
    }
  ]
}