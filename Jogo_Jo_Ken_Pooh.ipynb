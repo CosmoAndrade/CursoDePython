{
  "nbformat": 4,
  "nbformat_minor": 0,
  "metadata": {
    "colab": {
      "name": "Jogo Jo_Ken_Pooh.ipynb",
      "provenance": [],
      "authorship_tag": "ABX9TyMQs2TCPofU67YOPycuGkhE",
      "include_colab_link": true
    },
    "kernelspec": {
      "name": "python3",
      "display_name": "Python 3"
    }
  },
  "cells": [
    {
      "cell_type": "markdown",
      "metadata": {
        "id": "view-in-github",
        "colab_type": "text"
      },
      "source": [
        "<a href=\"https://colab.research.google.com/github/CosmoAndrade/CursoDePython/blob/master/Jogo_Jo_Ken_Pooh.ipynb\" target=\"_parent\"><img src=\"https://colab.research.google.com/assets/colab-badge.svg\" alt=\"Open In Colab\"/></a>"
      ]
    },
    {
      "cell_type": "code",
      "metadata": {
        "colab": {
          "base_uri": "https://localhost:8080/"
        },
        "id": "QCLKuKeosziN",
        "outputId": "e6abcb64-69db-489b-8c8e-be819feab75f"
      },
      "source": [
        "from random import randint\r\n",
        "from time import sleep\r\n",
        "\r\n",
        "lista = (\"Pedra\", \"Papel\", \"Tesoura\")\r\n",
        "\r\n",
        "computador = randint(0,2)\r\n",
        "\r\n",
        "perguntar = int(input('''Escolha uma opcao para se jogar: \r\n",
        "\r\n",
        "[0] Pedra\r\n",
        "[1] Papel\r\n",
        "[2] Tesoura\r\n",
        " \r\n",
        "Digite sua escolha: '''))\r\n",
        "\r\n",
        "print(\"JO\\n\")\r\n",
        "sleep(1)\r\n",
        "print(\"KEN\\n\")\r\n",
        "sleep(1)\r\n",
        "print(\"POOH!!!\\n\")\r\n",
        "\r\n",
        "print(\"-=\"*20)\r\n",
        "print(\"O computador escolheu: {}\".format(lista[computador]))\r\n",
        "print(\"O jogador escolheu: {}\".format(lista[perguntar]))\r\n",
        "print(\"-=\"*20)\r\n",
        "\r\n",
        "if computador == 0:\r\n",
        "    if perguntar == 0:\r\n",
        "        print(\"Empate!\")\r\n",
        "    elif perguntar == 1:\r\n",
        "        print(\"Jogador perdeu\")\r\n",
        "    elif perguntar == 2:\r\n",
        "        print(\"Computador venceu\")\r\n",
        "    else:\r\n",
        "        print(\"Operacao invalida\")\r\n",
        "\r\n",
        "elif computador == 1:\r\n",
        "    if perguntar == 0:\r\n",
        "        print(\"Computador perdeu\")\r\n",
        "    elif perguntar == 1:\r\n",
        "        print(\"Empate!\")\r\n",
        "    elif perguntar == 2:\r\n",
        "        print(\"Jogador venceu\")\r\n",
        "    else:\r\n",
        "        print(\"Operacao invalida\")\r\n",
        "elif computador == 2:\r\n",
        "    if perguntar == 0:\r\n",
        "        print(\"Jogador venceu\")\r\n",
        "    elif perguntar == 1:\r\n",
        "        print(\"Computador venceu\")\r\n",
        "    elif perguntar == 2:\r\n",
        "        print(\"Empate!\")\r\n",
        "    else:\r\n",
        "        print(\"Operacao invalida\")\r\n",
        "else:\r\n",
        "    print(\"Operacao invalida\")\r\n"
      ],
      "execution_count": 1,
      "outputs": [
        {
          "output_type": "stream",
          "text": [
            "Escolha uma opcao para se jogar: \n",
            "\n",
            "[0] Pedra\n",
            "[1] Papel\n",
            "[2] Tesoura\n",
            " \n",
            "Digite sua escolha: 0\n",
            "JO\n",
            "\n",
            "KEN\n",
            "\n",
            "POOH!!!\n",
            "\n",
            "-=-=-=-=-=-=-=-=-=-=-=-=-=-=-=-=-=-=-=-=\n",
            "O computador escolheu: Papel\n",
            "O jogador escolheu: Pedra\n",
            "-=-=-=-=-=-=-=-=-=-=-=-=-=-=-=-=-=-=-=-=\n",
            "Computador perdeu\n"
          ],
          "name": "stdout"
        }
      ]
    },
    {
      "cell_type": "code",
      "metadata": {
        "id": "daMOorwOs1sJ"
      },
      "source": [
        ""
      ],
      "execution_count": null,
      "outputs": []
    }
  ]
}