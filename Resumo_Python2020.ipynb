{
  "nbformat": 4,
  "nbformat_minor": 0,
  "metadata": {
    "colab": {
      "name": "Resumo_Python.ipynb",
      "provenance": [],
      "collapsed_sections": []
    },
    "kernelspec": {
      "name": "python3",
      "display_name": "Python 3"
    }
  },
  "cells": [
    {
      "cell_type": "code",
      "metadata": {
        "id": "f5gnJnphxoSj",
        "colab_type": "code",
        "colab": {
          "base_uri": "https://localhost:8080/",
          "height": 35
        },
        "outputId": "6972bd69-45d7-4d2b-bfc0-f1fbda4a93fc"
      },
      "source": [
        "print ('Olá Mundo')"
      ],
      "execution_count": null,
      "outputs": [
        {
          "output_type": "stream",
          "text": [
            "Olá Mundo\n"
          ],
          "name": "stdout"
        }
      ]
    },
    {
      "cell_type": "code",
      "metadata": {
        "id": "XkDPle7eyEed",
        "colab_type": "code",
        "colab": {}
      },
      "source": [
        "# print ()-> Saída de dados"
      ],
      "execution_count": null,
      "outputs": []
    },
    {
      "cell_type": "code",
      "metadata": {
        "id": "MvGLI5toyMki",
        "colab_type": "code",
        "colab": {
          "base_uri": "https://localhost:8080/",
          "height": 127
        },
        "outputId": "b174b1d0-30d1-4910-d35f-984384cc3905"
      },
      "source": [
        "print ('Olá Mundo')\n",
        "\n",
        "print ('Curso de \\n Python') #\\n - Quebra de linha\n",
        "\n",
        "print  ('Curso de \\t Python') # \\t - Tabulação\n",
        "\n",
        "print ('Curso ', end='') # end='' - Retira a quebra de linha\n",
        "print ('Python')\n",
        "\n",
        "# cpf\n",
        "print ('556.789.587',end='-')\n",
        "print ('70')"
      ],
      "execution_count": null,
      "outputs": [
        {
          "output_type": "stream",
          "text": [
            "Olá Mundo\n",
            "Curso de \n",
            " Python\n",
            "Curso de \t Python\n",
            "Curso Python\n",
            "556.789.587-70\n"
          ],
          "name": "stdout"
        }
      ]
    },
    {
      "cell_type": "code",
      "metadata": {
        "id": "YLnzUj_P0cnm",
        "colab_type": "code",
        "colab": {}
      },
      "source": [
        "# Variáveis"
      ],
      "execution_count": null,
      "outputs": []
    },
    {
      "cell_type": "code",
      "metadata": {
        "id": "xtHkdWC00hEL",
        "colab_type": "code",
        "colab": {
          "base_uri": "https://localhost:8080/",
          "height": 54
        },
        "outputId": "4424155c-c372-4104-cd62-5e3d08444ad2"
      },
      "source": [
        "nome = 'Lucas'\n",
        "idade = 14\n",
        "\n",
        "#print ('Nome: Cosmo - Idade:35')\n",
        "#print ('Nome: Cosmo - Idade:35')\n",
        "#print ('Nome: Cosmo - Idade:35')\n",
        "\n",
        "print (f'Nome: {nome} - Idade:{idade}')\n",
        "print (f'Nome: {nome} - Idade:{idade}')\n",
        "\n"
      ],
      "execution_count": null,
      "outputs": [
        {
          "output_type": "stream",
          "text": [
            "Nome: Lucas - Idade:14\n",
            "Nome: Lucas - Idade:14\n"
          ],
          "name": "stdout"
        }
      ]
    },
    {
      "cell_type": "code",
      "metadata": {
        "id": "rHTNNVSi18IL",
        "colab_type": "code",
        "colab": {}
      },
      "source": [
        "# Tipos de dados\n",
        "# str -> strings - textos \n",
        "# int -> Números inteiros\n",
        "# float -> Números decimais\n",
        "# bool -> Expressão booleana - True ou False\n",
        "\n"
      ],
      "execution_count": null,
      "outputs": []
    },
    {
      "cell_type": "code",
      "metadata": {
        "id": "xdLw9Ypg2yhe",
        "colab_type": "code",
        "colab": {
          "base_uri": "https://localhost:8080/",
          "height": 90
        },
        "outputId": "4545f04e-f3b1-412c-ed33-a0c43c01cbe3"
      },
      "source": [
        "texto = 'Python'\n",
        "inteiro = 10 # 5 , 8, -5\n",
        "decimal = 10.5 # 5.5 , -8.5\n",
        "booleano = True # ou False\n",
        "\n",
        "# type() -> Retorna o tipo de dado \n",
        "print (texto ,end=' ')\n",
        "print (type(texto))\n",
        "\n",
        "print (inteiro,end=' ')\n",
        "print (type(inteiro))\n",
        "\n",
        "print (decimal,end=' ')\n",
        "print (type(decimal))\n",
        "\n",
        "print (booleano,end=' ')\n",
        "print (type(booleano))\n"
      ],
      "execution_count": null,
      "outputs": [
        {
          "output_type": "stream",
          "text": [
            "Python <class 'str'>\n",
            "10 <class 'int'>\n",
            "10.5 <class 'float'>\n",
            "True <class 'bool'>\n"
          ],
          "name": "stdout"
        }
      ]
    },
    {
      "cell_type": "code",
      "metadata": {
        "id": "4XtBKqXN5KBj",
        "colab_type": "code",
        "colab": {}
      },
      "source": [
        "\n",
        "# Operadores Aritiméticos\n",
        "# Adição -> +\n",
        "# Subtração -> -\n",
        "# Divisão -> / \n",
        "# Multiplicação -> *\n",
        "# Módulo -> %  - ou resto da divisão\n",
        "# Divisão inteira -> //\n",
        "# Potenciação -> **\n",
        "\n"
      ],
      "execution_count": null,
      "outputs": []
    },
    {
      "cell_type": "code",
      "metadata": {
        "id": "VEOSBDyV6P9Y",
        "colab_type": "code",
        "colab": {}
      },
      "source": [
        "x = 10\n",
        "y = 3\n"
      ],
      "execution_count": null,
      "outputs": []
    },
    {
      "cell_type": "code",
      "metadata": {
        "id": "p0LKGZqy6nF5",
        "colab_type": "code",
        "colab": {
          "base_uri": "https://localhost:8080/",
          "height": 35
        },
        "outputId": "9e301c30-1977-4003-f0b4-19ba550811fd"
      },
      "source": [
        "print (x + y)"
      ],
      "execution_count": null,
      "outputs": [
        {
          "output_type": "stream",
          "text": [
            "13\n"
          ],
          "name": "stdout"
        }
      ]
    },
    {
      "cell_type": "code",
      "metadata": {
        "id": "zShRc9m46sTn",
        "colab_type": "code",
        "colab": {
          "base_uri": "https://localhost:8080/",
          "height": 35
        },
        "outputId": "e64d6a7b-e30c-4e37-89a7-dea409281a81"
      },
      "source": [
        "print (x - y)"
      ],
      "execution_count": null,
      "outputs": [
        {
          "output_type": "stream",
          "text": [
            "7\n"
          ],
          "name": "stdout"
        }
      ]
    },
    {
      "cell_type": "code",
      "metadata": {
        "id": "p72lTG7Z6xYh",
        "colab_type": "code",
        "colab": {
          "base_uri": "https://localhost:8080/",
          "height": 35
        },
        "outputId": "f9025da4-f47e-4885-df79-d66e4b0abccd"
      },
      "source": [
        "print (x / y)"
      ],
      "execution_count": null,
      "outputs": [
        {
          "output_type": "stream",
          "text": [
            "3.3333333333333335\n"
          ],
          "name": "stdout"
        }
      ]
    },
    {
      "cell_type": "code",
      "metadata": {
        "id": "q0sYaj2A62pm",
        "colab_type": "code",
        "colab": {
          "base_uri": "https://localhost:8080/",
          "height": 35
        },
        "outputId": "f2291fea-206e-4712-ad4b-7117fadedcad"
      },
      "source": [
        "print (x * y)"
      ],
      "execution_count": null,
      "outputs": [
        {
          "output_type": "stream",
          "text": [
            "30\n"
          ],
          "name": "stdout"
        }
      ]
    },
    {
      "cell_type": "code",
      "metadata": {
        "id": "Cr7RJomD656n",
        "colab_type": "code",
        "colab": {
          "base_uri": "https://localhost:8080/",
          "height": 35
        },
        "outputId": "f851bee3-3e9e-4f5b-f3cd-a0911be84b97"
      },
      "source": [
        "print (x % y)"
      ],
      "execution_count": null,
      "outputs": [
        {
          "output_type": "stream",
          "text": [
            "1\n"
          ],
          "name": "stdout"
        }
      ]
    },
    {
      "cell_type": "code",
      "metadata": {
        "id": "52rc285F69-0",
        "colab_type": "code",
        "colab": {
          "base_uri": "https://localhost:8080/",
          "height": 35
        },
        "outputId": "82e58992-32c3-418d-d608-e2adf537b942"
      },
      "source": [
        "print (x // y)"
      ],
      "execution_count": null,
      "outputs": [
        {
          "output_type": "stream",
          "text": [
            "3\n"
          ],
          "name": "stdout"
        }
      ]
    },
    {
      "cell_type": "code",
      "metadata": {
        "id": "hyTzZYfv7CSl",
        "colab_type": "code",
        "colab": {
          "base_uri": "https://localhost:8080/",
          "height": 35
        },
        "outputId": "d72a0ad6-298a-425d-e2ad-319417096614"
      },
      "source": [
        "\n",
        "print (x ** y)"
      ],
      "execution_count": null,
      "outputs": [
        {
          "output_type": "stream",
          "text": [
            "1000\n"
          ],
          "name": "stdout"
        }
      ]
    },
    {
      "cell_type": "code",
      "metadata": {
        "id": "Rfu4aogo7GAx",
        "colab_type": "code",
        "colab": {}
      },
      "source": [
        "# Manipulação de strings\n",
        "# len - Retorna o tamanho da string\n",
        "# capitalize - Retorna a string com a primeira letra maiúsculas\n",
        "# upper -  Retorna uma cópia da string com as letras maiúsculas\n",
        "# lower - Retorna uma cópia da string com a letras minúsculas\n",
        "# title - Retorna uma cópia da string com as primeiras letras de cada palavra em maiúsculas\n",
        "# strip - Remove os espaços em branco da strings\n",
        "# cout - Retorna quantas vezes um caractere aparece na string\n"
      ],
      "execution_count": null,
      "outputs": []
    },
    {
      "cell_type": "code",
      "metadata": {
        "id": "hNQ_USZlZthr",
        "colab_type": "code",
        "colab": {
          "base_uri": "https://localhost:8080/",
          "height": 35
        },
        "outputId": "648ace96-bc20-4caa-99ef-5f76f27efd3f"
      },
      "source": [
        "#        0 1 2 3 4 5 6 7 8 9 10 11 12 13 14\n",
        "#        c u r s o   d e   p  y  t  h  o  n\n",
        "curso = 'curso de python'\n",
        "print (curso)"
      ],
      "execution_count": null,
      "outputs": [
        {
          "output_type": "stream",
          "text": [
            "Curso de Python\n"
          ],
          "name": "stdout"
        }
      ]
    },
    {
      "cell_type": "code",
      "metadata": {
        "id": "LIQqFEN6Z6Wx",
        "colab_type": "code",
        "colab": {
          "base_uri": "https://localhost:8080/",
          "height": 35
        },
        "outputId": "48624960-4220-4e9c-b2e2-4cb58aa3d403"
      },
      "source": [
        "print (len(curso))\n"
      ],
      "execution_count": null,
      "outputs": [
        {
          "output_type": "stream",
          "text": [
            "15\n"
          ],
          "name": "stdout"
        }
      ]
    },
    {
      "cell_type": "code",
      "metadata": {
        "id": "djwI1iAjbhQe",
        "colab_type": "code",
        "colab": {
          "base_uri": "https://localhost:8080/",
          "height": 72
        },
        "outputId": "79399133-7d6f-4fe2-fffd-8bc88024415f"
      },
      "source": [
        "# Fatiamento\n",
        "\n",
        "print (curso[0:5])\n",
        "print (curso [9:15])\n",
        "print (curso [-1])"
      ],
      "execution_count": null,
      "outputs": [
        {
          "output_type": "stream",
          "text": [
            "Curso\n",
            "Python\n",
            "n\n"
          ],
          "name": "stdout"
        }
      ]
    },
    {
      "cell_type": "markdown",
      "metadata": {
        "id": "KKZkhfLW1Xys",
        "colab_type": "text"
      },
      "source": [
        ""
      ]
    },
    {
      "cell_type": "code",
      "metadata": {
        "id": "oMuTijlTclO2",
        "colab_type": "code",
        "colab": {}
      },
      "source": [
        ""
      ],
      "execution_count": null,
      "outputs": []
    },
    {
      "cell_type": "code",
      "metadata": {
        "id": "UM7dqQu7bvPj",
        "colab_type": "code",
        "colab": {
          "base_uri": "https://localhost:8080/",
          "height": 35
        },
        "outputId": "50eb8718-b46f-42b0-825b-2a362e787c1c"
      },
      "source": [
        "print(curso.capitalize())\n"
      ],
      "execution_count": null,
      "outputs": [
        {
          "output_type": "stream",
          "text": [
            "Curso de python\n"
          ],
          "name": "stdout"
        }
      ]
    },
    {
      "cell_type": "code",
      "metadata": {
        "id": "dUELdIt0dc4Y",
        "colab_type": "code",
        "colab": {
          "base_uri": "https://localhost:8080/",
          "height": 35
        },
        "outputId": "1595c410-4e48-43b5-dd8e-dabded9fa49c"
      },
      "source": [
        "print (curso.upper())"
      ],
      "execution_count": null,
      "outputs": [
        {
          "output_type": "stream",
          "text": [
            "CURSO DE PYTHON\n"
          ],
          "name": "stdout"
        }
      ]
    },
    {
      "cell_type": "code",
      "metadata": {
        "id": "CWja1QugdpJp",
        "colab_type": "code",
        "colab": {
          "base_uri": "https://localhost:8080/",
          "height": 35
        },
        "outputId": "056dc8d8-66b6-4ad7-fd9e-f17ef07ec337"
      },
      "source": [
        "print (curso.lower())"
      ],
      "execution_count": null,
      "outputs": [
        {
          "output_type": "stream",
          "text": [
            "curso de python\n"
          ],
          "name": "stdout"
        }
      ]
    },
    {
      "cell_type": "code",
      "metadata": {
        "id": "foLcu9mhdyoU",
        "colab_type": "code",
        "colab": {
          "base_uri": "https://localhost:8080/",
          "height": 35
        },
        "outputId": "611b737c-3f14-4f0a-e056-6c80096e4577"
      },
      "source": [
        "print (curso.title())"
      ],
      "execution_count": null,
      "outputs": [
        {
          "output_type": "stream",
          "text": [
            "Curso De Python\n"
          ],
          "name": "stdout"
        }
      ]
    },
    {
      "cell_type": "code",
      "metadata": {
        "id": "Q2kcrA0Pd9CV",
        "colab_type": "code",
        "colab": {
          "base_uri": "https://localhost:8080/",
          "height": 54
        },
        "outputId": "9636cf9f-f2ab-43b3-921a-d414cc4ee79f"
      },
      "source": [
        "col = '   Colab  '\n",
        "print (col)\n",
        "print (col.strip())"
      ],
      "execution_count": null,
      "outputs": [
        {
          "output_type": "stream",
          "text": [
            "   Colab  \n",
            "Colab\n"
          ],
          "name": "stdout"
        }
      ]
    },
    {
      "cell_type": "code",
      "metadata": {
        "id": "05laUMRPeYhJ",
        "colab_type": "code",
        "colab": {
          "base_uri": "https://localhost:8080/",
          "height": 35
        },
        "outputId": "399596f0-c0cb-40fb-fc8a-93cb45d7092e"
      },
      "source": [
        "fruta = 'Bananada de banana'\n",
        "print (fruta.count('a'))"
      ],
      "execution_count": null,
      "outputs": [
        {
          "output_type": "stream",
          "text": [
            "7\n"
          ],
          "name": "stdout"
        }
      ]
    },
    {
      "cell_type": "code",
      "metadata": {
        "id": "mqLM3fULfozj",
        "colab_type": "code",
        "colab": {}
      },
      "source": [
        "# Formatação de string"
      ],
      "execution_count": null,
      "outputs": []
    },
    {
      "cell_type": "code",
      "metadata": {
        "id": "HngawcSpftsb",
        "colab_type": "code",
        "colab": {
          "base_uri": "https://localhost:8080/",
          "height": 72
        },
        "outputId": "306f7cd2-a465-42cb-b749-c15fe132a305"
      },
      "source": [
        "nome = 'Cosmo'\n",
        "idade = 35\n",
        "\n",
        "print ('Nome:',nome,'idade:',idade)\n",
        "print ('Nome:{} Idade:{}'.format(nome,idade))\n",
        "print (f'Nome:{nome} Idade:{idade}')"
      ],
      "execution_count": null,
      "outputs": [
        {
          "output_type": "stream",
          "text": [
            "Nome: Cosmo idade: 35\n",
            "Nome:Cosmo Idade:35\n",
            "Nome:Cosmo Idade:35\n"
          ],
          "name": "stdout"
        }
      ]
    },
    {
      "cell_type": "code",
      "metadata": {
        "id": "no92LNd9gfGI",
        "colab_type": "code",
        "colab": {}
      },
      "source": [
        "# input () -> Entrada de dados\n",
        "# a função input - Retorna o tipo str"
      ],
      "execution_count": null,
      "outputs": []
    },
    {
      "cell_type": "code",
      "metadata": {
        "id": "CEa9R0lOgmXh",
        "colab_type": "code",
        "colab": {
          "base_uri": "https://localhost:8080/",
          "height": 72
        },
        "outputId": "4aba73ce-f9ad-490d-c9bb-06b65cf8cae8"
      },
      "source": [
        "nome = input('Digite o seu nome: ')\n",
        "print (type(nome))\n",
        "print (nome)"
      ],
      "execution_count": null,
      "outputs": [
        {
          "output_type": "stream",
          "text": [
            "Digite o seu nome: Cosmo\n",
            "<class 'str'>\n",
            "Cosmo\n"
          ],
          "name": "stdout"
        }
      ]
    },
    {
      "cell_type": "code",
      "metadata": {
        "id": "SQuiYzFUhML8",
        "colab_type": "code",
        "colab": {
          "base_uri": "https://localhost:8080/",
          "height": 54
        },
        "outputId": "9ef0d09c-21fe-40bd-c92b-bc9c68ec8203"
      },
      "source": [
        "idade = int (input ('Digite sua idade: '))\n",
        "print (idade)\n"
      ],
      "execution_count": null,
      "outputs": [
        {
          "output_type": "stream",
          "text": [
            "Digite sua idade: 35\n",
            "35\n"
          ],
          "name": "stdout"
        }
      ]
    },
    {
      "cell_type": "code",
      "metadata": {
        "id": "Y9m5Zp6dhcgY",
        "colab_type": "code",
        "colab": {}
      },
      "source": [
        "# Operadores de comparação\n",
        "\n",
        "# Maior -          >\n",
        "# Menor -          <\n",
        "# Maior ou igual - >=\n",
        "# Menor ou igual - <=\n",
        "# igual -          ==\n",
        "# Diferente -      !="
      ],
      "execution_count": null,
      "outputs": []
    },
    {
      "cell_type": "code",
      "metadata": {
        "id": "HklFwuUaixHD",
        "colab_type": "code",
        "colab": {}
      },
      "source": [
        "num1 = 5\n",
        "num2 = 4\n"
      ],
      "execution_count": null,
      "outputs": []
    },
    {
      "cell_type": "code",
      "metadata": {
        "id": "Fp2WAI5vi2fj",
        "colab_type": "code",
        "colab": {
          "base_uri": "https://localhost:8080/",
          "height": 35
        },
        "outputId": "fc84d4ef-9100-4b71-99f1-f520cb9b5cfc"
      },
      "source": [
        "print (num1 > num2)"
      ],
      "execution_count": null,
      "outputs": [
        {
          "output_type": "stream",
          "text": [
            "True\n"
          ],
          "name": "stdout"
        }
      ]
    },
    {
      "cell_type": "code",
      "metadata": {
        "id": "mzFw7pB9i7hb",
        "colab_type": "code",
        "colab": {
          "base_uri": "https://localhost:8080/",
          "height": 35
        },
        "outputId": "1c45512e-9c01-47cc-e2c6-68471778c488"
      },
      "source": [
        "print (num1 < num2)"
      ],
      "execution_count": null,
      "outputs": [
        {
          "output_type": "stream",
          "text": [
            "False\n"
          ],
          "name": "stdout"
        }
      ]
    },
    {
      "cell_type": "code",
      "metadata": {
        "id": "7wF17UrOi7N0",
        "colab_type": "code",
        "colab": {
          "base_uri": "https://localhost:8080/",
          "height": 35
        },
        "outputId": "325839e4-94ed-463d-dfb7-eec6b8a092c8"
      },
      "source": [
        "print (num1 >= num2)"
      ],
      "execution_count": null,
      "outputs": [
        {
          "output_type": "stream",
          "text": [
            "True\n"
          ],
          "name": "stdout"
        }
      ]
    },
    {
      "cell_type": "code",
      "metadata": {
        "id": "t0wTKodrjXDL",
        "colab_type": "code",
        "colab": {
          "base_uri": "https://localhost:8080/",
          "height": 35
        },
        "outputId": "517562c4-f2d1-4385-af31-adbad98dbb62"
      },
      "source": [
        "print (num1 <= num2)"
      ],
      "execution_count": null,
      "outputs": [
        {
          "output_type": "stream",
          "text": [
            "False\n"
          ],
          "name": "stdout"
        }
      ]
    },
    {
      "cell_type": "code",
      "metadata": {
        "id": "vF1ao5yMjYg2",
        "colab_type": "code",
        "colab": {
          "base_uri": "https://localhost:8080/",
          "height": 35
        },
        "outputId": "cd08f1ce-f72d-4c7e-c96e-6c0b1e854bde"
      },
      "source": [
        "print (num1 == num2)"
      ],
      "execution_count": null,
      "outputs": [
        {
          "output_type": "stream",
          "text": [
            "False\n"
          ],
          "name": "stdout"
        }
      ]
    },
    {
      "cell_type": "code",
      "metadata": {
        "id": "0SVwEMMMjZqp",
        "colab_type": "code",
        "colab": {
          "base_uri": "https://localhost:8080/",
          "height": 35
        },
        "outputId": "3b589153-f65d-47b5-d183-634f9b333707"
      },
      "source": [
        "print (num1 != num2)"
      ],
      "execution_count": null,
      "outputs": [
        {
          "output_type": "stream",
          "text": [
            "True\n"
          ],
          "name": "stdout"
        }
      ]
    },
    {
      "cell_type": "code",
      "metadata": {
        "id": "znMGztF3j2rR",
        "colab_type": "code",
        "colab": {}
      },
      "source": [
        "# Operadore Lógicos\n",
        "\n",
        "# not - não é - Inverte o resultado \n",
        "# and - e     - Retorna True se as duas condições for verdadeiras\n",
        "# or - ou     - Retorna True se as uma das duas condições for verdadeira"
      ],
      "execution_count": null,
      "outputs": []
    },
    {
      "cell_type": "code",
      "metadata": {
        "id": "RstWCsXHk4O6",
        "colab_type": "code",
        "colab": {}
      },
      "source": [
        "a = 10\n",
        "b = 8\n",
        "c = 7\n"
      ],
      "execution_count": null,
      "outputs": []
    },
    {
      "cell_type": "code",
      "metadata": {
        "id": "6jxU-purlJWK",
        "colab_type": "code",
        "colab": {
          "base_uri": "https://localhost:8080/",
          "height": 35
        },
        "outputId": "528c4e1b-1f2a-40a1-a3b1-598e54b7f6f6"
      },
      "source": [
        "print (a > b and b > c)"
      ],
      "execution_count": null,
      "outputs": [
        {
          "output_type": "stream",
          "text": [
            "True\n"
          ],
          "name": "stdout"
        }
      ]
    },
    {
      "cell_type": "code",
      "metadata": {
        "id": "QlPcgWGilZ3w",
        "colab_type": "code",
        "colab": {
          "base_uri": "https://localhost:8080/",
          "height": 35
        },
        "outputId": "31c63a65-64f1-4da4-ded6-e494a343df5e"
      },
      "source": [
        "print (a > b or b < c)"
      ],
      "execution_count": null,
      "outputs": [
        {
          "output_type": "stream",
          "text": [
            "True\n"
          ],
          "name": "stdout"
        }
      ]
    },
    {
      "cell_type": "code",
      "metadata": {
        "id": "_6huPMjcliu5",
        "colab_type": "code",
        "colab": {
          "base_uri": "https://localhost:8080/",
          "height": 35
        },
        "outputId": "84f344c8-c6a7-4bf9-f672-624060cd92c1"
      },
      "source": [
        "print (not a > b)"
      ],
      "execution_count": null,
      "outputs": [
        {
          "output_type": "stream",
          "text": [
            "False\n"
          ],
          "name": "stdout"
        }
      ]
    },
    {
      "cell_type": "code",
      "metadata": {
        "id": "0QZAdUZclu1s",
        "colab_type": "code",
        "colab": {}
      },
      "source": [
        "\n",
        "# Estruturas condicionais\n",
        "# if , elif , else\n",
        "\n",
        "# if - else - elif\n",
        "# if -> se \n",
        "# else -> senão\n",
        "# elif -> senão se \n",
        "\n",
        "\n"
      ],
      "execution_count": null,
      "outputs": []
    },
    {
      "cell_type": "code",
      "metadata": {
        "id": "pauOmD25drhw",
        "colab_type": "code",
        "colab": {
          "base_uri": "https://localhost:8080/",
          "height": 53
        },
        "outputId": "8bf26555-a689-4933-fe43-f5e9880fab36"
      },
      "source": [
        "idade = int (input ('Digite sua idade: '))\n",
        "\n",
        "if idade >= 18 and idade < 60:\n",
        "    print ('Maior de idade!')\n",
        "elif idade < 18:\n",
        "    print ('Menor idade!')    \n",
        "else:\n",
        "    print ('Melhor idade!')    "
      ],
      "execution_count": null,
      "outputs": [
        {
          "output_type": "stream",
          "text": [
            "Digite sua idade: 60\n",
            "Melhor idade!\n"
          ],
          "name": "stdout"
        }
      ]
    },
    {
      "cell_type": "code",
      "metadata": {
        "id": "39BpyZmaeSen",
        "colab_type": "code",
        "colab": {}
      },
      "source": [
        "# list () -> Listas\n",
        "\n",
        "# len() ->   Retorna o tamanho da lista\n",
        "# min() -> Retorna o menor valor\n",
        "# max() ->  Retorna o maior valor\n",
        "# append()  ->  Adiciona item no final da lista\n",
        "# insert() ->  Adiciona em um índice específico\n",
        "# pop()  Remove o último item da lista ou um índice específico\n",
        "# del ->  Remove o item pelo índice\n",
        "# sort() -> Ordena a lista\n",
        "# reverse() ->  Inverte a lista"
      ],
      "execution_count": null,
      "outputs": []
    },
    {
      "cell_type": "code",
      "metadata": {
        "id": "UlunX8Hjegbl",
        "colab_type": "code",
        "colab": {
          "base_uri": "https://localhost:8080/",
          "height": 90
        },
        "outputId": "1444ae2c-2487-4d33-b1c7-aee608f229dd"
      },
      "source": [
        "#          0      1   2   3\n",
        "lista = ['Python',10,5.5,True]\n",
        "print(lista)\n",
        "print (len(lista))\n",
        "print (lista[0])\n",
        "print (lista[-1])"
      ],
      "execution_count": null,
      "outputs": [
        {
          "output_type": "stream",
          "text": [
            "['Python', 10, 5.5, True]\n",
            "4\n",
            "Python\n",
            "True\n"
          ],
          "name": "stdout"
        }
      ]
    },
    {
      "cell_type": "code",
      "metadata": {
        "id": "XNm86kkkfQku",
        "colab_type": "code",
        "colab": {
          "base_uri": "https://localhost:8080/",
          "height": 35
        },
        "outputId": "3c655aac-6914-4998-87b9-394e86fa6cb9"
      },
      "source": [
        "lista = [2,4,3,5,7,6,9,8]\n",
        "print (lista)"
      ],
      "execution_count": null,
      "outputs": [
        {
          "output_type": "stream",
          "text": [
            "[2, 4, 3, 5, 7, 6, 9, 8]\n"
          ],
          "name": "stdout"
        }
      ]
    },
    {
      "cell_type": "code",
      "metadata": {
        "id": "vSIVRPqafef5",
        "colab_type": "code",
        "colab": {
          "base_uri": "https://localhost:8080/",
          "height": 53
        },
        "outputId": "4621d8a5-f6f5-41af-fcf9-7966747db7d6"
      },
      "source": [
        "print (min(lista))\n",
        "print (max(lista))\n"
      ],
      "execution_count": null,
      "outputs": [
        {
          "output_type": "stream",
          "text": [
            "2\n",
            "9\n"
          ],
          "name": "stdout"
        }
      ]
    },
    {
      "cell_type": "code",
      "metadata": {
        "id": "I5nTfEsSiJmB",
        "colab_type": "code",
        "colab": {
          "base_uri": "https://localhost:8080/",
          "height": 35
        },
        "outputId": "5d256575-f882-42b8-c43c-e490d44847ba"
      },
      "source": [
        "lista.sort()\n",
        "print (lista)"
      ],
      "execution_count": null,
      "outputs": [
        {
          "output_type": "stream",
          "text": [
            "[2, 3, 4, 5, 6, 7, 8, 9]\n"
          ],
          "name": "stdout"
        }
      ]
    },
    {
      "cell_type": "code",
      "metadata": {
        "id": "63E48l2ViREw",
        "colab_type": "code",
        "colab": {
          "base_uri": "https://localhost:8080/",
          "height": 35
        },
        "outputId": "dcb802e6-baa0-49a4-cf0b-b52f238b2c6e"
      },
      "source": [
        "lista.reverse()\n",
        "print (lista)"
      ],
      "execution_count": null,
      "outputs": [
        {
          "output_type": "stream",
          "text": [
            "[9, 8, 7, 6, 5, 4, 3, 2]\n"
          ],
          "name": "stdout"
        }
      ]
    },
    {
      "cell_type": "code",
      "metadata": {
        "id": "8FraznWOiZf4",
        "colab_type": "code",
        "colab": {
          "base_uri": "https://localhost:8080/",
          "height": 35
        },
        "outputId": "f2638d92-89d4-4d82-ca79-36045184501f"
      },
      "source": [
        "lista [0] = 'Python'\n",
        "print (lista)"
      ],
      "execution_count": null,
      "outputs": [
        {
          "output_type": "stream",
          "text": [
            "['Python', 8, 7, 6, 5, 4, 3, 2]\n"
          ],
          "name": "stdout"
        }
      ]
    },
    {
      "cell_type": "code",
      "metadata": {
        "id": "ahND5_Oxijgh",
        "colab_type": "code",
        "colab": {
          "base_uri": "https://localhost:8080/",
          "height": 35
        },
        "outputId": "15e806ac-88a1-45f5-9912-9e14a2c89135"
      },
      "source": [
        "lista.append('Java')\n",
        "print (lista)"
      ],
      "execution_count": null,
      "outputs": [
        {
          "output_type": "stream",
          "text": [
            "['Python', 8, 7, 6, 5, 4, 3, 2, 'Java']\n"
          ],
          "name": "stdout"
        }
      ]
    },
    {
      "cell_type": "code",
      "metadata": {
        "id": "4AI3mF31i4v7",
        "colab_type": "code",
        "colab": {
          "base_uri": "https://localhost:8080/",
          "height": 35
        },
        "outputId": "0bb1e48f-91f1-4f12-9b5f-61faf24f828a"
      },
      "source": [
        "lista.insert(1,'Django')\n",
        "print (lista)"
      ],
      "execution_count": null,
      "outputs": [
        {
          "output_type": "stream",
          "text": [
            "['Python', 'Django', 8, 7, 6, 5, 4, 3, 2, 'Java']\n"
          ],
          "name": "stdout"
        }
      ]
    },
    {
      "cell_type": "code",
      "metadata": {
        "id": "X8hSA-xWjYfj",
        "colab_type": "code",
        "colab": {
          "base_uri": "https://localhost:8080/",
          "height": 35
        },
        "outputId": "e8a1f082-cffc-47be-ef4c-7c2e49cf1e85"
      },
      "source": [
        "lista.pop()\n",
        "print (lista)"
      ],
      "execution_count": null,
      "outputs": [
        {
          "output_type": "stream",
          "text": [
            "['Python', 'Django', 8, 7, 6, 5, 4, 3, 2]\n"
          ],
          "name": "stdout"
        }
      ]
    },
    {
      "cell_type": "code",
      "metadata": {
        "id": "pGkRAD1IjwKo",
        "colab_type": "code",
        "colab": {
          "base_uri": "https://localhost:8080/",
          "height": 35
        },
        "outputId": "edc62667-fdde-43bb-8081-f25db9d174e5"
      },
      "source": [
        "lista.pop(1)\n",
        "print (lista)"
      ],
      "execution_count": null,
      "outputs": [
        {
          "output_type": "stream",
          "text": [
            "['Python', 8, 7, 6, 5, 4, 3, 2]\n"
          ],
          "name": "stdout"
        }
      ]
    },
    {
      "cell_type": "code",
      "metadata": {
        "id": "_1pphVxcj87h",
        "colab_type": "code",
        "colab": {
          "base_uri": "https://localhost:8080/",
          "height": 35
        },
        "outputId": "4b87b89e-08b3-41ca-fb61-7891e7fac61c"
      },
      "source": [
        "del lista [0]\n",
        "print (lista)"
      ],
      "execution_count": null,
      "outputs": [
        {
          "output_type": "stream",
          "text": [
            "[8, 7, 6, 5, 4, 3, 2]\n"
          ],
          "name": "stdout"
        }
      ]
    },
    {
      "cell_type": "code",
      "metadata": {
        "id": "5JKDv8rckVSN",
        "colab_type": "code",
        "colab": {
          "base_uri": "https://localhost:8080/",
          "height": 35
        },
        "outputId": "a68e98ea-e9c3-4251-d465-7b046d2c5b4c"
      },
      "source": [
        "lista = list(range(0,21))\n",
        "print (lista)"
      ],
      "execution_count": null,
      "outputs": [
        {
          "output_type": "stream",
          "text": [
            "[0, 1, 2, 3, 4, 5, 6, 7, 8, 9, 10, 11, 12, 13, 14, 15, 16, 17, 18, 19, 20]\n"
          ],
          "name": "stdout"
        }
      ]
    },
    {
      "cell_type": "code",
      "metadata": {
        "id": "RhUlo8lOkpSD",
        "colab_type": "code",
        "colab": {}
      },
      "source": [
        "# tuple () -> Tuplas \n",
        "# As tuplas são imutáveis , não pode ser alteradas\n"
      ],
      "execution_count": null,
      "outputs": []
    },
    {
      "cell_type": "code",
      "metadata": {
        "id": "StKRGo5Ck2Io",
        "colab_type": "code",
        "colab": {
          "base_uri": "https://localhost:8080/",
          "height": 35
        },
        "outputId": "d4593b17-292b-44f1-afdd-4eca59cd7d00"
      },
      "source": [
        "tupla = (8,7,3,4,4,5)\n",
        "print (tupla)"
      ],
      "execution_count": null,
      "outputs": [
        {
          "output_type": "stream",
          "text": [
            "(8, 7, 3, 4, 4, 5)\n"
          ],
          "name": "stdout"
        }
      ]
    },
    {
      "cell_type": "code",
      "metadata": {
        "id": "8t_W1N6HlF_U",
        "colab_type": "code",
        "colab": {
          "base_uri": "https://localhost:8080/",
          "height": 35
        },
        "outputId": "5e870553-5427-4b3a-c50f-ccaace34fbf9"
      },
      "source": [
        "print (tupla[0])"
      ],
      "execution_count": null,
      "outputs": [
        {
          "output_type": "stream",
          "text": [
            "8\n"
          ],
          "name": "stdout"
        }
      ]
    },
    {
      "cell_type": "code",
      "metadata": {
        "id": "Odhq4i_jlI_i",
        "colab_type": "code",
        "colab": {
          "base_uri": "https://localhost:8080/",
          "height": 35
        },
        "outputId": "2c1d6711-295f-4344-83bf-a8b825fa0e78"
      },
      "source": [
        "print (tupla.index(8))"
      ],
      "execution_count": null,
      "outputs": [
        {
          "output_type": "stream",
          "text": [
            "0\n"
          ],
          "name": "stdout"
        }
      ]
    },
    {
      "cell_type": "code",
      "metadata": {
        "id": "kHh-9uPNlvpU",
        "colab_type": "code",
        "colab": {
          "base_uri": "https://localhost:8080/",
          "height": 35
        },
        "outputId": "ce2c3d40-e29a-4e74-bae0-d0536df974aa"
      },
      "source": [
        "print (tupla.count(4))\n"
      ],
      "execution_count": null,
      "outputs": [
        {
          "output_type": "stream",
          "text": [
            "2\n"
          ],
          "name": "stdout"
        }
      ]
    },
    {
      "cell_type": "code",
      "metadata": {
        "id": "WlC7L1Ldl7zN",
        "colab_type": "code",
        "colab": {}
      },
      "source": [
        "# dict -> Dicionários\n",
        "\n",
        "# keys() # Retorna a chave\n",
        "# values() # Retorna os valores\n",
        "# items() # Retorna os itens\n"
      ],
      "execution_count": null,
      "outputs": []
    },
    {
      "cell_type": "code",
      "metadata": {
        "id": "ms6kQI5CmJ0f",
        "colab_type": "code",
        "colab": {}
      },
      "source": [
        "cores = {\n",
        "    'A': 'Verde',\n",
        "    'B': 'Vermelho',\n",
        "    'C': 'Amarelo'\n",
        "    }"
      ],
      "execution_count": null,
      "outputs": []
    },
    {
      "cell_type": "code",
      "metadata": {
        "id": "7WW0GzLzmOsM",
        "colab_type": "code",
        "colab": {
          "base_uri": "https://localhost:8080/",
          "height": 35
        },
        "outputId": "e2e233cd-68dd-49ea-e1c8-dec543921ca7"
      },
      "source": [
        "print (cores)"
      ],
      "execution_count": null,
      "outputs": [
        {
          "output_type": "stream",
          "text": [
            "{'A': 'Verde', 'B': 'Vermelho', 'C': 'Amarelo'}\n"
          ],
          "name": "stdout"
        }
      ]
    },
    {
      "cell_type": "code",
      "metadata": {
        "id": "7c8HLSjhmVed",
        "colab_type": "code",
        "colab": {
          "base_uri": "https://localhost:8080/",
          "height": 35
        },
        "outputId": "51e5e666-00a2-48ee-bf59-a731d96fbdbb"
      },
      "source": [
        "print (cores['A'])"
      ],
      "execution_count": null,
      "outputs": [
        {
          "output_type": "stream",
          "text": [
            "Verde\n"
          ],
          "name": "stdout"
        }
      ]
    },
    {
      "cell_type": "code",
      "metadata": {
        "id": "5E5Ico7Jmc4v",
        "colab_type": "code",
        "colab": {
          "base_uri": "https://localhost:8080/",
          "height": 35
        },
        "outputId": "3dc6651e-8836-41f0-c01d-7cd9e4b865f5"
      },
      "source": [
        "cores ['D'] = 'Azul'\n",
        "print (cores)"
      ],
      "execution_count": null,
      "outputs": [
        {
          "output_type": "stream",
          "text": [
            "{'A': 'Verde', 'B': 'Vermelho', 'C': 'Amarelo', 'D': 'Azul'}\n"
          ],
          "name": "stdout"
        }
      ]
    },
    {
      "cell_type": "code",
      "metadata": {
        "id": "8xSSNaePmoro",
        "colab_type": "code",
        "colab": {
          "base_uri": "https://localhost:8080/",
          "height": 35
        },
        "outputId": "763c9a09-6aa5-49c6-d342-17574e245edb"
      },
      "source": [
        "print (cores.keys())"
      ],
      "execution_count": null,
      "outputs": [
        {
          "output_type": "stream",
          "text": [
            "dict_keys(['A', 'B', 'C', 'D'])\n"
          ],
          "name": "stdout"
        }
      ]
    },
    {
      "cell_type": "code",
      "metadata": {
        "id": "6-9XiHWWnFsq",
        "colab_type": "code",
        "colab": {
          "base_uri": "https://localhost:8080/",
          "height": 35
        },
        "outputId": "4e0ea873-36b2-422e-8d6f-dcc56ad198a8"
      },
      "source": [
        "print (cores.values())"
      ],
      "execution_count": null,
      "outputs": [
        {
          "output_type": "stream",
          "text": [
            "dict_values(['Verde', 'Vermelho', 'Amarelo', 'Azul'])\n"
          ],
          "name": "stdout"
        }
      ]
    },
    {
      "cell_type": "code",
      "metadata": {
        "id": "ijQ1PzPJnMUX",
        "colab_type": "code",
        "colab": {
          "base_uri": "https://localhost:8080/",
          "height": 35
        },
        "outputId": "294b0721-0f2a-401a-9dd5-c7ad75efee1f"
      },
      "source": [
        "print (cores.items())"
      ],
      "execution_count": null,
      "outputs": [
        {
          "output_type": "stream",
          "text": [
            "dict_items([('A', 'Verde'), ('B', 'Vermelho'), ('C', 'Amarelo'), ('D', 'Azul')])\n"
          ],
          "name": "stdout"
        }
      ]
    },
    {
      "cell_type": "code",
      "metadata": {
        "id": "x7J6QfVHnS_H",
        "colab_type": "code",
        "colab": {}
      },
      "source": [
        "# while -> Enquanto"
      ],
      "execution_count": null,
      "outputs": []
    },
    {
      "cell_type": "code",
      "metadata": {
        "id": "ZrEqFNSWndVa",
        "colab_type": "code",
        "colab": {
          "base_uri": "https://localhost:8080/",
          "height": 199
        },
        "outputId": "15817f48-f2aa-4e0c-e889-9530d98e6485"
      },
      "source": [
        "x = 0\n",
        "while x < 10:\n",
        "    print (x)\n",
        "    x = x + 1"
      ],
      "execution_count": null,
      "outputs": [
        {
          "output_type": "stream",
          "text": [
            "0\n",
            "1\n",
            "2\n",
            "3\n",
            "4\n",
            "5\n",
            "6\n",
            "7\n",
            "8\n",
            "9\n"
          ],
          "name": "stdout"
        }
      ]
    },
    {
      "cell_type": "code",
      "metadata": {
        "id": "7bbpLmQlnpVA",
        "colab_type": "code",
        "colab": {}
      },
      "source": [
        "senha = 123\n",
        "leitura = 0\n",
        "\n",
        "while senha != leitura:\n",
        "    leitura = int (input ('Digite a senha!'))\n",
        "    if senha == leitura:\n",
        "         print ('Acesso liberado!')\n",
        "    else:\n",
        "        print ('Senha incorreta , tente novamente')"
      ],
      "execution_count": null,
      "outputs": []
    },
    {
      "cell_type": "code",
      "metadata": {
        "id": "ZsEG_XhDomBc",
        "colab_type": "code",
        "colab": {}
      },
      "source": [
        "import random\n",
        "\n",
        "senha = random.randint(0,10)\n",
        "leitura = 0\n",
        "\n",
        "while senha != leitura:\n",
        "    leitura = int (input ('Digite a senha!'))\n",
        "    if senha == leitura:\n",
        "         print ('Acesso liberado!')\n",
        "    else:\n",
        "        print ('Senha incorreta , tente novamente')\n",
        "\n"
      ],
      "execution_count": null,
      "outputs": []
    },
    {
      "cell_type": "code",
      "metadata": {
        "id": "giqZhIMApg-I",
        "colab_type": "code",
        "colab": {}
      },
      "source": [
        "# for -> para "
      ],
      "execution_count": null,
      "outputs": []
    },
    {
      "cell_type": "code",
      "metadata": {
        "id": "K3qPhkm0piXg",
        "colab_type": "code",
        "colab": {
          "base_uri": "https://localhost:8080/",
          "height": 217
        },
        "outputId": "4f333b52-f5f7-4e29-c386-86b58a98a253"
      },
      "source": [
        "for x in range (0,11):\n",
        "    print (x)"
      ],
      "execution_count": null,
      "outputs": [
        {
          "output_type": "stream",
          "text": [
            "0\n",
            "1\n",
            "2\n",
            "3\n",
            "4\n",
            "5\n",
            "6\n",
            "7\n",
            "8\n",
            "9\n",
            "10\n"
          ],
          "name": "stdout"
        }
      ]
    },
    {
      "cell_type": "code",
      "metadata": {
        "id": "ut_dws-qppsl",
        "colab_type": "code",
        "colab": {
          "base_uri": "https://localhost:8080/",
          "height": 181
        },
        "outputId": "7fa20732-e794-4202-d4f9-bead7ddaad80"
      },
      "source": [
        "lista = [1,2,3,4,5,6,7,8,9]\n",
        "for x in lista:\n",
        "    print (x)"
      ],
      "execution_count": null,
      "outputs": [
        {
          "output_type": "stream",
          "text": [
            "1\n",
            "2\n",
            "3\n",
            "4\n",
            "5\n",
            "6\n",
            "7\n",
            "8\n",
            "9\n"
          ],
          "name": "stdout"
        }
      ]
    },
    {
      "cell_type": "code",
      "metadata": {
        "id": "UNa_nsM4p5k-",
        "colab_type": "code",
        "colab": {
          "base_uri": "https://localhost:8080/",
          "height": 290
        },
        "outputId": "b7053f00-5174-4835-ae43-360f73d1eaf3"
      },
      "source": [
        "curso = 'Curso de Python'\n",
        "for letra in curso:\n",
        "    print (letra)"
      ],
      "execution_count": null,
      "outputs": [
        {
          "output_type": "stream",
          "text": [
            "C\n",
            "u\n",
            "r\n",
            "s\n",
            "o\n",
            " \n",
            "d\n",
            "e\n",
            " \n",
            "P\n",
            "y\n",
            "t\n",
            "h\n",
            "o\n",
            "n\n"
          ],
          "name": "stdout"
        }
      ]
    },
    {
      "cell_type": "code",
      "metadata": {
        "id": "Q-rK0H8Jvb1-",
        "colab_type": "code",
        "colab": {
          "base_uri": "https://localhost:8080/",
          "height": 90
        },
        "outputId": "8d07e8f6-a124-4b49-b1dc-7d0e69fbdab8"
      },
      "source": [
        "senha = 123\n",
        "\n",
        "for leitura in range( senha):\n",
        "    leitura = int (input ('Digite a senha!'))\n",
        "    if senha == leitura:\n",
        "         print ('Acesso liberado!')\n",
        "         break\n",
        "    else:\n",
        "        print ('Senha incorreta , tente novamente')\n"
      ],
      "execution_count": null,
      "outputs": [
        {
          "output_type": "stream",
          "text": [
            "Digite a senha!12\n",
            "Senha incorreta , tente novamente\n",
            "Digite a senha!123\n",
            "Acesso liberado!\n"
          ],
          "name": "stdout"
        }
      ]
    },
    {
      "cell_type": "code",
      "metadata": {
        "id": "pi99qqAK3xjh",
        "colab_type": "code",
        "colab": {}
      },
      "source": [
        "# def () -> Funções"
      ],
      "execution_count": null,
      "outputs": []
    },
    {
      "cell_type": "code",
      "metadata": {
        "id": "eMMY5Ak831K9",
        "colab_type": "code",
        "colab": {
          "base_uri": "https://localhost:8080/",
          "height": 35
        },
        "outputId": "63eb12d2-eebf-4d10-cdc2-edecffbc17c9"
      },
      "source": [
        "def mensagem():\n",
        "    print ('Bom dia!')\n",
        "\n",
        "mensagem()"
      ],
      "execution_count": 86,
      "outputs": [
        {
          "output_type": "stream",
          "text": [
            "Bom dia!\n"
          ],
          "name": "stdout"
        }
      ]
    },
    {
      "cell_type": "code",
      "metadata": {
        "id": "qCrBiruj3_0y",
        "colab_type": "code",
        "colab": {
          "base_uri": "https://localhost:8080/",
          "height": 35
        },
        "outputId": "1e989ef4-50b4-4142-c35c-e5b7bb587b71"
      },
      "source": [
        "def mensagem(msg):\n",
        "    return msg\n",
        "\n",
        "print (mensagem('Boa noite!'))"
      ],
      "execution_count": 87,
      "outputs": [
        {
          "output_type": "stream",
          "text": [
            "Boa noite!\n"
          ],
          "name": "stdout"
        }
      ]
    },
    {
      "cell_type": "code",
      "metadata": {
        "id": "vaSxtyQo4Fxi",
        "colab_type": "code",
        "colab": {
          "base_uri": "https://localhost:8080/",
          "height": 35
        },
        "outputId": "41fce5ef-fe15-44f7-fc15-6a85da6ab39d"
      },
      "source": [
        "def soma(x,y):\n",
        "    return x + y\n",
        "\n",
        "print(soma(4,7))\n",
        "\n"
      ],
      "execution_count": 88,
      "outputs": [
        {
          "output_type": "stream",
          "text": [
            "11\n"
          ],
          "name": "stdout"
        }
      ]
    },
    {
      "cell_type": "code",
      "metadata": {
        "id": "aAaN8Pth4V4g",
        "colab_type": "code",
        "colab": {
          "base_uri": "https://localhost:8080/",
          "height": 53
        },
        "outputId": "5d9a470e-b29f-41a0-fda0-4a5046b9b77a"
      },
      "source": [
        "def login():\n",
        "    senha = 123\n",
        "\n",
        "    for leitura in range( senha):\n",
        "        leitura = int (input ('Digite a senha!'))\n",
        "        if senha == leitura:\n",
        "            print ('Acesso liberado!')\n",
        "            break\n",
        "        else:\n",
        "            print ('Senha incorreta , tente novamente')\n",
        "\n",
        "login()"
      ],
      "execution_count": 89,
      "outputs": [
        {
          "output_type": "stream",
          "text": [
            "Digite a senha!123\n",
            "Acesso liberado!\n"
          ],
          "name": "stdout"
        }
      ]
    },
    {
      "cell_type": "code",
      "metadata": {
        "id": "h9x-YJ7n4qww",
        "colab_type": "code",
        "colab": {}
      },
      "source": [
        "# class -> Classes\n",
        "# Atributos e Métodos"
      ],
      "execution_count": null,
      "outputs": []
    },
    {
      "cell_type": "code",
      "metadata": {
        "id": "w8TKnhFO5Eqs",
        "colab_type": "code",
        "colab": {
          "base_uri": "https://localhost:8080/",
          "height": 53
        },
        "outputId": "a55af457-911a-49a3-d782-a3035205954d"
      },
      "source": [
        "\n",
        "class Pessoa:\n",
        "#     # Atributos\n",
        "     nome = ''\n",
        "     idade = 0\n",
        "\n",
        "#     # Métodos\n",
        "     def dados(self):\n",
        "         return(f'Nome:{self.nome} Idade:{self.idade}')\n",
        "\n",
        "\n",
        "# objeto\n",
        "p1 = Pessoa()\n",
        "p1.nome = 'Cosmo'\n",
        "p1.idade = 35\n",
        "print(p1.nome,p1.idade)\n",
        "print(p1.dados())\n"
      ],
      "execution_count": 90,
      "outputs": [
        {
          "output_type": "stream",
          "text": [
            "Cosmo 35\n",
            "Nome:Cosmo Idade:35\n"
          ],
          "name": "stdout"
        }
      ]
    },
    {
      "cell_type": "code",
      "metadata": {
        "id": "V4JwJzE359Mv",
        "colab_type": "code",
        "colab": {
          "base_uri": "https://localhost:8080/",
          "height": 90
        },
        "outputId": "3fea8bc1-b7e6-4a58-9c83-3b5a98e8d5e0"
      },
      "source": [
        "class Pessoa:\n",
        "    # Método construtor ou inicial\n",
        "    def __init__(self,valor_nome,valor_idade):\n",
        "        self.nome = valor_nome\n",
        "        self.idade = valor_idade\n",
        "\n",
        "    def dados (self):\n",
        "        return (f'Nome:{self.nome} Idade:{self.idade}')\n",
        "\n",
        "    # get \n",
        "    def get_nome(self):\n",
        "        return self.nome\n",
        "\n",
        "    def get_idade(self):\n",
        "        return self.idade     \n",
        "\n",
        "    # set\n",
        "    def set_nome (self,novo_nome):\n",
        "        self.nome = novo_nome\n",
        "\n",
        "    def set_idade(self,nova_idade):\n",
        "        self.nome = nova_idade\n",
        "\n",
        "\n",
        "\n",
        "p2 = Pessoa('Cosmo',35)\n",
        "print (p2.dados())\n",
        "print (p2.get_nome())\n",
        "print (p2.set_nome('Lucas'))\n",
        "print(p2.dados())\n"
      ],
      "execution_count": 92,
      "outputs": [
        {
          "output_type": "stream",
          "text": [
            "Nome:Cosmo Idade:35\n",
            "Cosmo\n",
            "None\n",
            "Nome:Lucas Idade:35\n"
          ],
          "name": "stdout"
        }
      ]
    },
    {
      "cell_type": "code",
      "metadata": {
        "id": "I67bVUy-6XSY",
        "colab_type": "code",
        "colab": {}
      },
      "source": [
        "# Herança"
      ],
      "execution_count": null,
      "outputs": []
    },
    {
      "cell_type": "code",
      "metadata": {
        "id": "O1ZcDhmJ6edQ",
        "colab_type": "code",
        "colab": {
          "base_uri": "https://localhost:8080/",
          "height": 72
        },
        "outputId": "c6a3c729-dcdb-487d-8e3b-b32b0426ab1a"
      },
      "source": [
        "class Animal():\n",
        "    def __init__(self, nome, cor):\n",
        "        self.nome = nome\n",
        "        self.cor = cor\n",
        "\n",
        "    def comer(self):\n",
        "        print(f\"O {self.nome} está comendo\")\n",
        "\n",
        "\n",
        "class Gato(Animal):\n",
        "    def __init__(self, nome, cor):\n",
        "        super().__init__(nome, cor)        \n",
        "\n",
        "class Cachorro(Animal):\n",
        "    def __init__(self, nome, cor):\n",
        "        super().__init__(nome, cor)\n",
        "\n",
        "\n",
        "class Coelho(Animal):\n",
        "    def __init__(self, nome, cor):\n",
        "        super().__init__(nome, cor)\n",
        "\n",
        "gato = Gato(\"Bichano\", \"Branco\")\n",
        "cachorro = Cachorro(\"Totó\", \"Preto\")\n",
        "coelho = Coelho(\"Pernalonga\", \"Cinza\")\n",
        "\n",
        "gato.comer()\n",
        "cachorro.comer()\n",
        "coelho.comer()"
      ],
      "execution_count": 93,
      "outputs": [
        {
          "output_type": "stream",
          "text": [
            "O Bichano está comendo\n",
            "O Totó está comendo\n",
            "O Pernalonga está comendo\n"
          ],
          "name": "stdout"
        }
      ]
    },
    {
      "cell_type": "markdown",
      "metadata": {
        "id": "EaZES_qowb6R",
        "colab_type": "text"
      },
      "source": [
        ""
      ]
    }
  ]
}