{
  "nbformat": 4,
  "nbformat_minor": 0,
  "metadata": {
    "colab": {
      "name": "While em python.ipynb",
      "provenance": [],
      "authorship_tag": "ABX9TyMgLToa5sgio3bLntDK0qE/",
      "include_colab_link": true
    },
    "kernelspec": {
      "name": "python3",
      "display_name": "Python 3"
    }
  },
  "cells": [
    {
      "cell_type": "markdown",
      "metadata": {
        "id": "view-in-github",
        "colab_type": "text"
      },
      "source": [
        "<a href=\"https://colab.research.google.com/github/CosmoAndrade/CursoDePython/blob/master/While_em_python.ipynb\" target=\"_parent\"><img src=\"https://colab.research.google.com/assets/colab-badge.svg\" alt=\"Open In Colab\"/></a>"
      ]
    },
    {
      "cell_type": "markdown",
      "metadata": {
        "id": "8IEJ6wF96ah2"
      },
      "source": [
        "# Python: Estrutura de repetição while"
      ]
    },
    {
      "cell_type": "markdown",
      "metadata": {
        "id": "N3M8H-zb6mdk"
      },
      "source": [
        "# While\n",
        "\n",
        "O comando` while` faz com que um conjunto de instruções seja executado enquanto uma condição é atendida. Quando o resultado dessa condição passa a ser falso, a execução do loop é interrompida, como mostra o exemplo a seguir:"
      ]
    },
    {
      "cell_type": "code",
      "metadata": {
        "id": "0atqjwlY68xk",
        "outputId": "ca31387b-30ca-421d-ec9b-d4368c66ed03",
        "colab": {
          "base_uri": "https://localhost:8080/"
        }
      },
      "source": [
        "contador = 0\n",
        "while (contador < 5):\n",
        "       print(contador)\n",
        "       contador   = contador + 1"
      ],
      "execution_count": 1,
      "outputs": [
        {
          "output_type": "stream",
          "text": [
            "0\n",
            "1\n",
            "2\n",
            "3\n",
            "4\n"
          ],
          "name": "stdout"
        }
      ]
    },
    {
      "cell_type": "markdown",
      "metadata": {
        "id": "9AijYSGi7WB1"
      },
      "source": [
        "# While-else\n",
        "\n",
        "Ao final do` while` podemos utilizar a instrução` else`. O propósito disso é executar alguma instrução ou bloco de código ao final do loop, como podemos ver no exemplo a seguir:"
      ]
    },
    {
      "cell_type": "code",
      "metadata": {
        "id": "W64ukDuD7cA8",
        "outputId": "a479d3f3-faf8-4211-e424-d753343c4ad8",
        "colab": {
          "base_uri": "https://localhost:8080/"
        }
      },
      "source": [
        "contador = 0\n",
        "while (contador < 5):\n",
        "      print(contador)\n",
        "      contador = contador + 1\n",
        "else:\n",
        "      print(\"O loop while foi encerrado com sucesso!\")"
      ],
      "execution_count": 2,
      "outputs": [
        {
          "output_type": "stream",
          "text": [
            "0\n",
            "1\n",
            "2\n",
            "3\n",
            "4\n",
            "O loop while foi encerrado com sucesso!\n"
          ],
          "name": "stdout"
        }
      ]
    }
  ]
}