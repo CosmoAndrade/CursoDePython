{
  "nbformat": 4,
  "nbformat_minor": 0,
  "metadata": {
    "colab": {
      "name": "Funções em python.ipynb",
      "provenance": [],
      "authorship_tag": "ABX9TyNpmj2kE5wuZ4tpr/2Rq8PH",
      "include_colab_link": true
    },
    "kernelspec": {
      "name": "python3",
      "display_name": "Python 3"
    }
  },
  "cells": [
    {
      "cell_type": "markdown",
      "metadata": {
        "id": "view-in-github",
        "colab_type": "text"
      },
      "source": [
        "<a href=\"https://colab.research.google.com/github/CosmoAndrade/CursoDePython/blob/master/Fun%C3%A7%C3%B5es_em_python.ipynb\" target=\"_parent\"><img src=\"https://colab.research.google.com/assets/colab-badge.svg\" alt=\"Open In Colab\"/></a>"
      ]
    },
    {
      "cell_type": "markdown",
      "metadata": {
        "id": "ePz1XPl-LJni"
      },
      "source": [
        "# Funções em Python"
      ]
    },
    {
      "cell_type": "markdown",
      "metadata": {
        "id": "xPWfsJvSLLZ-"
      },
      "source": [
        "## Criando funções no Python\n",
        "\n",
        "A sintaxe de uma função é definida por três partes: nome, parâmetros e corpo, o qual agrupa uma sequência de linhas que representa algum comportamento."
      ]
    },
    {
      "cell_type": "code",
      "metadata": {
        "id": "gBwmk0h5LVf9",
        "outputId": "5c2e2be5-a7e7-4ada-d810-e562b9362ce4",
        "colab": {
          "base_uri": "https://localhost:8080/"
        }
      },
      "source": [
        "def hello(meu_nome):\n",
        "  print('Olá',meu_nome)\n",
        "\n",
        "hello('Cosmo')\n"
      ],
      "execution_count": 4,
      "outputs": [
        {
          "output_type": "stream",
          "text": [
            "Olá Cosmo\n"
          ],
          "name": "stdout"
        }
      ]
    },
    {
      "cell_type": "markdown",
      "metadata": {
        "id": "twRjYlnMLzL9"
      },
      "source": [
        "Caso seja necessário, também é possível definir funções com nenhum ou vários argumentos"
      ]
    },
    {
      "cell_type": "code",
      "metadata": {
        "id": "FhNkmQQhL2H-",
        "outputId": "22ac45dc-ab92-4ecb-e727-c09a054fcb52",
        "colab": {
          "base_uri": "https://localhost:8080/"
        }
      },
      "source": [
        "def mensagen():\n",
        "    print ('Bom dia!')\n",
        "\n",
        "mensagen()    "
      ],
      "execution_count": 5,
      "outputs": [
        {
          "output_type": "stream",
          "text": [
            "Bom dia!\n"
          ],
          "name": "stdout"
        }
      ]
    },
    {
      "cell_type": "markdown",
      "metadata": {
        "id": "K6_nbZxxMXJV"
      },
      "source": [
        "Parâmetros nomeados\n",
        "\n",
        "As funções em Python tem suporte a parâmetros nomeados. O exemplo a seguir mostra um caso onde podemos usar nomes nos parâmetros da função."
      ]
    },
    {
      "cell_type": "code",
      "metadata": {
        "id": "HrZ0zjmAMZGJ",
        "outputId": "6c9658e0-a2c2-4040-f0fa-d4778cde8466",
        "colab": {
          "base_uri": "https://localhost:8080/"
        }
      },
      "source": [
        "def calculo_imc(peso, altura):\n",
        "    print(peso / altura ** 2)\n",
        "\n",
        "calculo_imc(75, 1.68)"
      ],
      "execution_count": 6,
      "outputs": [
        {
          "output_type": "stream",
          "text": [
            "26.573129251700685\n"
          ],
          "name": "stdout"
        }
      ]
    }
  ]
}