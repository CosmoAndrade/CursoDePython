{
  "nbformat": 4,
  "nbformat_minor": 0,
  "metadata": {
    "colab": {
      "name": "If Else e Elif em python.ipynb",
      "provenance": [],
      "authorship_tag": "ABX9TyNOMt71KQWBAaMw8w+zhDcy",
      "include_colab_link": true
    },
    "kernelspec": {
      "name": "python3",
      "display_name": "Python 3"
    }
  },
  "cells": [
    {
      "cell_type": "markdown",
      "metadata": {
        "id": "view-in-github",
        "colab_type": "text"
      },
      "source": [
        "<a href=\"https://colab.research.google.com/github/CosmoAndrade/CursoDePython/blob/master/If_Else_e_Elif_em_python.ipynb\" target=\"_parent\"><img src=\"https://colab.research.google.com/assets/colab-badge.svg\" alt=\"Open In Colab\"/></a>"
      ]
    },
    {
      "cell_type": "markdown",
      "metadata": {
        "id": "JvENOE2U3YZS"
      },
      "source": [
        "# Python: Estrutura condicional if-else"
      ]
    },
    {
      "cell_type": "markdown",
      "metadata": {
        "id": "UybsUMmU3fF0"
      },
      "source": [
        "## if\n",
        "\n",
        "O `if` é uma estrutura de condição que permite avaliar uma expressão e, de acordo com seu resultado, executar uma determinada ação.\n",
        "\n",
        "No código a seguir temos um exemplo de uso do `if` no qual verificamos se a variável idade é menor que 20. Em caso positivo, imprimimos uma mensagem na tela e em caso negativo o código seguirá normalmente, desconsiderando a linha 3."
      ]
    },
    {
      "cell_type": "code",
      "metadata": {
        "id": "3GhmOwDR3t5f",
        "outputId": "59628c07-3b57-45a7-9a8a-78e4d13d282c",
        "colab": {
          "base_uri": "https://localhost:8080/"
        }
      },
      "source": [
        "idade = 18\n",
        "if idade < 20:\n",
        "    print('Você é jovem!')"
      ],
      "execution_count": 1,
      "outputs": [
        {
          "output_type": "stream",
          "text": [
            "Você é jovem!\n"
          ],
          "name": "stdout"
        }
      ]
    },
    {
      "cell_type": "markdown",
      "metadata": {
        "id": "Q2Z73Pmr37C2"
      },
      "source": [
        "# if-else\n",
        "\n",
        "Vimos anteriormente como utilizar o` if` para executar uma ação caso uma condição seja atendida. No entanto, nenhum comportamento específico foi definido para o caso de a condição não ser satisfeita. Quando isso é necessário, precisamos utilizar a reservada `else`."
      ]
    },
    {
      "cell_type": "code",
      "metadata": {
        "id": "JTyp857h4Af2",
        "outputId": "bce9159f-d81f-4879-9b75-84934a021e1b",
        "colab": {
          "base_uri": "https://localhost:8080/"
        }
      },
      "source": [
        "idade = 18\n",
        "if idade >= 18:\n",
        "    print('maior de idade')\n",
        "else:\n",
        "    print('menor de idade')"
      ],
      "execution_count": 2,
      "outputs": [
        {
          "output_type": "stream",
          "text": [
            "maior de idade\n"
          ],
          "name": "stdout"
        }
      ]
    },
    {
      "cell_type": "markdown",
      "metadata": {
        "id": "ZxhxrHmV4GIm"
      },
      "source": [
        "# if-elif-else\n",
        "\n",
        "Adicionalmente, se existir mais de uma condição alternativa que precisa ser verificada, devemos utilizar o` elif` para avaliar as expressões intermediárias antes de usar o `else`, da seguinte forma:"
      ]
    },
    {
      "cell_type": "code",
      "metadata": {
        "id": "U8ro5PmU4LjQ",
        "outputId": "7ad252d8-0df0-4dc3-8271-8817ad51e398",
        "colab": {
          "base_uri": "https://localhost:8080/"
        }
      },
      "source": [
        "idade = 18\n",
        "if idade < 12:\n",
        "    print('crianca')\n",
        "elif idade < 18:\n",
        "    print('adolescente')\n",
        "elif idade < 60:\n",
        "    print('adulto')\n",
        "else:\n",
        "    print('idoso')"
      ],
      "execution_count": 3,
      "outputs": [
        {
          "output_type": "stream",
          "text": [
            "adulto\n"
          ],
          "name": "stdout"
        }
      ]
    }
  ]
}