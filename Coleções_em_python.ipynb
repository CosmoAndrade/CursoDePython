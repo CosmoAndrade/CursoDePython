{
  "nbformat": 4,
  "nbformat_minor": 0,
  "metadata": {
    "colab": {
      "name": "Coleções em python.ipynb",
      "provenance": [],
      "authorship_tag": "ABX9TyOvweC2UFhsSXwd2rQCL1GH",
      "include_colab_link": true
    },
    "kernelspec": {
      "name": "python3",
      "display_name": "Python 3"
    }
  },
  "cells": [
    {
      "cell_type": "markdown",
      "metadata": {
        "id": "view-in-github",
        "colab_type": "text"
      },
      "source": [
        "<a href=\"https://colab.research.google.com/github/CosmoAndrade/CursoDePython/blob/master/Cole%C3%A7%C3%B5es_em_python.ipynb\" target=\"_parent\"><img src=\"https://colab.research.google.com/assets/colab-badge.svg\" alt=\"Open In Colab\"/></a>"
      ]
    },
    {
      "cell_type": "code",
      "metadata": {
        "id": "dXP1p8O3AwG8"
      },
      "source": [
        ""
      ],
      "execution_count": null,
      "outputs": []
    },
    {
      "cell_type": "markdown",
      "metadata": {
        "id": "uMhN6nTHBXhn"
      },
      "source": [
        "Coleções no Python: `Listas, Tuplas e Dicionários`"
      ]
    },
    {
      "cell_type": "markdown",
      "metadata": {
        "id": "yHZH_-GXBbGV"
      },
      "source": [
        "# Listas\n",
        "\n",
        "Lista é uma coleção de valores indexada, em que cada valor é identificado por um índice. O primeiro item na lista está no índice 0, o segundo no índice 1 e assim por diante.\n",
        "\n",
        "Para criar uma lista com elementos deve-se usar colchetes e adicionar os itens entre eles separados por vírgula"
      ]
    },
    {
      "cell_type": "code",
      "metadata": {
        "id": "uWzsDl-FBlop",
        "outputId": "0767f3d7-e33b-48ba-cf8b-e2a406be6a14",
        "colab": {
          "base_uri": "https://localhost:8080/"
        }
      },
      "source": [
        "programadores = ['Victor', 'Juliana', 'Samuel', 'Caio', 'Luana']\n",
        "print(type(programadores)) # type ‘list’\n",
        "print(len(programadores)) # 5\n",
        "print(programadores[4]) # Luana"
      ],
      "execution_count": 1,
      "outputs": [
        {
          "output_type": "stream",
          "text": [
            "<class 'list'>\n",
            "5\n",
            "Luana\n"
          ],
          "name": "stdout"
        }
      ]
    },
    {
      "cell_type": "markdown",
      "metadata": {
        "id": "8fOHeuwgC0BF"
      },
      "source": [
        " No caso de adicionar elementos, podemos usar o método `append()`"
      ]
    },
    {
      "cell_type": "code",
      "metadata": {
        "id": "DULDYMGuC4NR",
        "outputId": "9242d628-c1f8-441c-a8b7-302cea35f8bf",
        "colab": {
          "base_uri": "https://localhost:8080/"
        }
      },
      "source": [
        "programadores = ['Victor', 'Juliana', 'Samuel', 'Caio', 'Luana']\n",
        "print(programadores) # ['Victor', 'Juliana', 'Samuel', 'Caio', 'Luana\n",
        "\n",
        "programadores.append('Renato')\n",
        "print(programadores) # ['Victor', 'Juliana', 'Samuel', 'Caio', 'Luana', 'Renato']"
      ],
      "execution_count": 2,
      "outputs": [
        {
          "output_type": "stream",
          "text": [
            "['Victor', 'Juliana', 'Samuel', 'Caio', 'Luana']\n",
            "['Victor', 'Juliana', 'Samuel', 'Caio', 'Luana', 'Renato']\n"
          ],
          "name": "stdout"
        }
      ]
    },
    {
      "cell_type": "markdown",
      "metadata": {
        "id": "PTio2IR3DB1B"
      },
      "source": [
        "Há outra forma de adicionarmos itens na lista, que é através do método `insert()`. Ele usa dois parâmetros: o primeiro para indicar a posição da lista em que o elemento será inserido e o segundo para informar o item a ser adicionado na lista."
      ]
    },
    {
      "cell_type": "code",
      "metadata": {
        "id": "C3nuxAyMDImZ",
        "outputId": "1fa13cd6-11a7-4d25-9b86-e73bc9e43c90",
        "colab": {
          "base_uri": "https://localhost:8080/"
        }
      },
      "source": [
        "programadores = ['Victor', 'Juliana', 'Samuel', 'Caio', 'Luana']\n",
        "programadores.insert(1, 'Rafael')\n",
        "\n",
        "print(programadores) # ['Victor', 'Rafael', 'Juliana', 'Samuel', 'Caio', 'Luana']"
      ],
      "execution_count": 3,
      "outputs": [
        {
          "output_type": "stream",
          "text": [
            "['Victor', 'Rafael', 'Juliana', 'Samuel', 'Caio', 'Luana']\n"
          ],
          "name": "stdout"
        }
      ]
    },
    {
      "cell_type": "markdown",
      "metadata": {
        "id": "VvfRY59XD5rm"
      },
      "source": [
        "Assim como podemos adicionar itens em nossa lista, também podemos retirá-los. E para isso temos dois métodos: `remove()` para a remoção pelo valor informado no parâmetro, e `pop(`) para remoção pelo índice do elemento na lista."
      ]
    },
    {
      "cell_type": "code",
      "metadata": {
        "id": "4JW6w_icD_83",
        "outputId": "5de2ac9c-1623-4f9c-dd23-3886f8a363da",
        "colab": {
          "base_uri": "https://localhost:8080/"
        }
      },
      "source": [
        "programadores = ['Victor', 'Juliana', 'Samuel', 'Caio', 'Luana']\n",
        "print(programadores) # ['Victor', 'Juliana', 'Samuel', 'Caio', 'Luana']\n",
        "\n",
        "programadores.remove('Victor')\n",
        "print(programadores) # ['Juliana', 'Samuel', 'Caio', 'Luana']"
      ],
      "execution_count": 4,
      "outputs": [
        {
          "output_type": "stream",
          "text": [
            "['Victor', 'Juliana', 'Samuel', 'Caio', 'Luana']\n",
            "['Juliana', 'Samuel', 'Caio', 'Luana']\n"
          ],
          "name": "stdout"
        }
      ]
    },
    {
      "cell_type": "code",
      "metadata": {
        "id": "9I7S2knoEML3",
        "outputId": "cab319ca-753a-4ba6-d745-21d45e42d69f",
        "colab": {
          "base_uri": "https://localhost:8080/"
        }
      },
      "source": [
        "programadores = ['Victor', 'Juliana', 'Samuel', 'Caio', 'Luana']\n",
        "print(programadores) # ['Victor', 'Juliana', 'Samuel', 'Caio', 'Luana']\n",
        "\n",
        "programadores.pop(0)\n",
        "print(programadores) # ['Juliana', 'Samuel', 'Caio', 'Luana']"
      ],
      "execution_count": 5,
      "outputs": [
        {
          "output_type": "stream",
          "text": [
            "['Victor', 'Juliana', 'Samuel', 'Caio', 'Luana']\n",
            "['Juliana', 'Samuel', 'Caio', 'Luana']\n"
          ],
          "name": "stdout"
        }
      ]
    },
    {
      "cell_type": "markdown",
      "metadata": {
        "id": "2dnhIVoUEWCS"
      },
      "source": [
        "# Tuplas\n",
        "\n",
        "Tupla é uma estrutura de dados semelhante a lista. Porém, ela tem a característica de ser imutável, ou seja, após uma tupla ser criada, ela não pode ser alterada."
      ]
    },
    {
      "cell_type": "code",
      "metadata": {
        "id": "kDRcNzVWEaMC",
        "outputId": "d75cdc68-8be4-4bd2-cdf7-afd2a506733d",
        "colab": {
          "base_uri": "https://localhost:8080/"
        }
      },
      "source": [
        "times_rj = ('Botafogo', 'Flamengo', 'Fluminense', 'Vasco')\n",
        "\n",
        "print(type(times_rj)) # class=’tuple’\n",
        "print(times_rj) # ('Botafogo', 'Flamengo', 'Fluminense', 'Vasco')"
      ],
      "execution_count": 6,
      "outputs": [
        {
          "output_type": "stream",
          "text": [
            "<class 'tuple'>\n",
            "('Botafogo', 'Flamengo', 'Fluminense', 'Vasco')\n"
          ],
          "name": "stdout"
        }
      ]
    },
    {
      "cell_type": "markdown",
      "metadata": {
        "id": "uAdEFxdHGU_U"
      },
      "source": [
        "Assim como é feito nas listas, podemos acessar um determinado valor na tupla pelo seu índice, como "
      ]
    },
    {
      "cell_type": "code",
      "metadata": {
        "id": "mg6LcrX8GKWI"
      },
      "source": [
        "times_rj = ('Botafogo', 'Flamengo', 'Fluminense', 'Vasco')\n",
        "\n",
        "print(times_rj[2]) # Fluminense"
      ],
      "execution_count": null,
      "outputs": []
    },
    {
      "cell_type": "markdown",
      "metadata": {
        "id": "qQK0ImXwHlh-"
      },
      "source": [
        "# Dicionários\n",
        "\n",
        "Os dicionários representam coleções de dados que contém na sua estrutura um conjunto de ` pares chave/valor`, nos quais cada chave individual tem um valor associado. Esse objeto representa a ideia de um mapa, que entendemos como uma coleção associativa desordenada. A associação nos dicionários é feita por meio de uma chave que faz referência a um valor."
      ]
    },
    {
      "cell_type": "code",
      "metadata": {
        "id": "7rUJXMCbH1dV",
        "outputId": "26ce5f3b-3d43-40c6-e3f4-169c4eb658f0",
        "colab": {
          "base_uri": "https://localhost:8080/"
        }
      },
      "source": [
        "dados_cliente = {\n",
        "    'Nome': 'Renan',\n",
        "    'Endereco': 'Rua Cruzeiro do Sul',\n",
        "    'Telefone': '982503645'\n",
        "}\n",
        "\n",
        "print(dados_cliente['Nome']) # Renan"
      ],
      "execution_count": 7,
      "outputs": [
        {
          "output_type": "stream",
          "text": [
            "Renan\n"
          ],
          "name": "stdout"
        }
      ]
    },
    {
      "cell_type": "markdown",
      "metadata": {
        "id": "OuAz5SL-ILLR"
      },
      "source": [
        "Para adicionar elementos num dicionário basta associar uma nova chave ao objeto e dar um valor a ser associado a ela. No Código 16 vamos colocar a informação `Idade em dados_cliente.`"
      ]
    },
    {
      "cell_type": "code",
      "metadata": {
        "id": "RUrATxikIO-1",
        "outputId": "9667b76f-74fb-49cd-8991-c7c9455a76f3",
        "colab": {
          "base_uri": "https://localhost:8080/"
        }
      },
      "source": [
        "dados_cliente = {\n",
        "    'Nome': 'Renan',\n",
        "    'Endereco': 'Rua Cruzeiro do Sul',\n",
        "    'Telefone': '982503645'\n",
        "}\n",
        "\n",
        "print(dados_cliente) \n",
        "\n",
        "dados_cliente['Idade'] = 40\n",
        "\n",
        "print(dados_cliente)"
      ],
      "execution_count": 8,
      "outputs": [
        {
          "output_type": "stream",
          "text": [
            "{'Nome': 'Renan', 'Endereco': 'Rua Cruzeiro do Sul', 'Telefone': '982503645'}\n",
            "{'Nome': 'Renan', 'Endereco': 'Rua Cruzeiro do Sul', 'Telefone': '982503645', 'Idade': 40}\n"
          ],
          "name": "stdout"
        }
      ]
    },
    {
      "cell_type": "markdown",
      "metadata": {
        "id": "_UlNX0HZIo2Q"
      },
      "source": [
        "Para remover um item do dicionário, podemos usar o método `pop()`"
      ]
    },
    {
      "cell_type": "code",
      "metadata": {
        "id": "n84UDCDmIrEh",
        "outputId": "74882d84-405b-438c-b4e7-0d14cbc38bf5",
        "colab": {
          "base_uri": "https://localhost:8080/"
        }
      },
      "source": [
        "dados_cliente = {\n",
        "    'Nome': 'Renan',\n",
        "    'Endereco': 'Rua Cruzeiro do Sul',\n",
        "    'Telefone': '982503645'\n",
        "}\n",
        "\n",
        "print(dados_cliente)\n",
        "\n",
        "dados_cliente.pop('Telefone', None)\n",
        "\n",
        "print(dados_cliente) "
      ],
      "execution_count": 10,
      "outputs": [
        {
          "output_type": "stream",
          "text": [
            "{'Nome': 'Renan', 'Endereco': 'Rua Cruzeiro do Sul', 'Telefone': '982503645'}\n",
            "{'Nome': 'Renan', 'Endereco': 'Rua Cruzeiro do Sul'}\n"
          ],
          "name": "stdout"
        }
      ]
    },
    {
      "cell_type": "markdown",
      "metadata": {
        "id": "kP_G5Rg3I85h"
      },
      "source": [
        "Também poderíamos usar a palavra-chave `del`, que remove uma chave e o valor associado a ela no dicionário. Isso se faz por meio da passagem no parâmetro"
      ]
    },
    {
      "cell_type": "code",
      "metadata": {
        "id": "HuV-AruxI_N9",
        "outputId": "79ccc2cf-a3ec-41d0-d622-7a5ce82a14be",
        "colab": {
          "base_uri": "https://localhost:8080/"
        }
      },
      "source": [
        "dados_cliente = {\n",
        "    'Nome': 'Renan',\n",
        "    'Endereco': 'Rua Cruzeiro do Sul',\n",
        "    'Telefone': '982503645'\n",
        "}\n",
        "\n",
        "print(dados_cliente) \n",
        "\n",
        "del dados_cliente['Telefone']\n",
        "\n",
        "print(dados_cliente)"
      ],
      "execution_count": 11,
      "outputs": [
        {
          "output_type": "stream",
          "text": [
            "{'Nome': 'Renan', 'Endereco': 'Rua Cruzeiro do Sul', 'Telefone': '982503645'}\n",
            "{'Nome': 'Renan', 'Endereco': 'Rua Cruzeiro do Sul'}\n"
          ],
          "name": "stdout"
        }
      ]
    },
    {
      "cell_type": "markdown",
      "metadata": {
        "id": "PlhvHGuTJQqe"
      },
      "source": [
        "## Funções para coleções\n",
        "\n",
        "O Python conta com funções úteis quando se trabalha com coleções. Vejamos algumas delas:\n",
        "`min() e max()`\n",
        "\n",
        "Veremos a seguir, as funções `min() e max()`"
      ]
    },
    {
      "cell_type": "code",
      "metadata": {
        "id": "8DcmEndJJWqH",
        "outputId": "aa1e5e31-c2f9-405f-b66c-4317538a7118",
        "colab": {
          "base_uri": "https://localhost:8080/"
        }
      },
      "source": [
        "numeros = [15, 5, 0, 20, 10]\n",
        "nomes = ['Caio', 'Alex', 'Renata', 'Patrícia', 'Bruno']\n",
        "\n",
        "print(min(numeros)) # 0\n",
        "print(max(numeros)) # 20\n",
        "print(min(nomes)) # Alex\n",
        "print(max(nomes)) # Renata"
      ],
      "execution_count": 12,
      "outputs": [
        {
          "output_type": "stream",
          "text": [
            "0\n",
            "20\n",
            "Alex\n",
            "Renata\n"
          ],
          "name": "stdout"
        }
      ]
    },
    {
      "cell_type": "markdown",
      "metadata": {
        "id": "eK_Ka2w6JqvK"
      },
      "source": [
        "# sum( )\n",
        "\n",
        "Para trabalhar com coleções na linguagem Python, temos também a função` sum()`, que é usada para retornar a soma de todos os elementos da coleção."
      ]
    },
    {
      "cell_type": "code",
      "metadata": {
        "id": "aE80tQAYJuha",
        "outputId": "43789874-cf40-4d74-da71-ab75137532e9",
        "colab": {
          "base_uri": "https://localhost:8080/"
        }
      },
      "source": [
        "numeros = [1, 3, 6]\n",
        "\n",
        "print(sum(numeros)) # 10"
      ],
      "execution_count": 13,
      "outputs": [
        {
          "output_type": "stream",
          "text": [
            "10\n"
          ],
          "name": "stdout"
        }
      ]
    }
  ]
}