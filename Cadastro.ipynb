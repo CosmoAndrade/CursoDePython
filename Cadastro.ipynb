{
  "nbformat": 4,
  "nbformat_minor": 0,
  "metadata": {
    "colab": {
      "name": "Cadastro.ipynb",
      "provenance": [],
      "collapsed_sections": [],
      "authorship_tag": "ABX9TyNZ8XpF6vG26fTLP3V6K7Bw",
      "include_colab_link": true
    },
    "kernelspec": {
      "name": "python3",
      "display_name": "Python 3"
    }
  },
  "cells": [
    {
      "cell_type": "markdown",
      "metadata": {
        "id": "view-in-github",
        "colab_type": "text"
      },
      "source": [
        "<a href=\"https://colab.research.google.com/github/CosmoAndrade/CursoDePython/blob/master/Cadastro.ipynb\" target=\"_parent\"><img src=\"https://colab.research.google.com/assets/colab-badge.svg\" alt=\"Open In Colab\"/></a>"
      ]
    },
    {
      "cell_type": "code",
      "metadata": {
        "id": "dkRI31qf9vsU"
      },
      "source": [
        "class Empregado:\n",
        "    contador = 0\n",
        "\n",
        "    def __init__(self,nome,sobrenome):\n",
        "        Empregado.contador += 1\n",
        "        self.numero = Empregado.contador\n",
        "        self.nome = nome\n",
        "        self.sobrenome = sobrenome\n",
        "\n",
        "\n",
        "\n",
        "    def __str__(self):\n",
        "        return f'{self.nome} {self.sobrenome}'  \n",
        "\n",
        "\n"
      ],
      "execution_count": 1,
      "outputs": []
    },
    {
      "cell_type": "code",
      "metadata": {
        "colab": {
          "base_uri": "https://localhost:8080/"
        },
        "id": "6KoHHALtFmRu",
        "outputId": "6ff132e2-d6a4-4d6e-bc5b-15235b12f79f"
      },
      "source": [
        "def main():\r\n",
        "        lista = []\r\n",
        "        while True:\r\n",
        "            entrada = int (input('\\nDigite \"1\" para cadastrar e \"2\" para sair!: \\n'))\r\n",
        "\r\n",
        "            if entrada == 1:\r\n",
        "                nome = input ('\\nDigite o seu nome:')\r\n",
        "                sobrenome = input ('Digite o seu sobrenome: ')\r\n",
        "                empregado = Empregado(nome, sobrenome)\r\n",
        "                lista.append(empregado)\r\n",
        "                print('\\nEmpregado número ' + str(empregado.numero) + ' incluído com sucesso.')\r\n",
        "                \r\n",
        "\r\n",
        "            elif  entrada  == 2:\r\n",
        "                print ('\\nSaindo!')\r\n",
        "                print ()\r\n",
        "                break   \r\n",
        "\r\n",
        "        for nome_empregado in lista:\r\n",
        "            print(nome_empregado)    \r\n",
        "\r\n",
        "if __name__ == \"__main__\":\r\n",
        "    main()"
      ],
      "execution_count": 2,
      "outputs": [
        {
          "output_type": "stream",
          "text": [
            "\n",
            "Digite \"1\" para cadastrar e \"2\" para sair!: \n",
            "1\n",
            "\n",
            "Digite o seu nome:Cosmo\n",
            "Digite o seu sobrenome: Andrade\n",
            "\n",
            "Empregado número 1 incluído com sucesso.\n",
            "\n",
            "Digite \"1\" para cadastrar e \"2\" para sair!: \n",
            "1\n",
            "\n",
            "Digite o seu nome:Felipe\n",
            "Digite o seu sobrenome: Andrade\n",
            "\n",
            "Empregado número 2 incluído com sucesso.\n",
            "\n",
            "Digite \"1\" para cadastrar e \"2\" para sair!: \n",
            "2\n",
            "\n",
            "Saindo!\n",
            "\n",
            "Cosmo Andrade\n",
            "Felipe Andrade\n"
          ],
          "name": "stdout"
        }
      ]
    }
  ]
}